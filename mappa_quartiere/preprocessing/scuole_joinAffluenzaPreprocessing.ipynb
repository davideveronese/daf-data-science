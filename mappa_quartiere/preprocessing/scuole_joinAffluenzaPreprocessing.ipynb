{
 "cells": [
  {
   "cell_type": "code",
   "execution_count": null,
   "metadata": {},
   "outputs": [],
   "source": [
    "import pandas as pd"
   ]
  },
  {
   "cell_type": "code",
   "execution_count": null,
   "metadata": {},
   "outputs": [],
   "source": [
    "# prepare dati affluenza\n",
    "#affluenza = pd.read_csv('../data/affluenzaScuole1617.csv') # actually comma separated\n",
    "\n",
    "afflStatali = pd.read_csv('../data/stat_affluenzaScuole1617.csv')\n",
    "afflParitarie = pd.read_csv('../data/parit_affluenzaScuole1617.csv')\n",
    "affluenza = pd.concat([afflStatali, afflParitarie], axis=0)"
   ]
  },
  {
   "cell_type": "code",
   "execution_count": null,
   "metadata": {},
   "outputs": [],
   "source": [
    "afflStatali"
   ]
  },
  {
   "cell_type": "code",
   "execution_count": null,
   "metadata": {},
   "outputs": [],
   "source": [
    "# Join con affluenza:\n",
    "inputAnagraficaFile = 'anagrScuoleMILANO_geoloc.csv'\n",
    "anagraficaGeoloc = pd.read_csv(inputAnagraficaFile, sep = ';', decimal = ',').set_index('CODICESCUOLA')\n",
    "\n",
    "anagraficaGeoloc = anagraficaGeoloc[~anagraficaGeoloc.Lat.isnull()] # drop missing geoloc\n",
    "assert not any(anagraficaGeoloc.Lat.isnull()), 'Missing geoloc info'\n",
    "\n",
    "# validate join \n",
    "anagraficaGeoloc.merge(affluenza, how='inner', left_index=True, right_on='CODICESCUOLA',\n",
    "                sort=False, suffixes=('_anagr', '_affl'), copy=True, validate='1:m')\n",
    "assert not any(anagraficaGeoloc.duplicated()), 'Duplicated students counts found'"
   ]
  },
  {
   "cell_type": "code",
   "execution_count": null,
   "metadata": {},
   "outputs": [],
   "source": [
    "# check that all the student data corresponds to a known school\n",
    "sourceFile = 'anagrScuoleAll.csv'\n",
    "anagrAll = pd.read_csv(sourceFile, sep=';', decimal = ',', index_col='CODICESCUOLA')\n",
    "assert all(affluenza.CODICESCUOLA.isin(anagrAll.index)), 'Unrecognized school codes'\n",
    "\n",
    "# print the available fraction of student data\n",
    "bFound  = anagraficaGeoloc.index.isin(affluenza.CODICESCUOLA.unique())\n",
    "print(bFound.mean())"
   ]
  },
  {
   "cell_type": "code",
   "execution_count": null,
   "metadata": {},
   "outputs": [],
   "source": [
    "# investigate missing values\n",
    "missingSchools = anagraficaGeoloc[~bFound]\n",
    "missingSchools.groupby('DESCRIZIONETIPOLOGIAGRADOISTRUZIONESCUOLA').count()"
   ]
  },
  {
   "cell_type": "code",
   "execution_count": null,
   "metadata": {},
   "outputs": [],
   "source": [
    "# drop missing schools in anagrafica by doing an inner join\n",
    "alunniSum.to_frame()"
   ]
  },
  {
   "cell_type": "code",
   "execution_count": null,
   "metadata": {},
   "outputs": [],
   "source": [
    "alunniSum = affluenza.groupby('CODICESCUOLA')['ALUNNI'].sum()\n",
    "datiJoin = anagraficaGeoloc.join(alunniSum)\n",
    "\n",
    "datiJoin = anagraficaGeoloc.merge(alunniSum.to_frame(), how='inner', left_index=True, right_index=True,\n",
    "                sort=False, suffixes=('_anagr', '_affl'), copy=True, validate='1:1')\n",
    "\n",
    "#datiJoin['ALUNNI'] = datiJoin['ALUNNI'].fillna(datiJoin['ALUNNI'].mean()) \n",
    "\n"
   ]
  },
  {
   "cell_type": "code",
   "execution_count": null,
   "metadata": {},
   "outputs": [],
   "source": [
    "datiJoin.to_csv('datiScuolaJoinedMilano.csv', sep = ';', decimal = ',')"
   ]
  },
  {
   "cell_type": "code",
   "execution_count": null,
   "metadata": {},
   "outputs": [],
   "source": [
    "datiJoin.DESCRIZIONETIPOLOGIAGRADOISTRUZIONESCUOLA.unique()\n"
   ]
  }
 ],
 "metadata": {
  "kernelspec": {
   "display_name": "Python 3",
   "language": "python",
   "name": "python3"
  },
  "language_info": {
   "codemirror_mode": {
    "name": "ipython",
    "version": 3
   },
   "file_extension": ".py",
   "mimetype": "text/x-python",
   "name": "python",
   "nbconvert_exporter": "python",
   "pygments_lexer": "ipython3",
   "version": "3.5.4"
  }
 },
 "nbformat": 4,
 "nbformat_minor": 2
}
