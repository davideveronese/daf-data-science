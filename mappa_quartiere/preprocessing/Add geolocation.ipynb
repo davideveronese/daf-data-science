{
 "cells": [
  {
   "cell_type": "code",
   "execution_count": null,
   "metadata": {},
   "outputs": [],
   "source": [
    "import numpy as np\n",
    "import pandas as pd\n",
    "import googlemaps\n",
    "from os import path\n",
    "\n",
    "key = ''"
   ]
  },
  {
   "cell_type": "code",
   "execution_count": null,
   "metadata": {},
   "outputs": [],
   "source": [
    "sourceFile = 'anagrScuoleMILANO.csv'\n",
    "targetSuffix = '_geoloc'\n",
    "\n",
    "# derive target filename\n",
    "targetFile = targetSuffix.join(list(path.os.path.splitext(sourceFile)))\n",
    "origData = pd.read_csv(sourceFile, sep=';', decimal = ',', index_col='CODICESCUOLA')\n",
    "\n",
    "origData.CAPSCUOLA.replace('Non Disponibile', '', inplace=True) # fix missing CAP with empty so that geoloc works"
   ]
  },
  {
   "cell_type": "code",
   "execution_count": null,
   "metadata": {},
   "outputs": [],
   "source": [
    "## build query addresses\n",
    "queryAddresses = origData.INDIRIZZOSCUOLA.values + ', ' + origData.CAPSCUOLA.values +  ', Milano'"
   ]
  },
  {
   "cell_type": "code",
   "execution_count": null,
   "metadata": {},
   "outputs": [],
   "source": [
    "origData.groupby('bStatale').count()\n",
    "\n",
    "#print(len(queryAddresses))"
   ]
  },
  {
   "cell_type": "code",
   "execution_count": null,
   "metadata": {},
   "outputs": [],
   "source": [
    "gmaps = googlemaps.Client(key=key)\n",
    "\n",
    "nLimit = 1500\n",
    "\n",
    "# Geocoding an address\n",
    "locationsFull = pd.Series.from_array([{}]*len(queryAddresses))\n",
    "# hardcoded coordinates format\n",
    "coordinates = pd.DataFrame([[np.nan, np.nan]]*len(queryAddresses), columns=['Long', 'Lat'], index = origData.index)\n",
    "multipleResults = pd.Series.from_array([]*len(queryAddresses))\n",
    "\n",
    "for (i, address) in enumerate(queryAddresses):\n",
    "    geocode_result = gmaps.geocode(address, components={'location':'Milano'})\n",
    "    if geocode_result:\n",
    "        assert isinstance(geocode_result, list) #check type\n",
    "        if len(geocode_result) > 1: # multiple results, report first and\n",
    "            multipleResults[i] = geocode_result\n",
    "        \n",
    "        # take first output\n",
    "        locationsFull[i] = geocode_result[0]\n",
    "            \n",
    "        # parse coordinates\n",
    "        thisLocation = locationsFull[i]['geometry']['location']\n",
    "        coordinates['Long'][i] = thisLocation['lng']\n",
    "        coordinates['Lat'][i] = thisLocation['lat']\n",
    "        print(coordinates.iloc[i,:])\n",
    "        \n",
    "    print(i)\n"
   ]
  },
  {
   "cell_type": "code",
   "execution_count": null,
   "metadata": {},
   "outputs": [],
   "source": [
    "# save full responses\n",
    "import pickle\n",
    "pickle_out = open(targetFile + '_results.pickle',\"wb\")\n",
    "pickle.dump({'fullLoc': locationsFull, 'extraResults': multipleResults}, pickle_out)\n",
    "pickle_out.close()"
   ]
  },
  {
   "cell_type": "code",
   "execution_count": null,
   "metadata": {},
   "outputs": [],
   "source": [
    "for i, locat in enumerate(locationsFull):\n",
    "    if not locat:\n",
    "        continue\n",
    "    thisLocation = locat['geometry']['location']\n",
    "    coordinates['Long'][i] = thisLocation['lng']\n",
    "    coordinates['Lat'][i] = thisLocation['lat']\n",
    "    print(coordinates.iloc[i,:])"
   ]
  },
  {
   "cell_type": "code",
   "execution_count": null,
   "metadata": {},
   "outputs": [],
   "source": [
    "# append coordinates\n",
    "geolocData = pd.concat([origData, coordinates], axis=1)\n",
    "geolocData.to_csv(targetFile, sep=';', decimal=',')"
   ]
  },
  {
   "cell_type": "code",
   "execution_count": null,
   "metadata": {
    "scrolled": false
   },
   "outputs": [],
   "source": [
    "# print unidentified locations\n",
    "geolocData[geolocData.Lat.isnull()]"
   ]
  }
 ],
 "metadata": {
  "kernelspec": {
   "display_name": "Python 3",
   "language": "python",
   "name": "python3"
  },
  "language_info": {
   "codemirror_mode": {
    "name": "ipython",
    "version": 3
   },
   "file_extension": ".py",
   "mimetype": "text/x-python",
   "name": "python",
   "nbconvert_exporter": "python",
   "pygments_lexer": "ipython3",
   "version": "3.5.4"
  }
 },
 "nbformat": 4,
 "nbformat_minor": 2
}
