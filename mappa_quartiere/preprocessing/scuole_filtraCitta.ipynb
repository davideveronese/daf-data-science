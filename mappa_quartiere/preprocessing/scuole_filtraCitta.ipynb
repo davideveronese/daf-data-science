{
 "cells": [
  {
   "cell_type": "code",
   "execution_count": null,
   "metadata": {},
   "outputs": [],
   "source": [
    "import pandas as pd"
   ]
  },
  {
   "cell_type": "code",
   "execution_count": null,
   "metadata": {},
   "outputs": [],
   "source": [
    "statali = pd.read_csv('../data/stat_anagrScuole1617.csv').set_index('CODICESCUOLA')\n",
    "paritarie = pd.read_csv('../data/parit_anagrScuole1617.csv').set_index('CODICESCUOLA')\n",
    "assert set(paritarie.columns) < (set(statali.columns)), 'unexpected columns in paritarie'\n",
    "assert ~any(statali.SEDESCOLASTICA.isnull()), 'missing info for statali'\n",
    "\n",
    "# add statale/paritaria flag\n",
    "statali['bStatale'] = True\n",
    "paritarie['bStatale'] = False"
   ]
  },
  {
   "cell_type": "code",
   "execution_count": null,
   "metadata": {},
   "outputs": [],
   "source": [
    "anagrafica = pd.concat([statali, paritarie], axis=0)\n",
    "# patch tutte le paritarie come sedi scolastiche\n",
    "anagrafica.SEDESCOLASTICA.fillna('SI', inplace=True)\n",
    "anagrafica.to_csv('anagrScuoleAll.csv', sep=';', decimal = ',') "
   ]
  },
  {
   "cell_type": "code",
   "execution_count": null,
   "metadata": {},
   "outputs": [],
   "source": [
    "#anagrafica[(anagrafica.DESCRIZIONECOMUNE == 'MOGLIANO VENETO')& (anagrafica.SEDESCOLASTICA != 'SI')]"
   ]
  },
  {
   "cell_type": "code",
   "execution_count": null,
   "metadata": {},
   "outputs": [],
   "source": [
    "# drop non-sedi scolastiche\n",
    "anagrafica = anagrafica[anagrafica.SEDESCOLASTICA=='SI']\n",
    "\n",
    "cittaScelta = 'MILANO'\n",
    "anagraficaCitta = anagrafica[anagrafica.DESCRIZIONECOMUNE == cittaScelta]\n",
    "anagraficaCitta.to_csv('anagrScuole%s.csv' % cittaScelta, sep=';', decimal = ',') "
   ]
  }
 ],
 "metadata": {
  "kernelspec": {
   "display_name": "Python 3",
   "language": "python",
   "name": "python3"
  },
  "language_info": {
   "codemirror_mode": {
    "name": "ipython",
    "version": 3
   },
   "file_extension": ".py",
   "mimetype": "text/x-python",
   "name": "python",
   "nbconvert_exporter": "python",
   "pygments_lexer": "ipython3",
   "version": "3.5.4"
  }
 },
 "nbformat": 4,
 "nbformat_minor": 2
}
