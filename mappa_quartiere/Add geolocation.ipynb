{
 "cells": [
  {
   "cell_type": "code",
   "execution_count": null,
   "metadata": {},
   "outputs": [],
   "source": [
    "import numpy as np\n",
    "import pandas as pd\n",
    "import googlemaps\n",
    "from os import path"
   ]
  },
  {
   "cell_type": "code",
   "execution_count": null,
   "metadata": {},
   "outputs": [],
   "source": [
    "sourceFile = 'data/utf8_areeVerdiMilano.csv'\n",
    "targetSuffix = '_geoloc'\n",
    "\n",
    "# derive target filename\n",
    "targetFile = targetSuffix.join(list(path.os.path.splitext(sourceFile)))\n",
    "origData = pd.read_csv(sourceFile, sep=';')"
   ]
  },
  {
   "cell_type": "code",
   "execution_count": null,
   "metadata": {},
   "outputs": [],
   "source": [
    "\n",
    "## build query addresses\n",
    "queryAddresses = origData.iloc[:,3].values + ', Milano'"
   ]
  },
  {
   "cell_type": "code",
   "execution_count": null,
   "metadata": {},
   "outputs": [],
   "source": [
    "gmaps = googlemaps.Client(key=key)\n",
    "\n",
    "nLimit = 1500\n",
    "\n",
    "# Geocoding an address\n",
    "locationsFull = pd.Series.from_array([{}]*len(queryAddresses))\n",
    "# hardcoded coordinates format\n",
    "coordinates = pd.DataFrame([[np.nan, np.nan]]*len(queryAddresses), columns=['Long', 'Lat'])\n",
    "multipleResults = pd.Series.from_array([]*len(queryAddresses))\n",
    "\n",
    "for (i, address) in enumerate(queryAddresses): \n",
    "    if i < nLimit:\n",
    "        continue\n",
    "        #check that this is never run\n",
    "        error()\n",
    "    geocode_result = gmaps.geocode(address, components={'location':'Milano'})\n",
    "    if geocode_result:\n",
    "        assert isinstance(geocode_result, list) #check type\n",
    "        if len(geocode_result) > 1: # multiple results, report first and\n",
    "            multipleResults[i] = geocode_result\n",
    "        \n",
    "        # take first output\n",
    "        locationsFull[i] = geocode_result[0]\n",
    "            \n",
    "        # parse coordinates\n",
    "        thisLocation = locationsFull[i]['geometry']['location']\n",
    "        coordinates['Long'][i] = thisLocation['lng']\n",
    "        coordinates['Lat'][i] = thisLocation['lat']\n",
    "        print(coordinates.iloc[i,:])\n",
    "        \n",
    "    print(i)\n"
   ]
  },
  {
   "cell_type": "code",
   "execution_count": null,
   "metadata": {},
   "outputs": [],
   "source": [
    "# save full responses\n",
    "import pickle\n",
    "pickle_out = open(targetFile + '_results.pickle',\"wb\")\n",
    "pickle.dump({'fullLoc': locationsFull, 'extraResults': multipleResults}, pickle_out)\n",
    "pickle_out.close()\n"
   ]
  },
  {
   "cell_type": "code",
   "execution_count": null,
   "metadata": {},
   "outputs": [],
   "source": [
    "geolocData = pd.concat([origData, coordinates], axis=1)\n",
    "geolocData.to_csv(targetFile, sep=';', decimal=',')\n",
    "#coordinates.to_csv('coordinateAreeVerdi.csv', sep=';', decimal=',')"
   ]
  },
  {
   "cell_type": "code",
   "execution_count": null,
   "metadata": {
    "scrolled": false
   },
   "outputs": [],
   "source": [
    "geolocData"
   ]
  }
 ],
 "metadata": {
  "kernelspec": {
   "display_name": "Python 3",
   "language": "python",
   "name": "python3"
  },
  "language_info": {
   "codemirror_mode": {
    "name": "ipython",
    "version": 3
   },
   "file_extension": ".py",
   "mimetype": "text/x-python",
   "name": "python",
   "nbconvert_exporter": "python",
   "pygments_lexer": "ipython3",
   "version": "3.5.4"
  }
 },
 "nbformat": 4,
 "nbformat_minor": 2
}
