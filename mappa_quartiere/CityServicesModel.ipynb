{
 "cells": [
  {
   "cell_type": "markdown",
   "metadata": {},
   "source": [
    "## We want to build a model of demand and supply of publicly provided services in a city"
   ]
  },
  {
   "cell_type": "code",
   "execution_count": 1,
   "metadata": {},
   "outputs": [],
   "source": [
    "import geopy\n",
    "import numpy as np\n",
    "import pandas as pd\n",
    "from sklearn import gaussian_process\n",
    "from matplotlib import pyplot as plt \n",
    "from enum import Enum\n"
   ]
  },
  {
   "cell_type": "code",
   "execution_count": 2,
   "metadata": {},
   "outputs": [],
   "source": [
    "gaussKern = gaussian_process.kernels.RBF"
   ]
  },
  {
   "cell_type": "code",
   "execution_count": null,
   "metadata": {},
   "outputs": [],
   "source": []
  },
  {
   "cell_type": "code",
   "execution_count": 64,
   "metadata": {},
   "outputs": [],
   "source": [
    "## Enum classes\n",
    "class AgeGroup(Enum):\n",
    "    Newborn= (0, 3)\n",
    "    Child= (4,15)\n",
    "    Young= (16,25)\n",
    "    Junior= (26,35)\n",
    "    Senior= (36, 50)\n",
    "    Over50= (50, 64)\n",
    "    Over65= (66, 80)\n",
    "    Over80= (81, 200)\n",
    "    def __init__(self, startAge, endAge):\n",
    "        self.start = startAge\n",
    "        self.end = endAge\n",
    "    \n",
    "    @staticmethod\n",
    "    def all():\n",
    "        return([g for g in AgeGroup])\n",
    "    @property\n",
    "    def range(self): return self.end - self.start\n",
    "    \n",
    "class SummaryNorm(Enum):\n",
    "    l1= lambda x: sum(abs(x))\n",
    "    l2= lambda x: (sum(x**2))**0.5\n",
    "    lInf= lambda x: max(x)\n",
    "    \n",
    "\n",
    "class ServiceType(Enum):\n",
    "    School = (1, SummaryNorm.l2)\n",
    "    Football = (2, SummaryNorm.l2)\n",
    "    SocialSupport = (3, SummaryNorm.l2)\n",
    "    PoliceStation = (4, SummaryNorm.l2)\n",
    "    #etc\n",
    "    def __init__(self, _, aggrNormInput=SummaryNorm.l2):\n",
    "        self.aggrNorm = aggrNormInput\n",
    "    \n",
    "    def aggregate_units(self, x, axis=1):\n",
    "        # assumes position are stacked in rows\n",
    "        return np.apply_along_axis(self.aggrNorm, axis, x)"
   ]
  },
  {
   "cell_type": "code",
   "execution_count": 66,
   "metadata": {},
   "outputs": [],
   "source": [
    "## ServiceUnit class\n",
    "class ServiceUnit:\n",
    "    def __init__(self, service, name='', position=(45.4641, 9.1919), users=AgeGroup.all(), times=[], scale=1):\n",
    "        assert isinstance(position, tuple) & (len(position) == 2), 'Position must be a pair tuple' #will be replaced by nicer class\n",
    "        assert isinstance(service, ServiceType), 'Service must belong to the Enum'\n",
    "        self.name = name\n",
    "        self.service = service\n",
    "        self.site = position  # a Service can have many sites, and a site is not uniquely assigned to a service\n",
    "        self.times = times\n",
    "        \n",
    "        # how the service availablity area varies for different age groups\n",
    "        kPropagationTest = 3\n",
    "        self.propagation ={g: (0.04 + .001*np.round(np.random.normal(),2))*kPropagationTest*scale for g in users} \n",
    "        self.kernel = {g: gaussKern(length_scale=l) for g, l in self.propagation.items()}\n",
    "        \n",
    "    def evaluate(self, targetPositions, ageGroup):\n",
    "        assert targetPositions.shape[1] == 2, '2D targets expected'\n",
    "        reshapedPos = np.array(self.site).reshape(-1,2)\n",
    "        # evaluate kernel to get level service score. If age group is not served, return 0 as default\n",
    "        if self.kernel.__contains__(ageGroup):\n",
    "            score = self.kernel[ageGroup](targetPositions, reshapedPos)\n",
    "        else:\n",
    "            score = 0\n",
    "        return np.squeeze(score)\n",
    "    \n",
    "    @property\n",
    "    def users(self): return list(self.propagation.keys())\n",
    "    \n",
    "def evaluate_services_at(positions, unitsList, serviceTypes= [t for t in ServiceType]):\n",
    "    # set all age groups as output default\n",
    "    outputAgeGroups = AgeGroup.all()\n",
    "    \n",
    "    outScores = np.zeros((positions.shape[0], len(outputAgeGroups), len(serviceTypes)), \n",
    "                         dtype=[('position', tuple), ('age', AgeGroup), ('service', ServiceType)])\n",
    "    # for a given position, output is a (ageGroup VS serviceType) table. Let's initialise it\n",
    "    #outScores = pd.DataFrame(np.zeros([len(outputAgeGroups), len(serviceTypes)]),\n",
    "    #                         index=outputAgeGroups, columns=serviceTypes)\n",
    "    for thisServType in serviceTypes:\n",
    "        for thisAgeGroup in outputAgeGroups:\n",
    "            serviceUnits = [u for u in unitsList if u.service == thisServType]\n",
    "            if not serviceUnits:\n",
    "                continue\n",
    "            #print(np.squeeze(serviceUnits[0].evaluate(positions, thisAgeGroup)))\n",
    "            unitValues = np.stack(list(map(lambda x: x.evaluate(positions, thisAgeGroup), serviceUnits)),\n",
    "                                 axis=-1)\n",
    "            outScores.loc[thisAgeGroup, thisServType] = thisServType.aggregate_units(unitValues)\n",
    "    return outScores\n",
    "        "
   ]
  },
  {
   "cell_type": "code",
   "execution_count": 67,
   "metadata": {},
   "outputs": [
    {
     "ename": "AttributeError",
     "evalue": "'numpy.ndarray' object has no attribute 'loc'",
     "output_type": "error",
     "traceback": [
      "\u001b[0;31m---------------------------------------------------------------------------\u001b[0m",
      "\u001b[0;31mAttributeError\u001b[0m                            Traceback (most recent call last)",
      "\u001b[0;32m<ipython-input-67-5ecf6edee89b>\u001b[0m in \u001b[0;36m<module>\u001b[0;34m()\u001b[0m\n\u001b[1;32m      1\u001b[0m \u001b[0mtest\u001b[0m \u001b[0;34m=\u001b[0m \u001b[0;34m[\u001b[0m\u001b[0mServiceUnit\u001b[0m\u001b[0;34m(\u001b[0m\u001b[0mServiceType\u001b[0m\u001b[0;34m.\u001b[0m\u001b[0mPoliceStation\u001b[0m\u001b[0;34m,\u001b[0m \u001b[0;34m'Duomo'\u001b[0m\u001b[0;34m)\u001b[0m\u001b[0;34m,\u001b[0m \u001b[0mServiceUnit\u001b[0m\u001b[0;34m(\u001b[0m\u001b[0mServiceType\u001b[0m\u001b[0;34m.\u001b[0m\u001b[0mPoliceStation\u001b[0m\u001b[0;34m,\u001b[0m \u001b[0;34m'Ripamonti'\u001b[0m\u001b[0;34m)\u001b[0m\u001b[0;34m]\u001b[0m\u001b[0;34m\u001b[0m\u001b[0m\n\u001b[1;32m      2\u001b[0m \u001b[0mx\u001b[0m \u001b[0;34m=\u001b[0m \u001b[0mnp\u001b[0m\u001b[0;34m.\u001b[0m\u001b[0mrandom\u001b[0m\u001b[0;34m.\u001b[0m\u001b[0muniform\u001b[0m\u001b[0;34m(\u001b[0m\u001b[0mlow\u001b[0m\u001b[0;34m=\u001b[0m\u001b[0;34m[\u001b[0m\u001b[0;36m45.40\u001b[0m\u001b[0;34m,\u001b[0m\u001b[0;36m9.1\u001b[0m\u001b[0;34m]\u001b[0m\u001b[0;34m,\u001b[0m\u001b[0mhigh\u001b[0m\u001b[0;34m=\u001b[0m\u001b[0;34m[\u001b[0m\u001b[0;36m45.50\u001b[0m\u001b[0;34m,\u001b[0m \u001b[0;36m9.3\u001b[0m\u001b[0;34m]\u001b[0m\u001b[0;34m,\u001b[0m \u001b[0msize\u001b[0m\u001b[0;34m=\u001b[0m\u001b[0;34m(\u001b[0m\u001b[0;36m50\u001b[0m\u001b[0;34m,\u001b[0m\u001b[0;36m2\u001b[0m\u001b[0;34m)\u001b[0m\u001b[0;34m)\u001b[0m\u001b[0;34m\u001b[0m\u001b[0m\n\u001b[0;32m----> 3\u001b[0;31m \u001b[0mevaluate_services_at\u001b[0m\u001b[0;34m(\u001b[0m\u001b[0mx\u001b[0m\u001b[0;34m,\u001b[0m \u001b[0mtest\u001b[0m\u001b[0;34m)\u001b[0m\u001b[0;34m\u001b[0m\u001b[0m\n\u001b[0m",
      "\u001b[0;32m<ipython-input-66-342a6d6e6e85>\u001b[0m in \u001b[0;36mevaluate_services_at\u001b[0;34m(positions, unitsList, serviceTypes)\u001b[0m\n\u001b[1;32m     44\u001b[0m             unitValues = np.stack(list(map(lambda x: x.evaluate(positions, thisAgeGroup), serviceUnits)),\n\u001b[1;32m     45\u001b[0m                                  axis=-1)\n\u001b[0;32m---> 46\u001b[0;31m             \u001b[0moutScores\u001b[0m\u001b[0;34m.\u001b[0m\u001b[0mloc\u001b[0m\u001b[0;34m[\u001b[0m\u001b[0mthisAgeGroup\u001b[0m\u001b[0;34m,\u001b[0m \u001b[0mthisServType\u001b[0m\u001b[0;34m]\u001b[0m \u001b[0;34m=\u001b[0m \u001b[0mthisServType\u001b[0m\u001b[0;34m.\u001b[0m\u001b[0maggregate_units\u001b[0m\u001b[0;34m(\u001b[0m\u001b[0munitValues\u001b[0m\u001b[0;34m)\u001b[0m\u001b[0;34m\u001b[0m\u001b[0m\n\u001b[0m\u001b[1;32m     47\u001b[0m     \u001b[0;32mreturn\u001b[0m \u001b[0moutScores\u001b[0m\u001b[0;34m\u001b[0m\u001b[0m\n\u001b[1;32m     48\u001b[0m \u001b[0;34m\u001b[0m\u001b[0m\n",
      "\u001b[0;31mAttributeError\u001b[0m: 'numpy.ndarray' object has no attribute 'loc'"
     ]
    }
   ],
   "source": [
    "test = [ServiceUnit(ServiceType.PoliceStation, 'Duomo'), ServiceUnit(ServiceType.PoliceStation, 'Ripamonti')]\n",
    "x = np.random.uniform(low=[45.40,9.1],high=[45.50, 9.3], size=(50,2))\n",
    "evaluate_services_at(x, test)\n"
   ]
  },
  {
   "cell_type": "code",
   "execution_count": null,
   "metadata": {},
   "outputs": [],
   "source": [
    "values = np.zeros([len(AgeGroup.all()), len([t for t in ServiceType])])\n",
    "zz=pd.DataFrame(values, index= AgeGroup.all(), columns = [t for t in ServiceType])"
   ]
  },
  {
   "cell_type": "code",
   "execution_count": null,
   "metadata": {},
   "outputs": [],
   "source": [
    "zz.loc[AgeGroup.Newborn, ServiceType.PoliceStation]"
   ]
  },
  {
   "cell_type": "code",
   "execution_count": null,
   "metadata": {},
   "outputs": [],
   "source": [
    "np.array((3,4))"
   ]
  },
  {
   "cell_type": "code",
   "execution_count": null,
   "metadata": {},
   "outputs": [],
   "source": [
    " [t for t in ServiceType]"
   ]
  },
  {
   "cell_type": "code",
   "execution_count": null,
   "metadata": {},
   "outputs": [],
   "source": [
    "### Supply modeling\n"
   ]
  }
 ],
 "metadata": {
  "kernelspec": {
   "display_name": "Python 3",
   "language": "python",
   "name": "python3"
  },
  "language_info": {
   "codemirror_mode": {
    "name": "ipython",
    "version": 3
   },
   "file_extension": ".py",
   "mimetype": "text/x-python",
   "name": "python",
   "nbconvert_exporter": "python",
   "pygments_lexer": "ipython3",
   "version": "3.5.4"
  }
 },
 "nbformat": 4,
 "nbformat_minor": 2
}
