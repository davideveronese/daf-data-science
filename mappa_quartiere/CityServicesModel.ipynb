{
 "cells": [
  {
   "cell_type": "markdown",
   "metadata": {},
   "source": [
    "## A simple model for demand and supply of publicly-provided services in a city"
   ]
  },
  {
   "cell_type": "code",
   "execution_count": null,
   "metadata": {
    "scrolled": true
   },
   "outputs": [],
   "source": [
    "import numpy as np\n",
    "import pandas as pd\n",
    "import seaborn as sns\n",
    "from sklearn import gaussian_process\n",
    "from matplotlib import pyplot as plt \n",
    "from enum import Enum\n",
    "import os.path\n",
    "import geopy, geopy.distance\n",
    "plt.rcParams['figure.figsize']= (20,14)"
   ]
  },
  {
   "cell_type": "code",
   "execution_count": null,
   "metadata": {
    "scrolled": true
   },
   "outputs": [],
   "source": [
    "from cityItems import AgeGroup, ServiceArea, ServiceType, SummaryNorm # enum classes for the model"
   ]
  },
  {
   "cell_type": "code",
   "execution_count": null,
   "metadata": {
    "scrolled": true
   },
   "outputs": [],
   "source": [
    "gaussKern = gaussian_process.kernels.RBF\n",
    "get_random_pos = lambda n: list(map(geopy.Point, list(zip(np.round(np.random.uniform(45.40, 45.50, n), 5), \n",
    "                                np.round(np.random.uniform(9.1, 9.3, n), 5)))))"
   ]
  },
  {
   "cell_type": "code",
   "execution_count": null,
   "metadata": {
    "scrolled": true
   },
   "outputs": [],
   "source": [
    "## ServiceUnit class\n",
    "class ServiceUnit:\n",
    "    def __init__(self, service, name='', position=geopy.Point(45.4641, 9.1919),\n",
    "                 ageDiffusionIn={}, scaleIn=1, attributesIn={}):\n",
    "        assert isinstance(position, geopy.Point), 'Position must be a geopy Point' \n",
    "        assert isinstance(service, ServiceType), 'Service must belong to the Eum'\n",
    "        assert isinstance(name, str), 'Name must be a string'\n",
    "        \n",
    "        assert (np.isscalar(scaleIn)) & (scaleIn>0) , 'Scale must be a positive scalar'\n",
    "        assert isinstance(attributesIn, dict), 'Attributes can be provided in a dict'\n",
    "        \n",
    "        self.name = name\n",
    "        self.service = service\n",
    "        \n",
    "        # A ServiceType can have many sites, so each unit has its own. \n",
    "        # Moreover, a site is not uniquely assigned to a service\n",
    "        self.site = position\n",
    "        \n",
    "        self.scale = scaleIn # store scale info\n",
    "        self.attributes = attributesIn# dictionary\n",
    "        \n",
    "        # how the service availablity area varies for different age groups\n",
    "        if ageDiffusionIn==None:\n",
    "            self.ageDiffusion = {g: (1 + .005*np.round(np.random.normal(),2))*self.scale for g in AgeGroup.all()} \n",
    "        else:\n",
    "            assert set(ageDiffusionIn.keys()) <= set(AgeGroup.all()), 'Diffusion keys should be AgeGroups'\n",
    "            #assert all\n",
    "            self.ageDiffusion = ageDiffusionIn\n",
    "        self.kernel = {g: gaussKern(length_scale=l) for g, l in self.ageDiffusion.items()}\n",
    "        \n",
    "        \n",
    "        \n",
    "    def evaluate(self, targetPositions, ageGroup):\n",
    "        assert isinstance(targetPositions[0], geopy.Point),'Geopy Point list format expected for positions'\n",
    "        \n",
    "        # get distances\n",
    "        distances = np.zeros(shape=(len(targetPositions),1))\n",
    "        distances[:,0] = [geopy.distance.great_circle(x, self.site).km for x in targetPositions]\n",
    "        \n",
    "        # evaluate kernel to get level service score. If age group is not relevant to the service, return 0 as default\n",
    "        if self.kernel.__contains__(ageGroup):\n",
    "            score = self.kernel[ageGroup](distances, np.array([[0],]))\n",
    "            # check conversion from tuple to nparray\n",
    "            #targetPositions= np.array(targetPositions)\n",
    "            #score2 = self.kernel[ageGroup](targetPositions, reshapedPos)\n",
    "            #assert all(score-score2==0)\n",
    "        else:\n",
    "            score = np.zeros_like(targetPositions)\n",
    "        return np.squeeze(score)\n",
    "    \n",
    "    @property\n",
    "    def users(self): return list(self.propagation.keys())"
   ]
  },
  {
   "cell_type": "code",
   "execution_count": null,
   "metadata": {
    "scrolled": true
   },
   "outputs": [],
   "source": [
    "### Supply modelling\n",
    "def evaluate_services_at(positions, unitsList, outputServices= [t for t in ServiceType]):\n",
    "    # set all age groups as output default\n",
    "    outputAgeGroups = AgeGroup.all()\n",
    "    # initialise output\n",
    "    outScores = {service: pd.DataFrame(np.zeros([len(positions), len(AgeGroup.all())]), \n",
    "                                 index=positions, columns=AgeGroup.all()) \n",
    "                 for service in outputServices}\n",
    "    # loop over different services\n",
    "    for thisServType in outputServices:\n",
    "        serviceUnits = [u for u in unitsList if u.service == thisServType]\n",
    "        if not serviceUnits:\n",
    "            continue\n",
    "        else:\n",
    "            for thisAgeGroup in outputAgeGroups:\n",
    "                unitValues = np.stack(list(map(lambda x: x.evaluate(positions, thisAgeGroup), serviceUnits)), axis=-1)\n",
    "                # aggregate unit contributions according to the service type norm\n",
    "                outScores[thisServType][thisAgeGroup] = thisServType.aggregate_units(unitValues)\n",
    "            \n",
    "    return outScores\n",
    "        "
   ]
  },
  {
   "cell_type": "code",
   "execution_count": null,
   "metadata": {
    "scrolled": false
   },
   "outputs": [],
   "source": [
    "test = [ServiceUnit(ServiceType.PoliceStation, 'Duomo', ageDiffusionIn=None), \n",
    "        ServiceUnit(ServiceType.PoliceStation, 'Ripamonti', \n",
    "                    position=geopy.Point(45.43, 9.201), ageDiffusionIn=None)]\n",
    "evaluate_services_at(get_random_pos(4), test)\n"
   ]
  },
  {
   "cell_type": "code",
   "execution_count": null,
   "metadata": {},
   "outputs": [],
   "source": [
    "class UnitFactory:\n",
    "    def __init__(self, path):\n",
    "        assert os.path.isfile(path), 'File \"%s\" not found' % path\n",
    "        self.filepath = path\n",
    "        self.rawData = []\n",
    "        \n",
    "    def load(self):\n",
    "        self.rawData = pd.read_csv(self.filepath, sep=';', decimal=',')\n",
    "        self.nUnits = self.rawData.shape[0]\n",
    "        defaultLocationColumns = ['Lat', 'Long']\n",
    "        if set(defaultLocationColumns).issubset(set(self.rawData.columns)):\n",
    "            print('Location data found')\n",
    "            # store geolocations as geopy Point\n",
    "            locations = [geopy.Point(self.rawData.loc[i, defaultLocationColumns]) for i in range(self.nUnits)]\n",
    "            propertData = self.rawData.drop(defaultLocationColumns, axis=1)\n",
    "        else:\n",
    "            propertData = self.rawData\n",
    "            locations = []\n",
    "            \n",
    "        return propertData, locations\n",
    "\n",
    "    @staticmethod\n",
    "    def createLoader(serviceType, path):\n",
    "        if serviceType == ServiceType.School:\n",
    "            return SchoolFactory(path)"
   ]
  },
  {
   "cell_type": "code",
   "execution_count": null,
   "metadata": {
    "scrolled": true
   },
   "outputs": [],
   "source": [
    "class SchoolFactory(UnitFactory):\n",
    "    \n",
    "    def __init__(self, path):\n",
    "        super().__init__(path)\n",
    "        \n",
    "    def load(self):\n",
    "        (propertData, locations) = super().load()\n",
    "        \n",
    "        nameCol = 'DENOMINAZIONESCUOLA'\n",
    "        typeCol = 'ORDINESCUOLA'\n",
    "        scaleCol = 'ALUNNI'\n",
    "        \n",
    "        typeAgeDict = {'SCUOLA PRIMARIA': {AgeGroup.ChildPrimary:1},\n",
    "                      'SCUOLA SECONDARIA I GRADO': {AgeGroup.ChildMid:1},\n",
    "                      'SCUOLA SECONDARIA II GRADO': {AgeGroup.ChildHigh:1},}\n",
    "        \n",
    "        schoolTypes = propertData[typeCol].unique()\n",
    "        assert set(schoolTypes) <= set(typeAgeDict.keys()), 'Unrecognized types in input'\n",
    "                \n",
    "        unitList = []\n",
    "                \n",
    "        for scType in schoolTypes:\n",
    "            bThisGroup = propertData[typeCol]==scType\n",
    "            typeData = propertData[bThisGroup]\n",
    "            typeLocations = [l for i,l in enumerate(locations) if bThisGroup[i]]\n",
    "\n",
    "            for iUnit in range(typeData.shape[0]):\n",
    "                rowData = typeData.iloc[iUnit,:]\n",
    "                attrDict = {'level':scType}\n",
    "                thisUnit = ServiceUnit(ServiceType.School, \n",
    "                        name=rowData[nameCol], \n",
    "                        position=typeLocations[iUnit], \n",
    "                        ageDiffusionIn=typeAgeDict[scType], \n",
    "                        scaleIn=rowData[scaleCol],\n",
    "                        attributesIn=attrDict)\n",
    "                unitList.append(thisUnit)\n",
    "        \n",
    "        return unitList"
   ]
  },
  {
   "cell_type": "code",
   "execution_count": null,
   "metadata": {
    "scrolled": true
   },
   "outputs": [],
   "source": [
    "## Load scuole!\n",
    "scuoleFile =  'final/milano_datiScuole.csv'\n",
    "schoolLoader = UnitFactory.createLoader(ServiceType.School, scuoleFile)\n",
    "schoolUnits = schoolLoader.load()"
   ]
  },
  {
   "cell_type": "code",
   "execution_count": null,
   "metadata": {
    "scrolled": true
   },
   "outputs": [],
   "source": [
    "## Plot tools\n",
    "class unitPlotter:\n",
    "    def __init__(self, unitList):\n",
    "        assert isinstance(unitList, list), 'List expected'\n",
    "        self.units = unitList\n",
    "    \n",
    "    def plot_locations(self):\n",
    "        \n",
    "        plotScales = self.scale/np.mean(self.scale)\n",
    "        plt.figure()\n",
    "        plt.scatter(self.latitude, self.longitude, s=plotScales)\n",
    "        plt.axis('equal')\n",
    "        plt.show()\n",
    "    \n",
    "    \n",
    "    @property\n",
    "    def longitude(self):\n",
    "        return [unit.site.longitude for unit in self.units]\n",
    "    @property\n",
    "    def latitude(self):\n",
    "        return [unit.site.latitude for unit in self.units]\n",
    "    @property\n",
    "    def scale(self):\n",
    "        scales = [unit.scale for unit in self.units]\n",
    "        return scales"
   ]
  },
  {
   "cell_type": "code",
   "execution_count": null,
   "metadata": {},
   "outputs": [],
   "source": [
    "evaluate_services_at(get_random_pos(30), schoolUnits[0:50])"
   ]
  },
  {
   "cell_type": "code",
   "execution_count": null,
   "metadata": {
    "scrolled": false
   },
   "outputs": [],
   "source": [
    "plotter = unitPlotter(schoolUnits)\n",
    "pd.Series(plotter.scale).describe()\n",
    "plotter.plot_locations()"
   ]
  },
  {
   "cell_type": "code",
   "execution_count": null,
   "metadata": {
    "scrolled": true
   },
   "outputs": [],
   "source": [
    "### Demand modelling\n",
    "class Household:\n",
    "    def __init__(self, position=None, membersInput=None):\n",
    "        # make defaults\n",
    "        if not position: position = get_random_pos(1)\n",
    "        if not membersInput: membersInput = {a: 1 for a in AgeGroup.all()}\n",
    "        # expand input to all age group keys\n",
    "        self.members = {a: membersInput.get(a, 0) for a in AgeGroup.all()}\n",
    "        self.position = position\n",
    "        self.export = pd.DataFrame(self.members, index=([self.position])) # precompute for speed\n",
    "\n",
    "def evaluate_demand(householdList, outputServices= [t for t in ServiceType]):\n",
    "    \"\"\" \"\"\"\n",
    "    # initialise output\n",
    "    outDemand = dict()\n",
    "    # consolidate positions. If two households share the same position, sum components.\n",
    "    householdData = pd.concat([h.export for h in householdList])\n",
    "    householdData['position'] = householdData.index \n",
    "    consolidated = householdData.groupby('position').sum()\n",
    "    \n",
    "    for thisServType in outputServices:\n",
    "        outDemand[thisServType] = consolidated*thisServType.demandFactors\n",
    "        \n",
    "    return outDemand"
   ]
  },
  {
   "cell_type": "code",
   "execution_count": null,
   "metadata": {
    "scrolled": true
   },
   "outputs": [],
   "source": [
    "hhList =  [Household() for i in range(40)]\n",
    "evaluate_demand(hhList)"
   ]
  },
  {
   "cell_type": "code",
   "execution_count": null,
   "metadata": {
    "scrolled": true
   },
   "outputs": [],
   "source": [
    "## Matching demand and supply\n",
    "def get_satisfaction_indexes(householdList)"
   ]
  }
 ],
 "metadata": {
  "kernelspec": {
   "display_name": "Python 3",
   "language": "python",
   "name": "python3"
  },
  "language_info": {
   "codemirror_mode": {
    "name": "ipython",
    "version": 3
   },
   "file_extension": ".py",
   "mimetype": "text/x-python",
   "name": "python",
   "nbconvert_exporter": "python",
   "pygments_lexer": "ipython3",
   "version": "3.5.4"
  }
 },
 "nbformat": 4,
 "nbformat_minor": 2
}
