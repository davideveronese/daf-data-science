{
 "cells": [
  {
   "cell_type": "markdown",
   "metadata": {},
   "source": [
    "## A simple model for demand and supply of publicly-provided services in a city"
   ]
  },
  {
   "cell_type": "code",
   "execution_count": null,
   "metadata": {},
   "outputs": [],
   "source": [
    "import numpy as np\n",
    "import pandas as pd\n",
    "from sklearn import gaussian_process\n",
    "from matplotlib import pyplot as plt \n",
    "from enum import Enum\n",
    "import os.path"
   ]
  },
  {
   "cell_type": "code",
   "execution_count": null,
   "metadata": {},
   "outputs": [],
   "source": [
    "gaussKern = gaussian_process.kernels.RBF\n",
    "get_random_pos = lambda n: [tuple(\n",
    "    np.round(np.random.uniform(low=[45.40,9.1],high=[45.50, 9.3], size=2),5)) for z in range(n)]"
   ]
  },
  {
   "cell_type": "code",
   "execution_count": null,
   "metadata": {},
   "outputs": [],
   "source": [
    "get_random_pos(3)"
   ]
  },
  {
   "cell_type": "code",
   "execution_count": null,
   "metadata": {},
   "outputs": [],
   "source": [
    "## Enum classes\n",
    "class AgeGroup(Enum):\n",
    "    Newborn= (0, 3)\n",
    "    Child= (4,15)\n",
    "    Young= (16,25)\n",
    "    Junior= (26,35)\n",
    "    Senior= (36, 50)\n",
    "    Over50= (50, 64)\n",
    "    Over65= (66, 80)\n",
    "    Over80= (81, 200)\n",
    "    def __init__(self, startAge, endAge):\n",
    "        self.start = startAge\n",
    "        self.end = endAge\n",
    "    \n",
    "    @staticmethod\n",
    "    def all():\n",
    "        return([g for g in AgeGroup])\n",
    "    @property\n",
    "    def range(self): return self.end - self.start\n",
    "    \n",
    "class SummaryNorm(Enum):\n",
    "    l1= lambda x: sum(abs(x))\n",
    "    l2= lambda x: (sum(x**2))**0.5\n",
    "    lInf= lambda x: max(x)\n",
    "    \n",
    "\n",
    "class ServiceType(Enum):\n",
    "    School = (1, SummaryNorm.l2)\n",
    "    SocialSupport = (2, SummaryNorm.l2)\n",
    "    PoliceStation = (2, SummaryNorm.l2)\n",
    "    #etc\n",
    "    def __init__(self, _, aggrNormInput=SummaryNorm.l2):\n",
    "        self.aggrNorm = aggrNormInput\n",
    "        # initialise demand factors for each age group\n",
    "        self.demandFactors = pd.Series({a: np.random.uniform() for a in AgeGroup.all()}) #TODO: import this from input\n",
    "    \n",
    "    def aggregate_units(self, unitValues, axis=1):\n",
    "        # assumes positions are stacked in rows\n",
    "        return np.apply_along_axis(self.aggrNorm, axis, unitValues)\n",
    "    \n",
    "    @staticmethod\n",
    "    def all():\n",
    "        return([g for g in ServiceType])\n",
    "    \n",
    "#demandFactors = pd.DataFrame(np.ones([len(AgeGroup.all()), len(ServiceType.all())]), \n",
    "#                             index=AgeGroup.all(), columns=ServiceType.all())"
   ]
  },
  {
   "cell_type": "code",
   "execution_count": null,
   "metadata": {},
   "outputs": [],
   "source": [
    "## ServiceUnit class\n",
    "class ServiceUnit:\n",
    "    def __init__(self, service, name='', position=(45.4641, 9.1919), users=AgeGroup.all(), times=[], scale=1):\n",
    "        assert isinstance(position, tuple) & (len(position) == 2), 'Position must be a pair tuple' #will be replaced by nicer class\n",
    "        assert isinstance(service, ServiceType), 'Service must belong to the Enum'\n",
    "        self.name = name\n",
    "        self.service = service\n",
    "        self.site = position  # a Service can have many sites, and a site is not uniquely assigned to a service\n",
    "        self.times = times\n",
    "        \n",
    "        # how the service availablity area varies for different age groups\n",
    "        kPropagationTest = 3\n",
    "        self.propagation ={g: (0.04 + .001*np.round(np.random.normal(),2))*kPropagationTest*scale for g in users} \n",
    "        self.kernel = {g: gaussKern(length_scale=l) for g, l in self.propagation.items()}\n",
    "        \n",
    "    def evaluate(self, targetPositions, ageGroup):\n",
    "        assert isinstance(targetPositions[0], tuple),'tuple list format expected for positions'\n",
    "        reshapedPos = np.array(self.site).reshape(-1,2)\n",
    "        # evaluate kernel to get level service score. If age group is not served, return 0 as default\n",
    "        if self.kernel.__contains__(ageGroup):\n",
    "            score = self.kernel[ageGroup](targetPositions, reshapedPos)\n",
    "            # check conversion from tuple to nparray\n",
    "            #targetPositions= np.array(targetPositions)\n",
    "            #score2 = self.kernel[ageGroup](targetPositions, reshapedPos)\n",
    "            #assert all(score-score2==0)\n",
    "        else:\n",
    "            score = 0\n",
    "        return np.squeeze(score)\n",
    "    \n",
    "    @property\n",
    "    def users(self): return list(self.propagation.keys())"
   ]
  },
  {
   "cell_type": "code",
   "execution_count": null,
   "metadata": {},
   "outputs": [],
   "source": [
    "#outScores = {(a, t): np.zeros(positions.shape[0]) for a in outputAgeGroups for t in outputServices}\n",
    "#dimSpec = [('position', positions), ('agegroup', outputAgeGroups), ('servicetype', outputServices)]\n",
    "#outXr = xr.DataArray(np.zeros([positions.shape[0], len(outputAgeGroups), len(outputServices)]),  dimSpec)\n",
    "\n",
    "### Supply modelling\n",
    "def evaluate_services_at(positions, unitsList, outputServices= [t for t in ServiceType]):\n",
    "    # set all age groups as output default\n",
    "    outputAgeGroups = AgeGroup.all()\n",
    "    # initialise output\n",
    "    outScores = {service: pd.DataFrame(np.zeros([len(positions), len(AgeGroup.all())]), \n",
    "                                 index=positions, columns=AgeGroup.all()) \n",
    "                 for service in outputServices}\n",
    "    # loop over different services\n",
    "    for thisServType in outputServices:\n",
    "        for thisAgeGroup in outputAgeGroups:\n",
    "            serviceUnits = [u for u in unitsList if u.service == thisServType]\n",
    "            if not serviceUnits:\n",
    "                continue\n",
    "            unitValues = np.stack(list(map(lambda x: x.evaluate(positions, thisAgeGroup), serviceUnits)), axis=-1)\n",
    "            # aggregate unit contributions according to the service type norm\n",
    "            outScores[thisServType][thisAgeGroup] = thisServType.aggregate_units(unitValues)\n",
    "            \n",
    "    return outScores\n",
    "        "
   ]
  },
  {
   "cell_type": "code",
   "execution_count": null,
   "metadata": {},
   "outputs": [],
   "source": [
    "test = [ServiceUnit(ServiceType.PoliceStation, 'Duomo'), \n",
    "        ServiceUnit(ServiceType.PoliceStation, 'Ripamonti', position=(45.43, 9.201))]\n",
    "evaluate_services_at(get_random_pos(50), test)\n"
   ]
  },
  {
   "cell_type": "code",
   "execution_count": null,
   "metadata": {},
   "outputs": [],
   "source": [
    "class UnitFactory:\n",
    "    def __init__(self, path):\n",
    "        assert os.path.isfile(path), 'File \"%s\" not found' % path\n",
    "        print(\"I am your father\")\n",
    "        self.filepath = path\n",
    "        self.rawData = []\n",
    "        \n",
    "    def load(self):\n",
    "        self.rawData = pd.read_csv(self.filepath, sep=';', decimal=',')\n",
    "        self.nUnits = self.rawData.shape[0]\n",
    "        defaultLocationColumns = ['Lat', 'Long']\n",
    "        if set(defaultLocationColumns).issubset(set(self.rawData.columns)):\n",
    "            print('Location data found')\n",
    "            locations = [tuple(self.rawData.loc[i, defaultLocationColumns]) for i in range(self.nUnits)]\n",
    "            propertData = self.rawData.drop(defaultLocationColumns, axis=1)\n",
    "        else:\n",
    "            propertData = self.rawData\n",
    "            locations = []\n",
    "            \n",
    "        return propertData, locations\n",
    "    \n",
    "    def log(self, message):\n",
    "        print(message)\n",
    "        \n",
    "    @staticmethod\n",
    "    def createLoader(serviceType, path):\n",
    "        if serviceType == ServiceType.School:\n",
    "            return SchoolFactory(path)\n",
    "\n",
    "\n",
    "class SchoolFactory(UnitFactory):\n",
    "    \n",
    "    def __init__(self, path):\n",
    "        super().__init__(path)\n",
    "        \n",
    "    def load(self):\n",
    "        (propertData, locations) = super().load()\n",
    "        print(\"daughter\")\n",
    "        nameCol = 'DENOMINAZIONESCUOLA'\n",
    "        unitList = []\n",
    "        for iUnit in range(self.nUnits):\n",
    "            # create instance\n",
    "            thisUnit = ServiceUnit(ServiceType.School, name=propertData[nameCol][iUnit], position=locations[iUnit], \n",
    "                        users=AgeGroup.all(), times=[], scale=1)\n",
    "            unitList.append(thisUnit)\n",
    "        \n",
    "        return unitList"
   ]
  },
  {
   "cell_type": "code",
   "execution_count": null,
   "metadata": {},
   "outputs": [],
   "source": [
    "## Load scuole!\n",
    "oggetto = UnitFactory.createLoader(ServiceType.School, 'data/anagrScuoleMilano_geoloc.csv')\n",
    "oggetto.load()"
   ]
  },
  {
   "cell_type": "code",
   "execution_count": null,
   "metadata": {},
   "outputs": [],
   "source": [
    "### Demand modelling\n",
    "class Household:\n",
    "    def __init__(self, position=None, membersInput=None):\n",
    "        # make defaults\n",
    "        if not position: position = get_random_pos(1)\n",
    "        if not membersInput: membersInput = {a: 1 for a in AgeGroup.all()}\n",
    "        # expand input to all age group keys\n",
    "        self.members = {a: membersInput.get(a, 0) for a in AgeGroup.all()}\n",
    "        self.position = position\n",
    "        self.export = pd.DataFrame(self.members, index=([self.position])) # precompute for speed\n",
    "\n",
    "def evaluate_demand(householdList, outputServices= [t for t in ServiceType]):\n",
    "    \"\"\" \"\"\"\n",
    "    # initialise output\n",
    "    outDemand = dict()\n",
    "    # consolidate positions. If two households share the same position, sum components.\n",
    "    householdData = pd.concat([h.export for h in householdList])\n",
    "    householdData['position'] = householdData.index \n",
    "    consolidated = householdData.groupby('position').sum()\n",
    "    \n",
    "    for thisServType in outputServices:\n",
    "        outDemand[thisServType] = consolidated*thisServType.demandFactors\n",
    "        \n",
    "    return outDemand"
   ]
  },
  {
   "cell_type": "code",
   "execution_count": null,
   "metadata": {},
   "outputs": [],
   "source": [
    "hhList =  [Household() for i in range(40)]\n",
    "evaluate_demand(hhList)"
   ]
  },
  {
   "cell_type": "code",
   "execution_count": null,
   "metadata": {},
   "outputs": [],
   "source": [
    "## Matching demand and supply\n",
    "def get_satisfaction_indexes(householdList)"
   ]
  }
 ],
 "metadata": {
  "kernelspec": {
   "display_name": "Python 3",
   "language": "python",
   "name": "python3"
  },
  "language_info": {
   "codemirror_mode": {
    "name": "ipython",
    "version": 3
   },
   "file_extension": ".py",
   "mimetype": "text/x-python",
   "name": "python",
   "nbconvert_exporter": "python",
   "pygments_lexer": "ipython3",
   "version": "3.5.4"
  }
 },
 "nbformat": 4,
 "nbformat_minor": 2
}
