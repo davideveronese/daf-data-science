{
 "cells": [
  {
   "cell_type": "markdown",
   "metadata": {},
   "source": [
    "## We want to build a model of demand and supply of publicly provided services in a city"
   ]
  },
  {
   "cell_type": "code",
   "execution_count": 86,
   "metadata": {},
   "outputs": [],
   "source": [
    "import geopy\n",
    "import numpy as np\n",
    "from sklearn import gaussian_process\n",
    "from matplotlib import pyplot as plt "
   ]
  },
  {
   "cell_type": "code",
   "execution_count": 12,
   "metadata": {},
   "outputs": [],
   "source": [
    "gaussKern = gaussian_process.kernels.RBF"
   ]
  },
  {
   "cell_type": "code",
   "execution_count": 108,
   "metadata": {},
   "outputs": [],
   "source": [
    "from enum import Enum\n",
    "\n",
    "class AgeGroups(Enum):\n",
    "    Newborn= (0, 3)\n",
    "    Child= (4,15)\n",
    "    Young= (16,25)\n",
    "    Junior= (26,35)\n",
    "    Senior= (36, 50)\n",
    "    Over50= (50, 64)\n",
    "    Over65= (66, 80)\n",
    "    Over80= (81, 200)\n",
    "    def __init__(self, startAge, endAge):\n",
    "        self.start = startAge\n",
    "        self.end = endAge\n",
    "    @staticmethod\n",
    "    def all():\n",
    "        return([g for g in AgeGroups])\n",
    "    @property\n",
    "    def range(self): return self.end - self.start\n",
    "    \n",
    "    \n",
    "class Services(Enum):\n",
    "    School = 1\n",
    "    Football = 2\n",
    "    Doctor = 3\n",
    "    #etc\n",
    "    \n",
    "kPropagationTest = 3\n",
    "\n",
    "class ServiceUnit:\n",
    "    def __init__(self, name='', position=(45.4641, 9.1919), users=AgeGroups.all(), times=[], scale=1):\n",
    "        assert isinstance(position, tuple) & (len(position) == 2), 'Position must be a pair tuple' #will be replaced by nicer class\n",
    "        self.name = name\n",
    "        self.site = position  # a Service can have many sites, and a site is not uniquely assigned to a service\n",
    "        self.times = times\n",
    "        \n",
    "        # how the service availablity area varies for different age groups\n",
    "        self.propagation ={g: (0.04 + .001*np.round(np.random.normal(),2))*kPropagationTest*scale for g in users} \n",
    "        self.kernel = {g: gaussKern(length_scale=l) for g, l in self.propagation.items()}\n",
    "    def evaluate(self, targetPosition, ageGroup):\n",
    "        assert targetPosition.shape[1] == 2, '2D targets expected'\n",
    "        reshapedPos = np.array(self.site).reshape(-1,2)\n",
    "        score = self.kernel[ageGroup](targetPosition, reshapedPos)\n",
    "        return score\n",
    "    \n",
    "    @property\n",
    "    def users(self): return list(self.propagation.keys())\n",
    "        "
   ]
  },
  {
   "cell_type": "code",
   "execution_count": 109,
   "metadata": {},
   "outputs": [
    {
     "data": {
      "text/plain": [
       "array([[0.94358796],\n",
       "       [0.94583203],\n",
       "       [0.93679249],\n",
       "       [0.79850767],\n",
       "       [0.81640382],\n",
       "       [0.94534615],\n",
       "       [0.66261939],\n",
       "       [0.92596086],\n",
       "       [0.92846878],\n",
       "       [0.86843039],\n",
       "       [0.81263582],\n",
       "       [0.72698795],\n",
       "       [0.73466976],\n",
       "       [0.98459803],\n",
       "       [0.92903625],\n",
       "       [0.89356245],\n",
       "       [0.97061244],\n",
       "       [0.83645162],\n",
       "       [0.70735529],\n",
       "       [0.91337616],\n",
       "       [0.95156427],\n",
       "       [0.74791692],\n",
       "       [0.89838778],\n",
       "       [0.82171177],\n",
       "       [0.87821782],\n",
       "       [0.69510683],\n",
       "       [0.95652683],\n",
       "       [0.78632085],\n",
       "       [0.9061027 ],\n",
       "       [0.95888333],\n",
       "       [0.95191051],\n",
       "       [0.89023853],\n",
       "       [0.90504684],\n",
       "       [0.89590066],\n",
       "       [0.89887565],\n",
       "       [0.84305503],\n",
       "       [0.78322774],\n",
       "       [0.75246128],\n",
       "       [0.77653393],\n",
       "       [0.73313224],\n",
       "       [0.90814996],\n",
       "       [0.73337167],\n",
       "       [0.96761395],\n",
       "       [0.78573449],\n",
       "       [0.96339957],\n",
       "       [0.92655408],\n",
       "       [0.90321286],\n",
       "       [0.96049566],\n",
       "       [0.88949836],\n",
       "       [0.94964535]])"
      ]
     },
     "execution_count": 109,
     "metadata": {},
     "output_type": "execute_result"
    }
   ],
   "source": [
    "test = ServiceUnit('Duomo')\n",
    "x = np.random.uniform(low=[45.40,9.1],high=[45.50, 9.3], size=(50,2))\n",
    "test.evaluate(x, AgeGroups.Child)\n"
   ]
  },
  {
   "cell_type": "code",
   "execution_count": 103,
   "metadata": {},
   "outputs": [
    {
     "data": {
      "text/plain": [
       "array([3, 4])"
      ]
     },
     "execution_count": 103,
     "metadata": {},
     "output_type": "execute_result"
    }
   ],
   "source": [
    "np.array((3,4))"
   ]
  },
  {
   "cell_type": "code",
   "execution_count": 3,
   "metadata": {},
   "outputs": [],
   "source": []
  },
  {
   "cell_type": "code",
   "execution_count": 4,
   "metadata": {},
   "outputs": [],
   "source": [
    "### Supply modeling\n"
   ]
  }
 ],
 "metadata": {
  "kernelspec": {
   "display_name": "Python 3",
   "language": "python",
   "name": "python3"
  },
  "language_info": {
   "codemirror_mode": {
    "name": "ipython",
    "version": 3
   },
   "file_extension": ".py",
   "mimetype": "text/x-python",
   "name": "python",
   "nbconvert_exporter": "python",
   "pygments_lexer": "ipython3",
   "version": "3.5.4"
  }
 },
 "nbformat": 4,
 "nbformat_minor": 2
}
