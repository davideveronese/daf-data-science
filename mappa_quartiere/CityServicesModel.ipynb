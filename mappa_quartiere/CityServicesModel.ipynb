{
 "cells": [
  {
   "cell_type": "markdown",
   "metadata": {},
   "source": [
    "## A simple model for demand and supply of publicly-provided services in a city"
   ]
  },
  {
   "cell_type": "code",
   "execution_count": 4,
   "metadata": {
    "scrolled": true
   },
   "outputs": [],
   "source": [
    "import numpy as np\n",
    "import pandas as pd\n",
    "import seaborn as sns\n",
    "from sklearn import gaussian_process\n",
    "from matplotlib import pyplot as plt \n",
    "from enum import Enum\n",
    "import os.path\n",
    "import geopy, geopy.distance\n",
    "plt.rcParams['figure.figsize']= (20,14)\n"
   ]
  },
  {
   "cell_type": "code",
   "execution_count": 5,
   "metadata": {
    "scrolled": true
   },
   "outputs": [
    {
     "name": "stdout",
     "output_type": "stream",
     "text": [
      "WARNING: mock demand factors initalised for ServiceTypes\n",
      "WARNING: mock demand factors initalised for ServiceTypes\n",
      "WARNING: mock demand factors initalised for ServiceTypes\n"
     ]
    }
   ],
   "source": [
    "from cityItems import AgeGroup, ServiceArea, ServiceType, SummaryNorm # enum classes for the model"
   ]
  },
  {
   "cell_type": "code",
   "execution_count": 6,
   "metadata": {
    "scrolled": true
   },
   "outputs": [],
   "source": [
    "gaussKern = gaussian_process.kernels.RBF\n",
    "get_random_pos = lambda n: list(map(geopy.Point, list(zip(np.round(np.random.uniform(45.40, 45.50, n), 5), \n",
    "                                np.round(np.random.uniform(9.1, 9.3, n), 5)))))"
   ]
  },
  {
   "cell_type": "code",
   "execution_count": 63,
   "metadata": {
    "scrolled": true
   },
   "outputs": [],
   "source": [
    "## ServiceUnit class\n",
    "class ServiceUnit:\n",
    "    def __init__(self, service, name='', position=geopy.Point(45.4641, 9.1919),\n",
    "                 ageDiffusionIn={}, scaleIn=1, attributesIn={}):\n",
    "        assert isinstance(position, geopy.Point), 'Position must be a geopy Point' \n",
    "        assert isinstance(service, ServiceType), 'Service must belong to the Eum'\n",
    "        assert isinstance(name, str), 'Name must be a string'\n",
    "        \n",
    "        assert (np.isscalar(scaleIn)) & (scaleIn>0) , 'Scale must be a positive scalar'\n",
    "        assert isinstance(attributesIn, dict), 'Attributes can be provided in a dict'\n",
    "        \n",
    "        self.name = name\n",
    "        self.service = service\n",
    "        \n",
    "        # A ServiceType can have many sites, so each unit has its own. \n",
    "        # Moreover, a site is not uniquely assigned to a service\n",
    "        self.site = position\n",
    "        \n",
    "        self.scale = scaleIn # store scale info\n",
    "        self.attributes = attributesIn# dictionary\n",
    "        \n",
    "        # how the service availablity area varies for different age groups\n",
    "        if ageDiffusionIn==None:\n",
    "            self.ageDiffusion = {g: (1 + .005*np.round(np.random.normal(),2))*self.scale for g in AgeGroup.all()} \n",
    "        else:\n",
    "            assert set(ageDiffusionIn.keys()) <= set(AgeGroup.all()), 'Diffusion keys should be AgeGroups'\n",
    "            #assert all\n",
    "            self.ageDiffusion = ageDiffusionIn\n",
    "        self.kernel = {g: gaussKern(length_scale=l) for g, l in self.ageDiffusion.items()}\n",
    "        \n",
    "        \n",
    "        \n",
    "    def evaluate(self, targetPositions, ageGroup):\n",
    "        assert isinstance(targetPositions[0], geopy.Point),'Geopy Point list format expected for positions'\n",
    "        \n",
    "        # get distances\n",
    "        distances = np.zeros(shape=(len(targetPositions),1))\n",
    "        distances[:,0] = [geopy.distance.great_circle(x, self.site).km for x in targetPositions]\n",
    "        \n",
    "        # evaluate kernel to get level service score. If age group is not relevant to the service, return 0 as default\n",
    "        if self.kernel.__contains__(ageGroup):\n",
    "            score = self.kernel[ageGroup](distances, np.array([[0],]))\n",
    "            # check conversion from tuple to nparray\n",
    "            #targetPositions= np.array(targetPositions)\n",
    "            #score2 = self.kernel[ageGroup](targetPositions, reshapedPos)\n",
    "            #assert all(score-score2==0)\n",
    "        else:\n",
    "            score = np.zeros_like(targetPositions)\n",
    "        return np.squeeze(score)\n",
    "    \n",
    "    @property\n",
    "    def users(self): return list(self.propagation.keys())"
   ]
  },
  {
   "cell_type": "code",
   "execution_count": 70,
   "metadata": {
    "scrolled": true
   },
   "outputs": [],
   "source": [
    "#outScores = {(a, t): np.zeros(positions.shape[0]) for a in outputAgeGroups for t in outputServices}\n",
    "#dimSpec = [('position', positions), ('agegroup', outputAgeGroups), ('servicetype', outputServices)]\n",
    "#outXr = xr.DataArray(np.zeros([positions.shape[0], len(outputAgeGroups), len(outputServices)]),  dimSpec)\n",
    "\n",
    "### Supply modelling\n",
    "def evaluate_services_at(positions, unitsList, outputServices= [t for t in ServiceType]):\n",
    "    # set all age groups as output default\n",
    "    outputAgeGroups = AgeGroup.all()\n",
    "    # initialise output\n",
    "    outScores = {service: pd.DataFrame(np.zeros([len(positions), len(AgeGroup.all())]), \n",
    "                                 index=positions, columns=AgeGroup.all()) \n",
    "                 for service in outputServices}\n",
    "    # loop over different services\n",
    "    for thisServType in outputServices:\n",
    "        serviceUnits = [u for u in unitsList if u.service == thisServType]\n",
    "        if not serviceUnits:\n",
    "            continue\n",
    "        else:\n",
    "            for thisAgeGroup in outputAgeGroups:\n",
    "                unitValues = np.stack(list(map(lambda x: x.evaluate(positions, thisAgeGroup), serviceUnits)), axis=-1)\n",
    "                # aggregate unit contributions according to the service type norm\n",
    "                outScores[thisServType][thisAgeGroup] = thisServType.aggregate_units(unitValues)\n",
    "            \n",
    "    return outScores\n",
    "        "
   ]
  },
  {
   "cell_type": "code",
   "execution_count": 88,
   "metadata": {
    "scrolled": false
   },
   "outputs": [
    {
     "data": {
      "text/plain": [
       "{<ServiceType.PoliceStation: (2, <ServiceArea.PublicSafety: 2>, <function SummaryNorm.<lambda> at 0x7ff780b1f400>)>:                                    AgeGroup.Newborn  AgeGroup.ChildPrimary  \\\n",
       " 45 24m 21.96s N, 9 7m 44.76s E         4.621354e-09           4.296199e-09   \n",
       " 45 25m 23.772s N, 9 9m 15.768s E       1.040877e-03           1.014056e-03   \n",
       " 45 25m 30.036s N, 9 17m 3.408s E       6.343989e-10           5.853279e-10   \n",
       " 45 26m 21.804s N, 9 12m 16.488s E      5.592163e-01           5.579904e-01   \n",
       " \n",
       "                                    AgeGroup.ChildMid  AgeGroup.ChildHigh  \\\n",
       " 45 24m 21.96s N, 9 7m 44.76s E          6.432637e-09        3.847841e-09   \n",
       " 45 25m 23.772s N, 9 9m 15.768s E        1.171632e-03        9.748401e-04   \n",
       " 45 25m 30.036s N, 9 17m 3.408s E        9.137804e-10        5.182978e-10   \n",
       " 45 26m 21.804s N, 9 12m 16.488s E       5.648288e-01        5.561500e-01   \n",
       " \n",
       "                                    AgeGroup.Young  AgeGroup.Junior  \\\n",
       " 45 24m 21.96s N, 9 7m 44.76s E       3.552482e-09     3.356361e-09   \n",
       " 45 25m 23.772s N, 9 9m 15.768s E     9.473750e-04     9.283179e-04   \n",
       " 45 25m 30.036s N, 9 17m 3.408s E     4.745756e-10     4.457491e-10   \n",
       " 45 26m 21.804s N, 9 12m 16.488s E    5.547724e-01     5.538311e-01   \n",
       " \n",
       "                                    AgeGroup.Senior  AgeGroup.Over50  \\\n",
       " 45 24m 21.96s N, 9 7m 44.76s E        4.157679e-09     4.312772e-09   \n",
       " 45 25m 23.772s N, 9 9m 15.768s E      1.002233e-03     1.015454e-03   \n",
       " 45 25m 30.036s N, 9 17m 3.408s E      5.645380e-10     5.878200e-10   \n",
       " 45 26m 21.804s N, 9 12m 16.488s E     5.574208e-01     5.580663e-01   \n",
       " \n",
       "                                    AgeGroup.Over65  AgeGroup.Over80  \n",
       " 45 24m 21.96s N, 9 7m 44.76s E        3.708259e-09     4.447495e-09  \n",
       " 45 25m 23.772s N, 9 9m 15.768s E      9.620358e-04     1.026692e-03  \n",
       " 45 25m 30.036s N, 9 17m 3.408s E      4.975904e-10     6.081147e-10  \n",
       " 45 26m 21.804s N, 9 12m 16.488s E     5.555099e-01     5.585607e-01  ,\n",
       " <ServiceType.School: (1, <ServiceArea.Education: 1>, <function SummaryNorm.<lambda> at 0x7ff780b1f400>)>:                                    AgeGroup.Newborn  AgeGroup.ChildPrimary  \\\n",
       " 45 24m 21.96s N, 9 7m 44.76s E                  0.0                    0.0   \n",
       " 45 25m 23.772s N, 9 9m 15.768s E                0.0                    0.0   \n",
       " 45 25m 30.036s N, 9 17m 3.408s E                0.0                    0.0   \n",
       " 45 26m 21.804s N, 9 12m 16.488s E               0.0                    0.0   \n",
       " \n",
       "                                    AgeGroup.ChildMid  AgeGroup.ChildHigh  \\\n",
       " 45 24m 21.96s N, 9 7m 44.76s E                   0.0                 0.0   \n",
       " 45 25m 23.772s N, 9 9m 15.768s E                 0.0                 0.0   \n",
       " 45 25m 30.036s N, 9 17m 3.408s E                 0.0                 0.0   \n",
       " 45 26m 21.804s N, 9 12m 16.488s E                0.0                 0.0   \n",
       " \n",
       "                                    AgeGroup.Young  AgeGroup.Junior  \\\n",
       " 45 24m 21.96s N, 9 7m 44.76s E                0.0              0.0   \n",
       " 45 25m 23.772s N, 9 9m 15.768s E              0.0              0.0   \n",
       " 45 25m 30.036s N, 9 17m 3.408s E              0.0              0.0   \n",
       " 45 26m 21.804s N, 9 12m 16.488s E             0.0              0.0   \n",
       " \n",
       "                                    AgeGroup.Senior  AgeGroup.Over50  \\\n",
       " 45 24m 21.96s N, 9 7m 44.76s E                 0.0              0.0   \n",
       " 45 25m 23.772s N, 9 9m 15.768s E               0.0              0.0   \n",
       " 45 25m 30.036s N, 9 17m 3.408s E               0.0              0.0   \n",
       " 45 26m 21.804s N, 9 12m 16.488s E              0.0              0.0   \n",
       " \n",
       "                                    AgeGroup.Over65  AgeGroup.Over80  \n",
       " 45 24m 21.96s N, 9 7m 44.76s E                 0.0              0.0  \n",
       " 45 25m 23.772s N, 9 9m 15.768s E               0.0              0.0  \n",
       " 45 25m 30.036s N, 9 17m 3.408s E               0.0              0.0  \n",
       " 45 26m 21.804s N, 9 12m 16.488s E              0.0              0.0  ,\n",
       " <ServiceType.SocialSupport: (2, <ServiceArea.Health: 3>, <function SummaryNorm.<lambda> at 0x7ff780b1f400>)>:                                    AgeGroup.Newborn  AgeGroup.ChildPrimary  \\\n",
       " 45 24m 21.96s N, 9 7m 44.76s E                  0.0                    0.0   \n",
       " 45 25m 23.772s N, 9 9m 15.768s E                0.0                    0.0   \n",
       " 45 25m 30.036s N, 9 17m 3.408s E                0.0                    0.0   \n",
       " 45 26m 21.804s N, 9 12m 16.488s E               0.0                    0.0   \n",
       " \n",
       "                                    AgeGroup.ChildMid  AgeGroup.ChildHigh  \\\n",
       " 45 24m 21.96s N, 9 7m 44.76s E                   0.0                 0.0   \n",
       " 45 25m 23.772s N, 9 9m 15.768s E                 0.0                 0.0   \n",
       " 45 25m 30.036s N, 9 17m 3.408s E                 0.0                 0.0   \n",
       " 45 26m 21.804s N, 9 12m 16.488s E                0.0                 0.0   \n",
       " \n",
       "                                    AgeGroup.Young  AgeGroup.Junior  \\\n",
       " 45 24m 21.96s N, 9 7m 44.76s E                0.0              0.0   \n",
       " 45 25m 23.772s N, 9 9m 15.768s E              0.0              0.0   \n",
       " 45 25m 30.036s N, 9 17m 3.408s E              0.0              0.0   \n",
       " 45 26m 21.804s N, 9 12m 16.488s E             0.0              0.0   \n",
       " \n",
       "                                    AgeGroup.Senior  AgeGroup.Over50  \\\n",
       " 45 24m 21.96s N, 9 7m 44.76s E                 0.0              0.0   \n",
       " 45 25m 23.772s N, 9 9m 15.768s E               0.0              0.0   \n",
       " 45 25m 30.036s N, 9 17m 3.408s E               0.0              0.0   \n",
       " 45 26m 21.804s N, 9 12m 16.488s E              0.0              0.0   \n",
       " \n",
       "                                    AgeGroup.Over65  AgeGroup.Over80  \n",
       " 45 24m 21.96s N, 9 7m 44.76s E                 0.0              0.0  \n",
       " 45 25m 23.772s N, 9 9m 15.768s E               0.0              0.0  \n",
       " 45 25m 30.036s N, 9 17m 3.408s E               0.0              0.0  \n",
       " 45 26m 21.804s N, 9 12m 16.488s E              0.0              0.0  }"
      ]
     },
     "execution_count": 88,
     "metadata": {},
     "output_type": "execute_result"
    }
   ],
   "source": [
    "test = [ServiceUnit(ServiceType.PoliceStation, 'Duomo', ageDiffusionIn=None), \n",
    "        ServiceUnit(ServiceType.PoliceStation, 'Ripamonti', \n",
    "                    position=geopy.Point(45.43, 9.201), ageDiffusionIn=None)]\n",
    "evaluate_services_at(get_random_pos(4), test)\n"
   ]
  },
  {
   "cell_type": "code",
   "execution_count": 72,
   "metadata": {
    "scrolled": true
   },
   "outputs": [],
   "source": [
    "class UnitFactory:\n",
    "    def __init__(self, path):\n",
    "        assert os.path.isfile(path), 'File \"%s\" not found' % path\n",
    "        self.filepath = path\n",
    "        self.rawData = []\n",
    "        \n",
    "    def load(self):\n",
    "        self.rawData = pd.read_csv(self.filepath, sep=';', decimal=',')\n",
    "        self.nUnits = self.rawData.shape[0]\n",
    "        defaultLocationColumns = ['Lat', 'Long']\n",
    "        if set(defaultLocationColumns).issubset(set(self.rawData.columns)):\n",
    "            print('Location data found')\n",
    "            # store geolocations as geopy Point\n",
    "            locations = [geopy.Point(self.rawData.loc[i, defaultLocationColumns]) for i in range(self.nUnits)]\n",
    "            propertData = self.rawData.drop(defaultLocationColumns, axis=1)\n",
    "        else:\n",
    "            propertData = self.rawData\n",
    "            locations = []\n",
    "            \n",
    "        return propertData, locations\n",
    "\n",
    "    @staticmethod\n",
    "    def createLoader(serviceType, path):\n",
    "        if serviceType == ServiceType.School:\n",
    "            return SchoolFactory(path)\n",
    "\n",
    "\n",
    "class SchoolFactory(UnitFactory):\n",
    "    \n",
    "    def __init__(self, path):\n",
    "        super().__init__(path)\n",
    "        \n",
    "    def load(self):\n",
    "        (propertData, locations) = super().load()\n",
    "        \n",
    "        nameCol = 'DENOMINAZIONESCUOLA'\n",
    "        typeCol = 'ORDINESCUOLA'\n",
    "        scaleCol = 'ALUNNI'\n",
    "        \n",
    "        typeAgeDict = {'SCUOLA PRIMARIA': {AgeGroup.ChildPrimary:1},\n",
    "                      'SCUOLA SECONDARIA I GRADO': {AgeGroup.ChildMid:1},\n",
    "                      'SCUOLA SECONDARIA II GRADO': {AgeGroup.ChildHigh:1},}\n",
    "        schoolTypes = propertData[typeCol].unique()\n",
    "        assert set(schoolTypes) <= set(typeAgeDict.keys()), 'Unrecognized types in input'\n",
    "        \n",
    "        #scaleData = 25*(scaleData/max(scaleData))\n",
    "        \n",
    "        unitList = []\n",
    "                \n",
    "        for scType in schoolTypes:\n",
    "            bThisGroup = propertData[typeCol]==scType\n",
    "            typeData = propertData[bThisGroup]\n",
    "            typeLocations = [l for i,l in enumerate(locations) if bThisGroup[i]]\n",
    "            #scaleCol\n",
    "            for iUnit in range(typeData.shape[0]):\n",
    "                rowData = typeData.iloc[iUnit,:]\n",
    "                attrDict = {'level':scType}\n",
    "                thisUnit = ServiceUnit(ServiceType.School, \n",
    "                        name=rowData[nameCol], \n",
    "                        position=typeLocations[iUnit], \n",
    "                        ageDiffusionIn=typeAgeDict[scType], \n",
    "                        scaleIn=rowData[scaleCol],\n",
    "                        attributesIn=attrDict)\n",
    "                unitList.append(thisUnit)\n",
    "        \n",
    "        return unitList"
   ]
  },
  {
   "cell_type": "code",
   "execution_count": 84,
   "metadata": {
    "scrolled": true
   },
   "outputs": [
    {
     "name": "stdout",
     "output_type": "stream",
     "text": [
      "Location data found\n"
     ]
    }
   ],
   "source": [
    "## Load scuole!\n",
    "scuoleFile =  'final/milano_datiScuole.csv'\n",
    "schoolLoader = UnitFactory.createLoader(ServiceType.School, scuoleFile)\n",
    "schoolUnits = schoolLoader.load()"
   ]
  },
  {
   "cell_type": "code",
   "execution_count": 91,
   "metadata": {},
   "outputs": [
    {
     "data": {
      "text/plain": [
       "{<ServiceType.PoliceStation: (2, <ServiceArea.PublicSafety: 2>, <function SummaryNorm.<lambda> at 0x7ff780b1f400>)>:                                    AgeGroup.Newborn  AgeGroup.ChildPrimary  \\\n",
       " 45 24m 23.724s N, 9 16m 19.812s E               0.0                    0.0   \n",
       " 45 28m 55.92s N, 9 9m 48.384s E                 0.0                    0.0   \n",
       " 45 25m 9.696s N, 9 16m 46.416s E                0.0                    0.0   \n",
       " 45 29m 31.956s N, 9 11m 25.296s E               0.0                    0.0   \n",
       " \n",
       "                                    AgeGroup.ChildMid  AgeGroup.ChildHigh  \\\n",
       " 45 24m 23.724s N, 9 16m 19.812s E                0.0                 0.0   \n",
       " 45 28m 55.92s N, 9 9m 48.384s E                  0.0                 0.0   \n",
       " 45 25m 9.696s N, 9 16m 46.416s E                 0.0                 0.0   \n",
       " 45 29m 31.956s N, 9 11m 25.296s E                0.0                 0.0   \n",
       " \n",
       "                                    AgeGroup.Young  AgeGroup.Junior  \\\n",
       " 45 24m 23.724s N, 9 16m 19.812s E             0.0              0.0   \n",
       " 45 28m 55.92s N, 9 9m 48.384s E               0.0              0.0   \n",
       " 45 25m 9.696s N, 9 16m 46.416s E              0.0              0.0   \n",
       " 45 29m 31.956s N, 9 11m 25.296s E             0.0              0.0   \n",
       " \n",
       "                                    AgeGroup.Senior  AgeGroup.Over50  \\\n",
       " 45 24m 23.724s N, 9 16m 19.812s E              0.0              0.0   \n",
       " 45 28m 55.92s N, 9 9m 48.384s E                0.0              0.0   \n",
       " 45 25m 9.696s N, 9 16m 46.416s E               0.0              0.0   \n",
       " 45 29m 31.956s N, 9 11m 25.296s E              0.0              0.0   \n",
       " \n",
       "                                    AgeGroup.Over65  AgeGroup.Over80  \n",
       " 45 24m 23.724s N, 9 16m 19.812s E              0.0              0.0  \n",
       " 45 28m 55.92s N, 9 9m 48.384s E                0.0              0.0  \n",
       " 45 25m 9.696s N, 9 16m 46.416s E               0.0              0.0  \n",
       " 45 29m 31.956s N, 9 11m 25.296s E              0.0              0.0  ,\n",
       " <ServiceType.School: (1, <ServiceArea.Education: 1>, <function SummaryNorm.<lambda> at 0x7ff780b1f400>)>:                                    AgeGroup.Newborn  AgeGroup.ChildPrimary  \\\n",
       " 45 24m 23.724s N, 9 16m 19.812s E               0.0               0.004471   \n",
       " 45 28m 55.92s N, 9 9m 48.384s E                 0.0               2.114209   \n",
       " 45 25m 9.696s N, 9 16m 46.416s E                0.0               0.060621   \n",
       " 45 29m 31.956s N, 9 11m 25.296s E               0.0               2.244143   \n",
       " \n",
       "                                    AgeGroup.ChildMid  AgeGroup.ChildHigh  \\\n",
       " 45 24m 23.724s N, 9 16m 19.812s E           0.003018            0.000003   \n",
       " 45 28m 55.92s N, 9 9m 48.384s E             1.592998            2.841778   \n",
       " 45 25m 9.696s N, 9 16m 46.416s E            0.014370            0.000022   \n",
       " 45 29m 31.956s N, 9 11m 25.296s E           1.557631            2.678176   \n",
       " \n",
       "                                    AgeGroup.Young  AgeGroup.Junior  \\\n",
       " 45 24m 23.724s N, 9 16m 19.812s E             0.0              0.0   \n",
       " 45 28m 55.92s N, 9 9m 48.384s E               0.0              0.0   \n",
       " 45 25m 9.696s N, 9 16m 46.416s E              0.0              0.0   \n",
       " 45 29m 31.956s N, 9 11m 25.296s E             0.0              0.0   \n",
       " \n",
       "                                    AgeGroup.Senior  AgeGroup.Over50  \\\n",
       " 45 24m 23.724s N, 9 16m 19.812s E              0.0              0.0   \n",
       " 45 28m 55.92s N, 9 9m 48.384s E                0.0              0.0   \n",
       " 45 25m 9.696s N, 9 16m 46.416s E               0.0              0.0   \n",
       " 45 29m 31.956s N, 9 11m 25.296s E              0.0              0.0   \n",
       " \n",
       "                                    AgeGroup.Over65  AgeGroup.Over80  \n",
       " 45 24m 23.724s N, 9 16m 19.812s E              0.0              0.0  \n",
       " 45 28m 55.92s N, 9 9m 48.384s E                0.0              0.0  \n",
       " 45 25m 9.696s N, 9 16m 46.416s E               0.0              0.0  \n",
       " 45 29m 31.956s N, 9 11m 25.296s E              0.0              0.0  ,\n",
       " <ServiceType.SocialSupport: (2, <ServiceArea.Health: 3>, <function SummaryNorm.<lambda> at 0x7ff780b1f400>)>:                                    AgeGroup.Newborn  AgeGroup.ChildPrimary  \\\n",
       " 45 24m 23.724s N, 9 16m 19.812s E               0.0                    0.0   \n",
       " 45 28m 55.92s N, 9 9m 48.384s E                 0.0                    0.0   \n",
       " 45 25m 9.696s N, 9 16m 46.416s E                0.0                    0.0   \n",
       " 45 29m 31.956s N, 9 11m 25.296s E               0.0                    0.0   \n",
       " \n",
       "                                    AgeGroup.ChildMid  AgeGroup.ChildHigh  \\\n",
       " 45 24m 23.724s N, 9 16m 19.812s E                0.0                 0.0   \n",
       " 45 28m 55.92s N, 9 9m 48.384s E                  0.0                 0.0   \n",
       " 45 25m 9.696s N, 9 16m 46.416s E                 0.0                 0.0   \n",
       " 45 29m 31.956s N, 9 11m 25.296s E                0.0                 0.0   \n",
       " \n",
       "                                    AgeGroup.Young  AgeGroup.Junior  \\\n",
       " 45 24m 23.724s N, 9 16m 19.812s E             0.0              0.0   \n",
       " 45 28m 55.92s N, 9 9m 48.384s E               0.0              0.0   \n",
       " 45 25m 9.696s N, 9 16m 46.416s E              0.0              0.0   \n",
       " 45 29m 31.956s N, 9 11m 25.296s E             0.0              0.0   \n",
       " \n",
       "                                    AgeGroup.Senior  AgeGroup.Over50  \\\n",
       " 45 24m 23.724s N, 9 16m 19.812s E              0.0              0.0   \n",
       " 45 28m 55.92s N, 9 9m 48.384s E                0.0              0.0   \n",
       " 45 25m 9.696s N, 9 16m 46.416s E               0.0              0.0   \n",
       " 45 29m 31.956s N, 9 11m 25.296s E              0.0              0.0   \n",
       " \n",
       "                                    AgeGroup.Over65  AgeGroup.Over80  \n",
       " 45 24m 23.724s N, 9 16m 19.812s E              0.0              0.0  \n",
       " 45 28m 55.92s N, 9 9m 48.384s E                0.0              0.0  \n",
       " 45 25m 9.696s N, 9 16m 46.416s E               0.0              0.0  \n",
       " 45 29m 31.956s N, 9 11m 25.296s E              0.0              0.0  }"
      ]
     },
     "execution_count": 91,
     "metadata": {},
     "output_type": "execute_result"
    }
   ],
   "source": [
    "evaluate_services_at(get_random_pos(4), schoolUnits)"
   ]
  },
  {
   "cell_type": "code",
   "execution_count": 86,
   "metadata": {
    "scrolled": true
   },
   "outputs": [],
   "source": [
    "## Plot tools\n",
    "class unitPlotter:\n",
    "    def __init__(self, unitList):\n",
    "        assert isinstance(unitList, list), 'List expected'\n",
    "        self.units = unitList\n",
    "    \n",
    "    def plot_locations(self):\n",
    "        plt.figure()\n",
    "        plt.scatter(self.latitude, self.longitude, s=self.scale)\n",
    "        plt.axis('equal')\n",
    "        plt.show()\n",
    "    \n",
    "    \n",
    "    @property\n",
    "    def longitude(self):\n",
    "        return [unit.site.longitude for unit in self.units]\n",
    "    @property\n",
    "    def latitude(self):\n",
    "        return [unit.site.latitude for unit in self.units]\n",
    "    @property\n",
    "    def scale(self):\n",
    "        scales = [unit.scale for unit in self.units]\n",
    "        scales = scales/np.mean(scales)\n",
    "        return scales"
   ]
  },
  {
   "cell_type": "code",
   "execution_count": 87,
   "metadata": {
    "scrolled": false
   },
   "outputs": [
    {
     "data": {
      "image/png": "[encoded data removed]",
      "text/plain": [
       "<matplotlib.figure.Figure at 0x7ff77f129b70>"
      ]
     },
     "metadata": {},
     "output_type": "display_data"
    }
   ],
   "source": [
    "plotter = unitPlotter(schoolUnits)\n",
    "plotter.plot_locations()"
   ]
  },
  {
   "cell_type": "code",
   "execution_count": null,
   "metadata": {
    "scrolled": true
   },
   "outputs": [],
   "source": [
    "### Demand modelling\n",
    "class Household:\n",
    "    def __init__(self, position=None, membersInput=None):\n",
    "        # make defaults\n",
    "        if not position: position = get_random_pos(1)\n",
    "        if not membersInput: membersInput = {a: 1 for a in AgeGroup.all()}\n",
    "        # expand input to all age group keys\n",
    "        self.members = {a: membersInput.get(a, 0) for a in AgeGroup.all()}\n",
    "        self.position = position\n",
    "        self.export = pd.DataFrame(self.members, index=([self.position])) # precompute for speed\n",
    "\n",
    "def evaluate_demand(householdList, outputServices= [t for t in ServiceType]):\n",
    "    \"\"\" \"\"\"\n",
    "    # initialise output\n",
    "    outDemand = dict()\n",
    "    # consolidate positions. If two households share the same position, sum components.\n",
    "    householdData = pd.concat([h.export for h in householdList])\n",
    "    householdData['position'] = householdData.index \n",
    "    consolidated = householdData.groupby('position').sum()\n",
    "    \n",
    "    for thisServType in outputServices:\n",
    "        outDemand[thisServType] = consolidated*thisServType.demandFactors\n",
    "        \n",
    "    return outDemand"
   ]
  },
  {
   "cell_type": "code",
   "execution_count": null,
   "metadata": {
    "scrolled": true
   },
   "outputs": [],
   "source": [
    "hhList =  [Household() for i in range(40)]\n",
    "evaluate_demand(hhList)"
   ]
  },
  {
   "cell_type": "code",
   "execution_count": null,
   "metadata": {
    "scrolled": true
   },
   "outputs": [],
   "source": [
    "## Matching demand and supply\n",
    "def get_satisfaction_indexes(householdList)"
   ]
  }
 ],
 "metadata": {
  "kernelspec": {
   "display_name": "Python 3",
   "language": "python",
   "name": "python3"
  },
  "language_info": {
   "codemirror_mode": {
    "name": "ipython",
    "version": 3
   },
   "file_extension": ".py",
   "mimetype": "text/x-python",
   "name": "python",
   "nbconvert_exporter": "python",
   "pygments_lexer": "ipython3",
   "version": "3.5.4"
  }
 },
 "nbformat": 4,
 "nbformat_minor": 2
}
