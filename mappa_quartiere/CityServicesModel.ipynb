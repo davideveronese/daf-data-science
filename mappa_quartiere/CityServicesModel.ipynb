{
 "cells": [
  {
   "cell_type": "markdown",
   "metadata": {},
   "source": [
    "## We want to build a model of demand and supply of publicly provided services in a city"
   ]
  },
  {
   "cell_type": "code",
   "execution_count": 7,
   "metadata": {},
   "outputs": [],
   "source": [
    "import geopy\n",
    "import numpy as np"
   ]
  },
  {
   "cell_type": "code",
   "execution_count": 10,
   "metadata": {},
   "outputs": [],
   "source": [
    "from enum import Enum\n",
    "\n",
    "class ageGroups(Enum):\n",
    "    Newborn= (0, 3)\n",
    "    Child= (4,15)\n",
    "    Young= (16,25)\n",
    "    Junior= (26,35)\n",
    "    Senior= (36, 50)\n",
    "    Over50= (50, 64)\n",
    "    Over65= (66, 80)\n",
    "    Over80= (81, 200)\n",
    "    def __init__(self, startAge, endAge):\n",
    "        self.start = startAge\n",
    "        self.end = endAge\n",
    "    @staticmethod\n",
    "    def all():\n",
    "        return([g for g in ageGroups])\n",
    "    @property\n",
    "    def range(self): return self.end - self.start\n",
    "    \n",
    "    \n",
    "class Services(Enum):\n",
    "    School = 1\n",
    "    Football = 2\n",
    "    Doctor = 3\n",
    "    #etc\n",
    "    \n",
    "kPropagationTest = 3\n",
    "\n",
    "class ServiceUnit:\n",
    "    def __init__(self, name='', position=(45.4641, 9.1919), users=ageGroups.all(), times=[], scale=1):\n",
    "        assert isinstance(position, tuple) & (len(position) == 2), 'Position must be a pair tuple' #will be replaced by nicer class\n",
    "        self.name = name\n",
    "        self.site = position  # a Service has many sites, and a site is not uniquely assigned to a service\n",
    "        self.users = users\n",
    "        self.times = times\n",
    "        self.propagation ={g: (1 + .1*np.random.normal())*kPropagationTest*scale for g in self.users} \n",
    "        # how the service is available for different age groups\n",
    "        \n",
    "        \n",
    "\n"
   ]
  },
  {
   "cell_type": "code",
   "execution_count": 11,
   "metadata": {},
   "outputs": [
    {
     "data": {
      "text/plain": [
       "{<ageGroups.Child: (4, 15)>: 2.7984163700339124,\n",
       " <ageGroups.Junior: (26, 35)>: 3.236271276089605,\n",
       " <ageGroups.Newborn: (0, 3)>: 3.3393112390801205,\n",
       " <ageGroups.Over50: (50, 64)>: 3.365449703165874,\n",
       " <ageGroups.Over65: (66, 80)>: 3.2160549678709485,\n",
       " <ageGroups.Over80: (81, 200)>: 3.082434115248339,\n",
       " <ageGroups.Senior: (36, 50)>: 2.965063886635803,\n",
       " <ageGroups.Young: (16, 25)>: 2.75652041272508}"
      ]
     },
     "execution_count": 11,
     "metadata": {},
     "output_type": "execute_result"
    }
   ],
   "source": [
    "test = ServiceUnit('Duomo')\n",
    "test.propagation"
   ]
  },
  {
   "cell_type": "code",
   "execution_count": 3,
   "metadata": {},
   "outputs": [],
   "source": []
  },
  {
   "cell_type": "code",
   "execution_count": 4,
   "metadata": {},
   "outputs": [],
   "source": [
    "### Supply modeling\n"
   ]
  }
 ],
 "metadata": {
  "kernelspec": {
   "display_name": "Python 3",
   "language": "python",
   "name": "python3"
  },
  "language_info": {
   "codemirror_mode": {
    "name": "ipython",
    "version": 3
   },
   "file_extension": ".py",
   "mimetype": "text/x-python",
   "name": "python",
   "nbconvert_exporter": "python",
   "pygments_lexer": "ipython3",
   "version": "3.5.4"
  }
 },
 "nbformat": 4,
 "nbformat_minor": 2
}
