{
 "cells": [
  {
   "cell_type": "markdown",
   "metadata": {},
   "source": [
    "## A simple model for demand and supply of publicly-provided services in a city"
   ]
  },
  {
   "cell_type": "code",
   "execution_count": 1,
   "metadata": {
    "scrolled": true
   },
   "outputs": [],
   "source": [
    "from enum import Enum\n",
    "import os.path\n",
    "\n",
    "import numpy as np\n",
    "import pandas as pd\n",
    "import geopandas as gpd\n",
    "import geopy, geopy.distance\n",
    "import shapely\n",
    "from sklearn import gaussian_process\n",
    "\n",
    "from matplotlib import pyplot as plt \n",
    "import seaborn as sns\n",
    "plt.rcParams['figure.figsize']= (20,14)"
   ]
  },
  {
   "cell_type": "code",
   "execution_count": 2,
   "metadata": {
    "scrolled": true
   },
   "outputs": [
    {
     "name": "stdout",
     "output_type": "stream",
     "text": [
      "WARNING: mock demand factors initalised for ServiceTypes\n",
      "WARNING: mock demand factors initalised for ServiceTypes\n",
      "WARNING: mock demand factors initalised for ServiceTypes\n"
     ]
    }
   ],
   "source": [
    "from cityItems import AgeGroup, ServiceArea, ServiceType, SummaryNorm # enum classes for the model"
   ]
  },
  {
   "cell_type": "code",
   "execution_count": 3,
   "metadata": {
    "scrolled": true
   },
   "outputs": [],
   "source": [
    "gaussKern = gaussian_process.kernels.RBF\n",
    "get_random_pos = lambda n: list(map(geopy.Point, list(zip(np.round(np.random.uniform(45.40, 45.50, n), 5), \n",
    "                                np.round(np.random.uniform(9.1, 9.3, n), 5)))))\n",
    "make_shapely_point = lambda geoPoint: shapely.geometry.Point(tuple(geoPoint))"
   ]
  },
  {
   "cell_type": "code",
   "execution_count": 4,
   "metadata": {
    "scrolled": true
   },
   "outputs": [],
   "source": [
    "## ServiceUnit class\n",
    "class ServiceUnit:\n",
    "    def __init__(self, service, name='', position=geopy.Point(45.4641, 9.1919),\n",
    "                 ageDiffusionIn={}, scaleIn=1, attributesIn={}):\n",
    "        assert isinstance(position, geopy.Point), 'Position must be a geopy Point' \n",
    "        assert isinstance(service, ServiceType), 'Service must belong to the Eum'\n",
    "        assert isinstance(name, str), 'Name must be a string'\n",
    "        \n",
    "        assert (np.isscalar(scaleIn)) & (scaleIn>0) , 'Scale must be a positive scalar'\n",
    "        assert isinstance(attributesIn, dict), 'Attributes can be provided in a dict'\n",
    "        \n",
    "        self.name = name\n",
    "        self.service = service\n",
    "        \n",
    "        # A ServiceType can have many sites, so each unit has its own. \n",
    "        # Moreover, a site is not uniquely assigned to a service\n",
    "        self.site = position\n",
    "        \n",
    "        self.scale = scaleIn # store scale info\n",
    "        self.attributes = attributesIn# dictionary\n",
    "        \n",
    "        # how the service availablity area varies for different age groups\n",
    "        if ageDiffusionIn==None:\n",
    "            self.ageDiffusion = {g: (1 + .005*np.round(np.random.normal(),2))*self.scale for g in AgeGroup.all()} \n",
    "        else:\n",
    "            assert set(ageDiffusionIn.keys()) <= set(AgeGroup.all()), 'Diffusion keys should be AgeGroups'\n",
    "            #assert all\n",
    "            self.ageDiffusion = ageDiffusionIn\n",
    "            \n",
    "        # define kernel taking scale into account\n",
    "        self.kernel = {g: gaussKern(length_scale=l*self.scale) for g, l in self.ageDiffusion.items()}\n",
    "        \n",
    "        \n",
    "    def evaluate(self, targetPositions, ageGroup):\n",
    "        assert all([isinstance(t, geopy.Point) for t in targetPositions]),'Geopy Points expected'\n",
    "        \n",
    "        # get distances\n",
    "        distances = np.zeros(shape=(len(targetPositions),1))\n",
    "        distances[:,0] = [geopy.distance.great_circle(x, self.site).km for x in targetPositions]\n",
    "        \n",
    "        # evaluate kernel to get level service score. If age group is not relevant to the service, return 0 as default\n",
    "        if self.kernel.__contains__(ageGroup):\n",
    "            score = self.kernel[ageGroup](distances, np.array([[0],]))\n",
    "            # check conversion from tuple to nparray\n",
    "            #targetPositions= np.array(targetPositions)\n",
    "            #score2 = self.kernel[ageGroup](targetPositions, reshapedPos)\n",
    "            #assert all(score-score2==0)\n",
    "        else:\n",
    "            score = np.zeros_like(targetPositions)\n",
    "        return np.squeeze(score)\n",
    "    \n",
    "    @property\n",
    "    def users(self): return list(self.propagation.keys())"
   ]
  },
  {
   "cell_type": "code",
   "execution_count": 5,
   "metadata": {
    "scrolled": true
   },
   "outputs": [],
   "source": [
    "### Supply modelling\n",
    "def evaluate_services_at(positions, unitsList, outputServices= [t for t in ServiceType]):\n",
    "    assert all([isinstance(t, geopy.Point) for t in positions]),'Geopy Points expected'\n",
    "    # set all age groups as output default\n",
    "    outputAgeGroups = AgeGroup.all()\n",
    "    # initialise output\n",
    "    outScores = {service: pd.DataFrame(np.zeros([len(positions), len(AgeGroup.all())]), \n",
    "                                 index=[tuple(t) for t in positions], columns=AgeGroup.all()) \n",
    "                 for service in outputServices}\n",
    "    # loop over different services\n",
    "    for thisServType in outputServices:\n",
    "        serviceUnits = [u for u in unitsList if u.service == thisServType]\n",
    "        if not serviceUnits:\n",
    "            continue\n",
    "        else:\n",
    "            for thisAgeGroup in outputAgeGroups:\n",
    "                unitValues = np.stack(list(map(lambda x: x.evaluate(positions, thisAgeGroup), serviceUnits)), axis=-1)\n",
    "                # aggregate unit contributions according to the service type norm\n",
    "                outScores[thisServType][thisAgeGroup] = thisServType.aggregate_units(unitValues)\n",
    "            \n",
    "    return outScores\n",
    "        "
   ]
  },
  {
   "cell_type": "code",
   "execution_count": 6,
   "metadata": {
    "scrolled": false
   },
   "outputs": [
    {
     "data": {
      "text/plain": [
       "{<ServiceType.PoliceStation: (2, <ServiceArea.PublicSafety: 2>, <function SummaryNorm.<lambda> at 0x7f3abe824598>)>:                           AgeGroup.Newborn  AgeGroup.ChildPrimary  \\\n",
       " (45.47922, 9.12771, 0.0)      9.680715e-07           9.248754e-07   \n",
       " (45.42492, 9.2677, 0.0)       1.212873e-06           1.252972e-06   \n",
       " (45.43049, 9.21085, 0.0)      7.444784e-01           7.450031e-01   \n",
       " (45.41904, 9.27348, 0.0)      5.944148e-08           6.185046e-08   \n",
       " \n",
       "                           AgeGroup.ChildMid  AgeGroup.ChildHigh  \\\n",
       " (45.47922, 9.12771, 0.0)       8.088207e-07        9.882940e-07   \n",
       " (45.42492, 9.2677, 0.0)        1.164358e-06        1.203029e-06   \n",
       " (45.43049, 9.21085, 0.0)       7.438204e-01        7.443470e-01   \n",
       " (45.41904, 9.27348, 0.0)       5.655040e-08        5.885273e-08   \n",
       " \n",
       "                           AgeGroup.Young  AgeGroup.Junior  AgeGroup.Senior  \\\n",
       " (45.47922, 9.12771, 0.0)    7.797157e-07     6.801834e-07     9.416824e-07   \n",
       " (45.42492, 9.2677, 0.0)     1.222789e-06     1.345730e-06     9.898587e-07   \n",
       " (45.43049, 9.21085, 0.0)    7.446097e-01     7.461564e-01     7.412090e-01   \n",
       " (45.41904, 9.27348, 0.0)    6.003558e-08     6.748788e-08     4.637803e-08   \n",
       " \n",
       "                           AgeGroup.Over50  AgeGroup.Over65  AgeGroup.Over80  \n",
       " (45.47922, 9.12771, 0.0)     8.122406e-07     8.424253e-07     7.504851e-07  \n",
       " (45.42492, 9.2677, 0.0)      1.203029e-06     1.461948e-06     1.259769e-06  \n",
       " (45.43049, 9.21085, 0.0)     7.443470e-01     7.474964e-01     7.450904e-01  \n",
       " (45.41904, 9.27348, 0.0)     5.885273e-08     7.467304e-08     6.226048e-08  ,\n",
       " <ServiceType.School: (1, <ServiceArea.Education: 1>, <function SummaryNorm.<lambda> at 0x7f3abe824598>)>:                           AgeGroup.Newborn  AgeGroup.ChildPrimary  \\\n",
       " (45.47922, 9.12771, 0.0)               0.0                    0.0   \n",
       " (45.42492, 9.2677, 0.0)                0.0                    0.0   \n",
       " (45.43049, 9.21085, 0.0)               0.0                    0.0   \n",
       " (45.41904, 9.27348, 0.0)               0.0                    0.0   \n",
       " \n",
       "                           AgeGroup.ChildMid  AgeGroup.ChildHigh  \\\n",
       " (45.47922, 9.12771, 0.0)                0.0                 0.0   \n",
       " (45.42492, 9.2677, 0.0)                 0.0                 0.0   \n",
       " (45.43049, 9.21085, 0.0)                0.0                 0.0   \n",
       " (45.41904, 9.27348, 0.0)                0.0                 0.0   \n",
       " \n",
       "                           AgeGroup.Young  AgeGroup.Junior  AgeGroup.Senior  \\\n",
       " (45.47922, 9.12771, 0.0)             0.0              0.0              0.0   \n",
       " (45.42492, 9.2677, 0.0)              0.0              0.0              0.0   \n",
       " (45.43049, 9.21085, 0.0)             0.0              0.0              0.0   \n",
       " (45.41904, 9.27348, 0.0)             0.0              0.0              0.0   \n",
       " \n",
       "                           AgeGroup.Over50  AgeGroup.Over65  AgeGroup.Over80  \n",
       " (45.47922, 9.12771, 0.0)              0.0              0.0              0.0  \n",
       " (45.42492, 9.2677, 0.0)               0.0              0.0              0.0  \n",
       " (45.43049, 9.21085, 0.0)              0.0              0.0              0.0  \n",
       " (45.41904, 9.27348, 0.0)              0.0              0.0              0.0  ,\n",
       " <ServiceType.SocialSupport: (2, <ServiceArea.Health: 3>, <function SummaryNorm.<lambda> at 0x7f3abe824598>)>:                           AgeGroup.Newborn  AgeGroup.ChildPrimary  \\\n",
       " (45.47922, 9.12771, 0.0)               0.0                    0.0   \n",
       " (45.42492, 9.2677, 0.0)                0.0                    0.0   \n",
       " (45.43049, 9.21085, 0.0)               0.0                    0.0   \n",
       " (45.41904, 9.27348, 0.0)               0.0                    0.0   \n",
       " \n",
       "                           AgeGroup.ChildMid  AgeGroup.ChildHigh  \\\n",
       " (45.47922, 9.12771, 0.0)                0.0                 0.0   \n",
       " (45.42492, 9.2677, 0.0)                 0.0                 0.0   \n",
       " (45.43049, 9.21085, 0.0)                0.0                 0.0   \n",
       " (45.41904, 9.27348, 0.0)                0.0                 0.0   \n",
       " \n",
       "                           AgeGroup.Young  AgeGroup.Junior  AgeGroup.Senior  \\\n",
       " (45.47922, 9.12771, 0.0)             0.0              0.0              0.0   \n",
       " (45.42492, 9.2677, 0.0)              0.0              0.0              0.0   \n",
       " (45.43049, 9.21085, 0.0)             0.0              0.0              0.0   \n",
       " (45.41904, 9.27348, 0.0)             0.0              0.0              0.0   \n",
       " \n",
       "                           AgeGroup.Over50  AgeGroup.Over65  AgeGroup.Over80  \n",
       " (45.47922, 9.12771, 0.0)              0.0              0.0              0.0  \n",
       " (45.42492, 9.2677, 0.0)               0.0              0.0              0.0  \n",
       " (45.43049, 9.21085, 0.0)              0.0              0.0              0.0  \n",
       " (45.41904, 9.27348, 0.0)              0.0              0.0              0.0  }"
      ]
     },
     "execution_count": 6,
     "metadata": {},
     "output_type": "execute_result"
    }
   ],
   "source": [
    "test = [ServiceUnit(ServiceType.PoliceStation, 'Duomo', ageDiffusionIn=None), \n",
    "        ServiceUnit(ServiceType.PoliceStation, 'Ripamonti', \n",
    "                    position=geopy.Point(45.43, 9.201), ageDiffusionIn=None)]\n",
    "evaluate_services_at(get_random_pos(4), test)\n"
   ]
  },
  {
   "cell_type": "code",
   "execution_count": 7,
   "metadata": {},
   "outputs": [],
   "source": [
    "class UnitFactory:\n",
    "    def __init__(self, path):\n",
    "        assert os.path.isfile(path), 'File \"%s\" not found' % path\n",
    "        self.filepath = path\n",
    "        self.rawData = []\n",
    "        \n",
    "    def load(self):\n",
    "        self.rawData = pd.read_csv(self.filepath, sep=';', decimal=',')\n",
    "        self.nUnits = self.rawData.shape[0]\n",
    "        defaultLocationColumns = ['Lat', 'Long']\n",
    "        if set(defaultLocationColumns).issubset(set(self.rawData.columns)):\n",
    "            print('Location data found')\n",
    "            # store geolocations as geopy Point\n",
    "            locations = [geopy.Point(self.rawData.loc[i, defaultLocationColumns]) for i in range(self.nUnits)]\n",
    "            propertData = self.rawData.drop(defaultLocationColumns, axis=1)\n",
    "        else:\n",
    "            propertData = self.rawData\n",
    "            locations = []\n",
    "            \n",
    "        return propertData, locations\n",
    "\n",
    "    @staticmethod\n",
    "    def createLoader(serviceType, path):\n",
    "        if serviceType == ServiceType.School:\n",
    "            return SchoolFactory(path)"
   ]
  },
  {
   "cell_type": "code",
   "execution_count": 8,
   "metadata": {
    "scrolled": true
   },
   "outputs": [],
   "source": [
    "class SchoolFactory(UnitFactory):\n",
    "    \n",
    "    def __init__(self, path):\n",
    "        super().__init__(path)\n",
    "        \n",
    "    def load(self, meanRadius):\n",
    "        \n",
    "        assert meanRadius, 'Please provide a reference radius for the mean school size'\n",
    "        (propertData, locations) = super().load()\n",
    "        \n",
    "        nameCol = 'DENOMINAZIONESCUOLA'\n",
    "        typeCol = 'ORDINESCUOLA'\n",
    "        scaleCol = 'ALUNNI'\n",
    "        \n",
    "        typeAgeDict = {'SCUOLA PRIMARIA': {AgeGroup.ChildPrimary:1},\n",
    "                      'SCUOLA SECONDARIA I GRADO': {AgeGroup.ChildMid:1},\n",
    "                      'SCUOLA SECONDARIA II GRADO': {AgeGroup.ChildHigh:1},}\n",
    "        \n",
    "        schoolTypes = propertData[typeCol].unique()\n",
    "        assert set(schoolTypes) <= set(typeAgeDict.keys()), 'Unrecognized types in input'\n",
    "        \n",
    "        # set the scale to be proportional to the square root of number of children\n",
    "        scaleData = propertData[scaleCol]**.5\n",
    "        scaleData = scaleData/scaleData.mean() * meanRadius #mean value is mapped to input parameter\n",
    "        propertData[scaleCol] = scaleData \n",
    "        unitList = []\n",
    "                \n",
    "        for scType in schoolTypes:\n",
    "            bThisGroup = propertData[typeCol]==scType\n",
    "            typeData = propertData[bThisGroup]\n",
    "            typeLocations = [l for i,l in enumerate(locations) if bThisGroup[i]]\n",
    "\n",
    "            for iUnit in range(typeData.shape[0]):\n",
    "                rowData = typeData.iloc[iUnit,:]\n",
    "                attrDict = {'level':scType}\n",
    "                thisUnit = ServiceUnit(ServiceType.School, \n",
    "                        name=rowData[nameCol], \n",
    "                        position=typeLocations[iUnit], \n",
    "                        ageDiffusionIn=typeAgeDict[scType], \n",
    "                        scaleIn=rowData[scaleCol],\n",
    "                        attributesIn=attrDict)\n",
    "                unitList.append(thisUnit)\n",
    "        \n",
    "        return unitList"
   ]
  },
  {
   "cell_type": "code",
   "execution_count": 9,
   "metadata": {
    "scrolled": true
   },
   "outputs": [
    {
     "name": "stdout",
     "output_type": "stream",
     "text": [
      "Location data found\n"
     ]
    }
   ],
   "source": [
    "## Load scuole!\n",
    "scuoleFile =  'final/milano_datiScuole.csv'\n",
    "schoolLoader = UnitFactory.createLoader(ServiceType.School, scuoleFile)\n",
    "schoolUnits = schoolLoader.load(0.5)"
   ]
  },
  {
   "cell_type": "code",
   "execution_count": 45,
   "metadata": {},
   "outputs": [],
   "source": [
    "## Aggregation\n",
    "class UnitAggregator:\n",
    "    '''\n",
    "    A class to evaluate services on a grid and get average values for given land subdivisions\n",
    "    '''\n",
    "    \n",
    "    def __init__(self, unitList, cityGeoFilesDict, gridStep=0.1): #gridStep in km\n",
    "        assert isinstance(unitList, list), 'List expected'\n",
    "        assert all([isinstance(t, ServiceUnit) for t in unitList]), 'ServiceUnits expected in list'\n",
    "        self.units = unitList\n",
    "        self.quartiereKey = 'quartieri' #hardcoded\n",
    "        self.IDquartiereCol = 'ID_NIL'\n",
    "        \n",
    "        gridSize = 30\n",
    "        \n",
    "        # initialise values on grid\n",
    "        self.serviceValues = {}\n",
    "        \n",
    "        # load division geofiles with geopandas\n",
    "        self.subdivisions = {}\n",
    "        for name, fileName in cityGeoFilesDict.items():\n",
    "            self.subdivisions[name] = gpd.read_file(fileName)\n",
    "            \n",
    "        # compute city boundary\n",
    "        self.cityBoundary = shapely.ops.cascaded_union(self.subdivisions[self.quartiereKey]['geometry'])\n",
    "        \n",
    "        # precompute coordinate ranges\n",
    "        self.latRange = (self.cityBoundary.bounds[0], self.cityBoundary.bounds[2])\n",
    "        self.longRange = (self.cityBoundary.bounds[1], self.cityBoundary.bounds[3])\n",
    "        \n",
    "        # precompute plotting grid\n",
    "        (self.xPlot, self.yPlot) = np.meshgrid(np.linspace(*self.longRange, gridSize),\n",
    "                                               np.linspace(*self.latRange, gridSize),\n",
    "                                        indexing='ij')\n",
    "        \n",
    "        # construct point objects with same shape\n",
    "        self.plotPoints = np.empty_like(self.xPlot, dtype=object)\n",
    "        self.bInPerimeter = np.empty_like(self.xPlot, dtype=bool)\n",
    "        self.IDquartiere = -1*np.ones_like(self.xPlot)\n",
    "        \n",
    "        for (i,j),_ in np.ndenumerate(self.plotPoints):\n",
    "            self.plotPoints[i,j] = geopy.Point(self.yPlot[i,j], self.xPlot[i,j]) # (lat, long) format\n",
    "            shplyPoint = make_shapely_point(self.plotPoints[i,j])\n",
    "            # mark points outside boundaries\n",
    "            self.bInPerimeter[i,j] = self.cityBoundary.contains(shplyPoint)\n",
    "            if self.bInPerimeter[i,j]:\n",
    "                bFound = False\n",
    "                for iRow in range(self.subdivisions[self.quartiereKey].shape[0]):\n",
    "                    thisQuartierePolygon = self.subdivisions[self.quartiereKey]['geometry'][iRow]\n",
    "                    if thisQuartierePolygon.contains(shplyPoint):\n",
    "                        # assign found ID\n",
    "                        self.IDquartiere[i,j] = self.subdivisions[\n",
    "                            self.quartiereKey][self.IDquartiereCol][iRow]\n",
    "                        bFound = True\n",
    "                        break # skip remanining zones\n",
    "                assert bFound, 'Point within city boundary was not assigned to any zone'\n",
    "        \n",
    "    \n",
    "    @property\n",
    "    def longitude(self):\n",
    "        return [unit.site.longitude for unit in self.units]\n",
    "    @property\n",
    "    def latitude(self):\n",
    "        return [unit.site.latitude for unit in self.units]\n",
    "    @property\n",
    "    def scale(self):\n",
    "        scales = [unit.scale for unit in self.units]\n",
    "        return scales\n",
    "    \n",
    "    def compute_service_levels(self, servType):\n",
    "        '''\n",
    "        Evaluates on a grid the aggregate service level for the loaded ServiceUnits of a selected type.\n",
    "        '''\n",
    "        assert isinstance(servType, ServiceType), 'ServiceType expected in input'\n",
    "        \n",
    "        # extend internal cache with computed values\n",
    "        self.serviceValues[servType] = evaluate_services_at(\n",
    "            self.plotPoints.reshape(-1), self.units, [servType])[servType]\n",
    "        return None\n",
    "    \n",
    "    @property\n",
    "    def aggregate_values(self):\n",
    "        \n",
    "        assert self.serviceValues, 'Empty values on grid found, compute first please!'\n",
    "        quartieri = self.subdivisions[self.quartiereKey][self.IDquartiereCol]\n",
    "        # initialize\n",
    "        out = {service: pd.DataFrame(np.zeros([len(quartieri), len(AgeGroup.all())]), \n",
    "                                 index=quartieri.values, columns=AgeGroup.all()) \n",
    "                 for service in self.serviceValues.keys()}\n",
    "  \n",
    "        for iRow in range(self.subdivisions[self.quartiereKey].shape[0]):\n",
    "            thisQuartiere = self.subdivisions[self.quartiereKey].loc[iRow, self.IDquartiereCol]\n",
    "            bThisQuartiere = self.IDquartiere == thisQuartiere\n",
    "            # loop over service types\n",
    "            for servType in self.serviceValues.keys():\n",
    "                for ageGroup, valuesSeries in self.serviceValues[servType].items(): \n",
    "                    meanValue = np.vectorize(lambda p: np.mean(valuesSeries[tuple(p)]))(\n",
    "                        self.plotPoints[bThisQuartiere])\n",
    "                    out[servType].loc[thisQuartiere, ageGroup] = meanValue\n",
    "                    \n",
    "        return out"
   ]
  },
  {
   "cell_type": "code",
   "execution_count": 49,
   "metadata": {},
   "outputs": [],
   "source": [
    "test = UnitAggregator(schoolUnits, {'quartieri':'data/milanoNIL.geojson'})\n",
    "test.compute_service_levels(ServiceType.School)"
   ]
  },
  {
   "cell_type": "code",
   "execution_count": 50,
   "metadata": {},
   "outputs": [
    {
     "ename": "ValueError",
     "evalue": "cannot call `vectorize` on size 0 inputs unless `otypes` is set",
     "output_type": "error",
     "traceback": [
      "\u001b[0;31m---------------------------------------------------------------------------\u001b[0m",
      "\u001b[0;31mValueError\u001b[0m                                Traceback (most recent call last)",
      "\u001b[0;32m<ipython-input-50-6a2caff71f2c>\u001b[0m in \u001b[0;36m<module>\u001b[0;34m()\u001b[0m\n\u001b[0;32m----> 1\u001b[0;31m \u001b[0mtest\u001b[0m\u001b[0;34m.\u001b[0m\u001b[0maggregate_values\u001b[0m\u001b[0;34m\u001b[0m\u001b[0m\n\u001b[0m",
      "\u001b[0;32m<ipython-input-45-326d67acc032>\u001b[0m in \u001b[0;36maggregate_values\u001b[0;34m(self)\u001b[0m\n\u001b[1;32m     96\u001b[0m                 \u001b[0;32mfor\u001b[0m \u001b[0mageGroup\u001b[0m\u001b[0;34m,\u001b[0m \u001b[0mvaluesSeries\u001b[0m \u001b[0;32min\u001b[0m \u001b[0mself\u001b[0m\u001b[0;34m.\u001b[0m\u001b[0mserviceValues\u001b[0m\u001b[0;34m[\u001b[0m\u001b[0mservType\u001b[0m\u001b[0;34m]\u001b[0m\u001b[0;34m.\u001b[0m\u001b[0mitems\u001b[0m\u001b[0;34m(\u001b[0m\u001b[0;34m)\u001b[0m\u001b[0;34m:\u001b[0m\u001b[0;34m\u001b[0m\u001b[0m\n\u001b[1;32m     97\u001b[0m                     meanValue = np.vectorize(lambda p: np.mean(valuesSeries[tuple(p)]))(\n\u001b[0;32m---> 98\u001b[0;31m                         self.plotPoints[bThisQuartiere])\n\u001b[0m\u001b[1;32m     99\u001b[0m                     \u001b[0mout\u001b[0m\u001b[0;34m[\u001b[0m\u001b[0mservType\u001b[0m\u001b[0;34m]\u001b[0m\u001b[0;34m.\u001b[0m\u001b[0mloc\u001b[0m\u001b[0;34m[\u001b[0m\u001b[0mthisQuartiere\u001b[0m\u001b[0;34m,\u001b[0m \u001b[0mageGroup\u001b[0m\u001b[0;34m]\u001b[0m \u001b[0;34m=\u001b[0m \u001b[0mmeanValue\u001b[0m\u001b[0;34m\u001b[0m\u001b[0m\n\u001b[1;32m    100\u001b[0m \u001b[0;34m\u001b[0m\u001b[0m\n",
      "\u001b[0;32m~/anaconda3/envs/daf/lib/python3.5/site-packages/numpy/lib/function_base.py\u001b[0m in \u001b[0;36m__call__\u001b[0;34m(self, *args, **kwargs)\u001b[0m\n\u001b[1;32m   2753\u001b[0m             \u001b[0mvargs\u001b[0m\u001b[0;34m.\u001b[0m\u001b[0mextend\u001b[0m\u001b[0;34m(\u001b[0m\u001b[0;34m[\u001b[0m\u001b[0mkwargs\u001b[0m\u001b[0;34m[\u001b[0m\u001b[0m_n\u001b[0m\u001b[0;34m]\u001b[0m \u001b[0;32mfor\u001b[0m \u001b[0m_n\u001b[0m \u001b[0;32min\u001b[0m \u001b[0mnames\u001b[0m\u001b[0;34m]\u001b[0m\u001b[0;34m)\u001b[0m\u001b[0;34m\u001b[0m\u001b[0m\n\u001b[1;32m   2754\u001b[0m \u001b[0;34m\u001b[0m\u001b[0m\n\u001b[0;32m-> 2755\u001b[0;31m         \u001b[0;32mreturn\u001b[0m \u001b[0mself\u001b[0m\u001b[0;34m.\u001b[0m\u001b[0m_vectorize_call\u001b[0m\u001b[0;34m(\u001b[0m\u001b[0mfunc\u001b[0m\u001b[0;34m=\u001b[0m\u001b[0mfunc\u001b[0m\u001b[0;34m,\u001b[0m \u001b[0margs\u001b[0m\u001b[0;34m=\u001b[0m\u001b[0mvargs\u001b[0m\u001b[0;34m)\u001b[0m\u001b[0;34m\u001b[0m\u001b[0m\n\u001b[0m\u001b[1;32m   2756\u001b[0m \u001b[0;34m\u001b[0m\u001b[0m\n\u001b[1;32m   2757\u001b[0m     \u001b[0;32mdef\u001b[0m \u001b[0m_get_ufunc_and_otypes\u001b[0m\u001b[0;34m(\u001b[0m\u001b[0mself\u001b[0m\u001b[0;34m,\u001b[0m \u001b[0mfunc\u001b[0m\u001b[0;34m,\u001b[0m \u001b[0margs\u001b[0m\u001b[0;34m)\u001b[0m\u001b[0;34m:\u001b[0m\u001b[0;34m\u001b[0m\u001b[0m\n",
      "\u001b[0;32m~/anaconda3/envs/daf/lib/python3.5/site-packages/numpy/lib/function_base.py\u001b[0m in \u001b[0;36m_vectorize_call\u001b[0;34m(self, func, args)\u001b[0m\n\u001b[1;32m   2823\u001b[0m             \u001b[0mres\u001b[0m \u001b[0;34m=\u001b[0m \u001b[0mfunc\u001b[0m\u001b[0;34m(\u001b[0m\u001b[0;34m)\u001b[0m\u001b[0;34m\u001b[0m\u001b[0m\n\u001b[1;32m   2824\u001b[0m         \u001b[0;32melse\u001b[0m\u001b[0;34m:\u001b[0m\u001b[0;34m\u001b[0m\u001b[0m\n\u001b[0;32m-> 2825\u001b[0;31m             \u001b[0mufunc\u001b[0m\u001b[0;34m,\u001b[0m \u001b[0motypes\u001b[0m \u001b[0;34m=\u001b[0m \u001b[0mself\u001b[0m\u001b[0;34m.\u001b[0m\u001b[0m_get_ufunc_and_otypes\u001b[0m\u001b[0;34m(\u001b[0m\u001b[0mfunc\u001b[0m\u001b[0;34m=\u001b[0m\u001b[0mfunc\u001b[0m\u001b[0;34m,\u001b[0m \u001b[0margs\u001b[0m\u001b[0;34m=\u001b[0m\u001b[0margs\u001b[0m\u001b[0;34m)\u001b[0m\u001b[0;34m\u001b[0m\u001b[0m\n\u001b[0m\u001b[1;32m   2826\u001b[0m \u001b[0;34m\u001b[0m\u001b[0m\n\u001b[1;32m   2827\u001b[0m             \u001b[0;31m# Convert args to object arrays first\u001b[0m\u001b[0;34m\u001b[0m\u001b[0;34m\u001b[0m\u001b[0m\n",
      "\u001b[0;32m~/anaconda3/envs/daf/lib/python3.5/site-packages/numpy/lib/function_base.py\u001b[0m in \u001b[0;36m_get_ufunc_and_otypes\u001b[0;34m(self, func, args)\u001b[0m\n\u001b[1;32m   2779\u001b[0m             \u001b[0margs\u001b[0m \u001b[0;34m=\u001b[0m \u001b[0;34m[\u001b[0m\u001b[0masarray\u001b[0m\u001b[0;34m(\u001b[0m\u001b[0marg\u001b[0m\u001b[0;34m)\u001b[0m \u001b[0;32mfor\u001b[0m \u001b[0marg\u001b[0m \u001b[0;32min\u001b[0m \u001b[0margs\u001b[0m\u001b[0;34m]\u001b[0m\u001b[0;34m\u001b[0m\u001b[0m\n\u001b[1;32m   2780\u001b[0m             \u001b[0;32mif\u001b[0m \u001b[0mbuiltins\u001b[0m\u001b[0;34m.\u001b[0m\u001b[0many\u001b[0m\u001b[0;34m(\u001b[0m\u001b[0marg\u001b[0m\u001b[0;34m.\u001b[0m\u001b[0msize\u001b[0m \u001b[0;34m==\u001b[0m \u001b[0;36m0\u001b[0m \u001b[0;32mfor\u001b[0m \u001b[0marg\u001b[0m \u001b[0;32min\u001b[0m \u001b[0margs\u001b[0m\u001b[0;34m)\u001b[0m\u001b[0;34m:\u001b[0m\u001b[0;34m\u001b[0m\u001b[0m\n\u001b[0;32m-> 2781\u001b[0;31m                 raise ValueError('cannot call `vectorize` on size 0 inputs '\n\u001b[0m\u001b[1;32m   2782\u001b[0m                                  'unless `otypes` is set')\n\u001b[1;32m   2783\u001b[0m \u001b[0;34m\u001b[0m\u001b[0m\n",
      "\u001b[0;31mValueError\u001b[0m: cannot call `vectorize` on size 0 inputs unless `otypes` is set"
     ]
    }
   ],
   "source": [
    "test.aggregate_values"
   ]
  },
  {
   "cell_type": "code",
   "execution_count": null,
   "metadata": {},
   "outputs": [],
   "source": [
    "nil = gpd.read_file('data/milanoNIL.geojson')\n",
    "#xx = nil['geometry'][0]\n",
    "#shapely..union(nil['geometry'][1])\n",
    "zz = shapely.ops.cascaded_union(nil['geometry'])\n",
    "zz.bounds"
   ]
  },
  {
   "cell_type": "code",
   "execution_count": null,
   "metadata": {},
   "outputs": [],
   "source": [
    "nil"
   ]
  },
  {
   "cell_type": "code",
   "execution_count": null,
   "metadata": {},
   "outputs": [],
   "source": [
    "nil = gpd.read_file('data/milanoNIL.geojson')\n",
    "#xx = nil['geometry'][0]\n",
    "#shapely..union(nil['geometry'][1])\n",
    "cityBounds = shapely.ops.cascaded_union(nil['geometry'])\n",
    "IDquartiereCol = 'ID_NIL'\n",
    "\n",
    "gridSize = 40\n",
    "\n",
    "# precompute coordinate ranges\n",
    "latRange = (cityBounds.bounds[0], cityBounds.bounds[2])\n",
    "longRange = (cityBounds.bounds[1], cityBounds.bounds[3])\n",
    "        \n",
    "# precompute plotting grid\n",
    "(xPlot, yPlot) = np.meshgrid(np.linspace(*longRange, gridSize),\n",
    "                                               np.linspace(*latRange, gridSize),\n",
    "                                        indexing='ij')\n",
    "\n",
    "plotPoints = np.empty_like(xPlot, dtype=object)\n",
    "bInPerimeter = np.empty_like(xPlot, dtype=bool)\n",
    "quartiereID = -1*np.ones_like(xPlot) # initialize to -1\n",
    "\n",
    "for (i,j),_ in np.ndenumerate(plotPoints):\n",
    "            plotPoints[i,j] = geopy.Point(yPlot[i,j], xPlot[i,j]) # (lat, long) format\n",
    "            # mark points outside boundaries\n",
    "            shplyPoint = make_shapely_point(plotPoints[i,j])\n",
    "            bInPerimeter[i,j] = cityBounds.contains(shplyPoint)\n",
    "            if bInPerimeter[i,j]:\n",
    "                bFound = False\n",
    "                for iRow in range(nil.shape[0]):\n",
    "                    if nil['geometry'][iRow].contains(shplyPoint):\n",
    "                        # assign found ID\n",
    "                        quartiereID[i,j] = nil[IDquartiereCol][iRow]\n",
    "                        bFound = True\n",
    "                        break # skip remanining zones\n",
    "                assert bFound, 'Point within city boundary was not assigned to any zone'\n",
    "        \n",
    "# mark points outside boundaries\n",
    "#tt = plotPoints[0,0]\n",
    "#bInPerimeter = zz.contains(shapely.geometry.Point(plotPoints[0,0].longitude, plotPoints[0,0].latitude))\n",
    "\n",
    "\n",
    "ww = [cityBounds.contains(make_shapely_point(p)) for p in plotPoints.flat]\n",
    "bInBoundary = np.array(ww).reshape(xPlot.shape)\n",
    "#make_shapely_point = lambda geoPoint: shapely.geometry.Point(tuple(geoPoint))\n",
    "#zz.y\n"
   ]
  },
  {
   "cell_type": "code",
   "execution_count": null,
   "metadata": {},
   "outputs": [],
   "source": [
    "bInBoundary = np.array(ww).reshape(xPlot.shape)\n",
    "bInBoundary.mean()\n",
    "\n",
    "plt.scatter(xPlot[bInBoundary], yPlot[bInBoundary], s=quartiereID[bInBoundary])\n",
    "plt.show()"
   ]
  },
  {
   "cell_type": "code",
   "execution_count": null,
   "metadata": {},
   "outputs": [],
   "source": [
    "## Plot tools\n",
    "class unitPlotter:\n",
    "    '''\n",
    "    A class that plots various types of output from a list of ServiceUnits\n",
    "    '''\n",
    "    def __init__(self, unitList, gridSize=40):\n",
    "        assert isinstance(unitList, list), 'List expected'\n",
    "        assert all([isinstance(t, ServiceUnit) for t in unitList]), 'ServiceUnits expected in list'\n",
    "        self.units = unitList\n",
    "        self.gridSize = gridSize\n",
    "        # precompute coordinate ranges\n",
    "        self.latRange = (min(self.latitude), max(self.latitude))\n",
    "        self.longRange = (min(self.longitude), max(self.longitude))\n",
    "        \n",
    "        # precompute plotting grid\n",
    "        (self.xPlot, self.yPlot) = np.meshgrid(np.linspace(*self.longRange, gridSize),\n",
    "                                               np.linspace(*self.latRange, gridSize),\n",
    "                                        indexing='ij')\n",
    "        # construct point objects with same shape\n",
    "        self.plotPoints = np.empty_like(self.xPlot, dtype=object)\n",
    "        for (i,j),_ in np.ndenumerate(self.plotPoints):\n",
    "            self.plotPoints[i,j] = geopy.Point(self.yPlot[i,j], self.xPlot[i,j]) # (lat, long) format\n",
    "        \n",
    "        self.serviceValues = {}\n",
    "    \n",
    "    @property\n",
    "    def longitude(self):\n",
    "        return [unit.site.longitude for unit in self.units]\n",
    "    @property\n",
    "    def latitude(self):\n",
    "        return [unit.site.latitude for unit in self.units]\n",
    "    @property\n",
    "    def scale(self):\n",
    "        scales = [unit.scale for unit in self.units]\n",
    "        return scales\n",
    "    \n",
    "    \n",
    "    def plot_locations(self):\n",
    "        '''\n",
    "        Plots the loaded ServiceUnits according to their locations and rescaling the relative sizes\n",
    "        '''\n",
    "        plotScales = self.scale/np.mean(self.scale)\n",
    "        plt.figure()\n",
    "        plt.scatter(self.latitude, self.longitude, s=plotScales)\n",
    "        plt.axis('equal')\n",
    "        plt.show()\n",
    "        \n",
    "    def compute_service_levels(self, servType):\n",
    "        '''\n",
    "        Evaluates on a grid the aggregate service level for the loaded ServiceUnits of a selected type.\n",
    "        '''\n",
    "        assert isinstance(servType, ServiceType), 'ServiceType expected in input'\n",
    "        \n",
    "        # extend internal cache with computed values\n",
    "        self.serviceValues[servType] = evaluate_services_at(\n",
    "            self.plotPoints.reshape(-1), self.units, [servType])[servType]\n",
    "        return None\n",
    "        \n",
    "    def plot_service_levels(self, servType):\n",
    "        '''\n",
    "        Plots a contour graph of the results for each ageGroup.\n",
    "        '''\n",
    "        assert isinstance(servType, ServiceType), 'ServiceType expected in input'\n",
    "        for ageGroup, valuesSeries in self.serviceValues[servType].items():\n",
    "            valuesArray = np.vectorize(lambda p: valuesSeries[tuple(p)])(self.plotPoints)\n",
    "            plt.figure()\n",
    "            plt.title(ageGroup)\n",
    "            CS = plt.contourf(self.xPlot, self.yPlot, valuesArray)\n",
    "            cbar = plt.colorbar(CS)\n",
    "            cbar.ax.set_ylabel('Service level')\n",
    "            plt.show()\n",
    "            \n",
    "        return None"
   ]
  },
  {
   "cell_type": "code",
   "execution_count": null,
   "metadata": {},
   "outputs": [],
   "source": [
    "plotter = unitPlotter(schoolUnits, gridSize=40)\n",
    "plotter.compute_service_levels(ServiceType.School)\n",
    "\n",
    "plotterLight = unitPlotter(schoolUnits, gridSize=16)\n",
    "plotterLight.compute_service_levels(ServiceType.School)"
   ]
  },
  {
   "cell_type": "code",
   "execution_count": null,
   "metadata": {},
   "outputs": [],
   "source": [
    "sns.distplot(plotter.scale,50)"
   ]
  },
  {
   "cell_type": "code",
   "execution_count": null,
   "metadata": {
    "scrolled": false
   },
   "outputs": [],
   "source": [
    "plotter.plot_service_levels(ServiceType.School)"
   ]
  },
  {
   "cell_type": "code",
   "execution_count": null,
   "metadata": {},
   "outputs": [],
   "source": [
    "import geopandas as gpd\n"
   ]
  },
  {
   "cell_type": "code",
   "execution_count": null,
   "metadata": {
    "scrolled": true
   },
   "outputs": [],
   "source": [
    "class zoneIntegrator:\n",
    "\n",
    "    def __init__(self, unitList, divisionFilesDict):\n",
    "        assert isinstance(unitList, list), 'List expected'\n",
    "        assert all([isinstance(t, ServiceUnit) for t in unitList]), 'ServiceUnits expected in list'\n",
    "        self.units = unitList\n",
    "        \n",
    "        # load division geofiles with geopandas\n",
    "        self.divisions = {}\n",
    "        for name, fileName in divisionFilesDict.items():\n",
    "            self.divisions[name] = gpd.read_file(fileName)\n",
    "        \n",
    "    def compute_means(self):\n",
    "        quartiereKey = 'quartieri'\n",
    "        for iRow in range(self.divisions[quartiereKey].shape[0]):\n",
    "            thisPolygon = self.divisions[quartiereKey].loc[iRow, 'geometry']\n",
    "            gridPoints = np.random.uniform(thisPolygon.bounds)\n",
    "            print(thisPolygon)\n"
   ]
  },
  {
   "cell_type": "code",
   "execution_count": null,
   "metadata": {},
   "outputs": [],
   "source": [
    "from shapely.geometry import Point\n",
    "def grid_points_within(poly, nGrid=100:\n",
    "    min_x, min_y, max_x, max_y = poly.bounds\n",
    "    \n",
    "    while len(points) < num_points:\n",
    "        random_point = Point([np.random.uniform(min_x, max_x), np.random.uniform(min_y, max_y)])\n",
    "        if (random_point.within(poly)):\n",
    "            points.append(random_point)\n",
    "\n",
    "    return points"
   ]
  },
  {
   "cell_type": "code",
   "execution_count": null,
   "metadata": {},
   "outputs": [],
   "source": [
    "thisPolygon = zint.divisions['quartieri'].loc[0, 'geometry']\n",
    "testPoints = random_points_within(thisPolygon,2)\n",
    "\n",
    "xx =  random_points_within(thisPolygon,20)\n",
    "for t in xx:\n",
    "    plt.plot(t)\n",
    "plt.plot(thisPolygon)\n",
    "plt.show()\n",
    "#[geopy.Point(p.y, p.x) for p in xx]\n",
    "#xx"
   ]
  },
  {
   "cell_type": "code",
   "execution_count": null,
   "metadata": {},
   "outputs": [],
   "source": [
    "zint = zoneIntegrator(schoolUnits, {'quartieri':'data/milanoNIL.geojson'})\n",
    "#zint.divisions['quartieri'].plot()\n",
    "zint.compute_means()\n"
   ]
  },
  {
   "cell_type": "code",
   "execution_count": null,
   "metadata": {},
   "outputs": [],
   "source": [
    "zz = zint.divisions['quartieri']\n",
    "zz"
   ]
  },
  {
   "cell_type": "markdown",
   "metadata": {},
   "source": [
    "## Demand modelling"
   ]
  },
  {
   "cell_type": "code",
   "execution_count": null,
   "metadata": {},
   "outputs": [],
   "source": [
    "polySample = zz['geometry'][86]\n",
    "ww = np.asarray(polySample.exterior.coords)"
   ]
  },
  {
   "cell_type": "code",
   "execution_count": null,
   "metadata": {
    "scrolled": true
   },
   "outputs": [],
   "source": [
    "### Demand modelling\n",
    "class Household:\n",
    "    def __init__(self, position=None, membersInput=None):\n",
    "        # make defaults\n",
    "        if not position: position = get_random_pos(1)\n",
    "        if not membersInput: membersInput = {a: 1 for a in AgeGroup.all()}\n",
    "        # expand input to all age group keys\n",
    "        self.members = {a: membersInput.get(a, 0) for a in AgeGroup.all()}\n",
    "        self.position = position\n",
    "        self.export = pd.DataFrame(self.members, index=([self.position])) # precompute for speed\n",
    "\n",
    "def evaluate_demand(householdList, outputServices= [t for t in ServiceType]):\n",
    "    \"\"\" \"\"\"\n",
    "    # initialise output\n",
    "    outDemand = dict()\n",
    "    # consolidate positions. If two households share the same position, sum components.\n",
    "    householdData = pd.concat([h.export for h in householdList])\n",
    "    householdData['position'] = householdData.index \n",
    "    consolidated = householdData.groupby('position').sum()\n",
    "    \n",
    "    for thisServType in outputServices:\n",
    "        outDemand[thisServType] = consolidated*thisServType.demandFactors\n",
    "        \n",
    "    return outDemand"
   ]
  },
  {
   "cell_type": "code",
   "execution_count": null,
   "metadata": {
    "scrolled": false
   },
   "outputs": [],
   "source": [
    "hhList =  [Household() for i in range(40)]\n",
    "evaluate_demand(hhList)"
   ]
  },
  {
   "cell_type": "code",
   "execution_count": null,
   "metadata": {
    "scrolled": true
   },
   "outputs": [],
   "source": [
    "## Matching demand and supply\n",
    "def get_satisfaction_indexes(householdList)"
   ]
  }
 ],
 "metadata": {
  "kernelspec": {
   "display_name": "Python 3",
   "language": "python",
   "name": "python3"
  },
  "language_info": {
   "codemirror_mode": {
    "name": "ipython",
    "version": 3
   },
   "file_extension": ".py",
   "mimetype": "text/x-python",
   "name": "python",
   "nbconvert_exporter": "python",
   "pygments_lexer": "ipython3",
   "version": "3.5.4"
  }
 },
 "nbformat": 4,
 "nbformat_minor": 2
}
