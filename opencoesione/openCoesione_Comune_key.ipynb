{
 "cells": [
  {
   "cell_type": "markdown",
   "metadata": {},
   "source": [
    "\n",
    "## Work in progress - openCoesione with Comune as key "
   ]
  },
  {
   "cell_type": "code",
   "execution_count": null,
   "metadata": {
    "scrolled": true
   },
   "outputs": [],
   "source": [
    "## Runs with \"daf\" enviroment in repo\n",
    "\n",
    "%config Completer.use_jedi = False #fix TAB slowness with big frames\n",
    "\n",
    "import numpy as np\n",
    "import pandas as pd\n",
    "import seaborn as sns\n",
    "import glob\n",
    "import gc #garbage collector\n",
    "from matplotlib import pyplot as plt\n",
    "plt.rcParams[\"figure.figsize\"] = (20,12)\n",
    "\n",
    "def load_and_stack_data(prefix):\n",
    "    fileList = glob.glob('./../pac_opencoesione/%s*.csv' % prefix)\n",
    "    \n",
    "    if prefix == 'progetti':\n",
    "        dtypesDict = pd.read_csv(\n",
    "            './openCoesione_dtypes.csv', index_col='Variabile', squeeze=True).to_dict()\n",
    "        dateCols = [name for name in dtypesDict.keys() if dtypesDict[name] == 'datetime64']\n",
    "        for name in dateCols: del dtypesDict[name]\n",
    "        frames = list(map(lambda f: pd.read_csv(\n",
    "            f, sep=';', dtype=dtypesDict, index_col=0, na_values=[' ', '  ']), fileList))\n",
    "        data = pd.concat(frames, axis=0)\n",
    "        data[dateCols] = data[dateCols].apply(lambda x: pd.to_datetime(x, infer_datetime_format=True))\n",
    "        \n",
    "        # drop duplicates including index when checking\n",
    "        indexColName = data.index.name\n",
    "        data.reset_index(inplace=True)\n",
    "        data.drop_duplicates(inplace=True)\n",
    "        data.set_index(indexColName, inplace=True)\n",
    "        \n",
    "        # clean remaining duplicate indexes by picking the row that has fewer N/A\n",
    "        bDuplicate = data.index.duplicated(keep=False)\n",
    "        if any(bDuplicate):\n",
    "            print('%i duplicate indexes found' % sum(bDuplicate))\n",
    "            duplRows = data[bDuplicate].copy()\n",
    "            duplRows['NumberNA'] = duplRows.isna().sum(axis=1)\n",
    "            duplRows.sort_values('NumberNA', inplace=True)\n",
    "            # recomibine into final frame\n",
    "            data = pd.concat([data[~bDuplicate], duplRows[duplRows.index.duplicated(keep='first')]])\n",
    "    \n",
    "    elif prefix == 'pagamenti':\n",
    "        # pagamenti has many rows with no money amount. Drop them.\n",
    "        frames = list(map(lambda f: pd.read_csv(f, sep=';', index_col=False), fileList))\n",
    "        data = pd.concat(frames, axis=0)\n",
    "        \n",
    "        # drop duplicates excluding index\n",
    "        data.drop_duplicates(inplace=True)\n",
    "        data = data[~np.all(data.select_dtypes(float) == 0, axis=1)]\n",
    "         \n",
    "    else:\n",
    "        # infer types for other datasets (temporary)\n",
    "        frames = list(map(lambda f: pd.read_csv(f, sep=';', index_col=False), fileList))\n",
    "        data = pd.concat(frames, axis=0)\n",
    "        \n",
    "        # drop duplicates excluding index\n",
    "        data.drop_duplicates(inplace=True)\n",
    "        \n",
    "    print('Imported %s' % prefix)\n",
    "    return data\n",
    "\n"
   ]
  },
  {
   "cell_type": "code",
   "execution_count": null,
   "metadata": {
    "scrolled": true
   },
   "outputs": [],
   "source": [
    "# load datasets\n",
    "progetti = load_and_stack_data('progetti')\n",
    "luoghi = load_and_stack_data('localizzazioni')\n",
    "soggetti = load_and_stack_data('soggetti')\n",
    "gc.collect()\n"
   ]
  },
  {
   "cell_type": "code",
   "execution_count": null,
   "metadata": {
    "scrolled": true
   },
   "outputs": [],
   "source": [
    "numeroSoggetti = soggetti[soggetti.SOGG_COD_RUOLO == 2].groupby('COD_LOCALE_PROGETTO').size()\n",
    "\n",
    "bProgettoMoltiSoggetti = progetti.index.isin(numeroSoggetti.index[numeroSoggetti > 1])\n"
   ]
  },
  {
   "cell_type": "code",
   "execution_count": null,
   "metadata": {
    "scrolled": true
   },
   "outputs": [],
   "source": [
    "numeroLuoghi = luoghi[luoghi.OC_FLAG_CAP_PROG==1].groupby('COD_LOCALE_PROGETTO').size()\n",
    "\n",
    "bProgettoMoltiLuoghi = progetti.index.isin(numeroLuoghi.index[numeroLuoghi > 1])"
   ]
  },
  {
   "cell_type": "code",
   "execution_count": null,
   "metadata": {
    "scrolled": true
   },
   "outputs": [],
   "source": [
    "bProgettoNonMappabile = bProgettoMoltiLuoghi | bProgettoMoltiSoggetti\n",
    "\n",
    "print('---CONSIDERATI PROGETTI con solo un luogo e un soggetto attuatore. Esclusi EUR %.2f' %\n",
    "      sum(progetti.TOT_PAGAMENTI[bProgettoMoltiLuoghi | bProgettoMoltiSoggetti]))\n",
    "progettiMap = progetti[~bProgettoNonMappabile]\n"
   ]
  },
  {
   "cell_type": "markdown",
   "metadata": {},
   "source": [
    "## join: pagamenti + (progetti con altre variabili uniche, soggetti attuatori e luoghi)"
   ]
  },
  {
   "cell_type": "code",
   "execution_count": null,
   "metadata": {
    "scrolled": true
   },
   "outputs": [],
   "source": [
    "# Step 1: JOIN soggetti - progettiMap \n",
    "newUnion = progettiMap.join(soggetti[soggetti.SOGG_COD_RUOLO == 2].set_index('COD_LOCALE_PROGETTO'))\n",
    "firstJoinTotPagamenti = newUnion.TOT_PAGAMENTI.sum()\n",
    "\n",
    "del progetti\n",
    "del progettiMap\n",
    "gc.collect()"
   ]
  },
  {
   "cell_type": "code",
   "execution_count": null,
   "metadata": {
    "scrolled": true
   },
   "outputs": [],
   "source": [
    "# Step 2: JOIN previous union - luoghi\n",
    "newUnion = newUnion.join(luoghi[luoghi.OC_FLAG_CAP_PROG==1].set_index('COD_LOCALE_PROGETTO'))\n",
    "assert newUnion.TOT_PAGAMENTI.sum() == firstJoinTotPagamenti, 'Inconsistent join'"
   ]
  },
  {
   "cell_type": "code",
   "execution_count": null,
   "metadata": {
    "scrolled": true
   },
   "outputs": [],
   "source": [
    "# Step 3: JOIN pagamenti-progetti // fill pagamenti data with the above info\n",
    "\n",
    "# check pagamenti sums\n",
    "pagamenti = load_and_stack_data('pagamenti')\n",
    "origSum = pagamenti['TOT_PAGAMENTI'].sum() # ok, around 60B\n",
    "\n",
    "# do the join\n",
    "newUnion = newUnion.join(pagamenti.set_index('COD_LOCALE_PROGETTO'),  lsuffix='_summary')\n",
    "del pagamenti\n",
    "gc.collect()\n",
    "\n",
    "# Finally recheck the sums!\n",
    "assert 0 == newUnion.TOT_PAGAMENTI.sum().round() - firstJoinTotPagamenti.round(), 'Bad pagamenti data'\n"
   ]
  },
  {
   "cell_type": "code",
   "execution_count": null,
   "metadata": {
    "scrolled": false
   },
   "outputs": [],
   "source": [
    "# Summary on beneficiary types\n",
    "soggetti.groupby('DESCR_FORMA_GIURIDICA_SOGG')['OC_CODICE_FISCALE_SOGG'].nunique().sort_values(ascending=False)"
   ]
  }
 ],
 "metadata": {
  "kernelspec": {
   "display_name": "Python 3",
   "language": "python",
   "name": "python3"
  },
  "language_info": {
   "codemirror_mode": {
    "name": "ipython",
    "version": 3
   },
   "file_extension": ".py",
   "mimetype": "text/x-python",
   "name": "python",
   "nbconvert_exporter": "python",
   "pygments_lexer": "ipython3",
   "version": "3.6.4"
  }
 },
 "nbformat": 4,
 "nbformat_minor": 2
}
