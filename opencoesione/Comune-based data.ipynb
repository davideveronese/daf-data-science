{
 "cells": [
  {
   "cell_type": "code",
   "execution_count": 1,
   "metadata": {},
   "outputs": [],
   "source": [
    "import numpy as np\n",
    "import pandas as pd\n",
    "import seaborn as sns\n",
    "import gc #garbage collector\n",
    "from matplotlib import pyplot as plt\n",
    "plt.rcParams[\"figure.figsize\"] = (20,12)\n",
    "%config Completer.use_jedi = False #fix TAB slowness with big frames"
   ]
  },
  {
   "cell_type": "markdown",
   "metadata": {},
   "source": [
    "### Load and prepare various datasets"
   ]
  },
  {
   "cell_type": "code",
   "execution_count": 2,
   "metadata": {},
   "outputs": [],
   "source": [
    "# --- Anagrafica Comuni\n",
    "\n",
    "path_comuni = '../pac_agenziaentrate/regioni_citta/comuni/archivio_comuni/ElencoComuniAttuali_20170918.csv.read'\n",
    "\n",
    "comuniAnagrafica = pd.read_csv(path_comuni, sep=';')\n",
    "comuniAnagrafica.set_index('Codice Istat', inplace=True)\n",
    "comuniAnagrafica = comuniAnagrafica[~comuniAnagrafica.index.isnull()]\n",
    "#print(sum(comuniAnagrafica.index.isnull()))\n",
    "assert not any(comuniAnagrafica.index.duplicated()), 'Duplicate Istat codes'\n",
    "convTable = pd.read_csv('../provToReg.csv', index_col='Sigla automobilistica', dtype='str')\n",
    "comuniAnagrafica = comuniAnagrafica.join(convTable, on='Sigla Provincia')\n",
    "formattedValues = comuniAnagrafica.index.values.astype('int')\n",
    "padZeros = np.vectorize(lambda x: str(x).rjust(6, '0'))\n",
    "comuniAnagrafica['Codice Istat Lungo'] = (comuniAnagrafica['Codice regione'] + padZeros(formattedValues)).astype(int)"
   ]
  },
  {
   "cell_type": "code",
   "execution_count": 3,
   "metadata": {},
   "outputs": [
    {
     "name": "stderr",
     "output_type": "stream",
     "text": [
      "/home/davide/anaconda3/envs/daf/lib/python3.6/site-packages/IPython/core/interactiveshell.py:2728: DtypeWarning: Columns (5,10,13,14,16,18,20,22,24,26) have mixed types. Specify dtype option on import or set low_memory=False.\n",
      "  interactivity=interactivity, compiler=compiler, result=result)\n"
     ]
    }
   ],
   "source": [
    "# --- Spese e redditi da OpenCivitas\n",
    "speseERedditiComune = pd.read_csv('../opencivitas/data/opencivitas_spesa_storica_dati_irpef.csv') #dati per anno\n",
    "convTable = pd.read_csv('../provToReg.csv', dtype='str', index_col='Sigla automobilistica')\n",
    "\n",
    "speseERedditiComune = speseERedditiComune[~speseERedditiComune['Codice Istat Comune'].isna()]\n",
    "\n",
    "speseERedditiComune = pd.merge(\n",
    "    speseERedditiComune, \n",
    "    convTable, \n",
    "    how='left',\n",
    "    left_on='Sigla Provincia_x', \n",
    "    right_index=True)\n",
    "\n",
    "speseERedditiComune['Codice Istat Comune'].fillna(value=-1, inplace=True)\n",
    "\n",
    "\n",
    "formattedValues = speseERedditiComune['Codice Istat Comune'].values.astype('int')\n",
    "\n",
    "padZeros = np.vectorize(lambda x: str(x).rjust(6, '0'))\n",
    "speseERedditiComune['Codice Istat Lungo'] = (speseERedditiComune['Codice regione'] + padZeros(formattedValues)).astype(int)\n",
    "\n",
    "# --- Soggetti e luoghi da OpenCoesione\n",
    "soggettiLuoghi = pd.read_csv('../pac_opencoesione/SoggettiELuoghi.csv')\n",
    "soggettiLuoghi.drop(columns=['SOGG_COD_RUOLO', 'SOGG_PROGR_RUOLO'], inplace=True)\n",
    "soggettiLuoghi = soggettiLuoghi[~soggettiLuoghi.COD_FORMA_GIURIDICA_SOGG.isna()]"
   ]
  },
  {
   "cell_type": "markdown",
   "metadata": {},
   "source": [
    "### Join OpenCoesione and OpenCivitas"
   ]
  },
  {
   "cell_type": "code",
   "execution_count": 5,
   "metadata": {},
   "outputs": [
    {
     "data": {
      "text/plain": [
       "0.98902585688514733"
      ]
     },
     "execution_count": 5,
     "metadata": {},
     "output_type": "execute_result"
    }
   ],
   "source": [
    "speseERedditiComune.COMUNE_CAT_COD.isin(comuniAnagrafica['Codice Nazionale'].values).mean()\n",
    "#speseERedditiComune.join(comuniAnagrafica['Codice Istat Lungo'])\n",
    "\n"
   ]
  },
  {
   "cell_type": "code",
   "execution_count": 6,
   "metadata": {},
   "outputs": [],
   "source": [
    "bEntePrivato = soggettiLuoghi.COD_FORMA_GIURIDICA_SOGG.str.startswith('1')\n",
    "\n",
    "soggLuoghiPrivato = soggettiLuoghi[bEntePrivato]\n",
    "#print(soggLuoghiPrivato.OC_CODICE_FISCALE_SOGG.isna().sum(), soggLuoghiPrivato.COD_COMUNE_SEDE_SOGG.isna().sum())\n",
    "\n",
    "# luoghi (comuni) di sede soggetto che hanno ricevuto piu' fondi\n",
    "fondiRicevuti = soggLuoghiPrivato.groupby('COD_COMUNE_SEDE_SOGG')['TOT_PAGAMENTI'].sum().sort_values(ascending=False).to_frame()\n",
    "newData = fondiRicevuti.join(comuniAnagrafica.set_index('Codice Istat Lungo'))\n",
    "\n",
    "newData = pd.merge(\n",
    "    speseERedditiComune, \n",
    "    fondiRicevuti, \n",
    "    how='left',\n",
    "    right_index = True,\n",
    "    left_on='Codice Istat Lungo')\n",
    "\n",
    "\n",
    "newData.TOT_PAGAMENTI.fillna(value=0, inplace=True)\n",
    "\n"
   ]
  },
  {
   "cell_type": "code",
   "execution_count": 8,
   "metadata": {},
   "outputs": [
    {
     "data": {
      "image/png": "[encoded data removed]",
      "text/plain": [
       "<matplotlib.figure.Figure at 0x7fece3e063c8>"
      ]
     },
     "metadata": {},
     "output_type": "display_data"
    }
   ],
   "source": [
    "#newData.sort_values('TOT_PAGAMENTI', ascending=False)\n",
    "\n",
    "ax = plt.scatter(np.log10(newData.SPESA_CCC_tot+1), np.log10(newData.TOT_PAGAMENTI+1))\n",
    "plt.show()\n"
   ]
  }
 ],
 "metadata": {
  "kernelspec": {
   "display_name": "Python 3",
   "language": "python",
   "name": "python3"
  },
  "language_info": {
   "codemirror_mode": {
    "name": "ipython",
    "version": 3
   },
   "file_extension": ".py",
   "mimetype": "text/x-python",
   "name": "python",
   "nbconvert_exporter": "python",
   "pygments_lexer": "ipython3",
   "version": "3.6.4"
  }
 },
 "nbformat": 4,
 "nbformat_minor": 2
}
