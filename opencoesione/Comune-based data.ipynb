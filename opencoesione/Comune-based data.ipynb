{
 "cells": [
  {
   "cell_type": "markdown",
   "metadata": {},
   "source": [
    "<img src=\"http://www.finanze.gov.it/export/system/modules/it.gov.finanze.template/resources/img/logo-mef.gif\"  style=\"float: left; width: 25%; margin-left: 8%; margin-top: 0.5em;\">\n",
    "\n",
    "<img src=\"http://www.opencoesione.gov.it/static/img/header/testata.png\" style=\"float: right; width: 42%; margin-right: 8%; margin-top: 1.6em;\">\n",
    "\n",
    "<p style=\"clear: both;\">"
   ]
  },
  {
   "cell_type": "markdown",
   "metadata": {},
   "source": [
    "# Studio a livello comunale sui finanziamenti a enti privati da dati OpenCoesione"
   ]
  },
  {
   "cell_type": "markdown",
   "metadata": {},
   "source": [
    "### Obiettivi \n",
    "Questo studio si propone come esempio delle seguenti opportunita' offerte dal Data Analytics Framework (DAF):\n",
    " - Integrare dati da fonti diverse permette di compiere analisi piu' complete e semplici\n",
    " - L'uso di strumenti open-source consente di impiegare le piu' recenti ed avanzate tecniche di analisi ..."
   ]
  },
  {
   "cell_type": "code",
   "execution_count": 2,
   "metadata": {},
   "outputs": [],
   "source": [
    "import numpy as np\n",
    "import pandas as pd\n",
    "import seaborn as sns\n",
    "import gc #garbage collector\n",
    "from matplotlib import pyplot as plt\n",
    "plt.rcParams[\"figure.figsize\"] = (20,12)"
   ]
  },
  {
   "cell_type": "markdown",
   "metadata": {},
   "source": [
    "## Caricamento dataset da integrare"
   ]
  },
  {
   "cell_type": "code",
   "execution_count": 3,
   "metadata": {},
   "outputs": [],
   "source": [
    "# --- Spese e redditi da OpenCivitas\n",
    "speseERedditiComune = pd.read_csv('../opencivitas/data/opencivitas_spesa_storica_dati_irpef.csv') #dati per anno\n",
    "\n",
    "provToRegioni = pd.read_csv('../provToReg.csv', dtype='str', index_col='Sigla automobilistica')\n",
    "speseERedditiComune = speseERedditiComune[~speseERedditiComune['Codice Istat Comune'].isna()]\n",
    "speseERedditiComune = pd.merge(\n",
    "    speseERedditiComune, provToRegioni, how='left', left_on='Sigla Provincia_x',right_index=True)\n",
    "\n",
    "padZeros = np.vectorize(lambda x: str(x).rjust(6, '0')) # some utils\n",
    "\n",
    "speseERedditiComune['Codice Istat Lungo'] = \\\n",
    "(speseERedditiComune['Codice regione'] + padZeros(speseERedditiComune['Codice Istat Comune'].astype(int))).astype(int)\n",
    "\n",
    "# --- Soggetti e luoghi da OpenCoesione\n",
    "soggettiLuoghi = pd.read_csv('../pac_opencoesione/SoggettiELuoghi.csv', low_memory=False)\n",
    "soggettiLuoghi.drop(columns=['SOGG_COD_RUOLO', 'SOGG_PROGR_RUOLO'], inplace=True)\n",
    "soggettiLuoghi = soggettiLuoghi[~soggettiLuoghi.COD_FORMA_GIURIDICA_SOGG.isna()]\n",
    "assert not any(soggettiLuoghi['COD_COMUNE_SEDE_SOGG'].isna()), 'Unexpected missing codes'\n",
    "soggettiLuoghi['COD_COMUNE_SEDE_SOGG'] = soggettiLuoghi['COD_COMUNE_SEDE_SOGG'].astype(int)\n",
    "soggettiLuoghi['COD_COMUNE_LUOGO'] = soggettiLuoghi['COD_COMUNE_LUOGO'].fillna(value=-1).astype(int)"
   ]
  },
  {
   "cell_type": "markdown",
   "metadata": {},
   "source": [
    "## Integrazione OpenCoesione and OpenCivitas"
   ]
  },
  {
   "cell_type": "code",
   "execution_count": 11,
   "metadata": {},
   "outputs": [],
   "source": [
    "# --- Anagrafica Comuni\n",
    "path_comuni = '../pac_agenziaentrate/regioni_citta/comuni/archivio_comuni/ElencoComuniAttuali_20170918.csv.read'\n",
    "\n",
    "comuniAnagrafica = pd.read_csv(path_comuni, sep=';')\n",
    "comuniAnagrafica.set_index('Codice Istat', inplace=True)\n",
    "comuniAnagrafica = comuniAnagrafica[~comuniAnagrafica.index.isnull()]\n",
    "assert not any(comuniAnagrafica.index.duplicated()), 'Duplicate Istat codes'\n",
    "convTable = pd.read_csv('../provToReg.csv', index_col='Sigla automobilistica', dtype='str')\n",
    "comuniAnagrafica = comuniAnagrafica.join(convTable, on='Sigla Provincia')\n",
    "formattedValues = comuniAnagrafica.index.values.astype('int')\n",
    "padZeros = np.vectorize(lambda x: str(x).rjust(6, '0'))\n",
    "comuniAnagrafica['Codice Istat Lungo'] = (comuniAnagrafica['Codice regione'] + padZeros(formattedValues)).astype(int)"
   ]
  },
  {
   "cell_type": "markdown",
   "metadata": {},
   "source": [
    "#### Estrazione fondi erogati a soggetti privati per cui la sede e' riferibile ad un comune:"
   ]
  },
  {
   "cell_type": "code",
   "execution_count": 15,
   "metadata": {},
   "outputs": [
    {
     "name": "stdout",
     "output_type": "stream",
     "text": [
      "                      TOT_PAGAMENTI\n",
      "COD_COMUNE_SEDE_SOGG               \n",
      "12058091               6.926394e+09\n",
      "3015146                8.531263e+08\n",
      "15063049               3.882678e+08\n",
      "19082053               3.485534e+08\n",
      "18078045               3.253154e+08\n",
      "16072006               3.067115e+08\n",
      "16071024               2.988484e+08\n",
      "9048017                2.979771e+08\n",
      "7010025                2.316785e+08\n",
      "15064065               2.000012e+08\n",
      "TOT_PAGAMENTI    1.359484e+10\n",
      "dtype: float64\n"
     ]
    }
   ],
   "source": [
    "bEntePrivato = soggettiLuoghi.COD_FORMA_GIURIDICA_SOGG.str.startswith('1') & \\\n",
    "                    (soggettiLuoghi.COD_COMUNE_SEDE_SOGG != -1)\n",
    "soggLuoghiPrivato = soggettiLuoghi[bEntePrivato]\n",
    "\n",
    "# luoghi (comuni) di sede soggetto in ordine di fondi ricevuti\n",
    "fondiSoggetti = soggLuoghiPrivato.groupby(\n",
    "                    'COD_COMUNE_SEDE_SOGG')['TOT_PAGAMENTI'].sum().sort_values(ascending=False).to_frame()\n",
    "\n",
    "print(fondiSoggetti.head(10))\n",
    "print(fondiSoggetti.sum())"
   ]
  },
  {
   "cell_type": "markdown",
   "metadata": {},
   "source": [
    "#### In OpenCivitas non vi sono dati per tutti i Comuni, controlliamo quanto e' grande la quota di fondi in OpenCoesione riferita a sedi soggetto mancanti in OpenCivitas"
   ]
  },
  {
   "cell_type": "code",
   "execution_count": 24,
   "metadata": {},
   "outputs": [
    {
     "name": "stdout",
     "output_type": "stream",
     "text": [
      "TOT_PAGAMENTI    1.359484e+10\n",
      "dtype: float64\n",
      "TOT_PAGAMENTI    1.378164e+09\n",
      "dtype: float64\n"
     ]
    }
   ],
   "source": [
    "#comuneCodesPrivato = soggLuoghiPrivato.COD_COMUNE_SEDE_SOGG.drop_duplicates()\n",
    "#mismatching = comuneCodesPrivato[(comuneCodesPrivato.isin(comuniAnagrafica['Codice Istat Lungo'])) & ~(\n",
    "        #comuneCodesPrivato.isin(speseERedditiComune['Codice Istat Lungo']))]\n",
    "\n",
    "\n",
    "newData = fondiSoggetti.join(comuniAnagrafica.set_index('Codice Istat Lungo'))\n",
    "\n",
    "listaComuniOpenCiv = speseERedditiComune['Codice Istat Lungo'].drop_duplicates()\n",
    "\n",
    "#print(listaComuniLeft.isin(fondiRicevuti.index).mean(), comuniAnagrafica['Codice Istat Lungo'].isin(fondiRicevuti.index).mean())\n",
    "#print( fondiRicevuti.index.drop_duplicates().isin(listaComuniLeft).mean(), comuniAnagrafica['Codice Istat Lungo'].isin(listaComuniLeft).mean())\n",
    "\n",
    "#print( listaComuniLeft.isin(comuniAnagrafica['Codice Istat Lungo']).mean())\n",
    "#print( fondiRicevuti.index.isin(comuniAnagrafica['Codice Istat Lungo']).mean())\n",
    "\n",
    "\n",
    "print(fondiSoggetti.sum())\n",
    "\n",
    "print(fondiSoggetti[~fondiSoggetti.index.isin(listaComuniOpenCiv.values)].sum())\n",
    "\n",
    "unioneComuniSoggetti = pd.merge(speseERedditiComune, fondiSoggetti,\n",
    "                                how='left',left_on='Codice Istat Lungo', right_index = True)\n",
    "\n",
    "#fondiRicevuti[fondiRicevuti.index.isin(listaComuniLeft)]"
   ]
  },
  {
   "cell_type": "code",
   "execution_count": 28,
   "metadata": {},
   "outputs": [
    {
     "data": {
      "text/plain": [
       "array([2012, 2013])"
      ]
     },
     "execution_count": 28,
     "metadata": {},
     "output_type": "execute_result"
    }
   ],
   "source": [
    "\n",
    "\n",
    "\n",
    "#unioneComuniSoggetti.TOT_PAGAMENTI.fillna(value=0, inplace=True)\n",
    "#print(newData.COD_COMUNE_SEDE_SOGG.drop_duplicates().isin(speseERedditiComune['Codice Istat Lungo']).mean())\n",
    "\n",
    "\n",
    "unioneComuniSoggetti.ANNO.unique()\n",
    "\n"
   ]
  },
  {
   "cell_type": "code",
   "execution_count": null,
   "metadata": {},
   "outputs": [],
   "source": [
    "#newData.sort_values('TOT_PAGAMENTI', ascending=False)\n",
    "\n",
    "ax = plt.scatter(np.log10(unioneComuniSoggetti.SPESA_CCC_tot), np.log10(unioneComuniSoggetti.TOT_PAGAMENTI+1))\n",
    "plt.show()\n"
   ]
  },
  {
   "cell_type": "code",
   "execution_count": null,
   "metadata": {},
   "outputs": [],
   "source": [
    "bDodgyDataPublic = soggettiLuoghi.COD_FORMA_GIURIDICA_SOGG.str.startswith('2') & (soggettiLuoghi.COD_COMUNE_SEDE_SOGG != -1)\n",
    "#soggettiLuoghi[bDodgyDataPublic].sort_values('TOT_PAGAMENTI', ascending=False)\n",
    "#soggettiLuoghi['TOT_PAGAMENTI'][bDodgyData].sort_values(ascending=False)\n",
    "soggettiLuoghi[bDodgyDataPublic].DESCR_FORMA_GIURIDICA_SOGG.unique()"
   ]
  },
  {
   "cell_type": "code",
   "execution_count": null,
   "metadata": {},
   "outputs": [],
   "source": [
    "bDodgyData = soggettiLuoghi.COD_FORMA_GIURIDICA_SOGG.str.startswith('1') & (soggettiLuoghi.COD_COMUNE_SEDE_SOGG == -1)\n",
    "soggettiLuoghi[bDodgyData].sort_values('TOT_PAGAMENTI', ascending=False)\n",
    "soggettiLuoghi[bDodgyData].DESCR_FORMA_GIURIDICA_SOGG.unique()"
   ]
  }
 ],
 "metadata": {
  "kernelspec": {
   "display_name": "Python 3",
   "language": "python",
   "name": "python3"
  },
  "language_info": {
   "codemirror_mode": {
    "name": "ipython",
    "version": 3
   },
   "file_extension": ".py",
   "mimetype": "text/x-python",
   "name": "python",
   "nbconvert_exporter": "python",
   "pygments_lexer": "ipython3",
   "version": "3.6.4"
  }
 },
 "nbformat": 4,
 "nbformat_minor": 2
}
