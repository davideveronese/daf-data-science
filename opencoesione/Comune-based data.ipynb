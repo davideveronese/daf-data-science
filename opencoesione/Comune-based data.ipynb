{
 "cells": [
  {
   "cell_type": "markdown",
   "metadata": {},
   "source": [
    "<img src=\"http://www.finanze.gov.it/export/system/modules/it.gov.finanze.template/resources/img/logo-mef.gif\"  style=\"float: left; width: 20%; margin-left: 18%; margin-top: 0.5em;\">\n",
    "\n",
    "<img src=\"http://www.opencoesione.gov.it/static/img/header/testata.png\" style=\"float: right; width: 35%; margin-right: 18%; margin-top: 1.2em;\">\n",
    "\n",
    "<p style=\"clear: both;\">"
   ]
  },
  {
   "cell_type": "markdown",
   "metadata": {},
   "source": [
    "## Studio a livello comunale sui finanziamenti a enti privati da dati OpenCoesione"
   ]
  },
  {
   "cell_type": "code",
   "execution_count": null,
   "metadata": {},
   "outputs": [],
   "source": [
    "import numpy as np\n",
    "import pandas as pd\n",
    "import seaborn as sns\n",
    "import gc #garbage collector\n",
    "from matplotlib import pyplot as plt\n",
    "plt.rcParams[\"figure.figsize\"] = (20,12)\n",
    "%config Completer.use_jedi = False #fix TAB slowness with big frames"
   ]
  },
  {
   "cell_type": "markdown",
   "metadata": {},
   "source": [
    "### Load and prepare datasets"
   ]
  },
  {
   "cell_type": "code",
   "execution_count": null,
   "metadata": {},
   "outputs": [],
   "source": [
    "# --- Spese e redditi da OpenCivitas\n",
    "speseERedditiComune = pd.read_csv('../opencivitas/data/opencivitas_spesa_storica_dati_irpef.csv') #dati per anno\n",
    "\n",
    "provToRegioni = pd.read_csv('../provToReg.csv', dtype='str', index_col='Sigla automobilistica')\n",
    "speseERedditiComune = speseERedditiComune[~speseERedditiComune['Codice Istat Comune'].isna()]\n",
    "speseERedditiComune = pd.merge(\n",
    "    speseERedditiComune, provToRegioni, how='left', left_on='Sigla Provincia_x',right_index=True)\n",
    "\n",
    "padZeros = np.vectorize(lambda x: str(x).rjust(6, '0')) # some utils\n",
    "\n",
    "speseERedditiComune['Codice Istat Lungo'] = \\\n",
    "(speseERedditiComune['Codice regione'] + padZeros(speseERedditiComune['Codice Istat Comune'].astype(int))).astype(int)\n",
    "\n",
    "# --- Soggetti e luoghi da OpenCoesione\n",
    "soggettiLuoghi = pd.read_csv('../pac_opencoesione/SoggettiELuoghi.csv', low_memory=False)\n",
    "soggettiLuoghi.drop(columns=['SOGG_COD_RUOLO', 'SOGG_PROGR_RUOLO'], inplace=True)\n",
    "soggettiLuoghi = soggettiLuoghi[~soggettiLuoghi.COD_FORMA_GIURIDICA_SOGG.isna()]\n",
    "assert not any(soggettiLuoghi['COD_COMUNE_SEDE_SOGG'].isna()), 'Unexpected missing codes'\n",
    "soggettiLuoghi['COD_COMUNE_SEDE_SOGG'] = soggettiLuoghi['COD_COMUNE_SEDE_SOGG'].astype(int)\n",
    "soggettiLuoghi['COD_COMUNE_LUOGO'] = soggettiLuoghi['COD_COMUNE_LUOGO'].fillna(value=-1).astype(int)"
   ]
  },
  {
   "cell_type": "markdown",
   "metadata": {},
   "source": [
    "### Join OpenCoesione and OpenCivitas"
   ]
  },
  {
   "cell_type": "code",
   "execution_count": null,
   "metadata": {},
   "outputs": [],
   "source": [
    "# --- Anagrafica Comuni\n",
    "path_comuni = '../pac_agenziaentrate/regioni_citta/comuni/archivio_comuni/ElencoComuniAttuali_20170918.csv.read'\n",
    "\n",
    "comuniAnagrafica = pd.read_csv(path_comuni, sep=';')\n",
    "comuniAnagrafica.set_index('Codice Istat', inplace=True)\n",
    "comuniAnagrafica = comuniAnagrafica[~comuniAnagrafica.index.isnull()]\n",
    "assert not any(comuniAnagrafica.index.duplicated()), 'Duplicate Istat codes'\n",
    "convTable = pd.read_csv('../provToReg.csv', index_col='Sigla automobilistica', dtype='str')\n",
    "comuniAnagrafica = comuniAnagrafica.join(convTable, on='Sigla Provincia')\n",
    "formattedValues = comuniAnagrafica.index.values.astype('int')\n",
    "padZeros = np.vectorize(lambda x: str(x).rjust(6, '0'))\n",
    "comuniAnagrafica['Codice Istat Lungo'] = (comuniAnagrafica['Codice regione'] + padZeros(formattedValues)).astype(int)"
   ]
  },
  {
   "cell_type": "code",
   "execution_count": null,
   "metadata": {},
   "outputs": [],
   "source": [
    "#speseERedditiComune.COMUNE_CAT_COD.isin(comuniAnagrafica['Codice Nazionale'].values).mean()\n",
    "#speseERedditiComune.join(comuniAnagrafica['Codice Istat Lungo'])\n",
    "\n",
    "soggettiLuoghi.COD_COMUNE_SEDE_SOGG[~soggettiLuoghi.COD_COMUNE_SEDE_SOGG.isin(speseERedditiComune['Codice Istat Lungo'])]\n"
   ]
  },
  {
   "cell_type": "code",
   "execution_count": null,
   "metadata": {},
   "outputs": [],
   "source": [
    "bEntePrivato = soggettiLuoghi.COD_FORMA_GIURIDICA_SOGG.str.startswith('1') & (soggettiLuoghi.COD_COMUNE_SEDE_SOGG != -1)\n",
    "\n",
    "soggLuoghiPrivato = soggettiLuoghi[bEntePrivato]\n",
    "\n",
    "totPagamentiPrivato = soggLuoghiPrivato.TOT_PAGAMENTI.sum()\n",
    "print(totPagamentiPrivato)\n",
    "\n",
    "comuneCodesPrivato = soggLuoghiPrivato.COD_COMUNE_SEDE_SOGG.drop_duplicates()\n",
    "mismatching = comuneCodesPrivato[(comuneCodesPrivato.isin(comuniAnagrafica['Codice Istat Lungo'])) & ~(\n",
    "        comuneCodesPrivato.isin(speseERedditiComune['Codice Istat Lungo']))]\n",
    "\n",
    "\n",
    "#print(soggLuoghiPrivato.COD_COMUNE_SEDE_SOGG.drop_duplicates().isin(speseERedditiComune['Codice Istat Lungo']).mean())\n",
    "#print(soggLuoghiPrivato.COD_COMUNE_LUOGO.drop_duplicates().isin(speseERedditiComune['Codice Istat Lungo']).mean())\n",
    "#print(soggLuoghiPrivato.COD_COMUNE_SEDE_SOGG.drop_duplicates().isin(comuniAnagrafica['Codice Istat Lungo']).mean())\n",
    "#print(comuniAnagrafica['Codice Istat Lungo'].drop_duplicates().isin(speseERedditiComune['Codice Istat Lungo']).mean())\n",
    "\n",
    "\n",
    "# luoghi (comuni) di sede soggetto che hanno ricevuto piu' fondi\n",
    "fondiRicevuti = soggLuoghiPrivato.groupby('COD_COMUNE_SEDE_SOGG')['TOT_PAGAMENTI'].sum().sort_values(ascending=False).to_frame()\n",
    "newData = fondiRicevuti.join(comuniAnagrafica.set_index('Codice Istat Lungo'))\n",
    "\n",
    "listaComuniLeft = speseERedditiComune['Codice Istat Lungo'].drop_duplicates()\n",
    "\n",
    "print(listaComuniLeft.isin(fondiRicevuti.index).mean(), comuniAnagrafica['Codice Istat Lungo'].isin(fondiRicevuti.index).mean())\n",
    "print( fondiRicevuti.index.drop_duplicates().isin(listaComuniLeft).mean(), comuniAnagrafica['Codice Istat Lungo'].isin(listaComuniLeft).mean())\n",
    "\n",
    "print( listaComuniLeft.isin(comuniAnagrafica['Codice Istat Lungo']).mean())\n",
    "print( fondiRicevuti.index.isin(comuniAnagrafica['Codice Istat Lungo']).mean())\n",
    "\n",
    "\n",
    "print(fondiRicevuti[~fondiRicevuti.index.isin(comuniAnagrafica['Codice Istat Lungo'])].sum())\n",
    "\n",
    "fondiRicevuti[fondiRicevuti.index.isin(listaComuniLeft)]"
   ]
  },
  {
   "cell_type": "code",
   "execution_count": null,
   "metadata": {},
   "outputs": [],
   "source": [
    "unioneComuniSoggetti = pd.merge(\n",
    "    speseERedditiComune, \n",
    "    fondiRicevuti, \n",
    "    how='left',\n",
    "    left_on='Codice Istat Lungo',\n",
    "    right_index = True)\n",
    "\n",
    "\n",
    "#unioneComuniSoggetti.TOT_PAGAMENTI.fillna(value=0, inplace=True)\n",
    "#print(newData.COD_COMUNE_SEDE_SOGG.drop_duplicates().isin(speseERedditiComune['Codice Istat Lungo']).mean())\n",
    "\n",
    "\n",
    "unioneComuniSoggetti.ANNO.unique()\n",
    "unioneComuniSoggetti[newData.ANNO==2013].TOT_PAGAMENTI.sum()\n"
   ]
  },
  {
   "cell_type": "code",
   "execution_count": null,
   "metadata": {},
   "outputs": [],
   "source": [
    "#newData.sort_values('TOT_PAGAMENTI', ascending=False)\n",
    "\n",
    "ax = plt.scatter(np.log10(unioneComuniSoggetti.SPESA_CCC_tot), np.log10(unioneComuniSoggetti.TOT_PAGAMENTI+1))\n",
    "plt.show()\n"
   ]
  },
  {
   "cell_type": "code",
   "execution_count": null,
   "metadata": {},
   "outputs": [],
   "source": [
    "bDodgyDataPublic = soggettiLuoghi.COD_FORMA_GIURIDICA_SOGG.str.startswith('2') & (soggettiLuoghi.COD_COMUNE_SEDE_SOGG != -1)\n",
    "#soggettiLuoghi[bDodgyDataPublic].sort_values('TOT_PAGAMENTI', ascending=False)\n",
    "#soggettiLuoghi['TOT_PAGAMENTI'][bDodgyData].sort_values(ascending=False)\n",
    "soggettiLuoghi[bDodgyDataPublic].DESCR_FORMA_GIURIDICA_SOGG.unique()"
   ]
  },
  {
   "cell_type": "code",
   "execution_count": null,
   "metadata": {},
   "outputs": [],
   "source": [
    "bDodgyData = soggettiLuoghi.COD_FORMA_GIURIDICA_SOGG.str.startswith('1') & (soggettiLuoghi.COD_COMUNE_SEDE_SOGG == -1)\n",
    "soggettiLuoghi[bDodgyData].sort_values('TOT_PAGAMENTI', ascending=False)\n",
    "soggettiLuoghi[bDodgyData].DESCR_FORMA_GIURIDICA_SOGG.unique()"
   ]
  }
 ],
 "metadata": {
  "kernelspec": {
   "display_name": "Python 3",
   "language": "python",
   "name": "python3"
  },
  "language_info": {
   "codemirror_mode": {
    "name": "ipython",
    "version": 3
   },
   "file_extension": ".py",
   "mimetype": "text/x-python",
   "name": "python",
   "nbconvert_exporter": "python",
   "pygments_lexer": "ipython3",
   "version": "3.6.4"
  }
 },
 "nbformat": 4,
 "nbformat_minor": 2
}
