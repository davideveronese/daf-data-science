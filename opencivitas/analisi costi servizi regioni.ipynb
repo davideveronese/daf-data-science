{
 "cells": [
  {
   "cell_type": "markdown",
   "metadata": {},
   "source": [
    "# Analisi Costi Servizi Regioni\n",
    "\n"
   ]
  },
  {
   "cell_type": "code",
   "execution_count": 2,
   "metadata": {},
   "outputs": [
    {
     "data": {
      "text/html": [
       "<script>requirejs.config({paths: { 'plotly': ['https://cdn.plot.ly/plotly-latest.min']},});if(!window.Plotly) {{require(['plotly'],function(plotly) {window.Plotly=plotly;});}}</script>"
      ],
      "text/vnd.plotly.v1+html": [
       "<script>requirejs.config({paths: { 'plotly': ['https://cdn.plot.ly/plotly-latest.min']},});if(!window.Plotly) {{require(['plotly'],function(plotly) {window.Plotly=plotly;});}}</script>"
      ]
     },
     "metadata": {},
     "output_type": "display_data"
    }
   ],
   "source": [
    "import numpy as np\n",
    "import pandas as pd\n",
    "\n",
    "# set the max number of columns to display\n",
    "pd.options.display.max_columns = 98\n",
    "\n",
    "import matplotlib.pyplot as plt\n",
    "import seaborn as sns\n",
    "sns.set(color_codes=True)\n",
    "\n",
    "import plotly.offline as py\n",
    "import plotly.plotly as py_on\n",
    "import plotly.graph_objs as go\n",
    "from plotly import tools\n",
    "import plotly.figure_factory as ff\n",
    "py.init_notebook_mode(connected=True)\n",
    "\n",
    "from IPython.display import Image\n",
    "from IPython.display import display"
   ]
  },
  {
   "cell_type": "code",
   "execution_count": 3,
   "metadata": {
    "scrolled": true
   },
   "outputs": [
    {
     "data": {
      "text/plain": [
       "(26799, 86)"
      ]
     },
     "execution_count": 3,
     "metadata": {},
     "output_type": "execute_result"
    }
   ],
   "source": [
    "df = pd.read_csv('./data/opencivitas_spesa_storica_dati_irpef.csv')\n",
    "df.shape"
   ]
  },
  {
   "cell_type": "markdown",
   "metadata": {},
   "source": [
    "## Quali sono i costi medi/cittadino per regione per l'erogazione dei servizi primari?\n",
    "\n",
    "Dati i serivizi primari:\n",
    "\n",
    "- entrate tributarie\n",
    "- ufficio tecnico\n",
    "- anagrafe, stato civile, leva e servizio statistico\n",
    "- altri servizi generali\n",
    "- polizia locale\n",
    "- istruzione pubblica\n",
    "- viabilita'\n",
    "- trasporto pubblico e servizi connessi\n",
    "- gestione del territorio\n",
    "- ambiente\n",
    "- settore sociale\n",
    "- asili nido\n",
    "\n",
    "i grafici sotto mostrano i costi per servizio nelle varie regioni mediati per il periodo 2010-2013"
   ]
  },
  {
   "cell_type": "code",
   "execution_count": 4,
   "metadata": {
    "scrolled": false
   },
   "outputs": [
    {
     "data": {
      "text/html": [
       "<div>\n",
       "<style scoped>\n",
       "    .dataframe tbody tr th:only-of-type {\n",
       "        vertical-align: middle;\n",
       "    }\n",
       "\n",
       "    .dataframe tbody tr th {\n",
       "        vertical-align: top;\n",
       "    }\n",
       "\n",
       "    .dataframe thead th {\n",
       "        text-align: right;\n",
       "    }\n",
       "</style>\n",
       "<table border=\"1\" class=\"dataframe\">\n",
       "  <thead>\n",
       "    <tr style=\"text-align: right;\">\n",
       "      <th></th>\n",
       "      <th>costo riscossione tributi</th>\n",
       "      <th>costo ufficio tecnico</th>\n",
       "      <th>costo anagrafe, stato civile</th>\n",
       "      <th>costo altri servizi</th>\n",
       "      <th>costo polizia locale</th>\n",
       "      <th>costo istruzione</th>\n",
       "      <th>costo viabilita'</th>\n",
       "      <th>costo trasporti</th>\n",
       "      <th>costo territorio</th>\n",
       "      <th>costo ambiente</th>\n",
       "      <th>costo sociale</th>\n",
       "      <th>costo asili nido</th>\n",
       "      <th>costo spesa totale</th>\n",
       "    </tr>\n",
       "    <tr>\n",
       "      <th>Regione</th>\n",
       "      <th></th>\n",
       "      <th></th>\n",
       "      <th></th>\n",
       "      <th></th>\n",
       "      <th></th>\n",
       "      <th></th>\n",
       "      <th></th>\n",
       "      <th></th>\n",
       "      <th></th>\n",
       "      <th></th>\n",
       "      <th></th>\n",
       "      <th></th>\n",
       "      <th></th>\n",
       "    </tr>\n",
       "  </thead>\n",
       "  <tbody>\n",
       "    <tr>\n",
       "      <th>VENETO</th>\n",
       "      <td>11.066791</td>\n",
       "      <td>31.689799</td>\n",
       "      <td>14.759061</td>\n",
       "      <td>146.247591</td>\n",
       "      <td>48.675780</td>\n",
       "      <td>84.650250</td>\n",
       "      <td>61.381176</td>\n",
       "      <td>11.209525</td>\n",
       "      <td>39.664089</td>\n",
       "      <td>184.865224</td>\n",
       "      <td>126.965655</td>\n",
       "      <td>20.998212</td>\n",
       "      <td>782.173155</td>\n",
       "    </tr>\n",
       "    <tr>\n",
       "      <th>MOLISE</th>\n",
       "      <td>20.629573</td>\n",
       "      <td>39.344185</td>\n",
       "      <td>21.319472</td>\n",
       "      <td>193.085556</td>\n",
       "      <td>54.367638</td>\n",
       "      <td>72.233437</td>\n",
       "      <td>79.765573</td>\n",
       "      <td>7.207589</td>\n",
       "      <td>60.224729</td>\n",
       "      <td>155.110850</td>\n",
       "      <td>80.982240</td>\n",
       "      <td>10.013914</td>\n",
       "      <td>794.284756</td>\n",
       "    </tr>\n",
       "    <tr>\n",
       "      <th>MARCHE</th>\n",
       "      <td>14.551420</td>\n",
       "      <td>29.808208</td>\n",
       "      <td>15.472993</td>\n",
       "      <td>153.112484</td>\n",
       "      <td>51.647383</td>\n",
       "      <td>81.687737</td>\n",
       "      <td>77.512617</td>\n",
       "      <td>7.131765</td>\n",
       "      <td>41.818966</td>\n",
       "      <td>193.447908</td>\n",
       "      <td>129.452846</td>\n",
       "      <td>25.789938</td>\n",
       "      <td>821.434265</td>\n",
       "    </tr>\n",
       "    <tr>\n",
       "      <th>CALABRIA</th>\n",
       "      <td>20.452651</td>\n",
       "      <td>38.135488</td>\n",
       "      <td>23.950141</td>\n",
       "      <td>186.910380</td>\n",
       "      <td>61.628680</td>\n",
       "      <td>71.739269</td>\n",
       "      <td>80.749484</td>\n",
       "      <td>2.206211</td>\n",
       "      <td>55.836742</td>\n",
       "      <td>209.060655</td>\n",
       "      <td>77.129278</td>\n",
       "      <td>2.225974</td>\n",
       "      <td>830.024954</td>\n",
       "    </tr>\n",
       "    <tr>\n",
       "      <th>PUGLIA</th>\n",
       "      <td>18.677372</td>\n",
       "      <td>21.928073</td>\n",
       "      <td>16.793989</td>\n",
       "      <td>140.794487</td>\n",
       "      <td>70.843484</td>\n",
       "      <td>64.332549</td>\n",
       "      <td>52.563186</td>\n",
       "      <td>15.645182</td>\n",
       "      <td>41.063315</td>\n",
       "      <td>251.067461</td>\n",
       "      <td>130.372860</td>\n",
       "      <td>14.812705</td>\n",
       "      <td>838.894661</td>\n",
       "    </tr>\n",
       "    <tr>\n",
       "      <th>LOMBARDIA</th>\n",
       "      <td>14.825448</td>\n",
       "      <td>24.349360</td>\n",
       "      <td>15.088572</td>\n",
       "      <td>152.969375</td>\n",
       "      <td>67.936720</td>\n",
       "      <td>116.808578</td>\n",
       "      <td>62.903171</td>\n",
       "      <td>19.875902</td>\n",
       "      <td>39.496424</td>\n",
       "      <td>181.164853</td>\n",
       "      <td>146.968808</td>\n",
       "      <td>32.488596</td>\n",
       "      <td>874.875806</td>\n",
       "    </tr>\n",
       "    <tr>\n",
       "      <th>PIEMONTE</th>\n",
       "      <td>15.200880</td>\n",
       "      <td>32.801388</td>\n",
       "      <td>17.802954</td>\n",
       "      <td>154.332304</td>\n",
       "      <td>74.276349</td>\n",
       "      <td>102.968546</td>\n",
       "      <td>77.454220</td>\n",
       "      <td>6.473341</td>\n",
       "      <td>36.469002</td>\n",
       "      <td>213.014395</td>\n",
       "      <td>128.657229</td>\n",
       "      <td>27.366327</td>\n",
       "      <td>886.816935</td>\n",
       "    </tr>\n",
       "    <tr>\n",
       "      <th>UMBRIA</th>\n",
       "      <td>14.420277</td>\n",
       "      <td>27.998540</td>\n",
       "      <td>14.468847</td>\n",
       "      <td>176.443050</td>\n",
       "      <td>58.753779</td>\n",
       "      <td>80.047587</td>\n",
       "      <td>73.495909</td>\n",
       "      <td>33.844629</td>\n",
       "      <td>57.403077</td>\n",
       "      <td>238.708006</td>\n",
       "      <td>103.746107</td>\n",
       "      <td>30.663450</td>\n",
       "      <td>909.993258</td>\n",
       "    </tr>\n",
       "    <tr>\n",
       "      <th>BASILICATA</th>\n",
       "      <td>15.401712</td>\n",
       "      <td>46.817467</td>\n",
       "      <td>22.482263</td>\n",
       "      <td>187.699284</td>\n",
       "      <td>63.287966</td>\n",
       "      <td>90.883341</td>\n",
       "      <td>68.572758</td>\n",
       "      <td>33.047221</td>\n",
       "      <td>54.215608</td>\n",
       "      <td>201.299996</td>\n",
       "      <td>120.613182</td>\n",
       "      <td>12.092843</td>\n",
       "      <td>916.413642</td>\n",
       "    </tr>\n",
       "    <tr>\n",
       "      <th>EMILIA-ROMAGNA</th>\n",
       "      <td>14.308776</td>\n",
       "      <td>23.066809</td>\n",
       "      <td>12.883202</td>\n",
       "      <td>153.942942</td>\n",
       "      <td>60.392137</td>\n",
       "      <td>119.594868</td>\n",
       "      <td>72.050241</td>\n",
       "      <td>7.348358</td>\n",
       "      <td>54.595794</td>\n",
       "      <td>202.241881</td>\n",
       "      <td>155.988887</td>\n",
       "      <td>42.845685</td>\n",
       "      <td>919.259580</td>\n",
       "    </tr>\n",
       "    <tr>\n",
       "      <th>TOSCANA</th>\n",
       "      <td>17.507800</td>\n",
       "      <td>30.146251</td>\n",
       "      <td>13.713481</td>\n",
       "      <td>159.054212</td>\n",
       "      <td>77.505248</td>\n",
       "      <td>102.584419</td>\n",
       "      <td>62.729320</td>\n",
       "      <td>19.733295</td>\n",
       "      <td>62.817211</td>\n",
       "      <td>263.709201</td>\n",
       "      <td>133.714919</td>\n",
       "      <td>38.565730</td>\n",
       "      <td>981.781085</td>\n",
       "    </tr>\n",
       "    <tr>\n",
       "      <th>ABRUZZO</th>\n",
       "      <td>17.389323</td>\n",
       "      <td>36.627862</td>\n",
       "      <td>16.779277</td>\n",
       "      <td>149.832594</td>\n",
       "      <td>57.397331</td>\n",
       "      <td>82.358621</td>\n",
       "      <td>78.495851</td>\n",
       "      <td>11.976132</td>\n",
       "      <td>64.842669</td>\n",
       "      <td>289.941397</td>\n",
       "      <td>188.453351</td>\n",
       "      <td>18.495574</td>\n",
       "      <td>1012.589981</td>\n",
       "    </tr>\n",
       "    <tr>\n",
       "      <th>LIGURIA</th>\n",
       "      <td>18.700978</td>\n",
       "      <td>32.580219</td>\n",
       "      <td>19.583032</td>\n",
       "      <td>191.127452</td>\n",
       "      <td>90.839479</td>\n",
       "      <td>91.658655</td>\n",
       "      <td>61.030809</td>\n",
       "      <td>36.944387</td>\n",
       "      <td>70.046778</td>\n",
       "      <td>265.930886</td>\n",
       "      <td>126.983113</td>\n",
       "      <td>39.431125</td>\n",
       "      <td>1044.856914</td>\n",
       "    </tr>\n",
       "    <tr>\n",
       "      <th>CAMPANIA</th>\n",
       "      <td>19.895792</td>\n",
       "      <td>29.285525</td>\n",
       "      <td>21.302404</td>\n",
       "      <td>244.098844</td>\n",
       "      <td>100.973086</td>\n",
       "      <td>70.454201</td>\n",
       "      <td>64.473824</td>\n",
       "      <td>36.416440</td>\n",
       "      <td>46.788470</td>\n",
       "      <td>342.708595</td>\n",
       "      <td>107.051912</td>\n",
       "      <td>19.261336</td>\n",
       "      <td>1102.710430</td>\n",
       "    </tr>\n",
       "    <tr>\n",
       "      <th>LAZIO</th>\n",
       "      <td>20.995650</td>\n",
       "      <td>37.885892</td>\n",
       "      <td>17.921812</td>\n",
       "      <td>223.109417</td>\n",
       "      <td>135.823865</td>\n",
       "      <td>152.926853</td>\n",
       "      <td>77.545671</td>\n",
       "      <td>108.930895</td>\n",
       "      <td>65.457464</td>\n",
       "      <td>330.864064</td>\n",
       "      <td>171.785395</td>\n",
       "      <td>79.884744</td>\n",
       "      <td>1423.131723</td>\n",
       "    </tr>\n",
       "  </tbody>\n",
       "</table>\n",
       "</div>"
      ],
      "text/plain": [
       "                costo riscossione tributi  costo ufficio tecnico  \\\n",
       "Regione                                                            \n",
       "VENETO                          11.066791              31.689799   \n",
       "MOLISE                          20.629573              39.344185   \n",
       "MARCHE                          14.551420              29.808208   \n",
       "CALABRIA                        20.452651              38.135488   \n",
       "PUGLIA                          18.677372              21.928073   \n",
       "LOMBARDIA                       14.825448              24.349360   \n",
       "PIEMONTE                        15.200880              32.801388   \n",
       "UMBRIA                          14.420277              27.998540   \n",
       "BASILICATA                      15.401712              46.817467   \n",
       "EMILIA-ROMAGNA                  14.308776              23.066809   \n",
       "TOSCANA                         17.507800              30.146251   \n",
       "ABRUZZO                         17.389323              36.627862   \n",
       "LIGURIA                         18.700978              32.580219   \n",
       "CAMPANIA                        19.895792              29.285525   \n",
       "LAZIO                           20.995650              37.885892   \n",
       "\n",
       "                costo anagrafe, stato civile  costo altri servizi  \\\n",
       "Regione                                                             \n",
       "VENETO                             14.759061           146.247591   \n",
       "MOLISE                             21.319472           193.085556   \n",
       "MARCHE                             15.472993           153.112484   \n",
       "CALABRIA                           23.950141           186.910380   \n",
       "PUGLIA                             16.793989           140.794487   \n",
       "LOMBARDIA                          15.088572           152.969375   \n",
       "PIEMONTE                           17.802954           154.332304   \n",
       "UMBRIA                             14.468847           176.443050   \n",
       "BASILICATA                         22.482263           187.699284   \n",
       "EMILIA-ROMAGNA                     12.883202           153.942942   \n",
       "TOSCANA                            13.713481           159.054212   \n",
       "ABRUZZO                            16.779277           149.832594   \n",
       "LIGURIA                            19.583032           191.127452   \n",
       "CAMPANIA                           21.302404           244.098844   \n",
       "LAZIO                              17.921812           223.109417   \n",
       "\n",
       "                costo polizia locale  costo istruzione  costo viabilita'  \\\n",
       "Regione                                                                    \n",
       "VENETO                     48.675780         84.650250         61.381176   \n",
       "MOLISE                     54.367638         72.233437         79.765573   \n",
       "MARCHE                     51.647383         81.687737         77.512617   \n",
       "CALABRIA                   61.628680         71.739269         80.749484   \n",
       "PUGLIA                     70.843484         64.332549         52.563186   \n",
       "LOMBARDIA                  67.936720        116.808578         62.903171   \n",
       "PIEMONTE                   74.276349        102.968546         77.454220   \n",
       "UMBRIA                     58.753779         80.047587         73.495909   \n",
       "BASILICATA                 63.287966         90.883341         68.572758   \n",
       "EMILIA-ROMAGNA             60.392137        119.594868         72.050241   \n",
       "TOSCANA                    77.505248        102.584419         62.729320   \n",
       "ABRUZZO                    57.397331         82.358621         78.495851   \n",
       "LIGURIA                    90.839479         91.658655         61.030809   \n",
       "CAMPANIA                  100.973086         70.454201         64.473824   \n",
       "LAZIO                     135.823865        152.926853         77.545671   \n",
       "\n",
       "                costo trasporti  costo territorio  costo ambiente  \\\n",
       "Regione                                                             \n",
       "VENETO                11.209525         39.664089      184.865224   \n",
       "MOLISE                 7.207589         60.224729      155.110850   \n",
       "MARCHE                 7.131765         41.818966      193.447908   \n",
       "CALABRIA               2.206211         55.836742      209.060655   \n",
       "PUGLIA                15.645182         41.063315      251.067461   \n",
       "LOMBARDIA             19.875902         39.496424      181.164853   \n",
       "PIEMONTE               6.473341         36.469002      213.014395   \n",
       "UMBRIA                33.844629         57.403077      238.708006   \n",
       "BASILICATA            33.047221         54.215608      201.299996   \n",
       "EMILIA-ROMAGNA         7.348358         54.595794      202.241881   \n",
       "TOSCANA               19.733295         62.817211      263.709201   \n",
       "ABRUZZO               11.976132         64.842669      289.941397   \n",
       "LIGURIA               36.944387         70.046778      265.930886   \n",
       "CAMPANIA              36.416440         46.788470      342.708595   \n",
       "LAZIO                108.930895         65.457464      330.864064   \n",
       "\n",
       "                costo sociale  costo asili nido  costo spesa totale  \n",
       "Regione                                                              \n",
       "VENETO             126.965655         20.998212          782.173155  \n",
       "MOLISE              80.982240         10.013914          794.284756  \n",
       "MARCHE             129.452846         25.789938          821.434265  \n",
       "CALABRIA            77.129278          2.225974          830.024954  \n",
       "PUGLIA             130.372860         14.812705          838.894661  \n",
       "LOMBARDIA          146.968808         32.488596          874.875806  \n",
       "PIEMONTE           128.657229         27.366327          886.816935  \n",
       "UMBRIA             103.746107         30.663450          909.993258  \n",
       "BASILICATA         120.613182         12.092843          916.413642  \n",
       "EMILIA-ROMAGNA     155.988887         42.845685          919.259580  \n",
       "TOSCANA            133.714919         38.565730          981.781085  \n",
       "ABRUZZO            188.453351         18.495574         1012.589981  \n",
       "LIGURIA            126.983113         39.431125         1044.856914  \n",
       "CAMPANIA           107.051912         19.261336         1102.710430  \n",
       "LAZIO              171.785395         79.884744         1423.131723  "
      ]
     },
     "execution_count": 4,
     "metadata": {},
     "output_type": "execute_result"
    }
   ],
   "source": [
    "#group by Regione\n",
    "df_regioni = df.groupby([\"Regione\"]).sum()\n",
    "\n",
    "# select the columns\n",
    "dimensioni = ['tot_contribuenti']\n",
    "costi_columns = [c for c in df.columns if c.startswith('costo')]\n",
    "costi_columns.remove('costo spesa totale')\n",
    "\n",
    "#apply the selection\n",
    "df_costi = df_regioni[dimensioni + costi_columns]\n",
    "\n",
    "# divide the cost values for the number of tax payers\n",
    "df_costi_medi = df_costi.copy()\n",
    "df_costi_medi[costi_columns] = df_costi_medi[costi_columns].div(df_costi_medi['tot_contribuenti'], axis='index')\n",
    "\n",
    "df_costi_medi = df_costi_medi.drop('tot_contribuenti', axis=1)\n",
    "df_costi_medi['costo spesa totale'] = df_costi_medi[costi_columns].sum(axis=1)\n",
    "df_costi_medi = df_costi_medi.sort_values('costo spesa totale')\n",
    "\n",
    "costi_columns.append('costo spesa totale')\n",
    "df_costi_medi"
   ]
  },
  {
   "cell_type": "markdown",
   "metadata": {},
   "source": [
    "La tabella mostra come la regione con in costi piu' bassi in base al numero dei contribuenti sia il **Veneto** mentre quella con i costi piu' alti sia il **Lazio**."
   ]
  },
  {
   "cell_type": "code",
   "execution_count": 6,
   "metadata": {},
   "outputs": [
    {
     "data": {
      "application/vnd.plotly.v1+json": {
       "data": [
        {
         "name": "costo riscossione tributi",
         "type": "bar",
         "x": [
          "VENETO",
          "MOLISE",
          "MARCHE",
          "CALABRIA",
          "PUGLIA",
          "LOMBARDIA",
          "PIEMONTE",
          "UMBRIA",
          "BASILICATA",
          "EMILIA-ROMAGNA",
          "TOSCANA",
          "ABRUZZO",
          "LIGURIA",
          "CAMPANIA",
          "LAZIO"
         ],
         "y": [
          11.066790721097366,
          20.629572823650776,
          14.55141998192061,
          20.45265128644524,
          18.67737158039364,
          14.82544764702784,
          15.200879538561475,
          14.420277090344328,
          15.40171186483022,
          14.308776336934717,
          17.507799519590844,
          17.38932306408623,
          18.700978438923002,
          19.89579180558117,
          20.99565014541785
         ]
        },
        {
         "name": "costo ufficio tecnico",
         "type": "bar",
         "x": [
          "VENETO",
          "MOLISE",
          "MARCHE",
          "CALABRIA",
          "PUGLIA",
          "LOMBARDIA",
          "PIEMONTE",
          "UMBRIA",
          "BASILICATA",
          "EMILIA-ROMAGNA",
          "TOSCANA",
          "ABRUZZO",
          "LIGURIA",
          "CAMPANIA",
          "LAZIO"
         ],
         "y": [
          31.689799276837757,
          39.3441854202052,
          29.80820809744466,
          38.13548812183211,
          21.928072716658622,
          24.34935968961802,
          32.80138804408467,
          27.998539584532093,
          46.81746719502973,
          23.066808541080487,
          30.14625071377262,
          36.627861706829904,
          32.580218648862555,
          29.285524644306218,
          37.88589211403877
         ]
        },
        {
         "name": "costo anagrafe, stato civile",
         "type": "bar",
         "x": [
          "VENETO",
          "MOLISE",
          "MARCHE",
          "CALABRIA",
          "PUGLIA",
          "LOMBARDIA",
          "PIEMONTE",
          "UMBRIA",
          "BASILICATA",
          "EMILIA-ROMAGNA",
          "TOSCANA",
          "ABRUZZO",
          "LIGURIA",
          "CAMPANIA",
          "LAZIO"
         ],
         "y": [
          14.759061038314492,
          21.319471751532628,
          15.472992948518923,
          23.950141494868816,
          16.793988508735612,
          15.088571855005874,
          17.80295366940695,
          14.468847325622058,
          22.482262828309388,
          12.883201773985046,
          13.71348140221138,
          16.779277140695182,
          19.583032008530644,
          21.302404191801905,
          17.921811531989132
         ]
        },
        {
         "name": "costo altri servizi",
         "type": "bar",
         "x": [
          "VENETO",
          "MOLISE",
          "MARCHE",
          "CALABRIA",
          "PUGLIA",
          "LOMBARDIA",
          "PIEMONTE",
          "UMBRIA",
          "BASILICATA",
          "EMILIA-ROMAGNA",
          "TOSCANA",
          "ABRUZZO",
          "LIGURIA",
          "CAMPANIA",
          "LAZIO"
         ],
         "y": [
          146.24759127433094,
          193.0855557937478,
          153.11248448676403,
          186.9103795168152,
          140.7944867255576,
          152.9693749094795,
          154.33230430337343,
          176.44304968569546,
          187.6992838433976,
          153.94294201051235,
          159.05421207703438,
          149.83259364305067,
          191.12745248944313,
          244.09884442003974,
          223.10941672233636
         ]
        },
        {
         "name": "costo polizia locale",
         "type": "bar",
         "x": [
          "VENETO",
          "MOLISE",
          "MARCHE",
          "CALABRIA",
          "PUGLIA",
          "LOMBARDIA",
          "PIEMONTE",
          "UMBRIA",
          "BASILICATA",
          "EMILIA-ROMAGNA",
          "TOSCANA",
          "ABRUZZO",
          "LIGURIA",
          "CAMPANIA",
          "LAZIO"
         ],
         "y": [
          48.67578010439725,
          54.36763832715993,
          51.647382707931996,
          61.628680379171286,
          70.8434837514994,
          67.93671963281444,
          74.27634899662856,
          58.75377900054382,
          63.28796624042605,
          60.39213698196497,
          77.50524784969379,
          57.39733106010509,
          90.83947949752249,
          100.97308609369723,
          135.82386539145062
         ]
        },
        {
         "name": "costo istruzione",
         "type": "bar",
         "x": [
          "VENETO",
          "MOLISE",
          "MARCHE",
          "CALABRIA",
          "PUGLIA",
          "LOMBARDIA",
          "PIEMONTE",
          "UMBRIA",
          "BASILICATA",
          "EMILIA-ROMAGNA",
          "TOSCANA",
          "ABRUZZO",
          "LIGURIA",
          "CAMPANIA",
          "LAZIO"
         ],
         "y": [
          84.65025001111766,
          72.23343716039912,
          81.6877372542504,
          71.73926875382092,
          64.33254852783273,
          116.80857800506654,
          102.96854591429978,
          80.04758726439,
          90.88334146806474,
          119.59486820663425,
          102.58441887900543,
          82.35862074861164,
          91.65865505348127,
          70.45420073019109,
          152.92685301338088
         ]
        },
        {
         "name": "costo viabilita'",
         "type": "bar",
         "x": [
          "VENETO",
          "MOLISE",
          "MARCHE",
          "CALABRIA",
          "PUGLIA",
          "LOMBARDIA",
          "PIEMONTE",
          "UMBRIA",
          "BASILICATA",
          "EMILIA-ROMAGNA",
          "TOSCANA",
          "ABRUZZO",
          "LIGURIA",
          "CAMPANIA",
          "LAZIO"
         ],
         "y": [
          61.381176450434495,
          79.76557308239425,
          77.51261656128521,
          80.74948420170593,
          52.56318604930951,
          62.90317113139676,
          77.45422036665475,
          73.495908844419,
          68.57275766740075,
          72.05024133330998,
          62.72931983174058,
          78.49585089404397,
          61.03080852889353,
          64.47382437973087,
          77.54567116267502
         ]
        },
        {
         "name": "costo trasporti",
         "type": "bar",
         "x": [
          "VENETO",
          "MOLISE",
          "MARCHE",
          "CALABRIA",
          "PUGLIA",
          "LOMBARDIA",
          "PIEMONTE",
          "UMBRIA",
          "BASILICATA",
          "EMILIA-ROMAGNA",
          "TOSCANA",
          "ABRUZZO",
          "LIGURIA",
          "CAMPANIA",
          "LAZIO"
         ],
         "y": [
          11.209525309426882,
          7.2075887979006135,
          7.131765088705501,
          2.206211244054188,
          15.645182362118149,
          19.875902107724208,
          6.473341350529996,
          33.84462881946238,
          33.04722124847967,
          7.348357567472554,
          19.73329510019657,
          11.97613151002433,
          36.944387408140486,
          36.416440367269814,
          108.9308951461907
         ]
        },
        {
         "name": "costo territorio",
         "type": "bar",
         "x": [
          "VENETO",
          "MOLISE",
          "MARCHE",
          "CALABRIA",
          "PUGLIA",
          "LOMBARDIA",
          "PIEMONTE",
          "UMBRIA",
          "BASILICATA",
          "EMILIA-ROMAGNA",
          "TOSCANA",
          "ABRUZZO",
          "LIGURIA",
          "CAMPANIA",
          "LAZIO"
         ],
         "y": [
          39.66408881805526,
          60.22472915303472,
          41.818966396913524,
          55.83674224694319,
          41.063314681273845,
          39.49642380017016,
          36.4690020859271,
          57.4030767443906,
          54.215608073370355,
          54.59579388807233,
          62.817210599362525,
          64.84266869360555,
          70.04677841794324,
          46.788470482325636,
          65.45746415401298
         ]
        },
        {
         "name": "costo ambiente",
         "type": "bar",
         "x": [
          "VENETO",
          "MOLISE",
          "MARCHE",
          "CALABRIA",
          "PUGLIA",
          "LOMBARDIA",
          "PIEMONTE",
          "UMBRIA",
          "BASILICATA",
          "EMILIA-ROMAGNA",
          "TOSCANA",
          "ABRUZZO",
          "LIGURIA",
          "CAMPANIA",
          "LAZIO"
         ],
         "y": [
          184.8652243359201,
          155.11084997279457,
          193.44790785269169,
          209.0606547825881,
          251.0674607654293,
          181.16485262282023,
          213.01439524295645,
          238.7080062147052,
          201.299996338056,
          202.24188098625902,
          263.7092012883558,
          289.9413968603504,
          265.9308862835092,
          342.70859506377417,
          330.86406440361003
         ]
        },
        {
         "name": "costo sociale",
         "type": "bar",
         "x": [
          "VENETO",
          "MOLISE",
          "MARCHE",
          "CALABRIA",
          "PUGLIA",
          "LOMBARDIA",
          "PIEMONTE",
          "UMBRIA",
          "BASILICATA",
          "EMILIA-ROMAGNA",
          "TOSCANA",
          "ABRUZZO",
          "LIGURIA",
          "CAMPANIA",
          "LAZIO"
         ],
         "y": [
          126.96565541678211,
          80.98223951140012,
          129.45284567616727,
          77.12927808575256,
          130.37285990669778,
          146.96880792027758,
          128.65722892573817,
          103.74610692384712,
          120.61318222938108,
          155.98888738636919,
          133.7149185047181,
          188.4533508793674,
          126.98311294918393,
          107.0519121817635,
          171.78539538227878
         ]
        },
        {
         "name": "costo asili nido",
         "type": "bar",
         "x": [
          "VENETO",
          "MOLISE",
          "MARCHE",
          "CALABRIA",
          "PUGLIA",
          "LOMBARDIA",
          "PIEMONTE",
          "UMBRIA",
          "BASILICATA",
          "EMILIA-ROMAGNA",
          "TOSCANA",
          "ABRUZZO",
          "LIGURIA",
          "CAMPANIA",
          "LAZIO"
         ],
         "y": [
          20.998212460628423,
          10.013913846458145,
          25.789938119564916,
          2.225974100517583,
          14.812705125719337,
          32.48859640471023,
          27.366326627314365,
          30.66345026559799,
          12.092843022911808,
          42.845685271304234,
          38.565729623977234,
          18.495574496397243,
          39.43112466691518,
          19.261335855798183,
          79.88474406538514
         ]
        }
       ],
       "layout": {
        "barmode": "stack",
        "title": "Costi Servizi"
       }
      },
      "text/html": [
       "<div id=\"254d8ed4-e68d-4a3f-9c61-fd659a269a84\" style=\"height: 525px; width: 100%;\" class=\"plotly-graph-div\"></div><script type=\"text/javascript\">require([\"plotly\"], function(Plotly) { window.PLOTLYENV=window.PLOTLYENV || {};window.PLOTLYENV.BASE_URL=\"https://plot.ly\";Plotly.newPlot(\"254d8ed4-e68d-4a3f-9c61-fd659a269a84\", [{\"type\": \"bar\", \"x\": [\"VENETO\", \"MOLISE\", \"MARCHE\", \"CALABRIA\", \"PUGLIA\", \"LOMBARDIA\", \"PIEMONTE\", \"UMBRIA\", \"BASILICATA\", \"EMILIA-ROMAGNA\", \"TOSCANA\", \"ABRUZZO\", \"LIGURIA\", \"CAMPANIA\", \"LAZIO\"], \"y\": [11.066790721097366, 20.629572823650776, 14.55141998192061, 20.45265128644524, 18.67737158039364, 14.82544764702784, 15.200879538561475, 14.420277090344328, 15.40171186483022, 14.308776336934717, 17.507799519590844, 17.38932306408623, 18.700978438923002, 19.89579180558117, 20.99565014541785], \"name\": \"costo riscossione tributi\"}, {\"type\": \"bar\", \"x\": [\"VENETO\", \"MOLISE\", \"MARCHE\", \"CALABRIA\", \"PUGLIA\", \"LOMBARDIA\", \"PIEMONTE\", \"UMBRIA\", \"BASILICATA\", \"EMILIA-ROMAGNA\", \"TOSCANA\", \"ABRUZZO\", \"LIGURIA\", \"CAMPANIA\", \"LAZIO\"], \"y\": [31.689799276837757, 39.3441854202052, 29.80820809744466, 38.13548812183211, 21.928072716658622, 24.34935968961802, 32.80138804408467, 27.998539584532093, 46.81746719502973, 23.066808541080487, 30.14625071377262, 36.627861706829904, 32.580218648862555, 29.285524644306218, 37.88589211403877], \"name\": \"costo ufficio tecnico\"}, {\"type\": \"bar\", \"x\": [\"VENETO\", \"MOLISE\", \"MARCHE\", \"CALABRIA\", \"PUGLIA\", \"LOMBARDIA\", \"PIEMONTE\", \"UMBRIA\", \"BASILICATA\", \"EMILIA-ROMAGNA\", \"TOSCANA\", \"ABRUZZO\", \"LIGURIA\", \"CAMPANIA\", \"LAZIO\"], \"y\": [14.759061038314492, 21.319471751532628, 15.472992948518923, 23.950141494868816, 16.793988508735612, 15.088571855005874, 17.80295366940695, 14.468847325622058, 22.482262828309388, 12.883201773985046, 13.71348140221138, 16.779277140695182, 19.583032008530644, 21.302404191801905, 17.921811531989132], \"name\": \"costo anagrafe, stato civile\"}, {\"type\": \"bar\", \"x\": [\"VENETO\", \"MOLISE\", \"MARCHE\", \"CALABRIA\", \"PUGLIA\", \"LOMBARDIA\", \"PIEMONTE\", \"UMBRIA\", \"BASILICATA\", \"EMILIA-ROMAGNA\", \"TOSCANA\", \"ABRUZZO\", \"LIGURIA\", \"CAMPANIA\", \"LAZIO\"], \"y\": [146.24759127433094, 193.0855557937478, 153.11248448676403, 186.9103795168152, 140.7944867255576, 152.9693749094795, 154.33230430337343, 176.44304968569546, 187.6992838433976, 153.94294201051235, 159.05421207703438, 149.83259364305067, 191.12745248944313, 244.09884442003974, 223.10941672233636], \"name\": \"costo altri servizi\"}, {\"type\": \"bar\", \"x\": [\"VENETO\", \"MOLISE\", \"MARCHE\", \"CALABRIA\", \"PUGLIA\", \"LOMBARDIA\", \"PIEMONTE\", \"UMBRIA\", \"BASILICATA\", \"EMILIA-ROMAGNA\", \"TOSCANA\", \"ABRUZZO\", \"LIGURIA\", \"CAMPANIA\", \"LAZIO\"], \"y\": [48.67578010439725, 54.36763832715993, 51.647382707931996, 61.628680379171286, 70.8434837514994, 67.93671963281444, 74.27634899662856, 58.75377900054382, 63.28796624042605, 60.39213698196497, 77.50524784969379, 57.39733106010509, 90.83947949752249, 100.97308609369723, 135.82386539145062], \"name\": \"costo polizia locale\"}, {\"type\": \"bar\", \"x\": [\"VENETO\", \"MOLISE\", \"MARCHE\", \"CALABRIA\", \"PUGLIA\", \"LOMBARDIA\", \"PIEMONTE\", \"UMBRIA\", \"BASILICATA\", \"EMILIA-ROMAGNA\", \"TOSCANA\", \"ABRUZZO\", \"LIGURIA\", \"CAMPANIA\", \"LAZIO\"], \"y\": [84.65025001111766, 72.23343716039912, 81.6877372542504, 71.73926875382092, 64.33254852783273, 116.80857800506654, 102.96854591429978, 80.04758726439, 90.88334146806474, 119.59486820663425, 102.58441887900543, 82.35862074861164, 91.65865505348127, 70.45420073019109, 152.92685301338088], \"name\": \"costo istruzione\"}, {\"type\": \"bar\", \"x\": [\"VENETO\", \"MOLISE\", \"MARCHE\", \"CALABRIA\", \"PUGLIA\", \"LOMBARDIA\", \"PIEMONTE\", \"UMBRIA\", \"BASILICATA\", \"EMILIA-ROMAGNA\", \"TOSCANA\", \"ABRUZZO\", \"LIGURIA\", \"CAMPANIA\", \"LAZIO\"], \"y\": [61.381176450434495, 79.76557308239425, 77.51261656128521, 80.74948420170593, 52.56318604930951, 62.90317113139676, 77.45422036665475, 73.495908844419, 68.57275766740075, 72.05024133330998, 62.72931983174058, 78.49585089404397, 61.03080852889353, 64.47382437973087, 77.54567116267502], \"name\": \"costo viabilita'\"}, {\"type\": \"bar\", \"x\": [\"VENETO\", \"MOLISE\", \"MARCHE\", \"CALABRIA\", \"PUGLIA\", \"LOMBARDIA\", \"PIEMONTE\", \"UMBRIA\", \"BASILICATA\", \"EMILIA-ROMAGNA\", \"TOSCANA\", \"ABRUZZO\", \"LIGURIA\", \"CAMPANIA\", \"LAZIO\"], \"y\": [11.209525309426882, 7.2075887979006135, 7.131765088705501, 2.206211244054188, 15.645182362118149, 19.875902107724208, 6.473341350529996, 33.84462881946238, 33.04722124847967, 7.348357567472554, 19.73329510019657, 11.97613151002433, 36.944387408140486, 36.416440367269814, 108.9308951461907], \"name\": \"costo trasporti\"}, {\"type\": \"bar\", \"x\": [\"VENETO\", \"MOLISE\", \"MARCHE\", \"CALABRIA\", \"PUGLIA\", \"LOMBARDIA\", \"PIEMONTE\", \"UMBRIA\", \"BASILICATA\", \"EMILIA-ROMAGNA\", \"TOSCANA\", \"ABRUZZO\", \"LIGURIA\", \"CAMPANIA\", \"LAZIO\"], \"y\": [39.66408881805526, 60.22472915303472, 41.818966396913524, 55.83674224694319, 41.063314681273845, 39.49642380017016, 36.4690020859271, 57.4030767443906, 54.215608073370355, 54.59579388807233, 62.817210599362525, 64.84266869360555, 70.04677841794324, 46.788470482325636, 65.45746415401298], \"name\": \"costo territorio\"}, {\"type\": \"bar\", \"x\": [\"VENETO\", \"MOLISE\", \"MARCHE\", \"CALABRIA\", \"PUGLIA\", \"LOMBARDIA\", \"PIEMONTE\", \"UMBRIA\", \"BASILICATA\", \"EMILIA-ROMAGNA\", \"TOSCANA\", \"ABRUZZO\", \"LIGURIA\", \"CAMPANIA\", \"LAZIO\"], \"y\": [184.8652243359201, 155.11084997279457, 193.44790785269169, 209.0606547825881, 251.0674607654293, 181.16485262282023, 213.01439524295645, 238.7080062147052, 201.299996338056, 202.24188098625902, 263.7092012883558, 289.9413968603504, 265.9308862835092, 342.70859506377417, 330.86406440361003], \"name\": \"costo ambiente\"}, {\"type\": \"bar\", \"x\": [\"VENETO\", \"MOLISE\", \"MARCHE\", \"CALABRIA\", \"PUGLIA\", \"LOMBARDIA\", \"PIEMONTE\", \"UMBRIA\", \"BASILICATA\", \"EMILIA-ROMAGNA\", \"TOSCANA\", \"ABRUZZO\", \"LIGURIA\", \"CAMPANIA\", \"LAZIO\"], \"y\": [126.96565541678211, 80.98223951140012, 129.45284567616727, 77.12927808575256, 130.37285990669778, 146.96880792027758, 128.65722892573817, 103.74610692384712, 120.61318222938108, 155.98888738636919, 133.7149185047181, 188.4533508793674, 126.98311294918393, 107.0519121817635, 171.78539538227878], \"name\": \"costo sociale\"}, {\"type\": \"bar\", \"x\": [\"VENETO\", \"MOLISE\", \"MARCHE\", \"CALABRIA\", \"PUGLIA\", \"LOMBARDIA\", \"PIEMONTE\", \"UMBRIA\", \"BASILICATA\", \"EMILIA-ROMAGNA\", \"TOSCANA\", \"ABRUZZO\", \"LIGURIA\", \"CAMPANIA\", \"LAZIO\"], \"y\": [20.998212460628423, 10.013913846458145, 25.789938119564916, 2.225974100517583, 14.812705125719337, 32.48859640471023, 27.366326627314365, 30.66345026559799, 12.092843022911808, 42.845685271304234, 38.565729623977234, 18.495574496397243, 39.43112466691518, 19.261335855798183, 79.88474406538514], \"name\": \"costo asili nido\"}], {\"barmode\": \"stack\", \"title\": \"Costi Servizi\"}, {\"showLink\": true, \"linkText\": \"Export to plot.ly\"})});</script>"
      ],
      "text/vnd.plotly.v1+html": [
       "<div id=\"254d8ed4-e68d-4a3f-9c61-fd659a269a84\" style=\"height: 525px; width: 100%;\" class=\"plotly-graph-div\"></div><script type=\"text/javascript\">require([\"plotly\"], function(Plotly) { window.PLOTLYENV=window.PLOTLYENV || {};window.PLOTLYENV.BASE_URL=\"https://plot.ly\";Plotly.newPlot(\"254d8ed4-e68d-4a3f-9c61-fd659a269a84\", [{\"type\": \"bar\", \"x\": [\"VENETO\", \"MOLISE\", \"MARCHE\", \"CALABRIA\", \"PUGLIA\", \"LOMBARDIA\", \"PIEMONTE\", \"UMBRIA\", \"BASILICATA\", \"EMILIA-ROMAGNA\", \"TOSCANA\", \"ABRUZZO\", \"LIGURIA\", \"CAMPANIA\", \"LAZIO\"], \"y\": [11.066790721097366, 20.629572823650776, 14.55141998192061, 20.45265128644524, 18.67737158039364, 14.82544764702784, 15.200879538561475, 14.420277090344328, 15.40171186483022, 14.308776336934717, 17.507799519590844, 17.38932306408623, 18.700978438923002, 19.89579180558117, 20.99565014541785], \"name\": \"costo riscossione tributi\"}, {\"type\": \"bar\", \"x\": [\"VENETO\", \"MOLISE\", \"MARCHE\", \"CALABRIA\", \"PUGLIA\", \"LOMBARDIA\", \"PIEMONTE\", \"UMBRIA\", \"BASILICATA\", \"EMILIA-ROMAGNA\", \"TOSCANA\", \"ABRUZZO\", \"LIGURIA\", \"CAMPANIA\", \"LAZIO\"], \"y\": [31.689799276837757, 39.3441854202052, 29.80820809744466, 38.13548812183211, 21.928072716658622, 24.34935968961802, 32.80138804408467, 27.998539584532093, 46.81746719502973, 23.066808541080487, 30.14625071377262, 36.627861706829904, 32.580218648862555, 29.285524644306218, 37.88589211403877], \"name\": \"costo ufficio tecnico\"}, {\"type\": \"bar\", \"x\": [\"VENETO\", \"MOLISE\", \"MARCHE\", \"CALABRIA\", \"PUGLIA\", \"LOMBARDIA\", \"PIEMONTE\", \"UMBRIA\", \"BASILICATA\", \"EMILIA-ROMAGNA\", \"TOSCANA\", \"ABRUZZO\", \"LIGURIA\", \"CAMPANIA\", \"LAZIO\"], \"y\": [14.759061038314492, 21.319471751532628, 15.472992948518923, 23.950141494868816, 16.793988508735612, 15.088571855005874, 17.80295366940695, 14.468847325622058, 22.482262828309388, 12.883201773985046, 13.71348140221138, 16.779277140695182, 19.583032008530644, 21.302404191801905, 17.921811531989132], \"name\": \"costo anagrafe, stato civile\"}, {\"type\": \"bar\", \"x\": [\"VENETO\", \"MOLISE\", \"MARCHE\", \"CALABRIA\", \"PUGLIA\", \"LOMBARDIA\", \"PIEMONTE\", \"UMBRIA\", \"BASILICATA\", \"EMILIA-ROMAGNA\", \"TOSCANA\", \"ABRUZZO\", \"LIGURIA\", \"CAMPANIA\", \"LAZIO\"], \"y\": [146.24759127433094, 193.0855557937478, 153.11248448676403, 186.9103795168152, 140.7944867255576, 152.9693749094795, 154.33230430337343, 176.44304968569546, 187.6992838433976, 153.94294201051235, 159.05421207703438, 149.83259364305067, 191.12745248944313, 244.09884442003974, 223.10941672233636], \"name\": \"costo altri servizi\"}, {\"type\": \"bar\", \"x\": [\"VENETO\", \"MOLISE\", \"MARCHE\", \"CALABRIA\", \"PUGLIA\", \"LOMBARDIA\", \"PIEMONTE\", \"UMBRIA\", \"BASILICATA\", \"EMILIA-ROMAGNA\", \"TOSCANA\", \"ABRUZZO\", \"LIGURIA\", \"CAMPANIA\", \"LAZIO\"], \"y\": [48.67578010439725, 54.36763832715993, 51.647382707931996, 61.628680379171286, 70.8434837514994, 67.93671963281444, 74.27634899662856, 58.75377900054382, 63.28796624042605, 60.39213698196497, 77.50524784969379, 57.39733106010509, 90.83947949752249, 100.97308609369723, 135.82386539145062], \"name\": \"costo polizia locale\"}, {\"type\": \"bar\", \"x\": [\"VENETO\", \"MOLISE\", \"MARCHE\", \"CALABRIA\", \"PUGLIA\", \"LOMBARDIA\", \"PIEMONTE\", \"UMBRIA\", \"BASILICATA\", \"EMILIA-ROMAGNA\", \"TOSCANA\", \"ABRUZZO\", \"LIGURIA\", \"CAMPANIA\", \"LAZIO\"], \"y\": [84.65025001111766, 72.23343716039912, 81.6877372542504, 71.73926875382092, 64.33254852783273, 116.80857800506654, 102.96854591429978, 80.04758726439, 90.88334146806474, 119.59486820663425, 102.58441887900543, 82.35862074861164, 91.65865505348127, 70.45420073019109, 152.92685301338088], \"name\": \"costo istruzione\"}, {\"type\": \"bar\", \"x\": [\"VENETO\", \"MOLISE\", \"MARCHE\", \"CALABRIA\", \"PUGLIA\", \"LOMBARDIA\", \"PIEMONTE\", \"UMBRIA\", \"BASILICATA\", \"EMILIA-ROMAGNA\", \"TOSCANA\", \"ABRUZZO\", \"LIGURIA\", \"CAMPANIA\", \"LAZIO\"], \"y\": [61.381176450434495, 79.76557308239425, 77.51261656128521, 80.74948420170593, 52.56318604930951, 62.90317113139676, 77.45422036665475, 73.495908844419, 68.57275766740075, 72.05024133330998, 62.72931983174058, 78.49585089404397, 61.03080852889353, 64.47382437973087, 77.54567116267502], \"name\": \"costo viabilita'\"}, {\"type\": \"bar\", \"x\": [\"VENETO\", \"MOLISE\", \"MARCHE\", \"CALABRIA\", \"PUGLIA\", \"LOMBARDIA\", \"PIEMONTE\", \"UMBRIA\", \"BASILICATA\", \"EMILIA-ROMAGNA\", \"TOSCANA\", \"ABRUZZO\", \"LIGURIA\", \"CAMPANIA\", \"LAZIO\"], \"y\": [11.209525309426882, 7.2075887979006135, 7.131765088705501, 2.206211244054188, 15.645182362118149, 19.875902107724208, 6.473341350529996, 33.84462881946238, 33.04722124847967, 7.348357567472554, 19.73329510019657, 11.97613151002433, 36.944387408140486, 36.416440367269814, 108.9308951461907], \"name\": \"costo trasporti\"}, {\"type\": \"bar\", \"x\": [\"VENETO\", \"MOLISE\", \"MARCHE\", \"CALABRIA\", \"PUGLIA\", \"LOMBARDIA\", \"PIEMONTE\", \"UMBRIA\", \"BASILICATA\", \"EMILIA-ROMAGNA\", \"TOSCANA\", \"ABRUZZO\", \"LIGURIA\", \"CAMPANIA\", \"LAZIO\"], \"y\": [39.66408881805526, 60.22472915303472, 41.818966396913524, 55.83674224694319, 41.063314681273845, 39.49642380017016, 36.4690020859271, 57.4030767443906, 54.215608073370355, 54.59579388807233, 62.817210599362525, 64.84266869360555, 70.04677841794324, 46.788470482325636, 65.45746415401298], \"name\": \"costo territorio\"}, {\"type\": \"bar\", \"x\": [\"VENETO\", \"MOLISE\", \"MARCHE\", \"CALABRIA\", \"PUGLIA\", \"LOMBARDIA\", \"PIEMONTE\", \"UMBRIA\", \"BASILICATA\", \"EMILIA-ROMAGNA\", \"TOSCANA\", \"ABRUZZO\", \"LIGURIA\", \"CAMPANIA\", \"LAZIO\"], \"y\": [184.8652243359201, 155.11084997279457, 193.44790785269169, 209.0606547825881, 251.0674607654293, 181.16485262282023, 213.01439524295645, 238.7080062147052, 201.299996338056, 202.24188098625902, 263.7092012883558, 289.9413968603504, 265.9308862835092, 342.70859506377417, 330.86406440361003], \"name\": \"costo ambiente\"}, {\"type\": \"bar\", \"x\": [\"VENETO\", \"MOLISE\", \"MARCHE\", \"CALABRIA\", \"PUGLIA\", \"LOMBARDIA\", \"PIEMONTE\", \"UMBRIA\", \"BASILICATA\", \"EMILIA-ROMAGNA\", \"TOSCANA\", \"ABRUZZO\", \"LIGURIA\", \"CAMPANIA\", \"LAZIO\"], \"y\": [126.96565541678211, 80.98223951140012, 129.45284567616727, 77.12927808575256, 130.37285990669778, 146.96880792027758, 128.65722892573817, 103.74610692384712, 120.61318222938108, 155.98888738636919, 133.7149185047181, 188.4533508793674, 126.98311294918393, 107.0519121817635, 171.78539538227878], \"name\": \"costo sociale\"}, {\"type\": \"bar\", \"x\": [\"VENETO\", \"MOLISE\", \"MARCHE\", \"CALABRIA\", \"PUGLIA\", \"LOMBARDIA\", \"PIEMONTE\", \"UMBRIA\", \"BASILICATA\", \"EMILIA-ROMAGNA\", \"TOSCANA\", \"ABRUZZO\", \"LIGURIA\", \"CAMPANIA\", \"LAZIO\"], \"y\": [20.998212460628423, 10.013913846458145, 25.789938119564916, 2.225974100517583, 14.812705125719337, 32.48859640471023, 27.366326627314365, 30.66345026559799, 12.092843022911808, 42.845685271304234, 38.565729623977234, 18.495574496397243, 39.43112466691518, 19.261335855798183, 79.88474406538514], \"name\": \"costo asili nido\"}], {\"barmode\": \"stack\", \"title\": \"Costi Servizi\"}, {\"showLink\": true, \"linkText\": \"Export to plot.ly\"})});</script>"
      ]
     },
     "metadata": {},
     "output_type": "display_data"
    },
    {
     "data": {
      "image/png": "[encoded data removed]",
      "text/plain": [
       "<IPython.core.display.Image object>"
      ]
     },
     "metadata": {},
     "output_type": "display_data"
    }
   ],
   "source": [
    "data = []\n",
    "\n",
    "for c in df_costi_medi.columns[:-1]:\n",
    "    trace = go.Bar(\n",
    "        x = df_costi_medi.index.values,\n",
    "        y = df_costi_medi[c],\n",
    "        name = c\n",
    "    )\n",
    "    data.append(trace)\n",
    "\n",
    "layout = go.Layout(\n",
    "    barmode='stack',\n",
    "    title = 'Costi Servizi'\n",
    ")\n",
    "\n",
    "fig = go.Figure(data=data, layout=layout)\n",
    "py.iplot(fig)\n",
    "\n",
    "# path = py.plot(fig, include_plotlyjs=True, auto_open=False)\n",
    "# from IPython.core.display import HTML\n",
    "# with open(path.replace('file://',''),'r') as f:\n",
    "#     h = HTML(f.read())\n",
    "# display(h)\n",
    "\n",
    "fig_path = 'imgs/costi_servizi.png'\n",
    "py_on.image.save_as(fig, filename=fig_path)\n",
    "x = Image(fig_path)\n",
    "display(x)"
   ]
  },
  {
   "cell_type": "markdown",
   "metadata": {},
   "source": [
    "Da questo bar chart possiamo osservare come la Regione piu' costosa sia il Lazio mentre quella piu' economica sia il Veneto. Nel grafico interattivo possiamo deselezionare le varie voci dalla legenda e analizzare i costi in dettaglio.\n",
    "\n",
    "E' interessante notare che per:\n",
    "\n",
    "1. i **Tributi Lazio**, Molise e Calabria sono le Regioni con maggiore costo\n",
    "2. Per il **Sociale** l'Abruzzo e la Regione con i costi maggiori seguita dal Lazio\n",
    "3. Per gli **Asili Nido** il Lazio ha un coso per contribuente doppio rispetto alle altre Regioni\n",
    "4. per **l'Ambiente** Lazio e Campania sono le Regioni con costi maggiori\n",
    "5. per i **Trasporti** il Lazio spende il doppio delle altre Regioni\n",
    "6. per la **Polizia Locale** il Lazio e' seguito dalla Campania come costi.\n",
    "\n",
    "A questo punto sarebbe interessante fare una analisi di dettaglio per capire quali sono le province con i costi maggiori nel Lazio."
   ]
  },
  {
   "cell_type": "code",
   "execution_count": 8,
   "metadata": {},
   "outputs": [],
   "source": [
    "def analisi_provincia(df, name):\n",
    "    df_regione = df[df['Regione'] == name]\n",
    "\n",
    "    #group by Provincia\n",
    "    df_regione_prov = df_regione.groupby([\"Provincia\"]).sum()\n",
    "\n",
    "    # select the columns\n",
    "    dimensioni = ['tot_contribuenti']\n",
    "    costi_columns = [c for c in df.columns if c.startswith('costo')]\n",
    "    costi_columns.remove('costo spesa totale')\n",
    "\n",
    "    # #apply the selection\n",
    "    df_regione_prov = df_regione_prov[costi_columns + dimensioni]\n",
    "\n",
    "    # divide the cost values for the number of tax payers\n",
    "    df_regione_prov_media = df_regione_prov.copy()\n",
    "    df_regione_prov_media[costi_columns] = df_regione_prov_media[costi_columns].div(df_regione_prov_media['tot_contribuenti'], axis='index')\n",
    "\n",
    "    df_regione_prov_media = df_regione_prov_media.drop('tot_contribuenti', axis=1)\n",
    "    df_regione_prov_media['costo spesa totale'] = df_regione_prov_media[costi_columns].sum(axis=1)\n",
    "    df_regione_prov_media = df_regione_prov_media.sort_values('costo spesa totale')\n",
    "\n",
    "    costi_columns.append('costo spesa totale')\n",
    "    return df_regione_prov_media"
   ]
  },
  {
   "cell_type": "markdown",
   "metadata": {},
   "source": [
    "## Analisi Costi per il Lazio"
   ]
  },
  {
   "cell_type": "code",
   "execution_count": 9,
   "metadata": {},
   "outputs": [
    {
     "data": {
      "application/vnd.plotly.v1+json": {
       "data": [
        {
         "name": "costo riscossione tributi",
         "type": "bar",
         "x": [
          "FR",
          "VT",
          "LT",
          "RI",
          "RM"
         ],
         "y": [
          14.36856620429252,
          20.108003652295004,
          13.046113335139573,
          17.742475938994822,
          22.984084302344723
         ]
        },
        {
         "name": "costo ufficio tecnico",
         "type": "bar",
         "x": [
          "FR",
          "VT",
          "LT",
          "RI",
          "RM"
         ],
         "y": [
          30.53197803041781,
          31.183918034676434,
          26.033459995681532,
          46.78025697936617,
          40.45455818978083
         ]
        },
        {
         "name": "costo anagrafe, stato civile",
         "type": "bar",
         "x": [
          "FR",
          "VT",
          "LT",
          "RI",
          "RM"
         ],
         "y": [
          18.94345721167997,
          17.065517651400835,
          13.3003362336321,
          25.88296506071269,
          18.173645884910183
         ]
        },
        {
         "name": "costo altri servizi",
         "type": "bar",
         "x": [
          "FR",
          "VT",
          "LT",
          "RI",
          "RM"
         ],
         "y": [
          163.2379846853402,
          159.0364702449145,
          158.5845553981591,
          230.8010631711062,
          243.04060447989778
         ]
        },
        {
         "name": "costo polizia locale",
         "type": "bar",
         "x": [
          "FR",
          "VT",
          "LT",
          "RI",
          "RM"
         ],
         "y": [
          59.60744366900802,
          63.360560523080366,
          72.39882283123987,
          86.4904394548202,
          160.29770734865716
         ]
        },
        {
         "name": "costo istruzione",
         "type": "bar",
         "x": [
          "FR",
          "VT",
          "LT",
          "RI",
          "RM"
         ],
         "y": [
          79.25359085640108,
          62.357749874259575,
          61.47736083585817,
          102.41537904845711,
          182.23315673438444
         ]
        },
        {
         "name": "costo viabilita'",
         "type": "bar",
         "x": [
          "FR",
          "VT",
          "LT",
          "RI",
          "RM"
         ],
         "y": [
          68.62895248399876,
          69.8784455217764,
          50.30491199393765,
          94.96685708015971,
          82.0583293920124
         ]
        },
        {
         "name": "costo trasporti",
         "type": "bar",
         "x": [
          "FR",
          "VT",
          "LT",
          "RI",
          "RM"
         ],
         "y": [
          10.384909023396936,
          11.670292602734627,
          21.56798422932463,
          9.251917898689511,
          142.92539538215848
         ]
        },
        {
         "name": "costo territorio",
         "type": "bar",
         "x": [
          "FR",
          "VT",
          "LT",
          "RI",
          "RM"
         ],
         "y": [
          29.39296597293354,
          38.65645102175775,
          47.669536814044335,
          38.98371761733924,
          74.97524603839543
         ]
        },
        {
         "name": "costo ambiente",
         "type": "bar",
         "x": [
          "FR",
          "VT",
          "LT",
          "RI",
          "RM"
         ],
         "y": [
          199.3262515878161,
          206.3209476523789,
          255.50988096695266,
          238.57203831111661,
          368.86348187908925
         ]
        },
        {
         "name": "costo sociale",
         "type": "bar",
         "x": [
          "FR",
          "VT",
          "LT",
          "RI",
          "RM"
         ],
         "y": [
          104.20795357586887,
          156.33157207024706,
          144.025107975558,
          142.06639532787045,
          185.43697707105355
         ]
        },
        {
         "name": "costo asili nido",
         "type": "bar",
         "x": [
          "FR",
          "VT",
          "LT",
          "RI",
          "RM"
         ],
         "y": [
          12.506955225372685,
          14.309743233299804,
          14.660211068766856,
          35.356286901718065,
          102.87305047063693
         ]
        }
       ],
       "layout": {
        "barmode": "stack"
       }
      },
      "text/html": [
       "<div id=\"ea0dfd2c-389f-4411-ac28-b9236f633c81\" style=\"height: 525px; width: 100%;\" class=\"plotly-graph-div\"></div><script type=\"text/javascript\">require([\"plotly\"], function(Plotly) { window.PLOTLYENV=window.PLOTLYENV || {};window.PLOTLYENV.BASE_URL=\"https://plot.ly\";Plotly.newPlot(\"ea0dfd2c-389f-4411-ac28-b9236f633c81\", [{\"type\": \"bar\", \"x\": [\"FR\", \"VT\", \"LT\", \"RI\", \"RM\"], \"y\": [14.36856620429252, 20.108003652295004, 13.046113335139573, 17.742475938994822, 22.984084302344723], \"name\": \"costo riscossione tributi\"}, {\"type\": \"bar\", \"x\": [\"FR\", \"VT\", \"LT\", \"RI\", \"RM\"], \"y\": [30.53197803041781, 31.183918034676434, 26.033459995681532, 46.78025697936617, 40.45455818978083], \"name\": \"costo ufficio tecnico\"}, {\"type\": \"bar\", \"x\": [\"FR\", \"VT\", \"LT\", \"RI\", \"RM\"], \"y\": [18.94345721167997, 17.065517651400835, 13.3003362336321, 25.88296506071269, 18.173645884910183], \"name\": \"costo anagrafe, stato civile\"}, {\"type\": \"bar\", \"x\": [\"FR\", \"VT\", \"LT\", \"RI\", \"RM\"], \"y\": [163.2379846853402, 159.0364702449145, 158.5845553981591, 230.8010631711062, 243.04060447989778], \"name\": \"costo altri servizi\"}, {\"type\": \"bar\", \"x\": [\"FR\", \"VT\", \"LT\", \"RI\", \"RM\"], \"y\": [59.60744366900802, 63.360560523080366, 72.39882283123987, 86.4904394548202, 160.29770734865716], \"name\": \"costo polizia locale\"}, {\"type\": \"bar\", \"x\": [\"FR\", \"VT\", \"LT\", \"RI\", \"RM\"], \"y\": [79.25359085640108, 62.357749874259575, 61.47736083585817, 102.41537904845711, 182.23315673438444], \"name\": \"costo istruzione\"}, {\"type\": \"bar\", \"x\": [\"FR\", \"VT\", \"LT\", \"RI\", \"RM\"], \"y\": [68.62895248399876, 69.8784455217764, 50.30491199393765, 94.96685708015971, 82.0583293920124], \"name\": \"costo viabilita'\"}, {\"type\": \"bar\", \"x\": [\"FR\", \"VT\", \"LT\", \"RI\", \"RM\"], \"y\": [10.384909023396936, 11.670292602734627, 21.56798422932463, 9.251917898689511, 142.92539538215848], \"name\": \"costo trasporti\"}, {\"type\": \"bar\", \"x\": [\"FR\", \"VT\", \"LT\", \"RI\", \"RM\"], \"y\": [29.39296597293354, 38.65645102175775, 47.669536814044335, 38.98371761733924, 74.97524603839543], \"name\": \"costo territorio\"}, {\"type\": \"bar\", \"x\": [\"FR\", \"VT\", \"LT\", \"RI\", \"RM\"], \"y\": [199.3262515878161, 206.3209476523789, 255.50988096695266, 238.57203831111661, 368.86348187908925], \"name\": \"costo ambiente\"}, {\"type\": \"bar\", \"x\": [\"FR\", \"VT\", \"LT\", \"RI\", \"RM\"], \"y\": [104.20795357586887, 156.33157207024706, 144.025107975558, 142.06639532787045, 185.43697707105355], \"name\": \"costo sociale\"}, {\"type\": \"bar\", \"x\": [\"FR\", \"VT\", \"LT\", \"RI\", \"RM\"], \"y\": [12.506955225372685, 14.309743233299804, 14.660211068766856, 35.356286901718065, 102.87305047063693], \"name\": \"costo asili nido\"}], {\"barmode\": \"stack\"}, {\"showLink\": true, \"linkText\": \"Export to plot.ly\"})});</script>"
      ],
      "text/vnd.plotly.v1+html": [
       "<div id=\"ea0dfd2c-389f-4411-ac28-b9236f633c81\" style=\"height: 525px; width: 100%;\" class=\"plotly-graph-div\"></div><script type=\"text/javascript\">require([\"plotly\"], function(Plotly) { window.PLOTLYENV=window.PLOTLYENV || {};window.PLOTLYENV.BASE_URL=\"https://plot.ly\";Plotly.newPlot(\"ea0dfd2c-389f-4411-ac28-b9236f633c81\", [{\"type\": \"bar\", \"x\": [\"FR\", \"VT\", \"LT\", \"RI\", \"RM\"], \"y\": [14.36856620429252, 20.108003652295004, 13.046113335139573, 17.742475938994822, 22.984084302344723], \"name\": \"costo riscossione tributi\"}, {\"type\": \"bar\", \"x\": [\"FR\", \"VT\", \"LT\", \"RI\", \"RM\"], \"y\": [30.53197803041781, 31.183918034676434, 26.033459995681532, 46.78025697936617, 40.45455818978083], \"name\": \"costo ufficio tecnico\"}, {\"type\": \"bar\", \"x\": [\"FR\", \"VT\", \"LT\", \"RI\", \"RM\"], \"y\": [18.94345721167997, 17.065517651400835, 13.3003362336321, 25.88296506071269, 18.173645884910183], \"name\": \"costo anagrafe, stato civile\"}, {\"type\": \"bar\", \"x\": [\"FR\", \"VT\", \"LT\", \"RI\", \"RM\"], \"y\": [163.2379846853402, 159.0364702449145, 158.5845553981591, 230.8010631711062, 243.04060447989778], \"name\": \"costo altri servizi\"}, {\"type\": \"bar\", \"x\": [\"FR\", \"VT\", \"LT\", \"RI\", \"RM\"], \"y\": [59.60744366900802, 63.360560523080366, 72.39882283123987, 86.4904394548202, 160.29770734865716], \"name\": \"costo polizia locale\"}, {\"type\": \"bar\", \"x\": [\"FR\", \"VT\", \"LT\", \"RI\", \"RM\"], \"y\": [79.25359085640108, 62.357749874259575, 61.47736083585817, 102.41537904845711, 182.23315673438444], \"name\": \"costo istruzione\"}, {\"type\": \"bar\", \"x\": [\"FR\", \"VT\", \"LT\", \"RI\", \"RM\"], \"y\": [68.62895248399876, 69.8784455217764, 50.30491199393765, 94.96685708015971, 82.0583293920124], \"name\": \"costo viabilita'\"}, {\"type\": \"bar\", \"x\": [\"FR\", \"VT\", \"LT\", \"RI\", \"RM\"], \"y\": [10.384909023396936, 11.670292602734627, 21.56798422932463, 9.251917898689511, 142.92539538215848], \"name\": \"costo trasporti\"}, {\"type\": \"bar\", \"x\": [\"FR\", \"VT\", \"LT\", \"RI\", \"RM\"], \"y\": [29.39296597293354, 38.65645102175775, 47.669536814044335, 38.98371761733924, 74.97524603839543], \"name\": \"costo territorio\"}, {\"type\": \"bar\", \"x\": [\"FR\", \"VT\", \"LT\", \"RI\", \"RM\"], \"y\": [199.3262515878161, 206.3209476523789, 255.50988096695266, 238.57203831111661, 368.86348187908925], \"name\": \"costo ambiente\"}, {\"type\": \"bar\", \"x\": [\"FR\", \"VT\", \"LT\", \"RI\", \"RM\"], \"y\": [104.20795357586887, 156.33157207024706, 144.025107975558, 142.06639532787045, 185.43697707105355], \"name\": \"costo sociale\"}, {\"type\": \"bar\", \"x\": [\"FR\", \"VT\", \"LT\", \"RI\", \"RM\"], \"y\": [12.506955225372685, 14.309743233299804, 14.660211068766856, 35.356286901718065, 102.87305047063693], \"name\": \"costo asili nido\"}], {\"barmode\": \"stack\"}, {\"showLink\": true, \"linkText\": \"Export to plot.ly\"})});</script>"
      ]
     },
     "metadata": {},
     "output_type": "display_data"
    },
    {
     "data": {
      "image/png": "[encoded data removed]",
      "text/plain": [
       "<IPython.core.display.Image object>"
      ]
     },
     "metadata": {},
     "output_type": "display_data"
    }
   ],
   "source": [
    "df_lazio = analisi_provincia(df,'LAZIO')\n",
    "\n",
    "data = []\n",
    "\n",
    "for c in df_lazio.columns[:-1]:\n",
    "    trace = go.Bar(\n",
    "        x = df_lazio.index.values,\n",
    "        y = df_lazio[c],\n",
    "        name = c,\n",
    "    )\n",
    "    data.append(trace)\n",
    "\n",
    "layout = go.Layout(\n",
    "    barmode='stack'\n",
    ")\n",
    "\n",
    "fig = go.Figure(data=data, layout=layout)\n",
    "py.iplot(fig)\n",
    "\n",
    "fig_path = 'imgs/costi_servizi_lazio.png'\n",
    "py_on.image.save_as(fig, filename=fig_path)\n",
    "x = Image(fig_path)\n",
    "display(x)"
   ]
  },
  {
   "cell_type": "markdown",
   "metadata": {},
   "source": [
    "Si puo' notare come la provincia di Roma sia quelle che contribuisce maggiormente come costi.\n",
    "\n",
    "\n",
    "## Analisi Costi per il Lombardia"
   ]
  },
  {
   "cell_type": "code",
   "execution_count": 10,
   "metadata": {},
   "outputs": [
    {
     "data": {
      "application/vnd.plotly.v1+json": {
       "data": [
        {
         "name": "costo riscossione tributi",
         "type": "bar",
         "x": [
          "BG",
          "LC",
          "CR",
          "MB",
          "LO",
          "PV",
          "VA",
          "MN",
          "BS",
          "CO",
          "SO",
          "MI"
         ],
         "y": [
          13.617408140449093,
          17.895932294225087,
          12.69743442656374,
          13.57233436501034,
          14.221184454557891,
          14.508936215588355,
          15.019706693183078,
          12.793213829959274,
          16.749741284370142,
          15.613696249452053,
          16.87723224869645,
          14.792236928508705
         ]
        },
        {
         "name": "costo ufficio tecnico",
         "type": "bar",
         "x": [
          "BG",
          "LC",
          "CR",
          "MB",
          "LO",
          "PV",
          "VA",
          "MN",
          "BS",
          "CO",
          "SO",
          "MI"
         ],
         "y": [
          27.96043043647512,
          29.54821944620622,
          26.277112030331203,
          20.043146524613526,
          27.959450436129696,
          24.272561357814663,
          26.562426709790607,
          30.37650954635391,
          25.758434742742253,
          34.99121538810138,
          46.128155910500965,
          18.173727454885814
         ]
        },
        {
         "name": "costo anagrafe, stato civile",
         "type": "bar",
         "x": [
          "BG",
          "LC",
          "CR",
          "MB",
          "LO",
          "PV",
          "VA",
          "MN",
          "BS",
          "CO",
          "SO",
          "MI"
         ],
         "y": [
          14.852624570785027,
          16.59514426236214,
          14.612555634295799,
          12.233990902584306,
          16.419023447415572,
          16.846167149672947,
          14.794697486565317,
          15.006180055049532,
          15.516335812643021,
          18.127841323211936,
          19.108890462675724,
          14.568772555886419
         ]
        },
        {
         "name": "costo altri servizi",
         "type": "bar",
         "x": [
          "BG",
          "LC",
          "CR",
          "MB",
          "LO",
          "PV",
          "VA",
          "MN",
          "BS",
          "CO",
          "SO",
          "MI"
         ],
         "y": [
          135.84336583981877,
          140.84293003266748,
          166.25454758571453,
          128.3769590793271,
          154.7061473850883,
          152.85938572768103,
          141.25682864673217,
          147.86126660469074,
          147.07219864654047,
          177.82344818543416,
          170.19313335093395,
          165.57174618360912
         ]
        },
        {
         "name": "costo polizia locale",
         "type": "bar",
         "x": [
          "BG",
          "LC",
          "CR",
          "MB",
          "LO",
          "PV",
          "VA",
          "MN",
          "BS",
          "CO",
          "SO",
          "MI"
         ],
         "y": [
          50.128020979739524,
          41.71192614587701,
          40.979705261661174,
          46.757684505212744,
          42.17322323806087,
          60.01816189089646,
          50.70043350950147,
          45.677861551439264,
          58.96188886887216,
          58.175250831127464,
          44.1951674854088,
          102.77896305456352
         ]
        },
        {
         "name": "costo istruzione",
         "type": "bar",
         "x": [
          "BG",
          "LC",
          "CR",
          "MB",
          "LO",
          "PV",
          "VA",
          "MN",
          "BS",
          "CO",
          "SO",
          "MI"
         ],
         "y": [
          96.11791567235284,
          90.71109122625876,
          99.03047813416885,
          95.21265055715499,
          102.54319608105413,
          86.85399643584687,
          94.17970965432607,
          96.73490320140664,
          112.81618840579307,
          83.15552415789512,
          109.56648378676537,
          157.29814389753395
         ]
        },
        {
         "name": "costo viabilita'",
         "type": "bar",
         "x": [
          "BG",
          "LC",
          "CR",
          "MB",
          "LO",
          "PV",
          "VA",
          "MN",
          "BS",
          "CO",
          "SO",
          "MI"
         ],
         "y": [
          62.04307173862254,
          75.71661210876198,
          65.079618644553,
          50.73791562418585,
          58.69877712589904,
          71.06494063967124,
          67.92984250812857,
          71.172707756449,
          77.43595664560593,
          81.28097416862404,
          124.70390131571071,
          48.801223933436674
         ]
        },
        {
         "name": "costo trasporti",
         "type": "bar",
         "x": [
          "BG",
          "LC",
          "CR",
          "MB",
          "LO",
          "PV",
          "VA",
          "MN",
          "BS",
          "CO",
          "SO",
          "MI"
         ],
         "y": [
          0.8684294702673473,
          7.28801394889507,
          1.1608798534728284,
          6.033553157363808,
          2.5580367630590053,
          8.436426523482039,
          4.991508853549042,
          6.17784158511493,
          19.246432270992514,
          3.638251196657758,
          19.210882864874552,
          45.6525916315195
         ]
        },
        {
         "name": "costo territorio",
         "type": "bar",
         "x": [
          "BG",
          "LC",
          "CR",
          "MB",
          "LO",
          "PV",
          "VA",
          "MN",
          "BS",
          "CO",
          "SO",
          "MI"
         ],
         "y": [
          31.5084291795821,
          28.421519849408618,
          32.93993970387528,
          38.49849128761113,
          29.545219853545042,
          32.14583520492102,
          37.58064850146568,
          38.01898561508865,
          38.2706488926371,
          28.66670808356173,
          34.74285463477187,
          49.76423773312794
         ]
        },
        {
         "name": "costo ambiente",
         "type": "bar",
         "x": [
          "BG",
          "LC",
          "CR",
          "MB",
          "LO",
          "PV",
          "VA",
          "MN",
          "BS",
          "CO",
          "SO",
          "MI"
         ],
         "y": [
          137.68747974510305,
          136.28859241248742,
          156.32994119734178,
          163.16195110427165,
          156.20743378729816,
          174.4587112630421,
          167.3882767511089,
          166.51801944530132,
          165.05847308614108,
          165.7861160672693,
          177.09058266781068,
          225.90807352752205
         ]
        },
        {
         "name": "costo sociale",
         "type": "bar",
         "x": [
          "BG",
          "LC",
          "CR",
          "MB",
          "LO",
          "PV",
          "VA",
          "MN",
          "BS",
          "CO",
          "SO",
          "MI"
         ],
         "y": [
          106.07036342482876,
          126.96513456916202,
          113.68570042293985,
          150.6480337992206,
          148.44372307630104,
          104.02549172423362,
          130.99857235343998,
          139.69986838447912,
          123.40993888076278,
          136.07197953766186,
          79.08469579565707,
          193.23623253388047
         ]
        },
        {
         "name": "costo asili nido",
         "type": "bar",
         "x": [
          "BG",
          "LC",
          "CR",
          "MB",
          "LO",
          "PV",
          "VA",
          "MN",
          "BS",
          "CO",
          "SO",
          "MI"
         ],
         "y": [
          15.523717697307628,
          22.251985651158666,
          19.538753943671427,
          34.33732421277857,
          15.713457385585937,
          28.414679963278694,
          31.4800344084483,
          24.01875773286736,
          17.88099328516719,
          25.581720393112967,
          7.523700934403198,
          51.80699020936589
         ]
        }
       ],
       "layout": {
        "barmode": "stack"
       }
      },
      "text/html": [
       "<div id=\"67964699-7b6b-413c-a8b8-9a7c2f48eb16\" style=\"height: 525px; width: 100%;\" class=\"plotly-graph-div\"></div><script type=\"text/javascript\">require([\"plotly\"], function(Plotly) { window.PLOTLYENV=window.PLOTLYENV || {};window.PLOTLYENV.BASE_URL=\"https://plot.ly\";Plotly.newPlot(\"67964699-7b6b-413c-a8b8-9a7c2f48eb16\", [{\"type\": \"bar\", \"x\": [\"BG\", \"LC\", \"CR\", \"MB\", \"LO\", \"PV\", \"VA\", \"MN\", \"BS\", \"CO\", \"SO\", \"MI\"], \"y\": [13.617408140449093, 17.895932294225087, 12.69743442656374, 13.57233436501034, 14.221184454557891, 14.508936215588355, 15.019706693183078, 12.793213829959274, 16.749741284370142, 15.613696249452053, 16.87723224869645, 14.792236928508705], \"name\": \"costo riscossione tributi\"}, {\"type\": \"bar\", \"x\": [\"BG\", \"LC\", \"CR\", \"MB\", \"LO\", \"PV\", \"VA\", \"MN\", \"BS\", \"CO\", \"SO\", \"MI\"], \"y\": [27.96043043647512, 29.54821944620622, 26.277112030331203, 20.043146524613526, 27.959450436129696, 24.272561357814663, 26.562426709790607, 30.37650954635391, 25.758434742742253, 34.99121538810138, 46.128155910500965, 18.173727454885814], \"name\": \"costo ufficio tecnico\"}, {\"type\": \"bar\", \"x\": [\"BG\", \"LC\", \"CR\", \"MB\", \"LO\", \"PV\", \"VA\", \"MN\", \"BS\", \"CO\", \"SO\", \"MI\"], \"y\": [14.852624570785027, 16.59514426236214, 14.612555634295799, 12.233990902584306, 16.419023447415572, 16.846167149672947, 14.794697486565317, 15.006180055049532, 15.516335812643021, 18.127841323211936, 19.108890462675724, 14.568772555886419], \"name\": \"costo anagrafe, stato civile\"}, {\"type\": \"bar\", \"x\": [\"BG\", \"LC\", \"CR\", \"MB\", \"LO\", \"PV\", \"VA\", \"MN\", \"BS\", \"CO\", \"SO\", \"MI\"], \"y\": [135.84336583981877, 140.84293003266748, 166.25454758571453, 128.3769590793271, 154.7061473850883, 152.85938572768103, 141.25682864673217, 147.86126660469074, 147.07219864654047, 177.82344818543416, 170.19313335093395, 165.57174618360912], \"name\": \"costo altri servizi\"}, {\"type\": \"bar\", \"x\": [\"BG\", \"LC\", \"CR\", \"MB\", \"LO\", \"PV\", \"VA\", \"MN\", \"BS\", \"CO\", \"SO\", \"MI\"], \"y\": [50.128020979739524, 41.71192614587701, 40.979705261661174, 46.757684505212744, 42.17322323806087, 60.01816189089646, 50.70043350950147, 45.677861551439264, 58.96188886887216, 58.175250831127464, 44.1951674854088, 102.77896305456352], \"name\": \"costo polizia locale\"}, {\"type\": \"bar\", \"x\": [\"BG\", \"LC\", \"CR\", \"MB\", \"LO\", \"PV\", \"VA\", \"MN\", \"BS\", \"CO\", \"SO\", \"MI\"], \"y\": [96.11791567235284, 90.71109122625876, 99.03047813416885, 95.21265055715499, 102.54319608105413, 86.85399643584687, 94.17970965432607, 96.73490320140664, 112.81618840579307, 83.15552415789512, 109.56648378676537, 157.29814389753395], \"name\": \"costo istruzione\"}, {\"type\": \"bar\", \"x\": [\"BG\", \"LC\", \"CR\", \"MB\", \"LO\", \"PV\", \"VA\", \"MN\", \"BS\", \"CO\", \"SO\", \"MI\"], \"y\": [62.04307173862254, 75.71661210876198, 65.079618644553, 50.73791562418585, 58.69877712589904, 71.06494063967124, 67.92984250812857, 71.172707756449, 77.43595664560593, 81.28097416862404, 124.70390131571071, 48.801223933436674], \"name\": \"costo viabilita'\"}, {\"type\": \"bar\", \"x\": [\"BG\", \"LC\", \"CR\", \"MB\", \"LO\", \"PV\", \"VA\", \"MN\", \"BS\", \"CO\", \"SO\", \"MI\"], \"y\": [0.8684294702673473, 7.28801394889507, 1.1608798534728284, 6.033553157363808, 2.5580367630590053, 8.436426523482039, 4.991508853549042, 6.17784158511493, 19.246432270992514, 3.638251196657758, 19.210882864874552, 45.6525916315195], \"name\": \"costo trasporti\"}, {\"type\": \"bar\", \"x\": [\"BG\", \"LC\", \"CR\", \"MB\", \"LO\", \"PV\", \"VA\", \"MN\", \"BS\", \"CO\", \"SO\", \"MI\"], \"y\": [31.5084291795821, 28.421519849408618, 32.93993970387528, 38.49849128761113, 29.545219853545042, 32.14583520492102, 37.58064850146568, 38.01898561508865, 38.2706488926371, 28.66670808356173, 34.74285463477187, 49.76423773312794], \"name\": \"costo territorio\"}, {\"type\": \"bar\", \"x\": [\"BG\", \"LC\", \"CR\", \"MB\", \"LO\", \"PV\", \"VA\", \"MN\", \"BS\", \"CO\", \"SO\", \"MI\"], \"y\": [137.68747974510305, 136.28859241248742, 156.32994119734178, 163.16195110427165, 156.20743378729816, 174.4587112630421, 167.3882767511089, 166.51801944530132, 165.05847308614108, 165.7861160672693, 177.09058266781068, 225.90807352752205], \"name\": \"costo ambiente\"}, {\"type\": \"bar\", \"x\": [\"BG\", \"LC\", \"CR\", \"MB\", \"LO\", \"PV\", \"VA\", \"MN\", \"BS\", \"CO\", \"SO\", \"MI\"], \"y\": [106.07036342482876, 126.96513456916202, 113.68570042293985, 150.6480337992206, 148.44372307630104, 104.02549172423362, 130.99857235343998, 139.69986838447912, 123.40993888076278, 136.07197953766186, 79.08469579565707, 193.23623253388047], \"name\": \"costo sociale\"}, {\"type\": \"bar\", \"x\": [\"BG\", \"LC\", \"CR\", \"MB\", \"LO\", \"PV\", \"VA\", \"MN\", \"BS\", \"CO\", \"SO\", \"MI\"], \"y\": [15.523717697307628, 22.251985651158666, 19.538753943671427, 34.33732421277857, 15.713457385585937, 28.414679963278694, 31.4800344084483, 24.01875773286736, 17.88099328516719, 25.581720393112967, 7.523700934403198, 51.80699020936589], \"name\": \"costo asili nido\"}], {\"barmode\": \"stack\"}, {\"showLink\": true, \"linkText\": \"Export to plot.ly\"})});</script>"
      ],
      "text/vnd.plotly.v1+html": [
       "<div id=\"67964699-7b6b-413c-a8b8-9a7c2f48eb16\" style=\"height: 525px; width: 100%;\" class=\"plotly-graph-div\"></div><script type=\"text/javascript\">require([\"plotly\"], function(Plotly) { window.PLOTLYENV=window.PLOTLYENV || {};window.PLOTLYENV.BASE_URL=\"https://plot.ly\";Plotly.newPlot(\"67964699-7b6b-413c-a8b8-9a7c2f48eb16\", [{\"type\": \"bar\", \"x\": [\"BG\", \"LC\", \"CR\", \"MB\", \"LO\", \"PV\", \"VA\", \"MN\", \"BS\", \"CO\", \"SO\", \"MI\"], \"y\": [13.617408140449093, 17.895932294225087, 12.69743442656374, 13.57233436501034, 14.221184454557891, 14.508936215588355, 15.019706693183078, 12.793213829959274, 16.749741284370142, 15.613696249452053, 16.87723224869645, 14.792236928508705], \"name\": \"costo riscossione tributi\"}, {\"type\": \"bar\", \"x\": [\"BG\", \"LC\", \"CR\", \"MB\", \"LO\", \"PV\", \"VA\", \"MN\", \"BS\", \"CO\", \"SO\", \"MI\"], \"y\": [27.96043043647512, 29.54821944620622, 26.277112030331203, 20.043146524613526, 27.959450436129696, 24.272561357814663, 26.562426709790607, 30.37650954635391, 25.758434742742253, 34.99121538810138, 46.128155910500965, 18.173727454885814], \"name\": \"costo ufficio tecnico\"}, {\"type\": \"bar\", \"x\": [\"BG\", \"LC\", \"CR\", \"MB\", \"LO\", \"PV\", \"VA\", \"MN\", \"BS\", \"CO\", \"SO\", \"MI\"], \"y\": [14.852624570785027, 16.59514426236214, 14.612555634295799, 12.233990902584306, 16.419023447415572, 16.846167149672947, 14.794697486565317, 15.006180055049532, 15.516335812643021, 18.127841323211936, 19.108890462675724, 14.568772555886419], \"name\": \"costo anagrafe, stato civile\"}, {\"type\": \"bar\", \"x\": [\"BG\", \"LC\", \"CR\", \"MB\", \"LO\", \"PV\", \"VA\", \"MN\", \"BS\", \"CO\", \"SO\", \"MI\"], \"y\": [135.84336583981877, 140.84293003266748, 166.25454758571453, 128.3769590793271, 154.7061473850883, 152.85938572768103, 141.25682864673217, 147.86126660469074, 147.07219864654047, 177.82344818543416, 170.19313335093395, 165.57174618360912], \"name\": \"costo altri servizi\"}, {\"type\": \"bar\", \"x\": [\"BG\", \"LC\", \"CR\", \"MB\", \"LO\", \"PV\", \"VA\", \"MN\", \"BS\", \"CO\", \"SO\", \"MI\"], \"y\": [50.128020979739524, 41.71192614587701, 40.979705261661174, 46.757684505212744, 42.17322323806087, 60.01816189089646, 50.70043350950147, 45.677861551439264, 58.96188886887216, 58.175250831127464, 44.1951674854088, 102.77896305456352], \"name\": \"costo polizia locale\"}, {\"type\": \"bar\", \"x\": [\"BG\", \"LC\", \"CR\", \"MB\", \"LO\", \"PV\", \"VA\", \"MN\", \"BS\", \"CO\", \"SO\", \"MI\"], \"y\": [96.11791567235284, 90.71109122625876, 99.03047813416885, 95.21265055715499, 102.54319608105413, 86.85399643584687, 94.17970965432607, 96.73490320140664, 112.81618840579307, 83.15552415789512, 109.56648378676537, 157.29814389753395], \"name\": \"costo istruzione\"}, {\"type\": \"bar\", \"x\": [\"BG\", \"LC\", \"CR\", \"MB\", \"LO\", \"PV\", \"VA\", \"MN\", \"BS\", \"CO\", \"SO\", \"MI\"], \"y\": [62.04307173862254, 75.71661210876198, 65.079618644553, 50.73791562418585, 58.69877712589904, 71.06494063967124, 67.92984250812857, 71.172707756449, 77.43595664560593, 81.28097416862404, 124.70390131571071, 48.801223933436674], \"name\": \"costo viabilita'\"}, {\"type\": \"bar\", \"x\": [\"BG\", \"LC\", \"CR\", \"MB\", \"LO\", \"PV\", \"VA\", \"MN\", \"BS\", \"CO\", \"SO\", \"MI\"], \"y\": [0.8684294702673473, 7.28801394889507, 1.1608798534728284, 6.033553157363808, 2.5580367630590053, 8.436426523482039, 4.991508853549042, 6.17784158511493, 19.246432270992514, 3.638251196657758, 19.210882864874552, 45.6525916315195], \"name\": \"costo trasporti\"}, {\"type\": \"bar\", \"x\": [\"BG\", \"LC\", \"CR\", \"MB\", \"LO\", \"PV\", \"VA\", \"MN\", \"BS\", \"CO\", \"SO\", \"MI\"], \"y\": [31.5084291795821, 28.421519849408618, 32.93993970387528, 38.49849128761113, 29.545219853545042, 32.14583520492102, 37.58064850146568, 38.01898561508865, 38.2706488926371, 28.66670808356173, 34.74285463477187, 49.76423773312794], \"name\": \"costo territorio\"}, {\"type\": \"bar\", \"x\": [\"BG\", \"LC\", \"CR\", \"MB\", \"LO\", \"PV\", \"VA\", \"MN\", \"BS\", \"CO\", \"SO\", \"MI\"], \"y\": [137.68747974510305, 136.28859241248742, 156.32994119734178, 163.16195110427165, 156.20743378729816, 174.4587112630421, 167.3882767511089, 166.51801944530132, 165.05847308614108, 165.7861160672693, 177.09058266781068, 225.90807352752205], \"name\": \"costo ambiente\"}, {\"type\": \"bar\", \"x\": [\"BG\", \"LC\", \"CR\", \"MB\", \"LO\", \"PV\", \"VA\", \"MN\", \"BS\", \"CO\", \"SO\", \"MI\"], \"y\": [106.07036342482876, 126.96513456916202, 113.68570042293985, 150.6480337992206, 148.44372307630104, 104.02549172423362, 130.99857235343998, 139.69986838447912, 123.40993888076278, 136.07197953766186, 79.08469579565707, 193.23623253388047], \"name\": \"costo sociale\"}, {\"type\": \"bar\", \"x\": [\"BG\", \"LC\", \"CR\", \"MB\", \"LO\", \"PV\", \"VA\", \"MN\", \"BS\", \"CO\", \"SO\", \"MI\"], \"y\": [15.523717697307628, 22.251985651158666, 19.538753943671427, 34.33732421277857, 15.713457385585937, 28.414679963278694, 31.4800344084483, 24.01875773286736, 17.88099328516719, 25.581720393112967, 7.523700934403198, 51.80699020936589], \"name\": \"costo asili nido\"}], {\"barmode\": \"stack\"}, {\"showLink\": true, \"linkText\": \"Export to plot.ly\"})});</script>"
      ]
     },
     "metadata": {},
     "output_type": "display_data"
    },
    {
     "data": {
      "image/png": "[encoded data removed]",
      "text/plain": [
       "<IPython.core.display.Image object>"
      ]
     },
     "metadata": {},
     "output_type": "display_data"
    }
   ],
   "source": [
    "df_lombardia = analisi_provincia(df, 'LOMBARDIA')\n",
    "data = []\n",
    "\n",
    "for c in df_lombardia.columns[:-1]:\n",
    "    trace = go.Bar(\n",
    "        x = df_lombardia.index.values,\n",
    "        y = df_lombardia[c],\n",
    "        name = c,\n",
    "    )\n",
    "    data.append(trace)\n",
    "\n",
    "layout = go.Layout(\n",
    "    barmode='stack'\n",
    ")\n",
    "\n",
    "fig = go.Figure(data=data, layout=layout)\n",
    "py.iplot(fig)\n",
    "\n",
    "fig_path = 'imgs/costi_servizi_lombardia.png'\n",
    "py_on.image.save_as(fig, filename=fig_path)\n",
    "x = Image(fig_path)\n",
    "display(x)"
   ]
  },
  {
   "cell_type": "markdown",
   "metadata": {},
   "source": [
    "In questo caso Milano e' la citta con costi piu' alti mentre Bergamo quella con costi piu' Bassi."
   ]
  }
 ],
 "metadata": {
  "kernelspec": {
   "display_name": "Python 3",
   "language": "python",
   "name": "python3"
  },
  "language_info": {
   "codemirror_mode": {
    "name": "ipython",
    "version": 3
   },
   "file_extension": ".py",
   "mimetype": "text/x-python",
   "name": "python",
   "nbconvert_exporter": "python",
   "pygments_lexer": "ipython3",
   "version": "3.6.4"
  }
 },
 "nbformat": 4,
 "nbformat_minor": 2
}
