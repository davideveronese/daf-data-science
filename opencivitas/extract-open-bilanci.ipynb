{
 "cells": [
  {
   "cell_type": "code",
   "execution_count": 287,
   "metadata": {},
   "outputs": [],
   "source": [
    "import urllib.request, json\n",
    "import numpy as np\n",
    "import pandas as pd"
   ]
  },
  {
   "cell_type": "code",
   "execution_count": 288,
   "metadata": {},
   "outputs": [],
   "source": [
    "df_sose = pd.read_csv('./data/opencivitas-spesa-storica+dati-irpef.csv')"
   ]
  },
  {
   "cell_type": "code",
   "execution_count": 327,
   "metadata": {},
   "outputs": [
    {
     "data": {
      "text/plain": [
       "(26702, 98)"
      ]
     },
     "execution_count": 327,
     "metadata": {},
     "output_type": "execute_result"
    }
   ],
   "source": [
    "df_sose.shape"
   ]
  },
  {
   "cell_type": "code",
   "execution_count": 344,
   "metadata": {},
   "outputs": [
    {
     "data": {
      "text/plain": [
       "2011    6699\n",
       "2010    6699\n",
       "2012    6664\n",
       "2013    6640\n",
       "Name: ANNO, dtype: int64"
      ]
     },
     "execution_count": 344,
     "metadata": {},
     "output_type": "execute_result"
    }
   ],
   "source": [
    "df_sose.ANNO.value_counts()"
   ]
  },
  {
   "cell_type": "code",
   "execution_count": 329,
   "metadata": {},
   "outputs": [
    {
     "data": {
      "text/plain": [
       "(0, 98)"
      ]
     },
     "execution_count": 329,
     "metadata": {},
     "output_type": "execute_result"
    }
   ],
   "source": [
    "copy = df_sose.dropna()\n",
    "copy.shape"
   ]
  },
  {
   "cell_type": "code",
   "execution_count": 336,
   "metadata": {},
   "outputs": [],
   "source": [
    "columns = ['COMUNE_CAT_COD','Denominazione Comune', 'ANNO', 'Sigla Provincia_y']"
   ]
  },
  {
   "cell_type": "code",
   "execution_count": 337,
   "metadata": {},
   "outputs": [],
   "source": [
    "sample = df_sose[columns].iloc[:10,:]"
   ]
  },
  {
   "cell_type": "code",
   "execution_count": 339,
   "metadata": {},
   "outputs": [
    {
     "data": {
      "text/html": [
       "<div>\n",
       "<style scoped>\n",
       "    .dataframe tbody tr th:only-of-type {\n",
       "        vertical-align: middle;\n",
       "    }\n",
       "\n",
       "    .dataframe tbody tr th {\n",
       "        vertical-align: top;\n",
       "    }\n",
       "\n",
       "    .dataframe thead th {\n",
       "        text-align: right;\n",
       "    }\n",
       "</style>\n",
       "<table border=\"1\" class=\"dataframe\">\n",
       "  <thead>\n",
       "    <tr style=\"text-align: right;\">\n",
       "      <th></th>\n",
       "      <th>COMUNE_CAT_COD</th>\n",
       "      <th>Denominazione Comune</th>\n",
       "      <th>ANNO</th>\n",
       "      <th>Sigla Provincia_y</th>\n",
       "    </tr>\n",
       "  </thead>\n",
       "  <tbody>\n",
       "    <tr>\n",
       "      <th>0</th>\n",
       "      <td>A001</td>\n",
       "      <td>ABANO TERME</td>\n",
       "      <td>2010</td>\n",
       "      <td>PD</td>\n",
       "    </tr>\n",
       "    <tr>\n",
       "      <th>1</th>\n",
       "      <td>A004</td>\n",
       "      <td>ABBADIA CERRETO</td>\n",
       "      <td>2010</td>\n",
       "      <td>LO</td>\n",
       "    </tr>\n",
       "    <tr>\n",
       "      <th>2</th>\n",
       "      <td>A005</td>\n",
       "      <td>ABBADIA LARIANA</td>\n",
       "      <td>2010</td>\n",
       "      <td>LC</td>\n",
       "    </tr>\n",
       "    <tr>\n",
       "      <th>3</th>\n",
       "      <td>A006</td>\n",
       "      <td>ABBADIA SAN SALVATORE</td>\n",
       "      <td>2010</td>\n",
       "      <td>SI</td>\n",
       "    </tr>\n",
       "    <tr>\n",
       "      <th>4</th>\n",
       "      <td>A008</td>\n",
       "      <td>ABBATEGGIO</td>\n",
       "      <td>2010</td>\n",
       "      <td>PE</td>\n",
       "    </tr>\n",
       "    <tr>\n",
       "      <th>5</th>\n",
       "      <td>A010</td>\n",
       "      <td>ABBIATEGRASSO</td>\n",
       "      <td>2010</td>\n",
       "      <td>MI</td>\n",
       "    </tr>\n",
       "    <tr>\n",
       "      <th>6</th>\n",
       "      <td>A012</td>\n",
       "      <td>ABETONE</td>\n",
       "      <td>2010</td>\n",
       "      <td>PT</td>\n",
       "    </tr>\n",
       "    <tr>\n",
       "      <th>7</th>\n",
       "      <td>A013</td>\n",
       "      <td>ABRIOLA</td>\n",
       "      <td>2010</td>\n",
       "      <td>PZ</td>\n",
       "    </tr>\n",
       "    <tr>\n",
       "      <th>8</th>\n",
       "      <td>A015</td>\n",
       "      <td>ACCADIA</td>\n",
       "      <td>2010</td>\n",
       "      <td>FG</td>\n",
       "    </tr>\n",
       "    <tr>\n",
       "      <th>9</th>\n",
       "      <td>A016</td>\n",
       "      <td>ACCEGLIO</td>\n",
       "      <td>2010</td>\n",
       "      <td>CN</td>\n",
       "    </tr>\n",
       "  </tbody>\n",
       "</table>\n",
       "</div>"
      ],
      "text/plain": [
       "  COMUNE_CAT_COD   Denominazione Comune  ANNO Sigla Provincia_y\n",
       "0           A001            ABANO TERME  2010                PD\n",
       "1           A004        ABBADIA CERRETO  2010                LO\n",
       "2           A005        ABBADIA LARIANA  2010                LC\n",
       "3           A006  ABBADIA SAN SALVATORE  2010                SI\n",
       "4           A008             ABBATEGGIO  2010                PE\n",
       "5           A010          ABBIATEGRASSO  2010                MI\n",
       "6           A012                ABETONE  2010                PT\n",
       "7           A013                ABRIOLA  2010                PZ\n",
       "8           A015                ACCADIA  2010                FG\n",
       "9           A016               ACCEGLIO  2010                CN"
      ]
     },
     "execution_count": 339,
     "metadata": {},
     "output_type": "execute_result"
    }
   ],
   "source": [
    "sample"
   ]
  },
  {
   "cell_type": "code",
   "execution_count": 342,
   "metadata": {},
   "outputs": [],
   "source": [
    "data_types = ['entrate', 'spese']\n",
    "base_url = 'https://www.openbilanci.it/armonizzati/bilanci/%s-comune-%s/%s/dettaglio.json?year=2016&type=preventivo'"
   ]
  },
  {
   "cell_type": "code",
   "execution_count": 343,
   "metadata": {},
   "outputs": [
    {
     "name": "stdout",
     "output_type": "stream",
     "text": [
      "https://www.openbilanci.it/armonizzati/bilanci/abano-terme-comune-pd/entrate/dettaglio.json?year=2016&type=preventivo\n",
      "https://www.openbilanci.it/armonizzati/bilanci/abbadia-cerreto-comune-lo/entrate/dettaglio.json?year=2016&type=preventivo\n",
      "https://www.openbilanci.it/armonizzati/bilanci/abbadia-lariana-comune-lc/entrate/dettaglio.json?year=2016&type=preventivo\n",
      "https://www.openbilanci.it/armonizzati/bilanci/abbadia-san-salvatore-comune-si/entrate/dettaglio.json?year=2016&type=preventivo\n",
      "https://www.openbilanci.it/armonizzati/bilanci/abbateggio-comune-pe/entrate/dettaglio.json?year=2016&type=preventivo\n",
      "https://www.openbilanci.it/armonizzati/bilanci/abbiategrasso-comune-mi/entrate/dettaglio.json?year=2016&type=preventivo\n",
      "https://www.openbilanci.it/armonizzati/bilanci/abetone-comune-pt/entrate/dettaglio.json?year=2016&type=preventivo\n",
      "https://www.openbilanci.it/armonizzati/bilanci/abriola-comune-pz/entrate/dettaglio.json?year=2016&type=preventivo\n",
      "https://www.openbilanci.it/armonizzati/bilanci/accadia-comune-fg/entrate/dettaglio.json?year=2016&type=preventivo\n",
      "https://www.openbilanci.it/armonizzati/bilanci/acceglio-comune-cn/entrate/dettaglio.json?year=2016&type=preventivo\n"
     ]
    }
   ],
   "source": [
    "for r in sample.values:\n",
    "    cod, city, year, province = r\n",
    "    if city is not 'Nan':\n",
    "        city = city.lower().replace(' ', '-')\n",
    "        province = province.lower()\n",
    "        city_url = base_url  % (city, province, data_types[0])\n",
    "        print(city_url)"
   ]
  },
  {
   "cell_type": "code",
   "execution_count": 324,
   "metadata": {},
   "outputs": [
    {
     "ename": "HTTPError",
     "evalue": "HTTP Error 404: Not Found",
     "output_type": "error",
     "traceback": [
      "\u001b[0;31m---------------------------------------------------------------------------\u001b[0m",
      "\u001b[0;31mHTTPError\u001b[0m                                 Traceback (most recent call last)",
      "\u001b[0;32m<ipython-input-324-13f2f7ebfea2>\u001b[0m in \u001b[0;36m<module>\u001b[0;34m()\u001b[0m\n\u001b[1;32m      1\u001b[0m \u001b[0mcity_url\u001b[0m \u001b[0;34m=\u001b[0m \u001b[0mbase_url\u001b[0m  \u001b[0;34m%\u001b[0m \u001b[0;34m(\u001b[0m\u001b[0mcity\u001b[0m\u001b[0;34m,\u001b[0m \u001b[0mprovince\u001b[0m\u001b[0;34m,\u001b[0m \u001b[0mdata_types\u001b[0m\u001b[0;34m[\u001b[0m\u001b[0;36m0\u001b[0m\u001b[0;34m]\u001b[0m\u001b[0;34m)\u001b[0m\u001b[0;34m\u001b[0m\u001b[0m\n\u001b[0;32m----> 2\u001b[0;31m \u001b[0;32mwith\u001b[0m \u001b[0murllib\u001b[0m\u001b[0;34m.\u001b[0m\u001b[0mrequest\u001b[0m\u001b[0;34m.\u001b[0m\u001b[0murlopen\u001b[0m\u001b[0;34m(\u001b[0m\u001b[0mcity_url\u001b[0m\u001b[0;34m)\u001b[0m \u001b[0;32mas\u001b[0m \u001b[0murl\u001b[0m\u001b[0;34m:\u001b[0m\u001b[0;34m\u001b[0m\u001b[0m\n\u001b[0m\u001b[1;32m      3\u001b[0m     \u001b[0mdata\u001b[0m \u001b[0;34m=\u001b[0m \u001b[0mjson\u001b[0m\u001b[0;34m.\u001b[0m\u001b[0mloads\u001b[0m\u001b[0;34m(\u001b[0m\u001b[0murl\u001b[0m\u001b[0;34m.\u001b[0m\u001b[0mread\u001b[0m\u001b[0;34m(\u001b[0m\u001b[0;34m)\u001b[0m\u001b[0;34m.\u001b[0m\u001b[0mdecode\u001b[0m\u001b[0;34m(\u001b[0m\u001b[0;34m)\u001b[0m\u001b[0;34m)\u001b[0m\u001b[0;34m\u001b[0m\u001b[0m\n",
      "\u001b[0;32m~/anaconda3/envs/daf/lib/python3.6/urllib/request.py\u001b[0m in \u001b[0;36murlopen\u001b[0;34m(url, data, timeout, cafile, capath, cadefault, context)\u001b[0m\n\u001b[1;32m    221\u001b[0m     \u001b[0;32melse\u001b[0m\u001b[0;34m:\u001b[0m\u001b[0;34m\u001b[0m\u001b[0m\n\u001b[1;32m    222\u001b[0m         \u001b[0mopener\u001b[0m \u001b[0;34m=\u001b[0m \u001b[0m_opener\u001b[0m\u001b[0;34m\u001b[0m\u001b[0m\n\u001b[0;32m--> 223\u001b[0;31m     \u001b[0;32mreturn\u001b[0m \u001b[0mopener\u001b[0m\u001b[0;34m.\u001b[0m\u001b[0mopen\u001b[0m\u001b[0;34m(\u001b[0m\u001b[0murl\u001b[0m\u001b[0;34m,\u001b[0m \u001b[0mdata\u001b[0m\u001b[0;34m,\u001b[0m \u001b[0mtimeout\u001b[0m\u001b[0;34m)\u001b[0m\u001b[0;34m\u001b[0m\u001b[0m\n\u001b[0m\u001b[1;32m    224\u001b[0m \u001b[0;34m\u001b[0m\u001b[0m\n\u001b[1;32m    225\u001b[0m \u001b[0;32mdef\u001b[0m \u001b[0minstall_opener\u001b[0m\u001b[0;34m(\u001b[0m\u001b[0mopener\u001b[0m\u001b[0;34m)\u001b[0m\u001b[0;34m:\u001b[0m\u001b[0;34m\u001b[0m\u001b[0m\n",
      "\u001b[0;32m~/anaconda3/envs/daf/lib/python3.6/urllib/request.py\u001b[0m in \u001b[0;36mopen\u001b[0;34m(self, fullurl, data, timeout)\u001b[0m\n\u001b[1;32m    530\u001b[0m         \u001b[0;32mfor\u001b[0m \u001b[0mprocessor\u001b[0m \u001b[0;32min\u001b[0m \u001b[0mself\u001b[0m\u001b[0;34m.\u001b[0m\u001b[0mprocess_response\u001b[0m\u001b[0;34m.\u001b[0m\u001b[0mget\u001b[0m\u001b[0;34m(\u001b[0m\u001b[0mprotocol\u001b[0m\u001b[0;34m,\u001b[0m \u001b[0;34m[\u001b[0m\u001b[0;34m]\u001b[0m\u001b[0;34m)\u001b[0m\u001b[0;34m:\u001b[0m\u001b[0;34m\u001b[0m\u001b[0m\n\u001b[1;32m    531\u001b[0m             \u001b[0mmeth\u001b[0m \u001b[0;34m=\u001b[0m \u001b[0mgetattr\u001b[0m\u001b[0;34m(\u001b[0m\u001b[0mprocessor\u001b[0m\u001b[0;34m,\u001b[0m \u001b[0mmeth_name\u001b[0m\u001b[0;34m)\u001b[0m\u001b[0;34m\u001b[0m\u001b[0m\n\u001b[0;32m--> 532\u001b[0;31m             \u001b[0mresponse\u001b[0m \u001b[0;34m=\u001b[0m \u001b[0mmeth\u001b[0m\u001b[0;34m(\u001b[0m\u001b[0mreq\u001b[0m\u001b[0;34m,\u001b[0m \u001b[0mresponse\u001b[0m\u001b[0;34m)\u001b[0m\u001b[0;34m\u001b[0m\u001b[0m\n\u001b[0m\u001b[1;32m    533\u001b[0m \u001b[0;34m\u001b[0m\u001b[0m\n\u001b[1;32m    534\u001b[0m         \u001b[0;32mreturn\u001b[0m \u001b[0mresponse\u001b[0m\u001b[0;34m\u001b[0m\u001b[0m\n",
      "\u001b[0;32m~/anaconda3/envs/daf/lib/python3.6/urllib/request.py\u001b[0m in \u001b[0;36mhttp_response\u001b[0;34m(self, request, response)\u001b[0m\n\u001b[1;32m    640\u001b[0m         \u001b[0;32mif\u001b[0m \u001b[0;32mnot\u001b[0m \u001b[0;34m(\u001b[0m\u001b[0;36m200\u001b[0m \u001b[0;34m<=\u001b[0m \u001b[0mcode\u001b[0m \u001b[0;34m<\u001b[0m \u001b[0;36m300\u001b[0m\u001b[0;34m)\u001b[0m\u001b[0;34m:\u001b[0m\u001b[0;34m\u001b[0m\u001b[0m\n\u001b[1;32m    641\u001b[0m             response = self.parent.error(\n\u001b[0;32m--> 642\u001b[0;31m                 'http', request, response, code, msg, hdrs)\n\u001b[0m\u001b[1;32m    643\u001b[0m \u001b[0;34m\u001b[0m\u001b[0m\n\u001b[1;32m    644\u001b[0m         \u001b[0;32mreturn\u001b[0m \u001b[0mresponse\u001b[0m\u001b[0;34m\u001b[0m\u001b[0m\n",
      "\u001b[0;32m~/anaconda3/envs/daf/lib/python3.6/urllib/request.py\u001b[0m in \u001b[0;36merror\u001b[0;34m(self, proto, *args)\u001b[0m\n\u001b[1;32m    568\u001b[0m         \u001b[0;32mif\u001b[0m \u001b[0mhttp_err\u001b[0m\u001b[0;34m:\u001b[0m\u001b[0;34m\u001b[0m\u001b[0m\n\u001b[1;32m    569\u001b[0m             \u001b[0margs\u001b[0m \u001b[0;34m=\u001b[0m \u001b[0;34m(\u001b[0m\u001b[0mdict\u001b[0m\u001b[0;34m,\u001b[0m \u001b[0;34m'default'\u001b[0m\u001b[0;34m,\u001b[0m \u001b[0;34m'http_error_default'\u001b[0m\u001b[0;34m)\u001b[0m \u001b[0;34m+\u001b[0m \u001b[0morig_args\u001b[0m\u001b[0;34m\u001b[0m\u001b[0m\n\u001b[0;32m--> 570\u001b[0;31m             \u001b[0;32mreturn\u001b[0m \u001b[0mself\u001b[0m\u001b[0;34m.\u001b[0m\u001b[0m_call_chain\u001b[0m\u001b[0;34m(\u001b[0m\u001b[0;34m*\u001b[0m\u001b[0margs\u001b[0m\u001b[0;34m)\u001b[0m\u001b[0;34m\u001b[0m\u001b[0m\n\u001b[0m\u001b[1;32m    571\u001b[0m \u001b[0;34m\u001b[0m\u001b[0m\n\u001b[1;32m    572\u001b[0m \u001b[0;31m# XXX probably also want an abstract factory that knows when it makes\u001b[0m\u001b[0;34m\u001b[0m\u001b[0;34m\u001b[0m\u001b[0m\n",
      "\u001b[0;32m~/anaconda3/envs/daf/lib/python3.6/urllib/request.py\u001b[0m in \u001b[0;36m_call_chain\u001b[0;34m(self, chain, kind, meth_name, *args)\u001b[0m\n\u001b[1;32m    502\u001b[0m         \u001b[0;32mfor\u001b[0m \u001b[0mhandler\u001b[0m \u001b[0;32min\u001b[0m \u001b[0mhandlers\u001b[0m\u001b[0;34m:\u001b[0m\u001b[0;34m\u001b[0m\u001b[0m\n\u001b[1;32m    503\u001b[0m             \u001b[0mfunc\u001b[0m \u001b[0;34m=\u001b[0m \u001b[0mgetattr\u001b[0m\u001b[0;34m(\u001b[0m\u001b[0mhandler\u001b[0m\u001b[0;34m,\u001b[0m \u001b[0mmeth_name\u001b[0m\u001b[0;34m)\u001b[0m\u001b[0;34m\u001b[0m\u001b[0m\n\u001b[0;32m--> 504\u001b[0;31m             \u001b[0mresult\u001b[0m \u001b[0;34m=\u001b[0m \u001b[0mfunc\u001b[0m\u001b[0;34m(\u001b[0m\u001b[0;34m*\u001b[0m\u001b[0margs\u001b[0m\u001b[0;34m)\u001b[0m\u001b[0;34m\u001b[0m\u001b[0m\n\u001b[0m\u001b[1;32m    505\u001b[0m             \u001b[0;32mif\u001b[0m \u001b[0mresult\u001b[0m \u001b[0;32mis\u001b[0m \u001b[0;32mnot\u001b[0m \u001b[0;32mNone\u001b[0m\u001b[0;34m:\u001b[0m\u001b[0;34m\u001b[0m\u001b[0m\n\u001b[1;32m    506\u001b[0m                 \u001b[0;32mreturn\u001b[0m \u001b[0mresult\u001b[0m\u001b[0;34m\u001b[0m\u001b[0m\n",
      "\u001b[0;32m~/anaconda3/envs/daf/lib/python3.6/urllib/request.py\u001b[0m in \u001b[0;36mhttp_error_default\u001b[0;34m(self, req, fp, code, msg, hdrs)\u001b[0m\n\u001b[1;32m    648\u001b[0m \u001b[0;32mclass\u001b[0m \u001b[0mHTTPDefaultErrorHandler\u001b[0m\u001b[0;34m(\u001b[0m\u001b[0mBaseHandler\u001b[0m\u001b[0;34m)\u001b[0m\u001b[0;34m:\u001b[0m\u001b[0;34m\u001b[0m\u001b[0m\n\u001b[1;32m    649\u001b[0m     \u001b[0;32mdef\u001b[0m \u001b[0mhttp_error_default\u001b[0m\u001b[0;34m(\u001b[0m\u001b[0mself\u001b[0m\u001b[0;34m,\u001b[0m \u001b[0mreq\u001b[0m\u001b[0;34m,\u001b[0m \u001b[0mfp\u001b[0m\u001b[0;34m,\u001b[0m \u001b[0mcode\u001b[0m\u001b[0;34m,\u001b[0m \u001b[0mmsg\u001b[0m\u001b[0;34m,\u001b[0m \u001b[0mhdrs\u001b[0m\u001b[0;34m)\u001b[0m\u001b[0;34m:\u001b[0m\u001b[0;34m\u001b[0m\u001b[0m\n\u001b[0;32m--> 650\u001b[0;31m         \u001b[0;32mraise\u001b[0m \u001b[0mHTTPError\u001b[0m\u001b[0;34m(\u001b[0m\u001b[0mreq\u001b[0m\u001b[0;34m.\u001b[0m\u001b[0mfull_url\u001b[0m\u001b[0;34m,\u001b[0m \u001b[0mcode\u001b[0m\u001b[0;34m,\u001b[0m \u001b[0mmsg\u001b[0m\u001b[0;34m,\u001b[0m \u001b[0mhdrs\u001b[0m\u001b[0;34m,\u001b[0m \u001b[0mfp\u001b[0m\u001b[0;34m)\u001b[0m\u001b[0;34m\u001b[0m\u001b[0m\n\u001b[0m\u001b[1;32m    651\u001b[0m \u001b[0;34m\u001b[0m\u001b[0m\n\u001b[1;32m    652\u001b[0m \u001b[0;32mclass\u001b[0m \u001b[0mHTTPRedirectHandler\u001b[0m\u001b[0;34m(\u001b[0m\u001b[0mBaseHandler\u001b[0m\u001b[0;34m)\u001b[0m\u001b[0;34m:\u001b[0m\u001b[0;34m\u001b[0m\u001b[0m\n",
      "\u001b[0;31mHTTPError\u001b[0m: HTTP Error 404: Not Found"
     ]
    }
   ],
   "source": [
    "city_url = base_url  % (city, province, data_types[0])\n",
    "with urllib.request.urlopen(city_url) as url:\n",
    "    data = json.loads(url.read().decode())"
   ]
  },
  {
   "cell_type": "code",
   "execution_count": 22,
   "metadata": {},
   "outputs": [
    {
     "data": {
      "text/plain": [
       "[{'children': [],\n",
       "  'label': 'Totale generale delle Entrate',\n",
       "  'slug': 'pcox-quadro-2-11',\n",
       "  'values': [{'2016': {'abs': 6749319493.91, 'pc': 4993.71800473082}},\n",
       "   {'2017': {'abs': 0.0, 'pc': 0.0}},\n",
       "   {'2018': {'abs': 0.0, 'pc': 0.0}}]},\n",
       " {'children': [{'label': 'Imposte,tasse e proventi assimilati',\n",
       "    'slug': 'pcox-quadro-2-2-10',\n",
       "    'values': [{'2016': {'abs': 1534506629.01, 'pc': 1135.35792587391}},\n",
       "     {'2017': {'abs': 0.0, 'pc': 0.0}},\n",
       "     {'2018': {'abs': 0.0, 'pc': 0.0}}]},\n",
       "   {'label': 'Compartecipazioni di tributi',\n",
       "    'slug': 'pcox-quadro-2-2-12',\n",
       "    'values': [{'2016': {'abs': 28476.0, 'pc': 0.0210689557711744}},\n",
       "     {'2017': {'abs': 0.0, 'pc': 0.0}},\n",
       "     {'2018': {'abs': 0.0, 'pc': 0.0}}]},\n",
       "   {'label': 'Fondi perequativi  da Amministrazioni Centrali',\n",
       "    'slug': 'pcox-quadro-2-2-14',\n",
       "    'values': [{'2016': {'abs': 0.0, 'pc': 0.0}},\n",
       "     {'2017': {'abs': 0.0, 'pc': 0.0}},\n",
       "     {'2018': {'abs': 0.0, 'pc': 0.0}}]},\n",
       "   {'label': 'Fondi perequativi  dalla Regione o Provincia autonoma',\n",
       "    'slug': 'pcox-quadro-2-2-16',\n",
       "    'values': [{'2016': {'abs': 0.0, 'pc': 0.0}},\n",
       "     {'2017': {'abs': 0.0, 'pc': 0.0}},\n",
       "     {'2018': {'abs': 0.0, 'pc': 0.0}}]}],\n",
       "  'label': 'Entrate correnti di natura tributaria, contributiva e perequativa',\n",
       "  'slug': 'pcox-quadro-2-2',\n",
       "  'values': [{'2016': {'abs': 1534535105.01, 'pc': 1135.37899482969}},\n",
       "   {'2017': {'abs': 0.0, 'pc': 0.0}},\n",
       "   {'2018': {'abs': 0.0, 'pc': 0.0}}]},\n",
       " {'children': [{'label': 'Trasferimenti correnti da Amministrazioni pubbliche -',\n",
       "    'slug': 'pcox-quadro-2-3-20',\n",
       "    'values': [{'2016': {'abs': 535186959.91, 'pc': 395.976625497018}},\n",
       "     {'2017': {'abs': 0.0, 'pc': 0.0}},\n",
       "     {'2018': {'abs': 0.0, 'pc': 0.0}}]},\n",
       "   {'label': 'Trasferimenti correnti da Famiglie',\n",
       "    'slug': 'pcox-quadro-2-3-22',\n",
       "    'values': [{'2016': {'abs': 2345292.0, 'pc': 1.73524558991744}},\n",
       "     {'2017': {'abs': 0.0, 'pc': 0.0}},\n",
       "     {'2018': {'abs': 0.0, 'pc': 0.0}}]},\n",
       "   {'label': 'Trasferimenti correnti da Imprese',\n",
       "    'slug': 'pcox-quadro-2-3-24',\n",
       "    'values': [{'2016': {'abs': 19953785.35, 'pc': 14.7634998246473}},\n",
       "     {'2017': {'abs': 0.0, 'pc': 0.0}},\n",
       "     {'2018': {'abs': 0.0, 'pc': 0.0}}]},\n",
       "   {'label': 'Trasferimenti correnti da Istituzioni Sociali Private',\n",
       "    'slug': 'pcox-quadro-2-3-26',\n",
       "    'values': [{'2016': {'abs': 856684.63, 'pc': 0.633847822001506}},\n",
       "     {'2017': {'abs': 0.0, 'pc': 0.0}},\n",
       "     {'2018': {'abs': 0.0, 'pc': 0.0}}]},\n",
       "   {'label': \"Trasferimenti correnti dall'Unione europea e dal Resto del Mondo- previsione di cassa\",\n",
       "    'slug': 'pcox-quadro-2-3-28',\n",
       "    'values': [{'2016': {'abs': 3397813.38, 'pc': 2.51399002043561}},\n",
       "     {'2017': {'abs': 0.0, 'pc': 0.0}},\n",
       "     {'2018': {'abs': 0.0, 'pc': 0.0}}]}],\n",
       "  'label': 'Trasferimenti correnti',\n",
       "  'slug': 'pcox-quadro-2-3',\n",
       "  'values': [{'2016': {'abs': 561740535.27, 'pc': 415.623208754019}},\n",
       "   {'2017': {'abs': 0.0, 'pc': 0.0}},\n",
       "   {'2018': {'abs': 0.0, 'pc': 0.0}}]},\n",
       " {'children': [{'label': 'Vendita di beni e servizi e proventi derivanti dalla gestione dei beni',\n",
       "    'slug': 'pcox-quadro-2-4-32',\n",
       "    'values': [{'2016': {'abs': 783657168.46, 'pc': 579.81592295433}},\n",
       "     {'2017': {'abs': 0.0, 'pc': 0.0}},\n",
       "     {'2018': {'abs': 0.0, 'pc': 0.0}}]},\n",
       "   {'label': \"Proventi derivanti dall'attività di controllo e repressione delle irregolarità e degli illeciti\",\n",
       "    'slug': 'pcox-quadro-2-4-34',\n",
       "    'values': [{'2016': {'abs': 137610000.0, 'pc': 101.81552899534}},\n",
       "     {'2017': {'abs': 0.0, 'pc': 0.0}},\n",
       "     {'2018': {'abs': 0.0, 'pc': 0.0}}]},\n",
       "   {'label': 'Interessi attivi',\n",
       "    'slug': 'pcox-quadro-2-4-36',\n",
       "    'values': [{'2016': {'abs': 16414579.8, 'pc': 12.1448959056262}},\n",
       "     {'2017': {'abs': 0.0, 'pc': 0.0}},\n",
       "     {'2018': {'abs': 0.0, 'pc': 0.0}}]},\n",
       "   {'label': 'Altre entrate da redditi da capitale',\n",
       "    'slug': 'pcox-quadro-2-4-38',\n",
       "    'values': [{'2016': {'abs': 227526732.46, 'pc': 168.343540629287}},\n",
       "     {'2017': {'abs': 0.0, 'pc': 0.0}},\n",
       "     {'2018': {'abs': 0.0, 'pc': 0.0}}]},\n",
       "   {'label': 'Rimborsi e altre entrate correnti',\n",
       "    'slug': 'pcox-quadro-2-4-40',\n",
       "    'values': [{'2016': {'abs': 290734569.6, 'pc': 215.110050149383}},\n",
       "     {'2017': {'abs': 0.0, 'pc': 0.0}},\n",
       "     {'2018': {'abs': 0.0, 'pc': 0.0}}]}],\n",
       "  'label': 'Entrate extratributarie',\n",
       "  'slug': 'pcox-quadro-2-4',\n",
       "  'values': [{'2016': {'abs': 1455943050.32, 'pc': 1077.22993863397}},\n",
       "   {'2017': {'abs': 0.0, 'pc': 0.0}},\n",
       "   {'2018': {'abs': 0.0, 'pc': 0.0}}]},\n",
       " {'children': [{'label': 'Tributi in conto capitale',\n",
       "    'slug': 'pcox-quadro-2-5-44',\n",
       "    'values': [{'2016': {'abs': 200000.0, 'pc': 0.147976933355629}},\n",
       "     {'2017': {'abs': 0.0, 'pc': 0.0}},\n",
       "     {'2018': {'abs': 0.0, 'pc': 0.0}}]},\n",
       "   {'label': 'Contributi agli investimenti',\n",
       "    'slug': 'pcox-quadro-2-5-46',\n",
       "    'values': [{'2016': {'abs': 241361271.18, 'pc': 178.579503700163}},\n",
       "     {'2017': {'abs': 0.0, 'pc': 0.0}},\n",
       "     {'2018': {'abs': 0.0, 'pc': 0.0}}]},\n",
       "   {'label': 'Altri trasferimenti in conto capitale',\n",
       "    'slug': 'pcox-quadro-2-5-48',\n",
       "    'values': [{'2016': {'abs': 0.0, 'pc': 0.0}},\n",
       "     {'2017': {'abs': 0.0, 'pc': 0.0}},\n",
       "     {'2018': {'abs': 0.0, 'pc': 0.0}}]},\n",
       "   {'label': 'Entrate da alienazione di beni materiali e immateriali',\n",
       "    'slug': 'pcox-quadro-2-5-50',\n",
       "    'values': [{'2016': {'abs': 653918199.99, 'pc': 483.824049499764}},\n",
       "     {'2017': {'abs': 0.0, 'pc': 0.0}},\n",
       "     {'2018': {'abs': 0.0, 'pc': 0.0}}]},\n",
       "   {'label': 'Altre entrate in conto capitale',\n",
       "    'slug': 'pcox-quadro-2-5-52',\n",
       "    'values': [{'2016': {'abs': 205857477.11, 'pc': 152.310790855321}},\n",
       "     {'2017': {'abs': 0.0, 'pc': 0.0}},\n",
       "     {'2018': {'abs': 0.0, 'pc': 0.0}}]}],\n",
       "  'label': 'Entrate in conto capitale',\n",
       "  'slug': 'pcox-quadro-2-5',\n",
       "  'values': [{'2016': {'abs': 1101336948.28, 'pc': 814.862320988604}},\n",
       "   {'2017': {'abs': 0.0, 'pc': 0.0}},\n",
       "   {'2018': {'abs': 0.0, 'pc': 0.0}}]},\n",
       " {'children': [{'label': 'Alienazione di attività finanziarie',\n",
       "    'slug': 'pcox-quadro-2-6-56',\n",
       "    'values': [{'2016': {'abs': 0.0, 'pc': 0.0}},\n",
       "     {'2017': {'abs': 0.0, 'pc': 0.0}},\n",
       "     {'2018': {'abs': 0.0, 'pc': 0.0}}]},\n",
       "   {'label': 'Riscossione crediti di breve termine',\n",
       "    'slug': 'pcox-quadro-2-6-58',\n",
       "    'values': [{'2016': {'abs': 0.0, 'pc': 0.0}},\n",
       "     {'2017': {'abs': 0.0, 'pc': 0.0}},\n",
       "     {'2018': {'abs': 0.0, 'pc': 0.0}}]},\n",
       "   {'label': 'Riscossione crediti di medio',\n",
       "    'slug': 'pcox-quadro-2-6-60',\n",
       "    'values': [{'2016': {'abs': 2000000.0, 'pc': 1.47976933355629}},\n",
       "     {'2017': {'abs': 0.0, 'pc': 0.0}},\n",
       "     {'2018': {'abs': 0.0, 'pc': 0.0}}]},\n",
       "   {'label': 'Altre entrate per riduzione di attività finanziarie',\n",
       "    'slug': 'pcox-quadro-2-6-62',\n",
       "    'values': [{'2016': {'abs': 500000000.0, 'pc': 369.942333389071}},\n",
       "     {'2017': {'abs': 0.0, 'pc': 0.0}},\n",
       "     {'2018': {'abs': 0.0, 'pc': 0.0}}]}],\n",
       "  'label': 'Entrate da riduzione di attività finanziarie',\n",
       "  'slug': 'pcox-quadro-2-6',\n",
       "  'values': [{'2016': {'abs': 502000000.0, 'pc': 371.422102722628}},\n",
       "   {'2017': {'abs': 0.0, 'pc': 0.0}},\n",
       "   {'2018': {'abs': 0.0, 'pc': 0.0}}]},\n",
       " {'children': [{'label': 'Emissione di titoli obbligazionari',\n",
       "    'slug': 'pcox-quadro-2-7-66',\n",
       "    'values': [{'2016': {'abs': 0.0, 'pc': 0.0}},\n",
       "     {'2017': {'abs': 0.0, 'pc': 0.0}},\n",
       "     {'2018': {'abs': 0.0, 'pc': 0.0}}]},\n",
       "   {'label': 'Accensione prestiti a breve termine',\n",
       "    'slug': 'pcox-quadro-2-7-68',\n",
       "    'values': [{'2016': {'abs': 0.0, 'pc': 0.0}},\n",
       "     {'2017': {'abs': 0.0, 'pc': 0.0}},\n",
       "     {'2018': {'abs': 0.0, 'pc': 0.0}}]},\n",
       "   {'label': 'Accensione mutui e altri finanziamenti a medio lungo termine',\n",
       "    'slug': 'pcox-quadro-2-7-70',\n",
       "    'values': [{'2016': {'abs': 416210502.34, 'pc': 307.947768833394}},\n",
       "     {'2017': {'abs': 0.0, 'pc': 0.0}},\n",
       "     {'2018': {'abs': 0.0, 'pc': 0.0}}]},\n",
       "   {'label': 'Altre forme di indebitamento',\n",
       "    'slug': 'pcox-quadro-2-7-72',\n",
       "    'values': [{'2016': {'abs': 0.0, 'pc': 0.0}},\n",
       "     {'2017': {'abs': 0.0, 'pc': 0.0}},\n",
       "     {'2018': {'abs': 0.0, 'pc': 0.0}}]}],\n",
       "  'label': 'Accensione prestiti',\n",
       "  'slug': 'pcox-quadro-2-7',\n",
       "  'values': [{'2016': {'abs': 416210502.34, 'pc': 307.947768833394}},\n",
       "   {'2017': {'abs': 0.0, 'pc': 0.0}},\n",
       "   {'2018': {'abs': 0.0, 'pc': 0.0}}]},\n",
       " {'children': [{'label': 'Anticipazione da istituto tesoriere/cassiere',\n",
       "    'slug': 'pcox-quadro-2-8-76',\n",
       "    'values': [{'2016': {'abs': 764926398.0, 'pc': 565.957313094035}},\n",
       "     {'2017': {'abs': 0.0, 'pc': 0.0}},\n",
       "     {'2018': {'abs': 0.0, 'pc': 0.0}}]}],\n",
       "  'label': 'Anticipazioni da istituto tesoriere/cassiere',\n",
       "  'slug': 'pcox-quadro-2-8',\n",
       "  'values': [{'2016': {'abs': 764926398.0, 'pc': 565.957313094035}},\n",
       "   {'2017': {'abs': 0.0, 'pc': 0.0}},\n",
       "   {'2018': {'abs': 0.0, 'pc': 0.0}}]},\n",
       " {'children': [{'label': 'Entrate per partite di giro',\n",
       "    'slug': 'pcox-quadro-2-9-80',\n",
       "    'values': [{'2016': {'abs': 232840799.97, 'pc': 172.27533769816}},\n",
       "     {'2017': {'abs': 0.0, 'pc': 0.0}},\n",
       "     {'2018': {'abs': 0.0, 'pc': 0.0}}]},\n",
       "   {'label': 'Entrate per conto terzi',\n",
       "    'slug': 'pcox-quadro-2-9-82',\n",
       "    'values': [{'2016': {'abs': 179786154.72, 'pc': 133.021019176331}},\n",
       "     {'2017': {'abs': 0.0, 'pc': 0.0}},\n",
       "     {'2018': {'abs': 0.0, 'pc': 0.0}}]}],\n",
       "  'label': 'Entrate per conto terzi e partite di giro',\n",
       "  'slug': 'pcox-quadro-2-9',\n",
       "  'values': [{'2016': {'abs': 412626954.69, 'pc': 305.29635687449}},\n",
       "   {'2017': {'abs': 0.0, 'pc': 0.0}},\n",
       "   {'2018': {'abs': 0.0, 'pc': 0.0}}]}]"
      ]
     },
     "execution_count": 22,
     "metadata": {},
     "output_type": "execute_result"
    }
   ],
   "source": [
    "data"
   ]
  },
  {
   "cell_type": "code",
   "execution_count": 23,
   "metadata": {},
   "outputs": [
    {
     "data": {
      "text/plain": [
       "'https://www.openbilanci.it/armonizzati/bilanci/milano-comune-mi/entrate/dettaglio.json?year=2016&type=preventivo'"
      ]
     },
     "execution_count": 23,
     "metadata": {},
     "output_type": "execute_result"
    }
   ],
   "source": [
    "city_url"
   ]
  },
  {
   "cell_type": "code",
   "execution_count": null,
   "metadata": {},
   "outputs": [],
   "source": []
  }
 ],
 "metadata": {
  "kernelspec": {
   "display_name": "Python 3",
   "language": "python",
   "name": "python3"
  },
  "language_info": {
   "codemirror_mode": {
    "name": "ipython",
    "version": 3
   },
   "file_extension": ".py",
   "mimetype": "text/x-python",
   "name": "python",
   "nbconvert_exporter": "python",
   "pygments_lexer": "ipython3",
   "version": "3.6.4"
  }
 },
 "nbformat": 4,
 "nbformat_minor": 2
}
