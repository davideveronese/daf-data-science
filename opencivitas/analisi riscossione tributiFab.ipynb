{
 "cells": [
  {
   "cell_type": "markdown",
   "metadata": {},
   "source": [
    "# Costi Riscossione Tributi\n",
    "\n",
    "Questa analisi ha come obiettivo approfondire come i costi per **la riscossione dei tributi** si distribuisce in Italia. In particolare:\n",
    "- Analizzeremo la sua distribuzione normalizzata per il numero di contribuenti per le varie Regioni.\n",
    "- Cercheremo di capire quali sono le top/last regioni/province/comuni per spesa riscossione tributi"
   ]
  },
  {
   "cell_type": "code",
   "execution_count": 1,
   "metadata": {},
   "outputs": [
    {
     "data": {
      "text/html": [
       "<script>requirejs.config({paths: { 'plotly': ['https://cdn.plot.ly/plotly-latest.min']},});if(!window.Plotly) {{require(['plotly'],function(plotly) {window.Plotly=plotly;});}}</script>"
      ],
      "text/vnd.plotly.v1+html": [
       "<script>requirejs.config({paths: { 'plotly': ['https://cdn.plot.ly/plotly-latest.min']},});if(!window.Plotly) {{require(['plotly'],function(plotly) {window.Plotly=plotly;});}}</script>"
      ]
     },
     "metadata": {},
     "output_type": "display_data"
    }
   ],
   "source": [
    "import numpy as np\n",
    "import pandas as pd\n",
    "\n",
    "# set the max number of columns to display\n",
    "pd.options.display.max_columns = 98\n",
    "\n",
    "import matplotlib.pyplot as plt\n",
    "import seaborn as sns\n",
    "sns.set(color_codes=True)\n",
    "\n",
    "import plotly.offline as py\n",
    "import plotly.plotly as py_on\n",
    "import plotly.graph_objs as go\n",
    "from plotly import tools\n",
    "import plotly.figure_factory as ff\n",
    "py.init_notebook_mode(connected=True)\n",
    "\n",
    "from IPython.display import Image\n",
    "from IPython.display import display"
   ]
  },
  {
   "cell_type": "markdown",
   "metadata": {},
   "source": [
    "Il dataset preso in analisi contiene informazioni sui **costi riscossione tributi per 2010-2013 (OpenCivitas)**  e i **redditi dei contribuenti (Mef dati Irpef)** per lo stesso periodo. In totale abbiamo 26800 osservazioni distribuite per anno:"
   ]
  },
  {
   "cell_type": "code",
   "execution_count": 2,
   "metadata": {},
   "outputs": [],
   "source": [
    "fattore = 'costo riscossione tributi'\n",
    "fattore_descrizione = 'Costo Riscossione Tributi'\n",
    "\n",
    "tot_contribuenti = 'tot_contribuenti'\n",
    "\n",
    "fattore_normalizzato = 'spesa_tributi_per_contribuenti'"
   ]
  },
  {
   "cell_type": "code",
   "execution_count": 3,
   "metadata": {},
   "outputs": [
    {
     "name": "stdout",
     "output_type": "stream",
     "text": [
      "(26799, 86)\n",
      "Index(['ANNO', 'COMUNE_CAT_COD', 'costo riscossione tributi',\n",
      "       'tot costo riscossione tributi', 'costo ufficio tecnico',\n",
      "       'tot costo ufficio tecnico', 'costo anagrafe, stato civile',\n",
      "       'tot costo anagrafe, stato civile', 'costo altri servizi',\n",
      "       'tot costo altri servizi', 'costo polizia locale',\n",
      "       'tot costo polizia locale', 'costo istruzione', 'tot costo istruzione',\n",
      "       'costo viabilita'', 'tot costo viabilita'', 'costo trasporti',\n",
      "       'tot costo trasporti', 'costo territorio', 'tot costo territorio',\n",
      "       'costo ambiente', 'tot costo ambiente', 'costo sociale',\n",
      "       'tot costo sociale', 'costo asili nido', 'tot costo asili nido',\n",
      "       'costo spesa totale', 'tot costo spesa totale', 'Codice Nazionale',\n",
      "       'Denominazione Italiana', 'Codice Catastale', 'Ufficio Catasto Terreni',\n",
      "       'Ufficio Catasto Fabbricati', 'Codice Conservatoria',\n",
      "       'Addizionale comunale dovuta Ammontare',\n",
      "       'Addizionale comunale dovuta Frequenza',\n",
      "       'Addizionale regionale dovuta Ammontare',\n",
      "       'Addizionale regionale dovuta Frequenza', 'Anno di imposta',\n",
      "       'Codice Istat Comune', 'Codice Istat Regione', 'Codice catastale',\n",
      "       'Denominazione Comune', 'Imposta netta Ammontare',\n",
      "       'Imposta netta Frequenza', 'Numero contribuenti',\n",
      "       'Reddito complessivo da 0 a 10000 euro Ammontare',\n",
      "       'Reddito complessivo da 0 a 10000 euro Frequenza',\n",
      "       'Reddito complessivo da 10000 a 15000 euro Ammontare',\n",
      "       'Reddito complessivo da 10000 a 15000 euro Frequenza',\n",
      "       'Reddito complessivo da 15000 a 26000 euro Ammontare',\n",
      "       'Reddito complessivo da 15000 a 26000 euro Frequenza',\n",
      "       'Reddito complessivo da 26000 a 55000 euro Ammontare',\n",
      "       'Reddito complessivo da 26000 a 55000 euro Frequenza',\n",
      "       'Reddito complessivo da 55000 a 75000 euro Ammontare',\n",
      "       'Reddito complessivo da 55000 a 75000 euro Frequenza',\n",
      "       'Reddito complessivo da 75000 a 120000 euro Ammontare',\n",
      "       'Reddito complessivo da 75000 a 120000 euro Frequenza',\n",
      "       'Reddito complessivo oltre 120000 euro Ammontare',\n",
      "       'Reddito complessivo oltre 120000 euro Frequenza',\n",
      "       'Reddito da fabbricati Ammontare', 'Reddito da fabbricati Frequenza',\n",
      "       'Reddito da lavoro dipendente e assimilati Ammontare',\n",
      "       'Reddito da lavoro dipendente e assimilati Frequenza',\n",
      "       'Reddito da pensione Ammontare', 'Reddito da pensione Frequenza',\n",
      "       'Reddito imponibile Ammontare', 'Reddito imponibile Frequenza',\n",
      "       'Reddito imponibile addizionale Ammontare',\n",
      "       'Reddito imponibile addizionale Frequenza',\n",
      "       'Reddito imponibile addizionale IRPEF Ammontare',\n",
      "       'Reddito imponibile addizionale IRPEF Frequenza', 'Regione',\n",
      "       'tot_contribuenti', 'Reddito lavoro autonomo Ammontare',\n",
      "       'Reddito lavoro autonomo Frequenza',\n",
      "       'Reddito da partecipazione Ammontare',\n",
      "       'Reddito da partecipazione Frequenza',\n",
      "       'Reddito imprenditore ordinario Ammontare',\n",
      "       'Reddito imprenditore ordinario Frequenza',\n",
      "       'Reddito imprenditore semplificata Ammontare',\n",
      "       'Reddito imprenditore semplificata Frequenza', 'Provincia', 'Cod Istat',\n",
      "       'Reddito minore o uguale a zero Frequenza',\n",
      "       'Reddito minore o uguale a zero Ammontare'],\n",
      "      dtype='object')\n"
     ]
    }
   ],
   "source": [
    "df = pd.read_csv('./data/opencivitas_spesa_storica_dati_irpef.csv')\n",
    "print(df.shape)\n",
    "print(df.columns)"
   ]
  },
  {
   "cell_type": "markdown",
   "metadata": {},
   "source": [
    "Distribuzione delle osservazioni Anno e Comuni per cui abbiamo rilevazioni per l'anno in questione.\n",
    "Si può osservare che la distribuzione delle osservazioni rimane costante nell'intervallo in esame.\n",
    "Considerando che il numero di comuni italiani è 7.982, si stanno analizzando l'84% della popolazione totale. "
   ]
  },
  {
   "cell_type": "code",
   "execution_count": 4,
   "metadata": {},
   "outputs": [
    {
     "data": {
      "text/plain": [
       "ANNO\n",
       "2010    6702\n",
       "2011    6699\n",
       "2012    6699\n",
       "2013    6699\n",
       "Name: costo riscossione tributi, dtype: int64"
      ]
     },
     "execution_count": 4,
     "metadata": {},
     "output_type": "execute_result"
    }
   ],
   "source": [
    "df.groupby(['ANNO'])[fattore].count()"
   ]
  },
  {
   "cell_type": "markdown",
   "metadata": {},
   "source": [
    "-----------------------"
   ]
  },
  {
   "cell_type": "code",
   "execution_count": 5,
   "metadata": {},
   "outputs": [],
   "source": [
    "df_regione = df.groupby(df.Regione).sum()\n",
    "df_regione[fattore_normalizzato] = (df_regione[fattore] / df_regione[tot_contribuenti])"
   ]
  },
  {
   "cell_type": "code",
   "execution_count": 6,
   "metadata": {
    "scrolled": false
   },
   "outputs": [],
   "source": [
    "data_pie = [\n",
    "    go.Pie(labels = df_regione.index, values=df_regione[fattore]),\n",
    "]\n",
    "\n",
    "layout_pie = go.Layout(\n",
    "    title='Costo medio riscossione tasse per Regione/Contribuente in Euro'\n",
    ")\n",
    "\n",
    "fig_pie = go.Figure(data=data_pie, layout=layout_pie)\n",
    "\n",
    "data_bar = go.Bar(x=df_regione.index, y=df_regione[fattore_normalizzato], name = 'spesa media per regione')\n",
    "\n",
    "\n",
    "media_costo_tot = df_regione[fattore_normalizzato].mean()\n",
    "data_scatter = go.Scatter(x=df_regione.index, y=[media_costo_tot for i in range(len(df_regione))], name = 'spesa media nazionale')\n",
    "\n",
    "data = [data_bar, data_scatter]\n",
    "\n",
    "\n",
    "layout_bar = go.Layout(\n",
    "    title='Costo medio riscossione tasse per Regione/Contribuente in Euro',\n",
    "    xaxis=dict(\n",
    "        title='Regioni',\n",
    "    ),\n",
    "    yaxis=dict(\n",
    "        title='Euro per Contribuente',\n",
    "    )\n",
    ")\n",
    "\n",
    "fig_bar = go.Figure(data=data, layout=layout_bar)"
   ]
  },
  {
   "cell_type": "code",
   "execution_count": 7,
   "metadata": {},
   "outputs": [],
   "source": [
    "data_pie_contribuenti = [\n",
    "    go.Pie(labels = df_regione.index, values=df_regione[\"tot_contribuenti\"]),\n",
    "]\n",
    "\n",
    "layout_pie_contribuenti = go.Layout(\n",
    "    title='Contribuenti'\n",
    ")\n",
    "\n",
    "fig_pie_contribuenti = go.Figure(data=data_pie_contribuenti, layout=layout_pie_contribuenti)\n",
    "\n",
    "\n",
    "media_italiana_contribuenti = df_regione[\"tot_contribuenti\"].mean()\n",
    "\n",
    "data_contribuenti = [\n",
    "    go.Bar(x=df_regione.index, y=df_regione[tot_contribuenti], name='numero contribuenti per regione'),  \n",
    "    go.Scatter(x=df_regione.index, y=[media_italiana_contribuenti for i in range(len(df_regione))], name='media italiana numero contribuenti')\n",
    "]\n",
    "\n",
    "\n",
    "layout_bar_contribuenti = go.Layout(\n",
    "    title='Numero Totale Contribuenti per Regione',\n",
    "    xaxis=dict(\n",
    "        title='Regioni',\n",
    "    ),\n",
    "    yaxis=dict(\n",
    "        title='Numero Contribuenti',\n",
    "    )\n",
    ")\n",
    "\n",
    "fig_bar_contribuenti = go.Figure(data=data_contribuenti, layout=layout_bar_contribuenti)"
   ]
  },
  {
   "cell_type": "markdown",
   "metadata": {},
   "source": [
    "## Costo Riscossione Tributi per Regione\n",
    "\n",
    "Per prima cosa analizziamo quali sono le regioni che hanno maggiori costi per la riscossione delle tasse.\n",
    "Possiamo osservare che per il periodo 2010-2013 la Liguria sia la regione con li maggior costo procapite per la riscossione dei tributi. La tabella sotto mostra il dettaglio dei costi. \n",
    "\n",
    "Mentre, il grafico a torta fa vedere la distribuzione percentuale di questi costi sul totale delle regioni presenti nel dataset."
   ]
  },
  {
   "cell_type": "code",
   "execution_count": 8,
   "metadata": {},
   "outputs": [
    {
     "data": {
      "text/html": [
       "<div>\n",
       "<style scoped>\n",
       "    .dataframe tbody tr th:only-of-type {\n",
       "        vertical-align: middle;\n",
       "    }\n",
       "\n",
       "    .dataframe tbody tr th {\n",
       "        vertical-align: top;\n",
       "    }\n",
       "\n",
       "    .dataframe thead th {\n",
       "        text-align: right;\n",
       "    }\n",
       "</style>\n",
       "<table border=\"1\" class=\"dataframe\">\n",
       "  <thead>\n",
       "    <tr style=\"text-align: right;\">\n",
       "      <th></th>\n",
       "      <th>ANNO</th>\n",
       "      <th>costo riscossione tributi</th>\n",
       "      <th>tot costo riscossione tributi</th>\n",
       "      <th>costo ufficio tecnico</th>\n",
       "      <th>tot costo ufficio tecnico</th>\n",
       "      <th>costo anagrafe, stato civile</th>\n",
       "      <th>tot costo anagrafe, stato civile</th>\n",
       "      <th>costo altri servizi</th>\n",
       "      <th>tot costo altri servizi</th>\n",
       "      <th>costo polizia locale</th>\n",
       "      <th>tot costo polizia locale</th>\n",
       "      <th>costo istruzione</th>\n",
       "      <th>tot costo istruzione</th>\n",
       "      <th>costo viabilita'</th>\n",
       "      <th>tot costo viabilita'</th>\n",
       "      <th>costo trasporti</th>\n",
       "      <th>tot costo trasporti</th>\n",
       "      <th>costo territorio</th>\n",
       "      <th>tot costo territorio</th>\n",
       "      <th>costo ambiente</th>\n",
       "      <th>tot costo ambiente</th>\n",
       "      <th>costo sociale</th>\n",
       "      <th>tot costo sociale</th>\n",
       "      <th>costo asili nido</th>\n",
       "      <th>tot costo asili nido</th>\n",
       "      <th>costo spesa totale</th>\n",
       "      <th>tot costo spesa totale</th>\n",
       "      <th>Addizionale comunale dovuta Ammontare</th>\n",
       "      <th>Addizionale comunale dovuta Frequenza</th>\n",
       "      <th>Addizionale regionale dovuta Ammontare</th>\n",
       "      <th>Addizionale regionale dovuta Frequenza</th>\n",
       "      <th>Anno di imposta</th>\n",
       "      <th>Codice Istat Comune</th>\n",
       "      <th>Codice Istat Regione</th>\n",
       "      <th>Imposta netta Ammontare</th>\n",
       "      <th>Imposta netta Frequenza</th>\n",
       "      <th>Numero contribuenti</th>\n",
       "      <th>Reddito complessivo da 0 a 10000 euro Ammontare</th>\n",
       "      <th>Reddito complessivo da 0 a 10000 euro Frequenza</th>\n",
       "      <th>Reddito complessivo da 10000 a 15000 euro Ammontare</th>\n",
       "      <th>Reddito complessivo da 10000 a 15000 euro Frequenza</th>\n",
       "      <th>Reddito complessivo da 15000 a 26000 euro Ammontare</th>\n",
       "      <th>Reddito complessivo da 15000 a 26000 euro Frequenza</th>\n",
       "      <th>Reddito complessivo da 26000 a 55000 euro Ammontare</th>\n",
       "      <th>Reddito complessivo da 26000 a 55000 euro Frequenza</th>\n",
       "      <th>Reddito complessivo da 55000 a 75000 euro Ammontare</th>\n",
       "      <th>Reddito complessivo da 55000 a 75000 euro Frequenza</th>\n",
       "      <th>Reddito complessivo da 75000 a 120000 euro Ammontare</th>\n",
       "      <th>Reddito complessivo da 75000 a 120000 euro Frequenza</th>\n",
       "      <th>Reddito complessivo oltre 120000 euro Ammontare</th>\n",
       "      <th>Reddito complessivo oltre 120000 euro Frequenza</th>\n",
       "      <th>Reddito da fabbricati Ammontare</th>\n",
       "      <th>Reddito da fabbricati Frequenza</th>\n",
       "      <th>Reddito da lavoro dipendente e assimilati Ammontare</th>\n",
       "      <th>Reddito da lavoro dipendente e assimilati Frequenza</th>\n",
       "      <th>Reddito da pensione Ammontare</th>\n",
       "      <th>Reddito da pensione Frequenza</th>\n",
       "      <th>Reddito imponibile Ammontare</th>\n",
       "      <th>Reddito imponibile Frequenza</th>\n",
       "      <th>Reddito imponibile addizionale Ammontare</th>\n",
       "      <th>Reddito imponibile addizionale Frequenza</th>\n",
       "      <th>Reddito imponibile addizionale IRPEF Ammontare</th>\n",
       "      <th>Reddito imponibile addizionale IRPEF Frequenza</th>\n",
       "      <th>tot_contribuenti</th>\n",
       "      <th>Reddito lavoro autonomo Ammontare</th>\n",
       "      <th>Reddito lavoro autonomo Frequenza</th>\n",
       "      <th>Reddito da partecipazione Ammontare</th>\n",
       "      <th>Reddito da partecipazione Frequenza</th>\n",
       "      <th>Reddito imprenditore ordinario Ammontare</th>\n",
       "      <th>Reddito imprenditore ordinario Frequenza</th>\n",
       "      <th>Reddito imprenditore semplificata Ammontare</th>\n",
       "      <th>Reddito imprenditore semplificata Frequenza</th>\n",
       "      <th>Cod Istat</th>\n",
       "      <th>Reddito minore o uguale a zero Frequenza</th>\n",
       "      <th>Reddito minore o uguale a zero Ammontare</th>\n",
       "      <th>spesa_tributi_per_contribuenti</th>\n",
       "    </tr>\n",
       "    <tr>\n",
       "      <th>Regione</th>\n",
       "      <th></th>\n",
       "      <th></th>\n",
       "      <th></th>\n",
       "      <th></th>\n",
       "      <th></th>\n",
       "      <th></th>\n",
       "      <th></th>\n",
       "      <th></th>\n",
       "      <th></th>\n",
       "      <th></th>\n",
       "      <th></th>\n",
       "      <th></th>\n",
       "      <th></th>\n",
       "      <th></th>\n",
       "      <th></th>\n",
       "      <th></th>\n",
       "      <th></th>\n",
       "      <th></th>\n",
       "      <th></th>\n",
       "      <th></th>\n",
       "      <th></th>\n",
       "      <th></th>\n",
       "      <th></th>\n",
       "      <th></th>\n",
       "      <th></th>\n",
       "      <th></th>\n",
       "      <th></th>\n",
       "      <th></th>\n",
       "      <th></th>\n",
       "      <th></th>\n",
       "      <th></th>\n",
       "      <th></th>\n",
       "      <th></th>\n",
       "      <th></th>\n",
       "      <th></th>\n",
       "      <th></th>\n",
       "      <th></th>\n",
       "      <th></th>\n",
       "      <th></th>\n",
       "      <th></th>\n",
       "      <th></th>\n",
       "      <th></th>\n",
       "      <th></th>\n",
       "      <th></th>\n",
       "      <th></th>\n",
       "      <th></th>\n",
       "      <th></th>\n",
       "      <th></th>\n",
       "      <th></th>\n",
       "      <th></th>\n",
       "      <th></th>\n",
       "      <th></th>\n",
       "      <th></th>\n",
       "      <th></th>\n",
       "      <th></th>\n",
       "      <th></th>\n",
       "      <th></th>\n",
       "      <th></th>\n",
       "      <th></th>\n",
       "      <th></th>\n",
       "      <th></th>\n",
       "      <th></th>\n",
       "      <th></th>\n",
       "      <th></th>\n",
       "      <th></th>\n",
       "      <th></th>\n",
       "      <th></th>\n",
       "      <th></th>\n",
       "      <th></th>\n",
       "      <th></th>\n",
       "      <th></th>\n",
       "      <th></th>\n",
       "      <th></th>\n",
       "      <th></th>\n",
       "      <th></th>\n",
       "      <th></th>\n",
       "    </tr>\n",
       "  </thead>\n",
       "  <tbody>\n",
       "    <tr>\n",
       "      <th>LAZIO</th>\n",
       "      <td>3041388</td>\n",
       "      <td>3.168019e+08</td>\n",
       "      <td>8.688880e+11</td>\n",
       "      <td>5.716576e+08</td>\n",
       "      <td>1.561587e+12</td>\n",
       "      <td>2.704210e+08</td>\n",
       "      <td>8.758288e+11</td>\n",
       "      <td>3.366483e+09</td>\n",
       "      <td>9.033465e+12</td>\n",
       "      <td>2.049437e+09</td>\n",
       "      <td>4.036053e+12</td>\n",
       "      <td>2.307503e+09</td>\n",
       "      <td>5.366810e+12</td>\n",
       "      <td>1.170081e+09</td>\n",
       "      <td>3.575083e+12</td>\n",
       "      <td>1.643651e+09</td>\n",
       "      <td>1.424151e+12</td>\n",
       "      <td>9.876832e+08</td>\n",
       "      <td>2.586042e+12</td>\n",
       "      <td>4.992385e+09</td>\n",
       "      <td>1.248671e+13</td>\n",
       "      <td>2.592058e+09</td>\n",
       "      <td>7.223208e+12</td>\n",
       "      <td>1.205375e+09</td>\n",
       "      <td>1.750050e+12</td>\n",
       "      <td>1.047213e+10</td>\n",
       "      <td>2.539583e+13</td>\n",
       "      <td>1.214945e+09</td>\n",
       "      <td>5466692.0</td>\n",
       "      <td>2.643004e+09</td>\n",
       "      <td>5684494.0</td>\n",
       "      <td>3041388.0</td>\n",
       "      <td>43925320.0</td>\n",
       "      <td>9072.0</td>\n",
       "      <td>3.516809e+10</td>\n",
       "      <td>5878799.0</td>\n",
       "      <td>7728190.0</td>\n",
       "      <td>2.200914e+10</td>\n",
       "      <td>4723586.0</td>\n",
       "      <td>2.452278e+10</td>\n",
       "      <td>1966958.0</td>\n",
       "      <td>8.373783e+10</td>\n",
       "      <td>4147597.0</td>\n",
       "      <td>1.163050e+11</td>\n",
       "      <td>3322276.0</td>\n",
       "      <td>2.521806e+10</td>\n",
       "      <td>395788.0</td>\n",
       "      <td>2.836402e+10</td>\n",
       "      <td>308759.0</td>\n",
       "      <td>3.341094e+10</td>\n",
       "      <td>151267.0</td>\n",
       "      <td>6.128523e+09</td>\n",
       "      <td>1503690.0</td>\n",
       "      <td>8.979876e+10</td>\n",
       "      <td>3934377.0</td>\n",
       "      <td>4.842269e+10</td>\n",
       "      <td>2621282.0</td>\n",
       "      <td>1.615144e+11</td>\n",
       "      <td>7425489.0</td>\n",
       "      <td>1.531381e+11</td>\n",
       "      <td>5686127.0</td>\n",
       "      <td>1.516947e+11</td>\n",
       "      <td>5771056.0</td>\n",
       "      <td>15088932.0</td>\n",
       "      <td>8.156609e+09</td>\n",
       "      <td>225798.0</td>\n",
       "      <td>4.483684e+09</td>\n",
       "      <td>276446.0</td>\n",
       "      <td>628153052.0</td>\n",
       "      <td>24679.0</td>\n",
       "      <td>4.168198e+09</td>\n",
       "      <td>273015.0</td>\n",
       "      <td>87850640.0</td>\n",
       "      <td>72701.0</td>\n",
       "      <td>-712292787.0</td>\n",
       "      <td>20.995650</td>\n",
       "    </tr>\n",
       "    <tr>\n",
       "      <th>MOLISE</th>\n",
       "      <td>1094256</td>\n",
       "      <td>1.793921e+07</td>\n",
       "      <td>3.126158e+11</td>\n",
       "      <td>3.421319e+07</td>\n",
       "      <td>5.618408e+11</td>\n",
       "      <td>1.853914e+07</td>\n",
       "      <td>3.151130e+11</td>\n",
       "      <td>1.679047e+08</td>\n",
       "      <td>3.250136e+12</td>\n",
       "      <td>4.727739e+07</td>\n",
       "      <td>1.452125e+12</td>\n",
       "      <td>6.281326e+07</td>\n",
       "      <td>1.930916e+12</td>\n",
       "      <td>6.936311e+07</td>\n",
       "      <td>1.286273e+12</td>\n",
       "      <td>6.267626e+06</td>\n",
       "      <td>5.123930e+11</td>\n",
       "      <td>5.237064e+07</td>\n",
       "      <td>9.304278e+11</td>\n",
       "      <td>1.348824e+08</td>\n",
       "      <td>4.492573e+12</td>\n",
       "      <td>7.042110e+07</td>\n",
       "      <td>2.598826e+12</td>\n",
       "      <td>8.707969e+06</td>\n",
       "      <td>6.296477e+11</td>\n",
       "      <td>3.310870e+08</td>\n",
       "      <td>9.137124e+12</td>\n",
       "      <td>3.111734e+07</td>\n",
       "      <td>249309.0</td>\n",
       "      <td>1.147230e+08</td>\n",
       "      <td>275953.0</td>\n",
       "      <td>1094256.0</td>\n",
       "      <td>21545896.0</td>\n",
       "      <td>3808.0</td>\n",
       "      <td>1.053451e+09</td>\n",
       "      <td>283946.0</td>\n",
       "      <td>437651.0</td>\n",
       "      <td>1.806945e+09</td>\n",
       "      <td>381150.0</td>\n",
       "      <td>1.642958e+09</td>\n",
       "      <td>134263.0</td>\n",
       "      <td>4.262883e+09</td>\n",
       "      <td>214548.0</td>\n",
       "      <td>3.901221e+09</td>\n",
       "      <td>116589.0</td>\n",
       "      <td>5.820986e+08</td>\n",
       "      <td>9062.0</td>\n",
       "      <td>6.073011e+08</td>\n",
       "      <td>6674.0</td>\n",
       "      <td>3.184669e+08</td>\n",
       "      <td>1835.0</td>\n",
       "      <td>1.530388e+08</td>\n",
       "      <td>91177.0</td>\n",
       "      <td>3.294459e+09</td>\n",
       "      <td>186174.0</td>\n",
       "      <td>2.288970e+09</td>\n",
       "      <td>184712.0</td>\n",
       "      <td>6.359213e+09</td>\n",
       "      <td>420445.0</td>\n",
       "      <td>5.678226e+09</td>\n",
       "      <td>276022.0</td>\n",
       "      <td>5.692659e+09</td>\n",
       "      <td>282409.0</td>\n",
       "      <td>869587.0</td>\n",
       "      <td>2.353990e+08</td>\n",
       "      <td>9604.0</td>\n",
       "      <td>1.815287e+08</td>\n",
       "      <td>17071.0</td>\n",
       "      <td>45065661.0</td>\n",
       "      <td>2178.0</td>\n",
       "      <td>2.399589e+08</td>\n",
       "      <td>20073.0</td>\n",
       "      <td>43091792.0</td>\n",
       "      <td>5466.0</td>\n",
       "      <td>-52444851.0</td>\n",
       "      <td>20.629573</td>\n",
       "    </tr>\n",
       "    <tr>\n",
       "      <th>CALABRIA</th>\n",
       "      <td>3290814</td>\n",
       "      <td>9.856006e+07</td>\n",
       "      <td>9.401460e+11</td>\n",
       "      <td>1.837726e+08</td>\n",
       "      <td>1.689654e+12</td>\n",
       "      <td>1.154142e+08</td>\n",
       "      <td>9.476560e+11</td>\n",
       "      <td>9.007095e+08</td>\n",
       "      <td>9.774305e+12</td>\n",
       "      <td>2.969848e+08</td>\n",
       "      <td>4.367052e+12</td>\n",
       "      <td>3.457071e+08</td>\n",
       "      <td>5.806945e+12</td>\n",
       "      <td>3.891268e+08</td>\n",
       "      <td>3.868277e+12</td>\n",
       "      <td>1.063160e+07</td>\n",
       "      <td>1.540947e+12</td>\n",
       "      <td>2.690738e+08</td>\n",
       "      <td>2.798125e+12</td>\n",
       "      <td>1.007450e+09</td>\n",
       "      <td>1.351075e+13</td>\n",
       "      <td>3.716812e+08</td>\n",
       "      <td>7.815587e+12</td>\n",
       "      <td>1.072683e+07</td>\n",
       "      <td>1.893573e+12</td>\n",
       "      <td>2.008606e+09</td>\n",
       "      <td>2.747856e+13</td>\n",
       "      <td>1.823852e+08</td>\n",
       "      <td>1294823.0</td>\n",
       "      <td>5.830271e+08</td>\n",
       "      <td>1442900.0</td>\n",
       "      <td>3290814.0</td>\n",
       "      <td>68043340.0</td>\n",
       "      <td>14724.0</td>\n",
       "      <td>5.291703e+09</td>\n",
       "      <td>1502696.0</td>\n",
       "      <td>2430209.0</td>\n",
       "      <td>1.161917e+10</td>\n",
       "      <td>2334942.0</td>\n",
       "      <td>8.911080e+09</td>\n",
       "      <td>723292.0</td>\n",
       "      <td>2.082598e+10</td>\n",
       "      <td>1047715.0</td>\n",
       "      <td>1.977544e+10</td>\n",
       "      <td>594199.0</td>\n",
       "      <td>3.010611e+09</td>\n",
       "      <td>46870.0</td>\n",
       "      <td>2.907710e+09</td>\n",
       "      <td>32265.0</td>\n",
       "      <td>1.395177e+09</td>\n",
       "      <td>7646.0</td>\n",
       "      <td>7.146262e+08</td>\n",
       "      <td>419517.0</td>\n",
       "      <td>1.734970e+10</td>\n",
       "      <td>1189077.0</td>\n",
       "      <td>1.220878e+10</td>\n",
       "      <td>920801.0</td>\n",
       "      <td>3.346324e+10</td>\n",
       "      <td>2355014.0</td>\n",
       "      <td>2.890488e+10</td>\n",
       "      <td>1443683.0</td>\n",
       "      <td>2.901257e+10</td>\n",
       "      <td>1472294.0</td>\n",
       "      <td>4818938.0</td>\n",
       "      <td>1.165923e+09</td>\n",
       "      <td>51552.0</td>\n",
       "      <td>7.601120e+08</td>\n",
       "      <td>75116.0</td>\n",
       "      <td>199166548.0</td>\n",
       "      <td>9597.0</td>\n",
       "      <td>1.271686e+09</td>\n",
       "      <td>117247.0</td>\n",
       "      <td>135305562.0</td>\n",
       "      <td>32009.0</td>\n",
       "      <td>-368524638.0</td>\n",
       "      <td>20.452651</td>\n",
       "    </tr>\n",
       "    <tr>\n",
       "      <th>CAMPANIA</th>\n",
       "      <td>4425296</td>\n",
       "      <td>2.455623e+08</td>\n",
       "      <td>1.263965e+12</td>\n",
       "      <td>3.614544e+08</td>\n",
       "      <td>2.272113e+12</td>\n",
       "      <td>2.629233e+08</td>\n",
       "      <td>1.274346e+12</td>\n",
       "      <td>3.012772e+09</td>\n",
       "      <td>1.314530e+13</td>\n",
       "      <td>1.246253e+09</td>\n",
       "      <td>5.872454e+12</td>\n",
       "      <td>8.695757e+08</td>\n",
       "      <td>7.808790e+12</td>\n",
       "      <td>7.957633e+08</td>\n",
       "      <td>5.201165e+12</td>\n",
       "      <td>4.494672e+08</td>\n",
       "      <td>2.071946e+12</td>\n",
       "      <td>5.774832e+08</td>\n",
       "      <td>3.762618e+12</td>\n",
       "      <td>4.229855e+09</td>\n",
       "      <td>1.816686e+13</td>\n",
       "      <td>1.321280e+09</td>\n",
       "      <td>1.051010e+13</td>\n",
       "      <td>2.377316e+08</td>\n",
       "      <td>2.546629e+12</td>\n",
       "      <td>6.762669e+09</td>\n",
       "      <td>3.695094e+13</td>\n",
       "      <td>5.263743e+08</td>\n",
       "      <td>3568103.0</td>\n",
       "      <td>1.773869e+09</td>\n",
       "      <td>4029462.0</td>\n",
       "      <td>4425296.0</td>\n",
       "      <td>69532846.0</td>\n",
       "      <td>16470.0</td>\n",
       "      <td>1.712594e+10</td>\n",
       "      <td>4196247.0</td>\n",
       "      <td>6289368.0</td>\n",
       "      <td>2.466635e+10</td>\n",
       "      <td>5131068.0</td>\n",
       "      <td>2.264590e+10</td>\n",
       "      <td>1827354.0</td>\n",
       "      <td>6.139678e+10</td>\n",
       "      <td>3074948.0</td>\n",
       "      <td>6.411118e+10</td>\n",
       "      <td>1895307.0</td>\n",
       "      <td>1.026367e+10</td>\n",
       "      <td>160294.0</td>\n",
       "      <td>1.150375e+10</td>\n",
       "      <td>125994.0</td>\n",
       "      <td>8.158354e+09</td>\n",
       "      <td>40859.0</td>\n",
       "      <td>3.797345e+09</td>\n",
       "      <td>1202329.0</td>\n",
       "      <td>5.293412e+10</td>\n",
       "      <td>3050547.0</td>\n",
       "      <td>3.145089e+10</td>\n",
       "      <td>2157006.0</td>\n",
       "      <td>9.854363e+10</td>\n",
       "      <td>6042712.0</td>\n",
       "      <td>8.791764e+10</td>\n",
       "      <td>4031077.0</td>\n",
       "      <td>8.769631e+10</td>\n",
       "      <td>4095361.0</td>\n",
       "      <td>12342425.0</td>\n",
       "      <td>4.119429e+09</td>\n",
       "      <td>155325.0</td>\n",
       "      <td>2.996012e+09</td>\n",
       "      <td>256372.0</td>\n",
       "      <td>436625960.0</td>\n",
       "      <td>19856.0</td>\n",
       "      <td>3.544177e+09</td>\n",
       "      <td>299849.0</td>\n",
       "      <td>139321938.0</td>\n",
       "      <td>86601.0</td>\n",
       "      <td>-883544763.0</td>\n",
       "      <td>19.895792</td>\n",
       "    </tr>\n",
       "    <tr>\n",
       "      <th>LIGURIA</th>\n",
       "      <td>1890810</td>\n",
       "      <td>8.949480e+07</td>\n",
       "      <td>5.401817e+11</td>\n",
       "      <td>1.559149e+08</td>\n",
       "      <td>9.708279e+11</td>\n",
       "      <td>9.371593e+07</td>\n",
       "      <td>5.444968e+11</td>\n",
       "      <td>9.146534e+08</td>\n",
       "      <td>5.616043e+12</td>\n",
       "      <td>4.347185e+08</td>\n",
       "      <td>2.509186e+12</td>\n",
       "      <td>4.386387e+08</td>\n",
       "      <td>3.336509e+12</td>\n",
       "      <td>2.920671e+08</td>\n",
       "      <td>2.222604e+12</td>\n",
       "      <td>1.767999e+08</td>\n",
       "      <td>8.853849e+11</td>\n",
       "      <td>3.352136e+08</td>\n",
       "      <td>1.607724e+12</td>\n",
       "      <td>1.272630e+09</td>\n",
       "      <td>7.762902e+12</td>\n",
       "      <td>6.076863e+08</td>\n",
       "      <td>4.490618e+12</td>\n",
       "      <td>1.887003e+08</td>\n",
       "      <td>1.087994e+12</td>\n",
       "      <td>2.508647e+09</td>\n",
       "      <td>1.578841e+13</td>\n",
       "      <td>2.886656e+08</td>\n",
       "      <td>1542125.0</td>\n",
       "      <td>6.812246e+08</td>\n",
       "      <td>1871361.0</td>\n",
       "      <td>1890810.0</td>\n",
       "      <td>4372998.0</td>\n",
       "      <td>3290.0</td>\n",
       "      <td>9.799580e+09</td>\n",
       "      <td>1906621.0</td>\n",
       "      <td>2400839.0</td>\n",
       "      <td>6.720311e+09</td>\n",
       "      <td>1352036.0</td>\n",
       "      <td>8.647505e+09</td>\n",
       "      <td>690832.0</td>\n",
       "      <td>3.044271e+10</td>\n",
       "      <td>1508034.0</td>\n",
       "      <td>3.438001e+10</td>\n",
       "      <td>997762.0</td>\n",
       "      <td>6.730396e+09</td>\n",
       "      <td>105607.0</td>\n",
       "      <td>6.892904e+09</td>\n",
       "      <td>75317.0</td>\n",
       "      <td>7.093179e+09</td>\n",
       "      <td>33896.0</td>\n",
       "      <td>2.163611e+09</td>\n",
       "      <td>598682.0</td>\n",
       "      <td>2.306978e+10</td>\n",
       "      <td>1089710.0</td>\n",
       "      <td>1.719913e+10</td>\n",
       "      <td>988642.0</td>\n",
       "      <td>4.824262e+10</td>\n",
       "      <td>2330476.0</td>\n",
       "      <td>4.589449e+10</td>\n",
       "      <td>1871829.0</td>\n",
       "      <td>4.596105e+10</td>\n",
       "      <td>1920152.0</td>\n",
       "      <td>4785568.0</td>\n",
       "      <td>2.055320e+09</td>\n",
       "      <td>55071.0</td>\n",
       "      <td>2.476442e+09</td>\n",
       "      <td>144117.0</td>\n",
       "      <td>223729862.0</td>\n",
       "      <td>5993.0</td>\n",
       "      <td>1.897010e+09</td>\n",
       "      <td>102879.0</td>\n",
       "      <td>8745996.0</td>\n",
       "      <td>22084.0</td>\n",
       "      <td>-215792728.0</td>\n",
       "      <td>18.700978</td>\n",
       "    </tr>\n",
       "  </tbody>\n",
       "</table>\n",
       "</div>"
      ],
      "text/plain": [
       "             ANNO  costo riscossione tributi  tot costo riscossione tributi  \\\n",
       "Regione                                                                       \n",
       "LAZIO     3041388               3.168019e+08                   8.688880e+11   \n",
       "MOLISE    1094256               1.793921e+07                   3.126158e+11   \n",
       "CALABRIA  3290814               9.856006e+07                   9.401460e+11   \n",
       "CAMPANIA  4425296               2.455623e+08                   1.263965e+12   \n",
       "LIGURIA   1890810               8.949480e+07                   5.401817e+11   \n",
       "\n",
       "          costo ufficio tecnico  tot costo ufficio tecnico  \\\n",
       "Regione                                                      \n",
       "LAZIO              5.716576e+08               1.561587e+12   \n",
       "MOLISE             3.421319e+07               5.618408e+11   \n",
       "CALABRIA           1.837726e+08               1.689654e+12   \n",
       "CAMPANIA           3.614544e+08               2.272113e+12   \n",
       "LIGURIA            1.559149e+08               9.708279e+11   \n",
       "\n",
       "          costo anagrafe, stato civile  tot costo anagrafe, stato civile  \\\n",
       "Regione                                                                    \n",
       "LAZIO                     2.704210e+08                      8.758288e+11   \n",
       "MOLISE                    1.853914e+07                      3.151130e+11   \n",
       "CALABRIA                  1.154142e+08                      9.476560e+11   \n",
       "CAMPANIA                  2.629233e+08                      1.274346e+12   \n",
       "LIGURIA                   9.371593e+07                      5.444968e+11   \n",
       "\n",
       "          costo altri servizi  tot costo altri servizi  costo polizia locale  \\\n",
       "Regione                                                                        \n",
       "LAZIO            3.366483e+09             9.033465e+12          2.049437e+09   \n",
       "MOLISE           1.679047e+08             3.250136e+12          4.727739e+07   \n",
       "CALABRIA         9.007095e+08             9.774305e+12          2.969848e+08   \n",
       "CAMPANIA         3.012772e+09             1.314530e+13          1.246253e+09   \n",
       "LIGURIA          9.146534e+08             5.616043e+12          4.347185e+08   \n",
       "\n",
       "          tot costo polizia locale  costo istruzione  tot costo istruzione  \\\n",
       "Regione                                                                      \n",
       "LAZIO                 4.036053e+12      2.307503e+09          5.366810e+12   \n",
       "MOLISE                1.452125e+12      6.281326e+07          1.930916e+12   \n",
       "CALABRIA              4.367052e+12      3.457071e+08          5.806945e+12   \n",
       "CAMPANIA              5.872454e+12      8.695757e+08          7.808790e+12   \n",
       "LIGURIA               2.509186e+12      4.386387e+08          3.336509e+12   \n",
       "\n",
       "          costo viabilita'  tot costo viabilita'  costo trasporti  \\\n",
       "Regione                                                             \n",
       "LAZIO         1.170081e+09          3.575083e+12     1.643651e+09   \n",
       "MOLISE        6.936311e+07          1.286273e+12     6.267626e+06   \n",
       "CALABRIA      3.891268e+08          3.868277e+12     1.063160e+07   \n",
       "CAMPANIA      7.957633e+08          5.201165e+12     4.494672e+08   \n",
       "LIGURIA       2.920671e+08          2.222604e+12     1.767999e+08   \n",
       "\n",
       "          tot costo trasporti  costo territorio  tot costo territorio  \\\n",
       "Regione                                                                 \n",
       "LAZIO            1.424151e+12      9.876832e+08          2.586042e+12   \n",
       "MOLISE           5.123930e+11      5.237064e+07          9.304278e+11   \n",
       "CALABRIA         1.540947e+12      2.690738e+08          2.798125e+12   \n",
       "CAMPANIA         2.071946e+12      5.774832e+08          3.762618e+12   \n",
       "LIGURIA          8.853849e+11      3.352136e+08          1.607724e+12   \n",
       "\n",
       "          costo ambiente  tot costo ambiente  costo sociale  \\\n",
       "Regione                                                       \n",
       "LAZIO       4.992385e+09        1.248671e+13   2.592058e+09   \n",
       "MOLISE      1.348824e+08        4.492573e+12   7.042110e+07   \n",
       "CALABRIA    1.007450e+09        1.351075e+13   3.716812e+08   \n",
       "CAMPANIA    4.229855e+09        1.816686e+13   1.321280e+09   \n",
       "LIGURIA     1.272630e+09        7.762902e+12   6.076863e+08   \n",
       "\n",
       "          tot costo sociale  costo asili nido  tot costo asili nido  \\\n",
       "Regione                                                               \n",
       "LAZIO          7.223208e+12      1.205375e+09          1.750050e+12   \n",
       "MOLISE         2.598826e+12      8.707969e+06          6.296477e+11   \n",
       "CALABRIA       7.815587e+12      1.072683e+07          1.893573e+12   \n",
       "CAMPANIA       1.051010e+13      2.377316e+08          2.546629e+12   \n",
       "LIGURIA        4.490618e+12      1.887003e+08          1.087994e+12   \n",
       "\n",
       "          costo spesa totale  tot costo spesa totale  \\\n",
       "Regione                                                \n",
       "LAZIO           1.047213e+10            2.539583e+13   \n",
       "MOLISE          3.310870e+08            9.137124e+12   \n",
       "CALABRIA        2.008606e+09            2.747856e+13   \n",
       "CAMPANIA        6.762669e+09            3.695094e+13   \n",
       "LIGURIA         2.508647e+09            1.578841e+13   \n",
       "\n",
       "          Addizionale comunale dovuta Ammontare  \\\n",
       "Regione                                           \n",
       "LAZIO                              1.214945e+09   \n",
       "MOLISE                             3.111734e+07   \n",
       "CALABRIA                           1.823852e+08   \n",
       "CAMPANIA                           5.263743e+08   \n",
       "LIGURIA                            2.886656e+08   \n",
       "\n",
       "          Addizionale comunale dovuta Frequenza  \\\n",
       "Regione                                           \n",
       "LAZIO                                 5466692.0   \n",
       "MOLISE                                 249309.0   \n",
       "CALABRIA                              1294823.0   \n",
       "CAMPANIA                              3568103.0   \n",
       "LIGURIA                               1542125.0   \n",
       "\n",
       "          Addizionale regionale dovuta Ammontare  \\\n",
       "Regione                                            \n",
       "LAZIO                               2.643004e+09   \n",
       "MOLISE                              1.147230e+08   \n",
       "CALABRIA                            5.830271e+08   \n",
       "CAMPANIA                            1.773869e+09   \n",
       "LIGURIA                             6.812246e+08   \n",
       "\n",
       "          Addizionale regionale dovuta Frequenza  Anno di imposta  \\\n",
       "Regione                                                             \n",
       "LAZIO                                  5684494.0        3041388.0   \n",
       "MOLISE                                  275953.0        1094256.0   \n",
       "CALABRIA                               1442900.0        3290814.0   \n",
       "CAMPANIA                               4029462.0        4425296.0   \n",
       "LIGURIA                                1871361.0        1890810.0   \n",
       "\n",
       "          Codice Istat Comune  Codice Istat Regione  Imposta netta Ammontare  \\\n",
       "Regione                                                                        \n",
       "LAZIO              43925320.0                9072.0             3.516809e+10   \n",
       "MOLISE             21545896.0                3808.0             1.053451e+09   \n",
       "CALABRIA           68043340.0               14724.0             5.291703e+09   \n",
       "CAMPANIA           69532846.0               16470.0             1.712594e+10   \n",
       "LIGURIA             4372998.0                3290.0             9.799580e+09   \n",
       "\n",
       "          Imposta netta Frequenza  Numero contribuenti  \\\n",
       "Regione                                                  \n",
       "LAZIO                   5878799.0            7728190.0   \n",
       "MOLISE                   283946.0             437651.0   \n",
       "CALABRIA                1502696.0            2430209.0   \n",
       "CAMPANIA                4196247.0            6289368.0   \n",
       "LIGURIA                 1906621.0            2400839.0   \n",
       "\n",
       "          Reddito complessivo da 0 a 10000 euro Ammontare  \\\n",
       "Regione                                                     \n",
       "LAZIO                                        2.200914e+10   \n",
       "MOLISE                                       1.806945e+09   \n",
       "CALABRIA                                     1.161917e+10   \n",
       "CAMPANIA                                     2.466635e+10   \n",
       "LIGURIA                                      6.720311e+09   \n",
       "\n",
       "          Reddito complessivo da 0 a 10000 euro Frequenza  \\\n",
       "Regione                                                     \n",
       "LAZIO                                           4723586.0   \n",
       "MOLISE                                           381150.0   \n",
       "CALABRIA                                        2334942.0   \n",
       "CAMPANIA                                        5131068.0   \n",
       "LIGURIA                                         1352036.0   \n",
       "\n",
       "          Reddito complessivo da 10000 a 15000 euro Ammontare  \\\n",
       "Regione                                                         \n",
       "LAZIO                                          2.452278e+10     \n",
       "MOLISE                                         1.642958e+09     \n",
       "CALABRIA                                       8.911080e+09     \n",
       "CAMPANIA                                       2.264590e+10     \n",
       "LIGURIA                                        8.647505e+09     \n",
       "\n",
       "          Reddito complessivo da 10000 a 15000 euro Frequenza  \\\n",
       "Regione                                                         \n",
       "LAZIO                                             1966958.0     \n",
       "MOLISE                                             134263.0     \n",
       "CALABRIA                                           723292.0     \n",
       "CAMPANIA                                          1827354.0     \n",
       "LIGURIA                                            690832.0     \n",
       "\n",
       "          Reddito complessivo da 15000 a 26000 euro Ammontare  \\\n",
       "Regione                                                         \n",
       "LAZIO                                          8.373783e+10     \n",
       "MOLISE                                         4.262883e+09     \n",
       "CALABRIA                                       2.082598e+10     \n",
       "CAMPANIA                                       6.139678e+10     \n",
       "LIGURIA                                        3.044271e+10     \n",
       "\n",
       "          Reddito complessivo da 15000 a 26000 euro Frequenza  \\\n",
       "Regione                                                         \n",
       "LAZIO                                             4147597.0     \n",
       "MOLISE                                             214548.0     \n",
       "CALABRIA                                          1047715.0     \n",
       "CAMPANIA                                          3074948.0     \n",
       "LIGURIA                                           1508034.0     \n",
       "\n",
       "          Reddito complessivo da 26000 a 55000 euro Ammontare  \\\n",
       "Regione                                                         \n",
       "LAZIO                                          1.163050e+11     \n",
       "MOLISE                                         3.901221e+09     \n",
       "CALABRIA                                       1.977544e+10     \n",
       "CAMPANIA                                       6.411118e+10     \n",
       "LIGURIA                                        3.438001e+10     \n",
       "\n",
       "          Reddito complessivo da 26000 a 55000 euro Frequenza  \\\n",
       "Regione                                                         \n",
       "LAZIO                                             3322276.0     \n",
       "MOLISE                                             116589.0     \n",
       "CALABRIA                                           594199.0     \n",
       "CAMPANIA                                          1895307.0     \n",
       "LIGURIA                                            997762.0     \n",
       "\n",
       "          Reddito complessivo da 55000 a 75000 euro Ammontare  \\\n",
       "Regione                                                         \n",
       "LAZIO                                          2.521806e+10     \n",
       "MOLISE                                         5.820986e+08     \n",
       "CALABRIA                                       3.010611e+09     \n",
       "CAMPANIA                                       1.026367e+10     \n",
       "LIGURIA                                        6.730396e+09     \n",
       "\n",
       "          Reddito complessivo da 55000 a 75000 euro Frequenza  \\\n",
       "Regione                                                         \n",
       "LAZIO                                              395788.0     \n",
       "MOLISE                                               9062.0     \n",
       "CALABRIA                                            46870.0     \n",
       "CAMPANIA                                           160294.0     \n",
       "LIGURIA                                            105607.0     \n",
       "\n",
       "          Reddito complessivo da 75000 a 120000 euro Ammontare  \\\n",
       "Regione                                                          \n",
       "LAZIO                                          2.836402e+10      \n",
       "MOLISE                                         6.073011e+08      \n",
       "CALABRIA                                       2.907710e+09      \n",
       "CAMPANIA                                       1.150375e+10      \n",
       "LIGURIA                                        6.892904e+09      \n",
       "\n",
       "          Reddito complessivo da 75000 a 120000 euro Frequenza  \\\n",
       "Regione                                                          \n",
       "LAZIO                                              308759.0      \n",
       "MOLISE                                               6674.0      \n",
       "CALABRIA                                            32265.0      \n",
       "CAMPANIA                                           125994.0      \n",
       "LIGURIA                                             75317.0      \n",
       "\n",
       "          Reddito complessivo oltre 120000 euro Ammontare  \\\n",
       "Regione                                                     \n",
       "LAZIO                                        3.341094e+10   \n",
       "MOLISE                                       3.184669e+08   \n",
       "CALABRIA                                     1.395177e+09   \n",
       "CAMPANIA                                     8.158354e+09   \n",
       "LIGURIA                                      7.093179e+09   \n",
       "\n",
       "          Reddito complessivo oltre 120000 euro Frequenza  \\\n",
       "Regione                                                     \n",
       "LAZIO                                            151267.0   \n",
       "MOLISE                                             1835.0   \n",
       "CALABRIA                                           7646.0   \n",
       "CAMPANIA                                          40859.0   \n",
       "LIGURIA                                           33896.0   \n",
       "\n",
       "          Reddito da fabbricati Ammontare  Reddito da fabbricati Frequenza  \\\n",
       "Regione                                                                      \n",
       "LAZIO                        6.128523e+09                        1503690.0   \n",
       "MOLISE                       1.530388e+08                          91177.0   \n",
       "CALABRIA                     7.146262e+08                         419517.0   \n",
       "CAMPANIA                     3.797345e+09                        1202329.0   \n",
       "LIGURIA                      2.163611e+09                         598682.0   \n",
       "\n",
       "          Reddito da lavoro dipendente e assimilati Ammontare  \\\n",
       "Regione                                                         \n",
       "LAZIO                                          8.979876e+10     \n",
       "MOLISE                                         3.294459e+09     \n",
       "CALABRIA                                       1.734970e+10     \n",
       "CAMPANIA                                       5.293412e+10     \n",
       "LIGURIA                                        2.306978e+10     \n",
       "\n",
       "          Reddito da lavoro dipendente e assimilati Frequenza  \\\n",
       "Regione                                                         \n",
       "LAZIO                                             3934377.0     \n",
       "MOLISE                                             186174.0     \n",
       "CALABRIA                                          1189077.0     \n",
       "CAMPANIA                                          3050547.0     \n",
       "LIGURIA                                           1089710.0     \n",
       "\n",
       "          Reddito da pensione Ammontare  Reddito da pensione Frequenza  \\\n",
       "Regione                                                                  \n",
       "LAZIO                      4.842269e+10                      2621282.0   \n",
       "MOLISE                     2.288970e+09                       184712.0   \n",
       "CALABRIA                   1.220878e+10                       920801.0   \n",
       "CAMPANIA                   3.145089e+10                      2157006.0   \n",
       "LIGURIA                    1.719913e+10                       988642.0   \n",
       "\n",
       "          Reddito imponibile Ammontare  Reddito imponibile Frequenza  \\\n",
       "Regione                                                                \n",
       "LAZIO                     1.615144e+11                     7425489.0   \n",
       "MOLISE                    6.359213e+09                      420445.0   \n",
       "CALABRIA                  3.346324e+10                     2355014.0   \n",
       "CAMPANIA                  9.854363e+10                     6042712.0   \n",
       "LIGURIA                   4.824262e+10                     2330476.0   \n",
       "\n",
       "          Reddito imponibile addizionale Ammontare  \\\n",
       "Regione                                              \n",
       "LAZIO                                 1.531381e+11   \n",
       "MOLISE                                5.678226e+09   \n",
       "CALABRIA                              2.890488e+10   \n",
       "CAMPANIA                              8.791764e+10   \n",
       "LIGURIA                               4.589449e+10   \n",
       "\n",
       "          Reddito imponibile addizionale Frequenza  \\\n",
       "Regione                                              \n",
       "LAZIO                                    5686127.0   \n",
       "MOLISE                                    276022.0   \n",
       "CALABRIA                                 1443683.0   \n",
       "CAMPANIA                                 4031077.0   \n",
       "LIGURIA                                  1871829.0   \n",
       "\n",
       "          Reddito imponibile addizionale IRPEF Ammontare  \\\n",
       "Regione                                                    \n",
       "LAZIO                                       1.516947e+11   \n",
       "MOLISE                                      5.692659e+09   \n",
       "CALABRIA                                    2.901257e+10   \n",
       "CAMPANIA                                    8.769631e+10   \n",
       "LIGURIA                                     4.596105e+10   \n",
       "\n",
       "          Reddito imponibile addizionale IRPEF Frequenza  tot_contribuenti  \\\n",
       "Regione                                                                      \n",
       "LAZIO                                          5771056.0        15088932.0   \n",
       "MOLISE                                          282409.0          869587.0   \n",
       "CALABRIA                                       1472294.0         4818938.0   \n",
       "CAMPANIA                                       4095361.0        12342425.0   \n",
       "LIGURIA                                        1920152.0         4785568.0   \n",
       "\n",
       "          Reddito lavoro autonomo Ammontare  \\\n",
       "Regione                                       \n",
       "LAZIO                          8.156609e+09   \n",
       "MOLISE                         2.353990e+08   \n",
       "CALABRIA                       1.165923e+09   \n",
       "CAMPANIA                       4.119429e+09   \n",
       "LIGURIA                        2.055320e+09   \n",
       "\n",
       "          Reddito lavoro autonomo Frequenza  \\\n",
       "Regione                                       \n",
       "LAZIO                              225798.0   \n",
       "MOLISE                               9604.0   \n",
       "CALABRIA                            51552.0   \n",
       "CAMPANIA                           155325.0   \n",
       "LIGURIA                             55071.0   \n",
       "\n",
       "          Reddito da partecipazione Ammontare  \\\n",
       "Regione                                         \n",
       "LAZIO                            4.483684e+09   \n",
       "MOLISE                           1.815287e+08   \n",
       "CALABRIA                         7.601120e+08   \n",
       "CAMPANIA                         2.996012e+09   \n",
       "LIGURIA                          2.476442e+09   \n",
       "\n",
       "          Reddito da partecipazione Frequenza  \\\n",
       "Regione                                         \n",
       "LAZIO                                276446.0   \n",
       "MOLISE                                17071.0   \n",
       "CALABRIA                              75116.0   \n",
       "CAMPANIA                             256372.0   \n",
       "LIGURIA                              144117.0   \n",
       "\n",
       "          Reddito imprenditore ordinario Ammontare  \\\n",
       "Regione                                              \n",
       "LAZIO                                  628153052.0   \n",
       "MOLISE                                  45065661.0   \n",
       "CALABRIA                               199166548.0   \n",
       "CAMPANIA                               436625960.0   \n",
       "LIGURIA                                223729862.0   \n",
       "\n",
       "          Reddito imprenditore ordinario Frequenza  \\\n",
       "Regione                                              \n",
       "LAZIO                                      24679.0   \n",
       "MOLISE                                      2178.0   \n",
       "CALABRIA                                    9597.0   \n",
       "CAMPANIA                                   19856.0   \n",
       "LIGURIA                                     5993.0   \n",
       "\n",
       "          Reddito imprenditore semplificata Ammontare  \\\n",
       "Regione                                                 \n",
       "LAZIO                                    4.168198e+09   \n",
       "MOLISE                                   2.399589e+08   \n",
       "CALABRIA                                 1.271686e+09   \n",
       "CAMPANIA                                 3.544177e+09   \n",
       "LIGURIA                                  1.897010e+09   \n",
       "\n",
       "          Reddito imprenditore semplificata Frequenza    Cod Istat  \\\n",
       "Regione                                                              \n",
       "LAZIO                                        273015.0   87850640.0   \n",
       "MOLISE                                        20073.0   43091792.0   \n",
       "CALABRIA                                     117247.0  135305562.0   \n",
       "CAMPANIA                                     299849.0  139321938.0   \n",
       "LIGURIA                                      102879.0    8745996.0   \n",
       "\n",
       "          Reddito minore o uguale a zero Frequenza  \\\n",
       "Regione                                              \n",
       "LAZIO                                      72701.0   \n",
       "MOLISE                                      5466.0   \n",
       "CALABRIA                                   32009.0   \n",
       "CAMPANIA                                   86601.0   \n",
       "LIGURIA                                    22084.0   \n",
       "\n",
       "          Reddito minore o uguale a zero Ammontare  \\\n",
       "Regione                                              \n",
       "LAZIO                                 -712292787.0   \n",
       "MOLISE                                 -52444851.0   \n",
       "CALABRIA                              -368524638.0   \n",
       "CAMPANIA                              -883544763.0   \n",
       "LIGURIA                               -215792728.0   \n",
       "\n",
       "          spesa_tributi_per_contribuenti  \n",
       "Regione                                   \n",
       "LAZIO                          20.995650  \n",
       "MOLISE                         20.629573  \n",
       "CALABRIA                       20.452651  \n",
       "CAMPANIA                       19.895792  \n",
       "LIGURIA                        18.700978  "
      ]
     },
     "execution_count": 8,
     "metadata": {},
     "output_type": "execute_result"
    }
   ],
   "source": [
    "df_regione.sort_values(\"spesa_tributi_per_contribuenti\", ascending=False).head()"
   ]
  },
  {
   "cell_type": "code",
   "execution_count": 9,
   "metadata": {
    "scrolled": false
   },
   "outputs": [
    {
     "data": {
      "application/vnd.plotly.v1+json": {
       "data": [
        {
         "labels": [
          "ABRUZZO",
          "BASILICATA",
          "CALABRIA",
          "CAMPANIA",
          "EMILIA-ROMAGNA",
          "LAZIO",
          "LIGURIA",
          "LOMBARDIA",
          "MARCHE",
          "MOLISE",
          "PIEMONTE",
          "PUGLIA",
          "TOSCANA",
          "UMBRIA",
          "VENETO"
         ],
         "type": "pie",
         "values": [
          63772299.20600004,
          23426773.832000006,
          98560058.48499985,
          245562318.17600015,
          189793727.03199995,
          316801937.3400001,
          89494803.98599987,
          416698827.3641162,
          65288103.40702289,
          17939208.343000006,
          194469913.8297033,
          189864092.3829999,
          187864081.2474618,
          36564040.16999999,
          156452371.37038845
         ]
        }
       ],
       "layout": {
        "title": "Costo medio riscossione tasse per Regione/Contribuente in Euro"
       }
      },
      "text/html": [
       "<div id=\"d319c04a-463c-4d27-b9f9-d373c964baa3\" style=\"height: 525px; width: 100%;\" class=\"plotly-graph-div\"></div><script type=\"text/javascript\">require([\"plotly\"], function(Plotly) { window.PLOTLYENV=window.PLOTLYENV || {};window.PLOTLYENV.BASE_URL=\"https://plot.ly\";Plotly.newPlot(\"d319c04a-463c-4d27-b9f9-d373c964baa3\", [{\"type\": \"pie\", \"labels\": [\"ABRUZZO\", \"BASILICATA\", \"CALABRIA\", \"CAMPANIA\", \"EMILIA-ROMAGNA\", \"LAZIO\", \"LIGURIA\", \"LOMBARDIA\", \"MARCHE\", \"MOLISE\", \"PIEMONTE\", \"PUGLIA\", \"TOSCANA\", \"UMBRIA\", \"VENETO\"], \"values\": [63772299.20600004, 23426773.832000006, 98560058.48499985, 245562318.17600015, 189793727.03199995, 316801937.3400001, 89494803.98599987, 416698827.3641162, 65288103.40702289, 17939208.343000006, 194469913.8297033, 189864092.3829999, 187864081.2474618, 36564040.16999999, 156452371.37038845]}], {\"title\": \"Costo medio riscossione tasse per Regione/Contribuente in Euro\"}, {\"showLink\": true, \"linkText\": \"Export to plot.ly\"})});</script>"
      ],
      "text/vnd.plotly.v1+html": [
       "<div id=\"d319c04a-463c-4d27-b9f9-d373c964baa3\" style=\"height: 525px; width: 100%;\" class=\"plotly-graph-div\"></div><script type=\"text/javascript\">require([\"plotly\"], function(Plotly) { window.PLOTLYENV=window.PLOTLYENV || {};window.PLOTLYENV.BASE_URL=\"https://plot.ly\";Plotly.newPlot(\"d319c04a-463c-4d27-b9f9-d373c964baa3\", [{\"type\": \"pie\", \"labels\": [\"ABRUZZO\", \"BASILICATA\", \"CALABRIA\", \"CAMPANIA\", \"EMILIA-ROMAGNA\", \"LAZIO\", \"LIGURIA\", \"LOMBARDIA\", \"MARCHE\", \"MOLISE\", \"PIEMONTE\", \"PUGLIA\", \"TOSCANA\", \"UMBRIA\", \"VENETO\"], \"values\": [63772299.20600004, 23426773.832000006, 98560058.48499985, 245562318.17600015, 189793727.03199995, 316801937.3400001, 89494803.98599987, 416698827.3641162, 65288103.40702289, 17939208.343000006, 194469913.8297033, 189864092.3829999, 187864081.2474618, 36564040.16999999, 156452371.37038845]}], {\"title\": \"Costo medio riscossione tasse per Regione/Contribuente in Euro\"}, {\"showLink\": true, \"linkText\": \"Export to plot.ly\"})});</script>"
      ]
     },
     "metadata": {},
     "output_type": "display_data"
    },
    {
     "data": {
      "application/vnd.plotly.v1+json": {
       "data": [
        {
         "name": "spesa media per regione",
         "type": "bar",
         "x": [
          "ABRUZZO",
          "BASILICATA",
          "CALABRIA",
          "CAMPANIA",
          "EMILIA-ROMAGNA",
          "LAZIO",
          "LIGURIA",
          "LOMBARDIA",
          "MARCHE",
          "MOLISE",
          "PIEMONTE",
          "PUGLIA",
          "TOSCANA",
          "UMBRIA",
          "VENETO"
         ],
         "y": [
          17.38932306408623,
          15.40171186483022,
          20.45265128644524,
          19.89579180558117,
          14.308776336934717,
          20.99565014541785,
          18.700978438923002,
          14.82544764702784,
          14.55141998192061,
          20.629572823650776,
          15.200879538561475,
          18.67737158039364,
          17.507799519590844,
          14.420277090344328,
          11.066790721097366
         ]
        },
        {
         "name": "spesa media nazionale",
         "type": "scatter",
         "x": [
          "ABRUZZO",
          "BASILICATA",
          "CALABRIA",
          "CAMPANIA",
          "EMILIA-ROMAGNA",
          "LAZIO",
          "LIGURIA",
          "LOMBARDIA",
          "MARCHE",
          "MOLISE",
          "PIEMONTE",
          "PUGLIA",
          "TOSCANA",
          "UMBRIA",
          "VENETO"
         ],
         "y": [
          16.934962789653685,
          16.934962789653685,
          16.934962789653685,
          16.934962789653685,
          16.934962789653685,
          16.934962789653685,
          16.934962789653685,
          16.934962789653685,
          16.934962789653685,
          16.934962789653685,
          16.934962789653685,
          16.934962789653685,
          16.934962789653685,
          16.934962789653685,
          16.934962789653685
         ]
        }
       ],
       "layout": {
        "title": "Costo medio riscossione tasse per Regione/Contribuente in Euro",
        "xaxis": {
         "title": "Regioni"
        },
        "yaxis": {
         "title": "Euro per Contribuente"
        }
       }
      },
      "text/html": [
       "<div id=\"d8bd9cdb-c849-458f-b405-9239b3975b37\" style=\"height: 525px; width: 100%;\" class=\"plotly-graph-div\"></div><script type=\"text/javascript\">require([\"plotly\"], function(Plotly) { window.PLOTLYENV=window.PLOTLYENV || {};window.PLOTLYENV.BASE_URL=\"https://plot.ly\";Plotly.newPlot(\"d8bd9cdb-c849-458f-b405-9239b3975b37\", [{\"type\": \"bar\", \"x\": [\"ABRUZZO\", \"BASILICATA\", \"CALABRIA\", \"CAMPANIA\", \"EMILIA-ROMAGNA\", \"LAZIO\", \"LIGURIA\", \"LOMBARDIA\", \"MARCHE\", \"MOLISE\", \"PIEMONTE\", \"PUGLIA\", \"TOSCANA\", \"UMBRIA\", \"VENETO\"], \"y\": [17.38932306408623, 15.40171186483022, 20.45265128644524, 19.89579180558117, 14.308776336934717, 20.99565014541785, 18.700978438923002, 14.82544764702784, 14.55141998192061, 20.629572823650776, 15.200879538561475, 18.67737158039364, 17.507799519590844, 14.420277090344328, 11.066790721097366], \"name\": \"spesa media per regione\"}, {\"type\": \"scatter\", \"x\": [\"ABRUZZO\", \"BASILICATA\", \"CALABRIA\", \"CAMPANIA\", \"EMILIA-ROMAGNA\", \"LAZIO\", \"LIGURIA\", \"LOMBARDIA\", \"MARCHE\", \"MOLISE\", \"PIEMONTE\", \"PUGLIA\", \"TOSCANA\", \"UMBRIA\", \"VENETO\"], \"y\": [16.934962789653685, 16.934962789653685, 16.934962789653685, 16.934962789653685, 16.934962789653685, 16.934962789653685, 16.934962789653685, 16.934962789653685, 16.934962789653685, 16.934962789653685, 16.934962789653685, 16.934962789653685, 16.934962789653685, 16.934962789653685, 16.934962789653685], \"name\": \"spesa media nazionale\"}], {\"title\": \"Costo medio riscossione tasse per Regione/Contribuente in Euro\", \"xaxis\": {\"title\": \"Regioni\"}, \"yaxis\": {\"title\": \"Euro per Contribuente\"}}, {\"showLink\": true, \"linkText\": \"Export to plot.ly\"})});</script>"
      ],
      "text/vnd.plotly.v1+html": [
       "<div id=\"d8bd9cdb-c849-458f-b405-9239b3975b37\" style=\"height: 525px; width: 100%;\" class=\"plotly-graph-div\"></div><script type=\"text/javascript\">require([\"plotly\"], function(Plotly) { window.PLOTLYENV=window.PLOTLYENV || {};window.PLOTLYENV.BASE_URL=\"https://plot.ly\";Plotly.newPlot(\"d8bd9cdb-c849-458f-b405-9239b3975b37\", [{\"type\": \"bar\", \"x\": [\"ABRUZZO\", \"BASILICATA\", \"CALABRIA\", \"CAMPANIA\", \"EMILIA-ROMAGNA\", \"LAZIO\", \"LIGURIA\", \"LOMBARDIA\", \"MARCHE\", \"MOLISE\", \"PIEMONTE\", \"PUGLIA\", \"TOSCANA\", \"UMBRIA\", \"VENETO\"], \"y\": [17.38932306408623, 15.40171186483022, 20.45265128644524, 19.89579180558117, 14.308776336934717, 20.99565014541785, 18.700978438923002, 14.82544764702784, 14.55141998192061, 20.629572823650776, 15.200879538561475, 18.67737158039364, 17.507799519590844, 14.420277090344328, 11.066790721097366], \"name\": \"spesa media per regione\"}, {\"type\": \"scatter\", \"x\": [\"ABRUZZO\", \"BASILICATA\", \"CALABRIA\", \"CAMPANIA\", \"EMILIA-ROMAGNA\", \"LAZIO\", \"LIGURIA\", \"LOMBARDIA\", \"MARCHE\", \"MOLISE\", \"PIEMONTE\", \"PUGLIA\", \"TOSCANA\", \"UMBRIA\", \"VENETO\"], \"y\": [16.934962789653685, 16.934962789653685, 16.934962789653685, 16.934962789653685, 16.934962789653685, 16.934962789653685, 16.934962789653685, 16.934962789653685, 16.934962789653685, 16.934962789653685, 16.934962789653685, 16.934962789653685, 16.934962789653685, 16.934962789653685, 16.934962789653685], \"name\": \"spesa media nazionale\"}], {\"title\": \"Costo medio riscossione tasse per Regione/Contribuente in Euro\", \"xaxis\": {\"title\": \"Regioni\"}, \"yaxis\": {\"title\": \"Euro per Contribuente\"}}, {\"showLink\": true, \"linkText\": \"Export to plot.ly\"})});</script>"
      ]
     },
     "metadata": {},
     "output_type": "display_data"
    },
    {
     "data": {
      "application/vnd.plotly.v1+json": {
       "data": [
        {
         "name": "numero contribuenti per regione",
         "type": "bar",
         "x": [
          "ABRUZZO",
          "BASILICATA",
          "CALABRIA",
          "CAMPANIA",
          "EMILIA-ROMAGNA",
          "LAZIO",
          "LIGURIA",
          "LOMBARDIA",
          "MARCHE",
          "MOLISE",
          "PIEMONTE",
          "PUGLIA",
          "TOSCANA",
          "UMBRIA",
          "VENETO"
         ],
         "y": [
          3667325,
          1521050,
          4818938,
          12342425,
          13264148,
          15088932,
          4785568,
          28106998,
          4486717,
          869587,
          12793333,
          10165461,
          10730308,
          2535599,
          14137104
         ]
        },
        {
         "name": "media italiana numero contribuenti",
         "type": "scatter",
         "x": [
          "ABRUZZO",
          "BASILICATA",
          "CALABRIA",
          "CAMPANIA",
          "EMILIA-ROMAGNA",
          "LAZIO",
          "LIGURIA",
          "LOMBARDIA",
          "MARCHE",
          "MOLISE",
          "PIEMONTE",
          "PUGLIA",
          "TOSCANA",
          "UMBRIA",
          "VENETO"
         ],
         "y": [
          9287566.2,
          9287566.2,
          9287566.2,
          9287566.2,
          9287566.2,
          9287566.2,
          9287566.2,
          9287566.2,
          9287566.2,
          9287566.2,
          9287566.2,
          9287566.2,
          9287566.2,
          9287566.2,
          9287566.2
         ]
        }
       ],
       "layout": {
        "title": "Numero Totale Contribuenti per Regione",
        "xaxis": {
         "title": "Regioni"
        },
        "yaxis": {
         "title": "Numero Contribuenti"
        }
       }
      },
      "text/html": [
       "<div id=\"6adf922c-223b-42b2-bba3-a8fe6417632a\" style=\"height: 525px; width: 100%;\" class=\"plotly-graph-div\"></div><script type=\"text/javascript\">require([\"plotly\"], function(Plotly) { window.PLOTLYENV=window.PLOTLYENV || {};window.PLOTLYENV.BASE_URL=\"https://plot.ly\";Plotly.newPlot(\"6adf922c-223b-42b2-bba3-a8fe6417632a\", [{\"type\": \"bar\", \"x\": [\"ABRUZZO\", \"BASILICATA\", \"CALABRIA\", \"CAMPANIA\", \"EMILIA-ROMAGNA\", \"LAZIO\", \"LIGURIA\", \"LOMBARDIA\", \"MARCHE\", \"MOLISE\", \"PIEMONTE\", \"PUGLIA\", \"TOSCANA\", \"UMBRIA\", \"VENETO\"], \"y\": [3667325.0, 1521050.0, 4818938.0, 12342425.0, 13264148.0, 15088932.0, 4785568.0, 28106998.0, 4486717.0, 869587.0, 12793333.0, 10165461.0, 10730308.0, 2535599.0, 14137104.0], \"name\": \"numero contribuenti per regione\"}, {\"type\": \"scatter\", \"x\": [\"ABRUZZO\", \"BASILICATA\", \"CALABRIA\", \"CAMPANIA\", \"EMILIA-ROMAGNA\", \"LAZIO\", \"LIGURIA\", \"LOMBARDIA\", \"MARCHE\", \"MOLISE\", \"PIEMONTE\", \"PUGLIA\", \"TOSCANA\", \"UMBRIA\", \"VENETO\"], \"y\": [9287566.2, 9287566.2, 9287566.2, 9287566.2, 9287566.2, 9287566.2, 9287566.2, 9287566.2, 9287566.2, 9287566.2, 9287566.2, 9287566.2, 9287566.2, 9287566.2, 9287566.2], \"name\": \"media italiana numero contribuenti\"}], {\"title\": \"Numero Totale Contribuenti per Regione\", \"xaxis\": {\"title\": \"Regioni\"}, \"yaxis\": {\"title\": \"Numero Contribuenti\"}}, {\"showLink\": true, \"linkText\": \"Export to plot.ly\"})});</script>"
      ],
      "text/vnd.plotly.v1+html": [
       "<div id=\"6adf922c-223b-42b2-bba3-a8fe6417632a\" style=\"height: 525px; width: 100%;\" class=\"plotly-graph-div\"></div><script type=\"text/javascript\">require([\"plotly\"], function(Plotly) { window.PLOTLYENV=window.PLOTLYENV || {};window.PLOTLYENV.BASE_URL=\"https://plot.ly\";Plotly.newPlot(\"6adf922c-223b-42b2-bba3-a8fe6417632a\", [{\"type\": \"bar\", \"x\": [\"ABRUZZO\", \"BASILICATA\", \"CALABRIA\", \"CAMPANIA\", \"EMILIA-ROMAGNA\", \"LAZIO\", \"LIGURIA\", \"LOMBARDIA\", \"MARCHE\", \"MOLISE\", \"PIEMONTE\", \"PUGLIA\", \"TOSCANA\", \"UMBRIA\", \"VENETO\"], \"y\": [3667325.0, 1521050.0, 4818938.0, 12342425.0, 13264148.0, 15088932.0, 4785568.0, 28106998.0, 4486717.0, 869587.0, 12793333.0, 10165461.0, 10730308.0, 2535599.0, 14137104.0], \"name\": \"numero contribuenti per regione\"}, {\"type\": \"scatter\", \"x\": [\"ABRUZZO\", \"BASILICATA\", \"CALABRIA\", \"CAMPANIA\", \"EMILIA-ROMAGNA\", \"LAZIO\", \"LIGURIA\", \"LOMBARDIA\", \"MARCHE\", \"MOLISE\", \"PIEMONTE\", \"PUGLIA\", \"TOSCANA\", \"UMBRIA\", \"VENETO\"], \"y\": [9287566.2, 9287566.2, 9287566.2, 9287566.2, 9287566.2, 9287566.2, 9287566.2, 9287566.2, 9287566.2, 9287566.2, 9287566.2, 9287566.2, 9287566.2, 9287566.2, 9287566.2], \"name\": \"media italiana numero contribuenti\"}], {\"title\": \"Numero Totale Contribuenti per Regione\", \"xaxis\": {\"title\": \"Regioni\"}, \"yaxis\": {\"title\": \"Numero Contribuenti\"}}, {\"showLink\": true, \"linkText\": \"Export to plot.ly\"})});</script>"
      ]
     },
     "metadata": {},
     "output_type": "display_data"
    },
    {
     "data": {
      "application/vnd.plotly.v1+json": {
       "data": [
        {
         "labels": [
          "ABRUZZO",
          "BASILICATA",
          "CALABRIA",
          "CAMPANIA",
          "EMILIA-ROMAGNA",
          "LAZIO",
          "LIGURIA",
          "LOMBARDIA",
          "MARCHE",
          "MOLISE",
          "PIEMONTE",
          "PUGLIA",
          "TOSCANA",
          "UMBRIA",
          "VENETO"
         ],
         "type": "pie",
         "values": [
          3667325,
          1521050,
          4818938,
          12342425,
          13264148,
          15088932,
          4785568,
          28106998,
          4486717,
          869587,
          12793333,
          10165461,
          10730308,
          2535599,
          14137104
         ]
        }
       ],
       "layout": {
        "title": "Contribuenti"
       }
      },
      "text/html": [
       "<div id=\"879bd398-3d7b-48d6-9009-2a697bc8dc35\" style=\"height: 525px; width: 100%;\" class=\"plotly-graph-div\"></div><script type=\"text/javascript\">require([\"plotly\"], function(Plotly) { window.PLOTLYENV=window.PLOTLYENV || {};window.PLOTLYENV.BASE_URL=\"https://plot.ly\";Plotly.newPlot(\"879bd398-3d7b-48d6-9009-2a697bc8dc35\", [{\"type\": \"pie\", \"labels\": [\"ABRUZZO\", \"BASILICATA\", \"CALABRIA\", \"CAMPANIA\", \"EMILIA-ROMAGNA\", \"LAZIO\", \"LIGURIA\", \"LOMBARDIA\", \"MARCHE\", \"MOLISE\", \"PIEMONTE\", \"PUGLIA\", \"TOSCANA\", \"UMBRIA\", \"VENETO\"], \"values\": [3667325.0, 1521050.0, 4818938.0, 12342425.0, 13264148.0, 15088932.0, 4785568.0, 28106998.0, 4486717.0, 869587.0, 12793333.0, 10165461.0, 10730308.0, 2535599.0, 14137104.0]}], {\"title\": \"Contribuenti\"}, {\"showLink\": true, \"linkText\": \"Export to plot.ly\"})});</script>"
      ],
      "text/vnd.plotly.v1+html": [
       "<div id=\"879bd398-3d7b-48d6-9009-2a697bc8dc35\" style=\"height: 525px; width: 100%;\" class=\"plotly-graph-div\"></div><script type=\"text/javascript\">require([\"plotly\"], function(Plotly) { window.PLOTLYENV=window.PLOTLYENV || {};window.PLOTLYENV.BASE_URL=\"https://plot.ly\";Plotly.newPlot(\"879bd398-3d7b-48d6-9009-2a697bc8dc35\", [{\"type\": \"pie\", \"labels\": [\"ABRUZZO\", \"BASILICATA\", \"CALABRIA\", \"CAMPANIA\", \"EMILIA-ROMAGNA\", \"LAZIO\", \"LIGURIA\", \"LOMBARDIA\", \"MARCHE\", \"MOLISE\", \"PIEMONTE\", \"PUGLIA\", \"TOSCANA\", \"UMBRIA\", \"VENETO\"], \"values\": [3667325.0, 1521050.0, 4818938.0, 12342425.0, 13264148.0, 15088932.0, 4785568.0, 28106998.0, 4486717.0, 869587.0, 12793333.0, 10165461.0, 10730308.0, 2535599.0, 14137104.0]}], {\"title\": \"Contribuenti\"}, {\"showLink\": true, \"linkText\": \"Export to plot.ly\"})});</script>"
      ]
     },
     "metadata": {},
     "output_type": "display_data"
    },
    {
     "data": {
      "image/png": "[encoded data removed]",
      "text/plain": [
       "<IPython.core.display.Image object>"
      ]
     },
     "metadata": {},
     "output_type": "display_data"
    },
    {
     "data": {
      "image/png": "[encoded data removed]",
      "text/plain": [
       "<IPython.core.display.Image object>"
      ]
     },
     "metadata": {},
     "output_type": "display_data"
    },
    {
     "data": {
      "image/png": "[encoded data removed]",
      "text/plain": [
       "<IPython.core.display.Image object>"
      ]
     },
     "metadata": {},
     "output_type": "display_data"
    },
    {
     "data": {
      "image/png": "[encoded data removed]",
      "text/plain": [
       "<IPython.core.display.Image object>"
      ]
     },
     "metadata": {},
     "output_type": "display_data"
    }
   ],
   "source": [
    "py.iplot(fig_pie)\n",
    "py.iplot(fig_bar)\n",
    "py.iplot(fig_bar_contribuenti)\n",
    "py.iplot(fig_pie_contribuenti)\n",
    "\n",
    "fig_pie_path = 'imgs/tributi_regione_pie.png'\n",
    "fig_bar_path = 'imgs/tributi_regione_bar.png'\n",
    "fig_bar_contribuenti_path = 'imgs/contribuenti_regione_bar.png'\n",
    "fig_pie_contribuenti_path = 'imgs/contribuenti_regione_pie.png'\n",
    "\n",
    "py_on.image.save_as(fig_pie, filename=fig_pie_path)\n",
    "py_on.image.save_as(fig_bar, filename=fig_bar_path)\n",
    "py_on.image.save_as(fig_bar_contribuenti, filename=fig_bar_contribuenti_path)\n",
    "py_on.image.save_as(fig_pie_contribuenti, filename=fig_pie_contribuenti_path)\n",
    "\n",
    "x = Image(fig_pie_path)\n",
    "y = Image(fig_bar_path)\n",
    "z = Image(fig_bar_contribuenti_path)\n",
    "w = Image(fig_pie_contribuenti_path)\n",
    "display(x,y,z,w)"
   ]
  },
  {
   "cell_type": "code",
   "execution_count": 10,
   "metadata": {
    "scrolled": false
   },
   "outputs": [
    {
     "data": {
      "application/vnd.plotly.v1+json": {
       "data": [
        {
         "name": "percentuale costo riscossione tributi",
         "type": "bar",
         "x": [
          "LOMBARDIA",
          "LAZIO",
          "CAMPANIA",
          "PIEMONTE",
          "PUGLIA",
          "EMILIA-ROMAGNA",
          "TOSCANA",
          "VENETO",
          "CALABRIA",
          "LIGURIA",
          "MARCHE",
          "ABRUZZO",
          "UMBRIA",
          "BASILICATA",
          "MOLISE"
         ],
         "y": [
          0.18176195186554714,
          0.13818742627607372,
          0.10711305942144327,
          0.08482680726606609,
          0.08281777090425871,
          0.08278707788882028,
          0.08194537601405043,
          0.06824374470683739,
          0.04299140633424962,
          0.0390371874987443,
          0.02847834534098828,
          0.02781715910255627,
          0.015949052104200334,
          0.010218641997512202,
          0.007824993278652022
         ]
        },
        {
         "name": "percentuale contribuenti",
         "type": "bar",
         "x": [
          "LOMBARDIA",
          "LAZIO",
          "CAMPANIA",
          "PIEMONTE",
          "PUGLIA",
          "EMILIA-ROMAGNA",
          "TOSCANA",
          "VENETO",
          "CALABRIA",
          "LIGURIA",
          "MARCHE",
          "ABRUZZO",
          "UMBRIA",
          "BASILICATA",
          "MOLISE"
         ],
         "y": [
          0.20175359467872936,
          0.10830919299396219,
          0.0885946130142613,
          0.0918312557133285,
          0.07296824436093925,
          0.09521079196542721,
          0.07702274753817277,
          0.10147691867865233,
          0.03459060494592581,
          0.034351073230214677,
          0.03220590413306197,
          0.026324262790539607,
          0.018200670627072712,
          0.010918181485837843,
          0.006241943843874477
         ]
        },
        {
         "name": "media percentuale costo/contribuenti",
         "type": "scatter",
         "x": [
          "LOMBARDIA",
          "LAZIO",
          "CAMPANIA",
          "PIEMONTE",
          "PUGLIA",
          "EMILIA-ROMAGNA",
          "TOSCANA",
          "VENETO",
          "CALABRIA",
          "LIGURIA",
          "MARCHE",
          "ABRUZZO",
          "UMBRIA",
          "BASILICATA",
          "MOLISE"
         ],
         "y": [
          0.19175777327213825,
          0.12324830963501796,
          0.09785383621785229,
          0.08832903148969729,
          0.07789300763259899,
          0.08899893492712374,
          0.0794840617761116,
          0.08486033169274486,
          0.03879100564008771,
          0.03669413036447949,
          0.030342124737025127,
          0.02707071094654794,
          0.017074861365636525,
          0.010568411741675023,
          0.00703346856126325
         ]
        }
       ],
       "layout": {
        "title": "Analisi costo riscossione tributi rispetto a numero contribuenti per Regione",
        "xaxis": {
         "title": "Regioni"
        },
        "yaxis": {
         "title": "Confronto Spesa-Contribuenti"
        }
       }
      },
      "text/html": [
       "<div id=\"d52d2761-67d3-4aec-b16a-b9fc8f9f009f\" style=\"height: 525px; width: 100%;\" class=\"plotly-graph-div\"></div><script type=\"text/javascript\">require([\"plotly\"], function(Plotly) { window.PLOTLYENV=window.PLOTLYENV || {};window.PLOTLYENV.BASE_URL=\"https://plot.ly\";Plotly.newPlot(\"d52d2761-67d3-4aec-b16a-b9fc8f9f009f\", [{\"type\": \"bar\", \"x\": [\"LOMBARDIA\", \"LAZIO\", \"CAMPANIA\", \"PIEMONTE\", \"PUGLIA\", \"EMILIA-ROMAGNA\", \"TOSCANA\", \"VENETO\", \"CALABRIA\", \"LIGURIA\", \"MARCHE\", \"ABRUZZO\", \"UMBRIA\", \"BASILICATA\", \"MOLISE\"], \"y\": [0.18176195186554714, 0.13818742627607372, 0.10711305942144327, 0.08482680726606609, 0.08281777090425871, 0.08278707788882028, 0.08194537601405043, 0.06824374470683739, 0.04299140633424962, 0.0390371874987443, 0.02847834534098828, 0.02781715910255627, 0.015949052104200334, 0.010218641997512202, 0.007824993278652022], \"name\": \"percentuale costo riscossione tributi\"}, {\"type\": \"bar\", \"x\": [\"LOMBARDIA\", \"LAZIO\", \"CAMPANIA\", \"PIEMONTE\", \"PUGLIA\", \"EMILIA-ROMAGNA\", \"TOSCANA\", \"VENETO\", \"CALABRIA\", \"LIGURIA\", \"MARCHE\", \"ABRUZZO\", \"UMBRIA\", \"BASILICATA\", \"MOLISE\"], \"y\": [0.20175359467872936, 0.10830919299396219, 0.0885946130142613, 0.0918312557133285, 0.07296824436093925, 0.09521079196542721, 0.07702274753817277, 0.10147691867865233, 0.03459060494592581, 0.034351073230214677, 0.03220590413306197, 0.026324262790539607, 0.018200670627072712, 0.010918181485837843, 0.006241943843874477], \"name\": \"percentuale contribuenti\"}, {\"type\": \"scatter\", \"x\": [\"LOMBARDIA\", \"LAZIO\", \"CAMPANIA\", \"PIEMONTE\", \"PUGLIA\", \"EMILIA-ROMAGNA\", \"TOSCANA\", \"VENETO\", \"CALABRIA\", \"LIGURIA\", \"MARCHE\", \"ABRUZZO\", \"UMBRIA\", \"BASILICATA\", \"MOLISE\"], \"y\": [0.19175777327213825, 0.12324830963501796, 0.09785383621785229, 0.08832903148969729, 0.07789300763259899, 0.08899893492712374, 0.0794840617761116, 0.08486033169274486, 0.03879100564008771, 0.03669413036447949, 0.030342124737025127, 0.02707071094654794, 0.017074861365636525, 0.010568411741675023, 0.00703346856126325], \"name\": \"media percentuale costo/contribuenti\"}], {\"title\": \"Analisi costo riscossione tributi rispetto a numero contribuenti per Regione\", \"xaxis\": {\"title\": \"Regioni\"}, \"yaxis\": {\"title\": \"Confronto Spesa-Contribuenti\"}}, {\"showLink\": true, \"linkText\": \"Export to plot.ly\"})});</script>"
      ],
      "text/vnd.plotly.v1+html": [
       "<div id=\"d52d2761-67d3-4aec-b16a-b9fc8f9f009f\" style=\"height: 525px; width: 100%;\" class=\"plotly-graph-div\"></div><script type=\"text/javascript\">require([\"plotly\"], function(Plotly) { window.PLOTLYENV=window.PLOTLYENV || {};window.PLOTLYENV.BASE_URL=\"https://plot.ly\";Plotly.newPlot(\"d52d2761-67d3-4aec-b16a-b9fc8f9f009f\", [{\"type\": \"bar\", \"x\": [\"LOMBARDIA\", \"LAZIO\", \"CAMPANIA\", \"PIEMONTE\", \"PUGLIA\", \"EMILIA-ROMAGNA\", \"TOSCANA\", \"VENETO\", \"CALABRIA\", \"LIGURIA\", \"MARCHE\", \"ABRUZZO\", \"UMBRIA\", \"BASILICATA\", \"MOLISE\"], \"y\": [0.18176195186554714, 0.13818742627607372, 0.10711305942144327, 0.08482680726606609, 0.08281777090425871, 0.08278707788882028, 0.08194537601405043, 0.06824374470683739, 0.04299140633424962, 0.0390371874987443, 0.02847834534098828, 0.02781715910255627, 0.015949052104200334, 0.010218641997512202, 0.007824993278652022], \"name\": \"percentuale costo riscossione tributi\"}, {\"type\": \"bar\", \"x\": [\"LOMBARDIA\", \"LAZIO\", \"CAMPANIA\", \"PIEMONTE\", \"PUGLIA\", \"EMILIA-ROMAGNA\", \"TOSCANA\", \"VENETO\", \"CALABRIA\", \"LIGURIA\", \"MARCHE\", \"ABRUZZO\", \"UMBRIA\", \"BASILICATA\", \"MOLISE\"], \"y\": [0.20175359467872936, 0.10830919299396219, 0.0885946130142613, 0.0918312557133285, 0.07296824436093925, 0.09521079196542721, 0.07702274753817277, 0.10147691867865233, 0.03459060494592581, 0.034351073230214677, 0.03220590413306197, 0.026324262790539607, 0.018200670627072712, 0.010918181485837843, 0.006241943843874477], \"name\": \"percentuale contribuenti\"}, {\"type\": \"scatter\", \"x\": [\"LOMBARDIA\", \"LAZIO\", \"CAMPANIA\", \"PIEMONTE\", \"PUGLIA\", \"EMILIA-ROMAGNA\", \"TOSCANA\", \"VENETO\", \"CALABRIA\", \"LIGURIA\", \"MARCHE\", \"ABRUZZO\", \"UMBRIA\", \"BASILICATA\", \"MOLISE\"], \"y\": [0.19175777327213825, 0.12324830963501796, 0.09785383621785229, 0.08832903148969729, 0.07789300763259899, 0.08899893492712374, 0.0794840617761116, 0.08486033169274486, 0.03879100564008771, 0.03669413036447949, 0.030342124737025127, 0.02707071094654794, 0.017074861365636525, 0.010568411741675023, 0.00703346856126325], \"name\": \"media percentuale costo/contribuenti\"}], {\"title\": \"Analisi costo riscossione tributi rispetto a numero contribuenti per Regione\", \"xaxis\": {\"title\": \"Regioni\"}, \"yaxis\": {\"title\": \"Confronto Spesa-Contribuenti\"}}, {\"showLink\": true, \"linkText\": \"Export to plot.ly\"})});</script>"
      ]
     },
     "metadata": {},
     "output_type": "display_data"
    },
    {
     "data": {
      "image/png": "[encoded data removed]",
      "text/plain": [
       "<IPython.core.display.Image object>"
      ]
     },
     "metadata": {},
     "output_type": "display_data"
    }
   ],
   "source": [
    "df_regione2 = df_regione\n",
    "sum_costo_medio = df_regione2[fattore].sum()\n",
    "sum_numero_contribuenti = df_regione2[tot_contribuenti].sum()\n",
    "df_regione2.loc[:, fattore] /= sum_costo_medio \n",
    "df_regione2.loc[:, tot_contribuenti] /= sum_numero_contribuenti\n",
    "\n",
    "df_regione2 = df_regione2.sort_values(fattore, ascending=False)\n",
    "\n",
    "\n",
    "#df_regione2 = df_regione2.sort_values(fattore, ascending=False)\n",
    "media = (df_regione2[fattore] + df_regione2[tot_contribuenti]) / 2\n",
    "\n",
    "data = [go.Bar(x=df_regione2.index, y=df_regione2[fattore], name = 'percentuale costo riscossione tributi'),\n",
    "        go.Bar(x=df_regione2.index, y=df_regione2[tot_contribuenti], name = 'percentuale contribuenti'),\n",
    "        go.Scatter(x=df_regione2.index, y=media, name = 'media percentuale costo/contribuenti')\n",
    "           ]\n",
    "\n",
    "layout_bar_contribuenti_spesa = go.Layout(\n",
    "    title='Analisi costo riscossione tributi rispetto a numero contribuenti per Regione',\n",
    "    xaxis=dict(\n",
    "        title='Regioni',\n",
    "    ),\n",
    "    yaxis=dict(\n",
    "        title='Confronto Spesa-Contribuenti',\n",
    "    )\n",
    ")\n",
    "\n",
    "fig_bar_spesa_contribuenti = go.Figure(data=data, layout=layout_bar_contribuenti_spesa)\n",
    "\n",
    "py.iplot(fig_bar_spesa_contribuenti)\n",
    "\n",
    "fig_bar_spesa_contribuenti_path = 'imgs/spesa_contribuenti_regione_bar.png'\n",
    "\n",
    "py_on.image.save_as(fig_bar_spesa_contribuenti, filename=fig_bar_spesa_contribuenti_path)\n",
    "\n",
    "i = Image(fig_bar_spesa_contribuenti_path)\n",
    "display(i)"
   ]
  },
  {
   "cell_type": "markdown",
   "metadata": {},
   "source": [
    "Dal precedente grafico si può osservare come la regione più efficiente sia il Veneto avente il 10% dei contribuenti italiani che concorrono al 7% della spesa italiana. Al contrario la regione piu inefficiente risulta il Lazio avente il 12% dei contribuenti italiani che concorrono al 14% della spesa italiana.\n",
    "Si elencano di seguito le differenze per ogni regione:"
   ]
  },
  {
   "cell_type": "code",
   "execution_count": 11,
   "metadata": {},
   "outputs": [
    {
     "data": {
      "text/plain": [
       "Regione\n",
       "VENETO           -0.033233\n",
       "LOMBARDIA        -0.019992\n",
       "EMILIA-ROMAGNA   -0.012424\n",
       "PIEMONTE         -0.007004\n",
       "MARCHE           -0.003728\n",
       "UMBRIA           -0.002252\n",
       "BASILICATA       -0.000700\n",
       "ABRUZZO           0.001493\n",
       "MOLISE            0.001583\n",
       "LIGURIA           0.004686\n",
       "TOSCANA           0.004923\n",
       "CALABRIA          0.008401\n",
       "PUGLIA            0.009850\n",
       "CAMPANIA          0.018518\n",
       "LAZIO             0.029878\n",
       "dtype: float64"
      ]
     },
     "execution_count": 11,
     "metadata": {},
     "output_type": "execute_result"
    }
   ],
   "source": [
    "(df_regione[fattore] - df_regione[tot_contribuenti]).sort_values()"
   ]
  },
  {
   "cell_type": "markdown",
   "metadata": {},
   "source": [
    "Si elencano di seguito le regioni italiane in rapporto al costo medio di riscossione tasse per contribuente. In particolare, si può oseervare come il Veneto sia la regione con il più basso costo di riscossione tasse per contribuente (i.e. 11.07 euro per contribuente), seguito da Emilia Romagna (14.30 euro), Umbria (14.42 euro), Marche(14.55 euro) e Lombardia(14.82 euro). Troviamo invece in coda Calabria (20.45 euro), Molise (20.63 euro) e Lazio (21 euro)."
   ]
  },
  {
   "cell_type": "code",
   "execution_count": 12,
   "metadata": {
    "scrolled": true
   },
   "outputs": [
    {
     "data": {
      "text/plain": [
       "Regione\n",
       "VENETO            11.066791\n",
       "EMILIA-ROMAGNA    14.308776\n",
       "UMBRIA            14.420277\n",
       "MARCHE            14.551420\n",
       "LOMBARDIA         14.825448\n",
       "PIEMONTE          15.200880\n",
       "BASILICATA        15.401712\n",
       "ABRUZZO           17.389323\n",
       "TOSCANA           17.507800\n",
       "PUGLIA            18.677372\n",
       "LIGURIA           18.700978\n",
       "CAMPANIA          19.895792\n",
       "CALABRIA          20.452651\n",
       "MOLISE            20.629573\n",
       "LAZIO             20.995650\n",
       "Name: spesa_tributi_per_contribuenti, dtype: float64"
      ]
     },
     "execution_count": 12,
     "metadata": {},
     "output_type": "execute_result"
    }
   ],
   "source": [
    "df_regione[\"spesa_tributi_per_contribuenti\"].sort_values(ascending=True)"
   ]
  },
  {
   "cell_type": "markdown",
   "metadata": {},
   "source": [
    "## Distribuzione Redditi\n",
    "\n",
    "Analizziamo ora come sia distribuita la contribuzione fiscale da parte dei contribuenti.\n",
    "In particolare, analizziamo le diverse fonti di reddito dal punto di vista di:\n",
    "\n",
    "1. distribuzione contribuenti\n",
    "2. distribuzione introiti\n",
    "\n",
    "Qui sotto consideriamo quali sono i fattori per l'analisi:"
   ]
  },
  {
   "cell_type": "code",
   "execution_count": 13,
   "metadata": {},
   "outputs": [],
   "source": [
    "fattori = [c for c in df.columns.values if c.startswith('Reddito') and 'Frequenza' in c]\n"
   ]
  },
  {
   "cell_type": "markdown",
   "metadata": {},
   "source": [
    "Dai quali selezioniamo i redditi da lavoro"
   ]
  },
  {
   "cell_type": "code",
   "execution_count": 14,
   "metadata": {},
   "outputs": [],
   "source": [
    "frequenza_reddito_scaglioni = [\n",
    " ('Regione','Reddito minore o uguale a zero Frequenza', '0M'),\n",
    " ('Regione','Reddito complessivo da 0 a 10000 euro Frequenza', '0-10M'),\n",
    " ('Regione','Reddito complessivo da 10000 a 15000 euro Frequenza', '10-15M'),\n",
    " ('Regione','Reddito complessivo da 15000 a 26000 euro Frequenza', '15-26M'),\n",
    " ('Regione','Reddito complessivo da 26000 a 55000 euro Frequenza', '26-55M'),\n",
    " ('Regione','Reddito complessivo da 55000 a 75000 euro Frequenza', '55-75M'),\n",
    " ('Regione','Reddito complessivo da 75000 a 120000 euro Frequenza', '75-120M'),\n",
    " ('Regione','Reddito complessivo oltre 120000 euro Frequenza', '>120M'),\n",
    "]\n",
    "\n",
    "fattori_frequenza = [v for _, v, _ in frequenza_reddito_scaglioni]"
   ]
  },
  {
   "cell_type": "markdown",
   "metadata": {},
   "source": [
    "### Frequenza contribuenti per fascia economica\n",
    "\n",
    "Consideriamo di seguito la distribuzione dei contribuenti organizzati per regione. \n",
    "In particolare, analizzeremo i campi in *fattori_frequenza* normalizzati per il numero totale di contribuenti.\n",
    "\n",
    "Come prima attività utilizziamo un algoritmo di clustering (HDBSCAN) per individuare gruppi di regioni simili in termini di fasce economiche. Il clustering restituisce 2 gruppi (più un gruppo *rumore*):\n",
    "\n",
    "- Cluster 0: Composto da tutte le regioni del sud: [ABRUZZO, BASILICATA, CAMPANIA, MOLISE, PUGLIA];\n",
    "- Cluster 1: Composto da tutte le regioni del nord: [EMILIA-ROMAGNA, LIGURIA, MARCHE, PIEMONTE, TOSCANA, UMBRIA, VENETO];\n",
    "- Cluster -1 (cluster rumore): Composto da LAZIO e LOMBARDIA;\n"
   ]
  },
  {
   "cell_type": "markdown",
   "metadata": {},
   "source": [
    "### Contribuzione per fascia di reddito in percentuale"
   ]
  },
  {
   "cell_type": "code",
   "execution_count": 15,
   "metadata": {},
   "outputs": [
    {
     "data": {
      "text/plain": [
       "['Reddito minore o uguale a zero Frequenza',\n",
       " 'Reddito complessivo da 0 a 10000 euro Frequenza',\n",
       " 'Reddito complessivo da 10000 a 15000 euro Frequenza',\n",
       " 'Reddito complessivo da 15000 a 26000 euro Frequenza',\n",
       " 'Reddito complessivo da 26000 a 55000 euro Frequenza',\n",
       " 'Reddito complessivo da 55000 a 75000 euro Frequenza',\n",
       " 'Reddito complessivo da 75000 a 120000 euro Frequenza',\n",
       " 'Reddito complessivo oltre 120000 euro Frequenza']"
      ]
     },
     "execution_count": 15,
     "metadata": {},
     "output_type": "execute_result"
    }
   ],
   "source": [
    "fattori_frequenza"
   ]
  },
  {
   "cell_type": "code",
   "execution_count": 16,
   "metadata": {},
   "outputs": [],
   "source": [
    "df_regione_sum = df.groupby(df.Regione).sum()\n",
    "\n",
    "df_regione_fattoriFrequenza = df_regione_sum[fattori_frequenza]\n",
    "df_regione_totContribuenti = df_regione_sum.tot_contribuenti\n",
    "\n",
    "frequenza_redditi_percentuale = df_regione_fattoriFrequenza.div(df_regione_totContribuenti, axis='index')\n",
    "frequenza_redditi_percentuale = frequenza_redditi_percentuale.reset_index()\n",
    "df_regione_totContribuenti = df_regione_totContribuenti.reset_index()"
   ]
  },
  {
   "cell_type": "code",
   "execution_count": 17,
   "metadata": {},
   "outputs": [
    {
     "data": {
      "text/plain": [
       "[('Regione', 'Reddito minore o uguale a zero Frequenza', '0M'),\n",
       " ('Regione', 'Reddito complessivo da 0 a 10000 euro Frequenza', '0-10M'),\n",
       " ('Regione', 'Reddito complessivo da 10000 a 15000 euro Frequenza', '10-15M'),\n",
       " ('Regione', 'Reddito complessivo da 15000 a 26000 euro Frequenza', '15-26M'),\n",
       " ('Regione', 'Reddito complessivo da 26000 a 55000 euro Frequenza', '26-55M'),\n",
       " ('Regione', 'Reddito complessivo da 55000 a 75000 euro Frequenza', '55-75M'),\n",
       " ('Regione',\n",
       "  'Reddito complessivo da 75000 a 120000 euro Frequenza',\n",
       "  '75-120M'),\n",
       " ('Regione', 'Reddito complessivo oltre 120000 euro Frequenza', '>120M')]"
      ]
     },
     "execution_count": 17,
     "metadata": {},
     "output_type": "execute_result"
    }
   ],
   "source": [
    "frequenza_reddito_scaglioni"
   ]
  },
  {
   "cell_type": "code",
   "execution_count": 18,
   "metadata": {},
   "outputs": [
    {
     "data": {
      "text/plain": [
       "{'Reddito complessivo da 0 a 10000 euro Frequenza': 0.33964639266755997,\n",
       " 'Reddito complessivo da 10000 a 15000 euro Frequenza': 0.15363162269910377,\n",
       " 'Reddito complessivo da 15000 a 26000 euro Frequenza': 0.29755310671803764,\n",
       " 'Reddito complessivo da 26000 a 55000 euro Frequenza': 0.16963572283171477,\n",
       " 'Reddito complessivo da 55000 a 75000 euro Frequenza': 0.016779390155291837,\n",
       " 'Reddito complessivo da 75000 a 120000 euro Frequenza': 0.012391442173139264,\n",
       " 'Reddito complessivo oltre 120000 euro Frequenza': 0.005170169880813685,\n",
       " 'Reddito minore o uguale a zero Frequenza': 0.005192152874339054}"
      ]
     },
     "execution_count": 18,
     "metadata": {},
     "output_type": "execute_result"
    }
   ],
   "source": [
    "media = dict( [(x[1], frequenza_redditi_percentuale[x[1]].mean()) for x in frequenza_reddito_scaglioni])\n",
    "media"
   ]
  },
  {
   "cell_type": "code",
   "execution_count": 19,
   "metadata": {},
   "outputs": [],
   "source": [
    "\n",
    "#df_regione_sum[fattori_frequenza].head()\n",
    "\n",
    "#import numpy as np \n",
    "#from sklearn.manifold import TSNE\n",
    "\n",
    "#tsne = TSNE(n_components=3, verbose=1, perplexity=4, n_iter=1500)\n",
    "#tsne_results = tsne.fit_transform(df_regione_sum[fattori_frequenza].values)\n",
    "\n",
    "#df_tsne = pd.DataFrame(tsne_results)\n",
    "\n",
    "#scatter = [go.Scatter3d(\n",
    "#    name = \"TSNE\",\n",
    "#    x=df_tsne[0],\n",
    "#    y=df_tsne[1],\n",
    "#    z=df_tsne[2],\n",
    "#    text=df_regione_sum.index,\n",
    "#    mode='markers',\n",
    "#    marker=dict(\n",
    "#        size=4,\n",
    "#        line=dict(\n",
    "#            #color='rgba(217, 217, 217, 0.14)',\n",
    "#            width=1\n",
    "#        )#,opacity=0.8\n",
    "#    )\n",
    "#)]\n",
    "\n",
    "#fig = go.Figure( data=scatter)\n",
    "#py.iplot(fig)"
   ]
  },
  {
   "cell_type": "code",
   "execution_count": 20,
   "metadata": {},
   "outputs": [
    {
     "data": {
      "application/vnd.plotly.v1+json": {
       "data": [
        {
         "name": "0M",
         "type": "bar",
         "x": [
          "ABRUZZO",
          "BASILICATA",
          "CALABRIA",
          "CAMPANIA",
          "EMILIA-ROMAGNA",
          "LAZIO",
          "LIGURIA",
          "LOMBARDIA",
          "MARCHE",
          "MOLISE",
          "PIEMONTE",
          "PUGLIA",
          "TOSCANA",
          "UMBRIA",
          "VENETO",
          "ITALIA"
         ],
         "y": [
          0.005913847286509922,
          0.0050918773215870615,
          0.006642334887894387,
          0.007016530381995434,
          0.004095400624299427,
          0.004818167382555637,
          0.004614708222722987,
          0.003678905872480583,
          0.004845636575696662,
          0.006285742542149319,
          0.004348983959066805,
          0.00604674987194383,
          0.005528266290212732,
          0.004867883289116299,
          0.004087258606854699,
          0.005192152874339054
         ]
        },
        {
         "name": "0-10M",
         "type": "bar",
         "x": [
          "ABRUZZO",
          "BASILICATA",
          "CALABRIA",
          "CAMPANIA",
          "EMILIA-ROMAGNA",
          "LAZIO",
          "LIGURIA",
          "LOMBARDIA",
          "MARCHE",
          "MOLISE",
          "PIEMONTE",
          "PUGLIA",
          "TOSCANA",
          "UMBRIA",
          "VENETO",
          "ITALIA"
         ],
         "y": [
          0.37746559140517955,
          0.4351454587291674,
          0.4845345592742633,
          0.41572608300232733,
          0.2525680503564948,
          0.3130497241289178,
          0.2825236210205351,
          0.24234099991752944,
          0.3140329554995334,
          0.43831152029641657,
          0.25743494678048323,
          0.42224932051778075,
          0.28218947676059253,
          0.301914458871454,
          0.27520912345272414,
          0.33964639266755997
         ]
        },
        {
         "name": "10-15M",
         "type": "bar",
         "x": [
          "ABRUZZO",
          "BASILICATA",
          "CALABRIA",
          "CAMPANIA",
          "EMILIA-ROMAGNA",
          "LAZIO",
          "LIGURIA",
          "LOMBARDIA",
          "MARCHE",
          "MOLISE",
          "PIEMONTE",
          "PUGLIA",
          "TOSCANA",
          "UMBRIA",
          "VENETO",
          "ITALIA"
         ],
         "y": [
          0.16127068094592106,
          0.16258505637553006,
          0.15009365133977653,
          0.148054697516898,
          0.15487153792312933,
          0.13035766878663116,
          0.1443573678192432,
          0.1367775028838014,
          0.17091004402550908,
          0.15439858231551298,
          0.14898377146909253,
          0.16724022648849865,
          0.15561501123732888,
          0.1685021961280155,
          0.15045634523166837,
          0.15363162269910377
         ]
        },
        {
         "name": "15-26M",
         "type": "bar",
         "x": [
          "ABRUZZO",
          "BASILICATA",
          "CALABRIA",
          "CAMPANIA",
          "EMILIA-ROMAGNA",
          "LAZIO",
          "LIGURIA",
          "LOMBARDIA",
          "MARCHE",
          "MOLISE",
          "PIEMONTE",
          "PUGLIA",
          "TOSCANA",
          "UMBRIA",
          "VENETO",
          "ITALIA"
         ],
         "y": [
          0.28131540018951146,
          0.2503757272936458,
          0.21741616098816793,
          0.2491364541409002,
          0.3465565975289178,
          0.27487677722982645,
          0.3151212144514507,
          0.34911102921770587,
          0.3230116809239361,
          0.24672401956330994,
          0.3537333078096224,
          0.24609105283075702,
          0.33169178368412167,
          0.32764762882458937,
          0.3504877660941024,
          0.29755310671803764
         ]
        },
        {
         "name": "26-55M",
         "type": "bar",
         "x": [
          "ABRUZZO",
          "BASILICATA",
          "CALABRIA",
          "CAMPANIA",
          "EMILIA-ROMAGNA",
          "LAZIO",
          "LIGURIA",
          "LOMBARDIA",
          "MARCHE",
          "MOLISE",
          "PIEMONTE",
          "PUGLIA",
          "TOSCANA",
          "UMBRIA",
          "VENETO",
          "ITALIA"
         ],
         "y": [
          0.1489644359308215,
          0.12866046481049276,
          0.12330496885413342,
          0.1535603416670549,
          0.1973770950082885,
          0.22017966546605153,
          0.2084939551585099,
          0.21235127991968406,
          0.15633658195959318,
          0.13407399144651427,
          0.1947265032497786,
          0.13624261605056573,
          0.18451259740167755,
          0.1656803776937915,
          0.18007096785876373,
          0.16963572283171477
         ]
        },
        {
         "name": "55-75M",
         "type": "bar",
         "x": [
          "ABRUZZO",
          "BASILICATA",
          "CALABRIA",
          "CAMPANIA",
          "EMILIA-ROMAGNA",
          "LAZIO",
          "LIGURIA",
          "LOMBARDIA",
          "MARCHE",
          "MOLISE",
          "PIEMONTE",
          "PUGLIA",
          "TOSCANA",
          "UMBRIA",
          "VENETO",
          "ITALIA"
         ],
         "y": [
          0.012983032591875549,
          0.00909634791755695,
          0.009726209384723357,
          0.012987237111021538,
          0.021655292145413334,
          0.02623035215481122,
          0.022067808878695278,
          0.02609143815358723,
          0.015391877847432766,
          0.010421038952974228,
          0.019577462730001636,
          0.010879290176805558,
          0.020061865884930797,
          0.015665331939316903,
          0.018856266460231176,
          0.016779390155291837
         ]
        },
        {
         "name": "75-120M",
         "type": "bar",
         "x": [
          "ABRUZZO",
          "BASILICATA",
          "CALABRIA",
          "CAMPANIA",
          "EMILIA-ROMAGNA",
          "LAZIO",
          "LIGURIA",
          "LOMBARDIA",
          "MARCHE",
          "MOLISE",
          "PIEMONTE",
          "PUGLIA",
          "TOSCANA",
          "UMBRIA",
          "VENETO",
          "ITALIA"
         ],
         "y": [
          0.009172625823999782,
          0.0070845797311068015,
          0.006695458625946215,
          0.010208204627534703,
          0.015513472859319723,
          0.020462614583987786,
          0.01573836167410013,
          0.019055467965664635,
          0.011164733590284389,
          0.007674907743561023,
          0.014668108771967399,
          0.008390765554065871,
          0.014363520599781479,
          0.011617373251843055,
          0.014061437193925998,
          0.012391442173139264
         ]
        },
        {
         "name": ">120M",
         "type": "bar",
         "x": [
          "ABRUZZO",
          "BASILICATA",
          "CALABRIA",
          "CAMPANIA",
          "EMILIA-ROMAGNA",
          "LAZIO",
          "LIGURIA",
          "LOMBARDIA",
          "MARCHE",
          "MOLISE",
          "PIEMONTE",
          "PUGLIA",
          "TOSCANA",
          "UMBRIA",
          "VENETO",
          "ITALIA"
         ],
         "y": [
          0.0029143858261812083,
          0.001960487820913185,
          0.001586656645094832,
          0.003310451552267889,
          0.007362553554137062,
          0.010025030267218382,
          0.0070829627747427265,
          0.010593376069546807,
          0.004306489578014393,
          0.002110197139561654,
          0.006526915229987369,
          0.0028599785095825953,
          0.006037478141354377,
          0.004104750001873324,
          0.006770835101729463,
          0.005170169880813685
         ]
        }
       ],
       "layout": {
        "title": "Distribuzione per Fasce di Contribuzione - Frequenza",
        "xaxis": {
         "title": "Regioni"
        },
        "yaxis": {
         "title": "Percentuale"
        }
       }
      },
      "text/html": [
       "<div id=\"d4b11a93-2423-418e-a7db-2d999410b51a\" style=\"height: 525px; width: 100%;\" class=\"plotly-graph-div\"></div><script type=\"text/javascript\">require([\"plotly\"], function(Plotly) { window.PLOTLYENV=window.PLOTLYENV || {};window.PLOTLYENV.BASE_URL=\"https://plot.ly\";Plotly.newPlot(\"d4b11a93-2423-418e-a7db-2d999410b51a\", [{\"type\": \"bar\", \"x\": [\"ABRUZZO\", \"BASILICATA\", \"CALABRIA\", \"CAMPANIA\", \"EMILIA-ROMAGNA\", \"LAZIO\", \"LIGURIA\", \"LOMBARDIA\", \"MARCHE\", \"MOLISE\", \"PIEMONTE\", \"PUGLIA\", \"TOSCANA\", \"UMBRIA\", \"VENETO\", \"ITALIA\"], \"y\": [0.005913847286509922, 0.0050918773215870615, 0.006642334887894387, 0.007016530381995434, 0.004095400624299427, 0.004818167382555637, 0.004614708222722987, 0.003678905872480583, 0.004845636575696662, 0.006285742542149319, 0.004348983959066805, 0.00604674987194383, 0.005528266290212732, 0.004867883289116299, 0.004087258606854699, 0.005192152874339054], \"name\": \"0M\"}, {\"type\": \"bar\", \"x\": [\"ABRUZZO\", \"BASILICATA\", \"CALABRIA\", \"CAMPANIA\", \"EMILIA-ROMAGNA\", \"LAZIO\", \"LIGURIA\", \"LOMBARDIA\", \"MARCHE\", \"MOLISE\", \"PIEMONTE\", \"PUGLIA\", \"TOSCANA\", \"UMBRIA\", \"VENETO\", \"ITALIA\"], \"y\": [0.37746559140517955, 0.4351454587291674, 0.4845345592742633, 0.41572608300232733, 0.2525680503564948, 0.3130497241289178, 0.2825236210205351, 0.24234099991752944, 0.3140329554995334, 0.43831152029641657, 0.25743494678048323, 0.42224932051778075, 0.28218947676059253, 0.301914458871454, 0.27520912345272414, 0.33964639266755997], \"name\": \"0-10M\"}, {\"type\": \"bar\", \"x\": [\"ABRUZZO\", \"BASILICATA\", \"CALABRIA\", \"CAMPANIA\", \"EMILIA-ROMAGNA\", \"LAZIO\", \"LIGURIA\", \"LOMBARDIA\", \"MARCHE\", \"MOLISE\", \"PIEMONTE\", \"PUGLIA\", \"TOSCANA\", \"UMBRIA\", \"VENETO\", \"ITALIA\"], \"y\": [0.16127068094592106, 0.16258505637553006, 0.15009365133977653, 0.148054697516898, 0.15487153792312933, 0.13035766878663116, 0.1443573678192432, 0.1367775028838014, 0.17091004402550908, 0.15439858231551298, 0.14898377146909253, 0.16724022648849865, 0.15561501123732888, 0.1685021961280155, 0.15045634523166837, 0.15363162269910377], \"name\": \"10-15M\"}, {\"type\": \"bar\", \"x\": [\"ABRUZZO\", \"BASILICATA\", \"CALABRIA\", \"CAMPANIA\", \"EMILIA-ROMAGNA\", \"LAZIO\", \"LIGURIA\", \"LOMBARDIA\", \"MARCHE\", \"MOLISE\", \"PIEMONTE\", \"PUGLIA\", \"TOSCANA\", \"UMBRIA\", \"VENETO\", \"ITALIA\"], \"y\": [0.28131540018951146, 0.2503757272936458, 0.21741616098816793, 0.2491364541409002, 0.3465565975289178, 0.27487677722982645, 0.3151212144514507, 0.34911102921770587, 0.3230116809239361, 0.24672401956330994, 0.3537333078096224, 0.24609105283075702, 0.33169178368412167, 0.32764762882458937, 0.3504877660941024, 0.29755310671803764], \"name\": \"15-26M\"}, {\"type\": \"bar\", \"x\": [\"ABRUZZO\", \"BASILICATA\", \"CALABRIA\", \"CAMPANIA\", \"EMILIA-ROMAGNA\", \"LAZIO\", \"LIGURIA\", \"LOMBARDIA\", \"MARCHE\", \"MOLISE\", \"PIEMONTE\", \"PUGLIA\", \"TOSCANA\", \"UMBRIA\", \"VENETO\", \"ITALIA\"], \"y\": [0.1489644359308215, 0.12866046481049276, 0.12330496885413342, 0.1535603416670549, 0.1973770950082885, 0.22017966546605153, 0.2084939551585099, 0.21235127991968406, 0.15633658195959318, 0.13407399144651427, 0.1947265032497786, 0.13624261605056573, 0.18451259740167755, 0.1656803776937915, 0.18007096785876373, 0.16963572283171477], \"name\": \"26-55M\"}, {\"type\": \"bar\", \"x\": [\"ABRUZZO\", \"BASILICATA\", \"CALABRIA\", \"CAMPANIA\", \"EMILIA-ROMAGNA\", \"LAZIO\", \"LIGURIA\", \"LOMBARDIA\", \"MARCHE\", \"MOLISE\", \"PIEMONTE\", \"PUGLIA\", \"TOSCANA\", \"UMBRIA\", \"VENETO\", \"ITALIA\"], \"y\": [0.012983032591875549, 0.00909634791755695, 0.009726209384723357, 0.012987237111021538, 0.021655292145413334, 0.02623035215481122, 0.022067808878695278, 0.02609143815358723, 0.015391877847432766, 0.010421038952974228, 0.019577462730001636, 0.010879290176805558, 0.020061865884930797, 0.015665331939316903, 0.018856266460231176, 0.016779390155291837], \"name\": \"55-75M\"}, {\"type\": \"bar\", \"x\": [\"ABRUZZO\", \"BASILICATA\", \"CALABRIA\", \"CAMPANIA\", \"EMILIA-ROMAGNA\", \"LAZIO\", \"LIGURIA\", \"LOMBARDIA\", \"MARCHE\", \"MOLISE\", \"PIEMONTE\", \"PUGLIA\", \"TOSCANA\", \"UMBRIA\", \"VENETO\", \"ITALIA\"], \"y\": [0.009172625823999782, 0.0070845797311068015, 0.006695458625946215, 0.010208204627534703, 0.015513472859319723, 0.020462614583987786, 0.01573836167410013, 0.019055467965664635, 0.011164733590284389, 0.007674907743561023, 0.014668108771967399, 0.008390765554065871, 0.014363520599781479, 0.011617373251843055, 0.014061437193925998, 0.012391442173139264], \"name\": \"75-120M\"}, {\"type\": \"bar\", \"x\": [\"ABRUZZO\", \"BASILICATA\", \"CALABRIA\", \"CAMPANIA\", \"EMILIA-ROMAGNA\", \"LAZIO\", \"LIGURIA\", \"LOMBARDIA\", \"MARCHE\", \"MOLISE\", \"PIEMONTE\", \"PUGLIA\", \"TOSCANA\", \"UMBRIA\", \"VENETO\", \"ITALIA\"], \"y\": [0.0029143858261812083, 0.001960487820913185, 0.001586656645094832, 0.003310451552267889, 0.007362553554137062, 0.010025030267218382, 0.0070829627747427265, 0.010593376069546807, 0.004306489578014393, 0.002110197139561654, 0.006526915229987369, 0.0028599785095825953, 0.006037478141354377, 0.004104750001873324, 0.006770835101729463, 0.005170169880813685], \"name\": \">120M\"}], {\"title\": \"Distribuzione per Fasce di Contribuzione - Frequenza\", \"xaxis\": {\"title\": \"Regioni\"}, \"yaxis\": {\"title\": \"Percentuale\"}}, {\"showLink\": true, \"linkText\": \"Export to plot.ly\"})});</script>"
      ],
      "text/vnd.plotly.v1+html": [
       "<div id=\"d4b11a93-2423-418e-a7db-2d999410b51a\" style=\"height: 525px; width: 100%;\" class=\"plotly-graph-div\"></div><script type=\"text/javascript\">require([\"plotly\"], function(Plotly) { window.PLOTLYENV=window.PLOTLYENV || {};window.PLOTLYENV.BASE_URL=\"https://plot.ly\";Plotly.newPlot(\"d4b11a93-2423-418e-a7db-2d999410b51a\", [{\"type\": \"bar\", \"x\": [\"ABRUZZO\", \"BASILICATA\", \"CALABRIA\", \"CAMPANIA\", \"EMILIA-ROMAGNA\", \"LAZIO\", \"LIGURIA\", \"LOMBARDIA\", \"MARCHE\", \"MOLISE\", \"PIEMONTE\", \"PUGLIA\", \"TOSCANA\", \"UMBRIA\", \"VENETO\", \"ITALIA\"], \"y\": [0.005913847286509922, 0.0050918773215870615, 0.006642334887894387, 0.007016530381995434, 0.004095400624299427, 0.004818167382555637, 0.004614708222722987, 0.003678905872480583, 0.004845636575696662, 0.006285742542149319, 0.004348983959066805, 0.00604674987194383, 0.005528266290212732, 0.004867883289116299, 0.004087258606854699, 0.005192152874339054], \"name\": \"0M\"}, {\"type\": \"bar\", \"x\": [\"ABRUZZO\", \"BASILICATA\", \"CALABRIA\", \"CAMPANIA\", \"EMILIA-ROMAGNA\", \"LAZIO\", \"LIGURIA\", \"LOMBARDIA\", \"MARCHE\", \"MOLISE\", \"PIEMONTE\", \"PUGLIA\", \"TOSCANA\", \"UMBRIA\", \"VENETO\", \"ITALIA\"], \"y\": [0.37746559140517955, 0.4351454587291674, 0.4845345592742633, 0.41572608300232733, 0.2525680503564948, 0.3130497241289178, 0.2825236210205351, 0.24234099991752944, 0.3140329554995334, 0.43831152029641657, 0.25743494678048323, 0.42224932051778075, 0.28218947676059253, 0.301914458871454, 0.27520912345272414, 0.33964639266755997], \"name\": \"0-10M\"}, {\"type\": \"bar\", \"x\": [\"ABRUZZO\", \"BASILICATA\", \"CALABRIA\", \"CAMPANIA\", \"EMILIA-ROMAGNA\", \"LAZIO\", \"LIGURIA\", \"LOMBARDIA\", \"MARCHE\", \"MOLISE\", \"PIEMONTE\", \"PUGLIA\", \"TOSCANA\", \"UMBRIA\", \"VENETO\", \"ITALIA\"], \"y\": [0.16127068094592106, 0.16258505637553006, 0.15009365133977653, 0.148054697516898, 0.15487153792312933, 0.13035766878663116, 0.1443573678192432, 0.1367775028838014, 0.17091004402550908, 0.15439858231551298, 0.14898377146909253, 0.16724022648849865, 0.15561501123732888, 0.1685021961280155, 0.15045634523166837, 0.15363162269910377], \"name\": \"10-15M\"}, {\"type\": \"bar\", \"x\": [\"ABRUZZO\", \"BASILICATA\", \"CALABRIA\", \"CAMPANIA\", \"EMILIA-ROMAGNA\", \"LAZIO\", \"LIGURIA\", \"LOMBARDIA\", \"MARCHE\", \"MOLISE\", \"PIEMONTE\", \"PUGLIA\", \"TOSCANA\", \"UMBRIA\", \"VENETO\", \"ITALIA\"], \"y\": [0.28131540018951146, 0.2503757272936458, 0.21741616098816793, 0.2491364541409002, 0.3465565975289178, 0.27487677722982645, 0.3151212144514507, 0.34911102921770587, 0.3230116809239361, 0.24672401956330994, 0.3537333078096224, 0.24609105283075702, 0.33169178368412167, 0.32764762882458937, 0.3504877660941024, 0.29755310671803764], \"name\": \"15-26M\"}, {\"type\": \"bar\", \"x\": [\"ABRUZZO\", \"BASILICATA\", \"CALABRIA\", \"CAMPANIA\", \"EMILIA-ROMAGNA\", \"LAZIO\", \"LIGURIA\", \"LOMBARDIA\", \"MARCHE\", \"MOLISE\", \"PIEMONTE\", \"PUGLIA\", \"TOSCANA\", \"UMBRIA\", \"VENETO\", \"ITALIA\"], \"y\": [0.1489644359308215, 0.12866046481049276, 0.12330496885413342, 0.1535603416670549, 0.1973770950082885, 0.22017966546605153, 0.2084939551585099, 0.21235127991968406, 0.15633658195959318, 0.13407399144651427, 0.1947265032497786, 0.13624261605056573, 0.18451259740167755, 0.1656803776937915, 0.18007096785876373, 0.16963572283171477], \"name\": \"26-55M\"}, {\"type\": \"bar\", \"x\": [\"ABRUZZO\", \"BASILICATA\", \"CALABRIA\", \"CAMPANIA\", \"EMILIA-ROMAGNA\", \"LAZIO\", \"LIGURIA\", \"LOMBARDIA\", \"MARCHE\", \"MOLISE\", \"PIEMONTE\", \"PUGLIA\", \"TOSCANA\", \"UMBRIA\", \"VENETO\", \"ITALIA\"], \"y\": [0.012983032591875549, 0.00909634791755695, 0.009726209384723357, 0.012987237111021538, 0.021655292145413334, 0.02623035215481122, 0.022067808878695278, 0.02609143815358723, 0.015391877847432766, 0.010421038952974228, 0.019577462730001636, 0.010879290176805558, 0.020061865884930797, 0.015665331939316903, 0.018856266460231176, 0.016779390155291837], \"name\": \"55-75M\"}, {\"type\": \"bar\", \"x\": [\"ABRUZZO\", \"BASILICATA\", \"CALABRIA\", \"CAMPANIA\", \"EMILIA-ROMAGNA\", \"LAZIO\", \"LIGURIA\", \"LOMBARDIA\", \"MARCHE\", \"MOLISE\", \"PIEMONTE\", \"PUGLIA\", \"TOSCANA\", \"UMBRIA\", \"VENETO\", \"ITALIA\"], \"y\": [0.009172625823999782, 0.0070845797311068015, 0.006695458625946215, 0.010208204627534703, 0.015513472859319723, 0.020462614583987786, 0.01573836167410013, 0.019055467965664635, 0.011164733590284389, 0.007674907743561023, 0.014668108771967399, 0.008390765554065871, 0.014363520599781479, 0.011617373251843055, 0.014061437193925998, 0.012391442173139264], \"name\": \"75-120M\"}, {\"type\": \"bar\", \"x\": [\"ABRUZZO\", \"BASILICATA\", \"CALABRIA\", \"CAMPANIA\", \"EMILIA-ROMAGNA\", \"LAZIO\", \"LIGURIA\", \"LOMBARDIA\", \"MARCHE\", \"MOLISE\", \"PIEMONTE\", \"PUGLIA\", \"TOSCANA\", \"UMBRIA\", \"VENETO\", \"ITALIA\"], \"y\": [0.0029143858261812083, 0.001960487820913185, 0.001586656645094832, 0.003310451552267889, 0.007362553554137062, 0.010025030267218382, 0.0070829627747427265, 0.010593376069546807, 0.004306489578014393, 0.002110197139561654, 0.006526915229987369, 0.0028599785095825953, 0.006037478141354377, 0.004104750001873324, 0.006770835101729463, 0.005170169880813685], \"name\": \">120M\"}], {\"title\": \"Distribuzione per Fasce di Contribuzione - Frequenza\", \"xaxis\": {\"title\": \"Regioni\"}, \"yaxis\": {\"title\": \"Percentuale\"}}, {\"showLink\": true, \"linkText\": \"Export to plot.ly\"})});</script>"
      ]
     },
     "metadata": {},
     "output_type": "display_data"
    }
   ],
   "source": [
    "media = dict( [(x[1], frequenza_redditi_percentuale[x[1]].mean()) for x in frequenza_reddito_scaglioni])\n",
    "\n",
    "data_frequenza = []\n",
    "for x,y,name in frequenza_reddito_scaglioni:\n",
    "    \n",
    "    val_it = media.get(y)\n",
    "    \n",
    "    bar = go.Bar(\n",
    "        x = frequenza_redditi_percentuale[x].append(pd.Series(['ITALIA'])),\n",
    "        y = frequenza_redditi_percentuale[y].append(pd.Series([val_it])),\n",
    "        name = name\n",
    "    )\n",
    "    \n",
    "    \n",
    "    data_frequenza.append(bar)    \n",
    "    \n",
    "layout = go.Layout(\n",
    "    title='Distribuzione per Fasce di Contribuzione - Frequenza',\n",
    "    xaxis=dict(\n",
    "        title='Regioni',\n",
    "    ),\n",
    "    yaxis=dict(\n",
    "        title='Percentuale',\n",
    "    )\n",
    ")\n",
    "\n",
    "fig = go.Figure(layout=layout, data=data_frequenza)\n",
    "py.iplot(fig)\n",
    "\n",
    "#fig_path = 'imgs/percentuale_contribuenti_reddito.png'\n",
    "#py_on.image.save_as(fig, filename=fig_path)\n",
    "#x = Image(fig_path)\n",
    "#display(x)"
   ]
  },
  {
   "cell_type": "code",
   "execution_count": 21,
   "metadata": {},
   "outputs": [],
   "source": [
    "from sklearn import cluster\n",
    "import hdbscan\n",
    "from sklearn import metrics\n",
    "from sklearn.preprocessing import StandardScaler\n",
    "\n",
    "X_regioni =  frequenza_redditi_percentuale.set_index('Regione')\n",
    "X = StandardScaler().fit_transform(X_regioni)"
   ]
  },
  {
   "cell_type": "code",
   "execution_count": 22,
   "metadata": {},
   "outputs": [],
   "source": [
    "X_regioni_and_Italia = X_regioni.copy()\n",
    "X_regioni_and_Italia.loc[\"ITALIA\"] = media\n",
    "X_regioni_and_Italia = StandardScaler().fit_transform(X_regioni_and_Italia)\n",
    "#X_regioni_and_Italia"
   ]
  },
  {
   "cell_type": "code",
   "execution_count": 23,
   "metadata": {},
   "outputs": [
    {
     "name": "stdout",
     "output_type": "stream",
     "text": [
      "Estimated number of clusters: 2\n",
      "Silhouette Coefficient: 0.457\n"
     ]
    }
   ],
   "source": [
    "\n",
    "model_hdbscan = hdbscan.HDBSCAN(min_samples=2).fit(X)\n",
    "#core_samples_mask = np.zeros_like(db.labels_, dtype=bool)\n",
    "#core_samples_mask[db.core_sample_indices_] = True\n",
    "labels_hdbscan = model_hdbscan.labels_\n",
    "\n",
    "# Number of clusters in labels, ignoring noise if present.\n",
    "n_clusters_ = len(set(labels_hdbscan)) - (1 if -1 in labels_hdbscan else 0)\n",
    "\n",
    "print('Estimated number of clusters: %d' % n_clusters_)\n",
    "print(\"Silhouette Coefficient: %0.3f\" % metrics.silhouette_score(X, labels_hdbscan))\n"
   ]
  },
  {
   "cell_type": "code",
   "execution_count": 24,
   "metadata": {},
   "outputs": [
    {
     "data": {
      "text/plain": [
       "<matplotlib.axes._subplots.AxesSubplot at 0x11e3eac88>"
      ]
     },
     "execution_count": 24,
     "metadata": {},
     "output_type": "execute_result"
    },
    {
     "data": {
      "image/png": "[encoded data removed]",
      "text/plain": [
       "<matplotlib.figure.Figure at 0x1179c2390>"
      ]
     },
     "metadata": {},
     "output_type": "display_data"
    }
   ],
   "source": [
    "model_hdbscan.condensed_tree_.plot(select_clusters=True,selection_palette=sns.color_palette('deep', 8))"
   ]
  },
  {
   "cell_type": "markdown",
   "metadata": {},
   "source": [
    "#### Evaluate Clustering quality\n",
    "The silhouette value is a measure of how similar an object is to its own cluster (cohesion) compared to other clusters (separation). The silhouette ranges from −1 to +1, where a high value indicates that the object is well matched to its own cluster and poorly matched to neighboring clusters. If most objects have a high value, then the clustering configuration is appropriate. If many points have a low or negative value, then the clustering configuration may have too many or too few clusters."
   ]
  },
  {
   "cell_type": "code",
   "execution_count": 25,
   "metadata": {},
   "outputs": [
    {
     "name": "stdout",
     "output_type": "stream",
     "text": [
      "Estimated number of clusters: 3\n",
      "Silhouette Coefficient: 0.457\n"
     ]
    }
   ],
   "source": [
    "model_kmeans = cluster.KMeans(n_clusters=3).fit(X)\n",
    "labels_kmeans = model_kmeans.labels_\n",
    "\n",
    "# Number of clusters in labels, ignoring noise if present.\n",
    "n_clusters_ = len(set(labels_kmeans)) - (1 if -1 in labels_kmeans else 0)\n",
    "\n",
    "print('Estimated number of clusters: %d' % n_clusters_)\n",
    "print(\"Silhouette Coefficient: %0.3f\" % metrics.silhouette_score(X, labels_kmeans))\n"
   ]
  },
  {
   "cell_type": "code",
   "execution_count": 26,
   "metadata": {},
   "outputs": [],
   "source": [
    "#import numpy as np \n",
    "#from sklearn.manifold import TSNE\n",
    "\n",
    "#tsne = TSNE(n_components=3, verbose=1, perplexity=4, n_iter=1500)\n",
    "#tsne_results = tsne.fit_transform(X)\n",
    "\n",
    "#df_tsne = pd.DataFrame(tsne_results)\n",
    "\n",
    "#scatter = [go.Scatter3d(\n",
    "#    name = \"TSNE\",\n",
    "#    x=df_tsne[0],\n",
    "#    y=df_tsne[1],\n",
    "#    z=df_tsne[2],\n",
    "#    text=df_regione_sum.index,\n",
    "#    mode='markers',\n",
    "#    marker=dict(\n",
    "#        size=4,\n",
    "#        color=labels_kmeans,\n",
    "#        line=dict(\n",
    "#            color=labels_kmeans,\n",
    "#            width=1\n",
    "#        )#,opacity=0.8\n",
    "#    )\n",
    "#)]\n",
    "\n",
    "#fig = go.Figure( data=scatter)\n",
    "#py.iplot(fig)"
   ]
  },
  {
   "cell_type": "code",
   "execution_count": 27,
   "metadata": {},
   "outputs": [
    {
     "name": "stdout",
     "output_type": "stream",
     "text": [
      "[t-SNE] Computing 13 nearest neighbors...\n",
      "[t-SNE] Indexed 15 samples in 0.002s...\n",
      "[t-SNE] Computed neighbors for 15 samples in 0.001s...\n",
      "[t-SNE] Computed conditional probabilities for sample 15 / 15\n",
      "[t-SNE] Mean sigma: 0.033886\n",
      "[t-SNE] KL divergence after 250 iterations with early exaggeration: 52.861473\n",
      "[t-SNE] Error after 1350 iterations: 0.048321\n"
     ]
    },
    {
     "data": {
      "application/vnd.plotly.v1+json": {
       "data": [
        {
         "marker": {
          "color": [
           0,
           0,
           0,
           0,
           1,
           -1,
           1,
           -1,
           1,
           0,
           1,
           0,
           1,
           1,
           1
          ],
          "line": {
           "color": [
            0,
            0,
            0,
            0,
            1,
            -1,
            1,
            -1,
            1,
            0,
            1,
            0,
            1,
            1,
            1
           ],
           "width": 1
          },
          "size": 4
         },
         "mode": "markers",
         "name": "TSNE",
         "text": [
          "ABRUZZO",
          "BASILICATA",
          "CALABRIA",
          "CAMPANIA",
          "EMILIA-ROMAGNA",
          "LAZIO",
          "LIGURIA",
          "LOMBARDIA",
          "MARCHE",
          "MOLISE",
          "PIEMONTE",
          "PUGLIA",
          "TOSCANA",
          "UMBRIA",
          "VENETO"
         ],
         "type": "scatter",
         "x": [
          322.39862060546875,
          370.1227722167969,
          426.70611572265625,
          367.0335998535156,
          -256.1877746582031,
          -262.5726013183594,
          -250.5150909423828,
          -303.0206298828125,
          -126.79632568359375,
          395.4046936035156,
          -275.33251953125,
          344.6853332519531,
          -220.8805694580078,
          -162.66253662109375,
          -228.71136474609375
         ],
         "y": [
          -228.49119567871094,
          -319.12750244140625,
          -330.191162109375,
          -248.1934814453125,
          132.36595153808594,
          304.1556701660156,
          258.4930725097656,
          124.432861328125,
          238.0006103515625,
          -285.8309020996094,
          165.42958068847656,
          -286.2103271484375,
          223.9001922607422,
          236.08175659179688,
          184.7960968017578
         ]
        }
       ],
       "layout": {}
      },
      "text/html": [
       "<div id=\"4baa7319-cfed-452e-b961-f4477b223f31\" style=\"height: 525px; width: 100%;\" class=\"plotly-graph-div\"></div><script type=\"text/javascript\">require([\"plotly\"], function(Plotly) { window.PLOTLYENV=window.PLOTLYENV || {};window.PLOTLYENV.BASE_URL=\"https://plot.ly\";Plotly.newPlot(\"4baa7319-cfed-452e-b961-f4477b223f31\", [{\"type\": \"scatter\", \"name\": \"TSNE\", \"x\": [322.39862060546875, 370.1227722167969, 426.70611572265625, 367.0335998535156, -256.1877746582031, -262.5726013183594, -250.5150909423828, -303.0206298828125, -126.79632568359375, 395.4046936035156, -275.33251953125, 344.6853332519531, -220.8805694580078, -162.66253662109375, -228.71136474609375], \"y\": [-228.49119567871094, -319.12750244140625, -330.191162109375, -248.1934814453125, 132.36595153808594, 304.1556701660156, 258.4930725097656, 124.432861328125, 238.0006103515625, -285.8309020996094, 165.42958068847656, -286.2103271484375, 223.9001922607422, 236.08175659179688, 184.7960968017578], \"text\": [\"ABRUZZO\", \"BASILICATA\", \"CALABRIA\", \"CAMPANIA\", \"EMILIA-ROMAGNA\", \"LAZIO\", \"LIGURIA\", \"LOMBARDIA\", \"MARCHE\", \"MOLISE\", \"PIEMONTE\", \"PUGLIA\", \"TOSCANA\", \"UMBRIA\", \"VENETO\"], \"mode\": \"markers\", \"marker\": {\"size\": 4, \"color\": [0, 0, 0, 0, 1, -1, 1, -1, 1, 0, 1, 0, 1, 1, 1], \"line\": {\"color\": [0, 0, 0, 0, 1, -1, 1, -1, 1, 0, 1, 0, 1, 1, 1], \"width\": 1}}}], {}, {\"showLink\": true, \"linkText\": \"Export to plot.ly\"})});</script>"
      ],
      "text/vnd.plotly.v1+html": [
       "<div id=\"4baa7319-cfed-452e-b961-f4477b223f31\" style=\"height: 525px; width: 100%;\" class=\"plotly-graph-div\"></div><script type=\"text/javascript\">require([\"plotly\"], function(Plotly) { window.PLOTLYENV=window.PLOTLYENV || {};window.PLOTLYENV.BASE_URL=\"https://plot.ly\";Plotly.newPlot(\"4baa7319-cfed-452e-b961-f4477b223f31\", [{\"type\": \"scatter\", \"name\": \"TSNE\", \"x\": [322.39862060546875, 370.1227722167969, 426.70611572265625, 367.0335998535156, -256.1877746582031, -262.5726013183594, -250.5150909423828, -303.0206298828125, -126.79632568359375, 395.4046936035156, -275.33251953125, 344.6853332519531, -220.8805694580078, -162.66253662109375, -228.71136474609375], \"y\": [-228.49119567871094, -319.12750244140625, -330.191162109375, -248.1934814453125, 132.36595153808594, 304.1556701660156, 258.4930725097656, 124.432861328125, 238.0006103515625, -285.8309020996094, 165.42958068847656, -286.2103271484375, 223.9001922607422, 236.08175659179688, 184.7960968017578], \"text\": [\"ABRUZZO\", \"BASILICATA\", \"CALABRIA\", \"CAMPANIA\", \"EMILIA-ROMAGNA\", \"LAZIO\", \"LIGURIA\", \"LOMBARDIA\", \"MARCHE\", \"MOLISE\", \"PIEMONTE\", \"PUGLIA\", \"TOSCANA\", \"UMBRIA\", \"VENETO\"], \"mode\": \"markers\", \"marker\": {\"size\": 4, \"color\": [0, 0, 0, 0, 1, -1, 1, -1, 1, 0, 1, 0, 1, 1, 1], \"line\": {\"color\": [0, 0, 0, 0, 1, -1, 1, -1, 1, 0, 1, 0, 1, 1, 1], \"width\": 1}}}], {}, {\"showLink\": true, \"linkText\": \"Export to plot.ly\"})});</script>"
      ]
     },
     "metadata": {},
     "output_type": "display_data"
    }
   ],
   "source": [
    "import numpy as np \n",
    "from sklearn.manifold import TSNE\n",
    "\n",
    "tsne_labels = labels_hdbscan\n",
    "\n",
    "tsne = TSNE(n_components=2, verbose=1, perplexity=4, n_iter=1500)\n",
    "tsne_results = tsne.fit_transform(X_regioni)\n",
    "\n",
    "df_tsne = pd.DataFrame(tsne_results)\n",
    "\n",
    "scatter = [go.Scatter(\n",
    "    name = \"TSNE\",\n",
    "    x=df_tsne[0],\n",
    "    y=df_tsne[1],\n",
    "    text=df_regione_sum.index,\n",
    "    mode='markers',\n",
    "    marker=dict(\n",
    "        size=4,\n",
    "        color=tsne_labels,\n",
    "        line=dict(\n",
    "            color=tsne_labels,\n",
    "            width=1\n",
    "        )#,opacity=0.8\n",
    "    )\n",
    ")]\n",
    "\n",
    "fig = go.Figure( data=scatter)\n",
    "py.iplot(fig)"
   ]
  },
  {
   "cell_type": "code",
   "execution_count": 28,
   "metadata": {},
   "outputs": [
    {
     "name": "stdout",
     "output_type": "stream",
     "text": [
      "Reddito minore o uguale a zero Frequenza 0.0778822931151\n",
      "Reddito complessivo da 0 a 10000 euro Frequenza 5.09469589001\n",
      "Reddito complessivo da 10000 a 15000 euro Frequenza 2.30447434049\n",
      "Reddito complessivo da 15000 a 26000 euro Frequenza 4.46329660077\n",
      "Reddito complessivo da 26000 a 55000 euro Frequenza 2.54453584248\n",
      "Reddito complessivo da 55000 a 75000 euro Frequenza 0.251690852329\n",
      "Reddito complessivo da 75000 a 120000 euro Frequenza 0.185871632597\n",
      "Reddito complessivo oltre 120000 euro Frequenza 0.0775525482122\n"
     ]
    }
   ],
   "source": [
    "df_regione_clusters = X_regioni.assign(Clusters=pd.Series(labels_hdbscan).values)\n",
    "\n",
    "for x in frequenza_reddito_scaglioni:\n",
    "    print(x[1], df_regione_clusters[x[1]].sum())"
   ]
  },
  {
   "cell_type": "code",
   "execution_count": 29,
   "metadata": {},
   "outputs": [
    {
     "data": {
      "application/vnd.plotly.v1+json": {
       "data": [
        {
         "name": "0M",
         "type": "bar",
         "x": [
          "ABRUZZO",
          "BASILICATA",
          "CALABRIA",
          "CAMPANIA",
          "MOLISE",
          "PUGLIA",
          "ITALIA"
         ],
         "y": [
          0.005913847286509922,
          0.0050918773215870615,
          0.006642334887894387,
          0.007016530381995434,
          0.006285742542149319,
          0.00604674987194383,
          0.005192152874339054
         ]
        },
        {
         "name": "0-10M",
         "type": "bar",
         "x": [
          "ABRUZZO",
          "BASILICATA",
          "CALABRIA",
          "CAMPANIA",
          "MOLISE",
          "PUGLIA",
          "ITALIA"
         ],
         "y": [
          0.37746559140517955,
          0.4351454587291674,
          0.4845345592742633,
          0.41572608300232733,
          0.43831152029641657,
          0.42224932051778075,
          0.33964639266755997
         ]
        },
        {
         "name": "10-15M",
         "type": "bar",
         "x": [
          "ABRUZZO",
          "BASILICATA",
          "CALABRIA",
          "CAMPANIA",
          "MOLISE",
          "PUGLIA",
          "ITALIA"
         ],
         "y": [
          0.16127068094592106,
          0.16258505637553006,
          0.15009365133977653,
          0.148054697516898,
          0.15439858231551298,
          0.16724022648849865,
          0.15363162269910377
         ]
        },
        {
         "name": "15-26M",
         "type": "bar",
         "x": [
          "ABRUZZO",
          "BASILICATA",
          "CALABRIA",
          "CAMPANIA",
          "MOLISE",
          "PUGLIA",
          "ITALIA"
         ],
         "y": [
          0.28131540018951146,
          0.2503757272936458,
          0.21741616098816793,
          0.2491364541409002,
          0.24672401956330994,
          0.24609105283075702,
          0.29755310671803764
         ]
        },
        {
         "name": "26-55M",
         "type": "bar",
         "x": [
          "ABRUZZO",
          "BASILICATA",
          "CALABRIA",
          "CAMPANIA",
          "MOLISE",
          "PUGLIA",
          "ITALIA"
         ],
         "y": [
          0.1489644359308215,
          0.12866046481049276,
          0.12330496885413342,
          0.1535603416670549,
          0.13407399144651427,
          0.13624261605056573,
          0.16963572283171477
         ]
        },
        {
         "name": "55-75M",
         "type": "bar",
         "x": [
          "ABRUZZO",
          "BASILICATA",
          "CALABRIA",
          "CAMPANIA",
          "MOLISE",
          "PUGLIA",
          "ITALIA"
         ],
         "y": [
          0.012983032591875549,
          0.00909634791755695,
          0.009726209384723357,
          0.012987237111021538,
          0.010421038952974228,
          0.010879290176805558,
          0.016779390155291837
         ]
        },
        {
         "name": "75-120M",
         "type": "bar",
         "x": [
          "ABRUZZO",
          "BASILICATA",
          "CALABRIA",
          "CAMPANIA",
          "MOLISE",
          "PUGLIA",
          "ITALIA"
         ],
         "y": [
          0.009172625823999782,
          0.0070845797311068015,
          0.006695458625946215,
          0.010208204627534703,
          0.007674907743561023,
          0.008390765554065871,
          0.012391442173139264
         ]
        },
        {
         "name": ">120M",
         "type": "bar",
         "x": [
          "ABRUZZO",
          "BASILICATA",
          "CALABRIA",
          "CAMPANIA",
          "MOLISE",
          "PUGLIA",
          "ITALIA"
         ],
         "y": [
          0.0029143858261812083,
          0.001960487820913185,
          0.001586656645094832,
          0.003310451552267889,
          0.002110197139561654,
          0.0028599785095825953,
          0.005170169880813685
         ]
        }
       ],
       "layout": {
        "title": "Distribuzione per Fasce di Contribuzione - Frequenza, Cluster-0",
        "xaxis": {
         "title": "Regioni"
        },
        "yaxis": {
         "title": "Percentuale"
        }
       }
      },
      "text/html": [
       "<div id=\"d3ca187c-1eea-4ff9-b376-eceff084d106\" style=\"height: 525px; width: 100%;\" class=\"plotly-graph-div\"></div><script type=\"text/javascript\">require([\"plotly\"], function(Plotly) { window.PLOTLYENV=window.PLOTLYENV || {};window.PLOTLYENV.BASE_URL=\"https://plot.ly\";Plotly.newPlot(\"d3ca187c-1eea-4ff9-b376-eceff084d106\", [{\"type\": \"bar\", \"x\": [\"ABRUZZO\", \"BASILICATA\", \"CALABRIA\", \"CAMPANIA\", \"MOLISE\", \"PUGLIA\", \"ITALIA\"], \"y\": [0.005913847286509922, 0.0050918773215870615, 0.006642334887894387, 0.007016530381995434, 0.006285742542149319, 0.00604674987194383, 0.005192152874339054], \"name\": \"0M\"}, {\"type\": \"bar\", \"x\": [\"ABRUZZO\", \"BASILICATA\", \"CALABRIA\", \"CAMPANIA\", \"MOLISE\", \"PUGLIA\", \"ITALIA\"], \"y\": [0.37746559140517955, 0.4351454587291674, 0.4845345592742633, 0.41572608300232733, 0.43831152029641657, 0.42224932051778075, 0.33964639266755997], \"name\": \"0-10M\"}, {\"type\": \"bar\", \"x\": [\"ABRUZZO\", \"BASILICATA\", \"CALABRIA\", \"CAMPANIA\", \"MOLISE\", \"PUGLIA\", \"ITALIA\"], \"y\": [0.16127068094592106, 0.16258505637553006, 0.15009365133977653, 0.148054697516898, 0.15439858231551298, 0.16724022648849865, 0.15363162269910377], \"name\": \"10-15M\"}, {\"type\": \"bar\", \"x\": [\"ABRUZZO\", \"BASILICATA\", \"CALABRIA\", \"CAMPANIA\", \"MOLISE\", \"PUGLIA\", \"ITALIA\"], \"y\": [0.28131540018951146, 0.2503757272936458, 0.21741616098816793, 0.2491364541409002, 0.24672401956330994, 0.24609105283075702, 0.29755310671803764], \"name\": \"15-26M\"}, {\"type\": \"bar\", \"x\": [\"ABRUZZO\", \"BASILICATA\", \"CALABRIA\", \"CAMPANIA\", \"MOLISE\", \"PUGLIA\", \"ITALIA\"], \"y\": [0.1489644359308215, 0.12866046481049276, 0.12330496885413342, 0.1535603416670549, 0.13407399144651427, 0.13624261605056573, 0.16963572283171477], \"name\": \"26-55M\"}, {\"type\": \"bar\", \"x\": [\"ABRUZZO\", \"BASILICATA\", \"CALABRIA\", \"CAMPANIA\", \"MOLISE\", \"PUGLIA\", \"ITALIA\"], \"y\": [0.012983032591875549, 0.00909634791755695, 0.009726209384723357, 0.012987237111021538, 0.010421038952974228, 0.010879290176805558, 0.016779390155291837], \"name\": \"55-75M\"}, {\"type\": \"bar\", \"x\": [\"ABRUZZO\", \"BASILICATA\", \"CALABRIA\", \"CAMPANIA\", \"MOLISE\", \"PUGLIA\", \"ITALIA\"], \"y\": [0.009172625823999782, 0.0070845797311068015, 0.006695458625946215, 0.010208204627534703, 0.007674907743561023, 0.008390765554065871, 0.012391442173139264], \"name\": \"75-120M\"}, {\"type\": \"bar\", \"x\": [\"ABRUZZO\", \"BASILICATA\", \"CALABRIA\", \"CAMPANIA\", \"MOLISE\", \"PUGLIA\", \"ITALIA\"], \"y\": [0.0029143858261812083, 0.001960487820913185, 0.001586656645094832, 0.003310451552267889, 0.002110197139561654, 0.0028599785095825953, 0.005170169880813685], \"name\": \">120M\"}], {\"title\": \"Distribuzione per Fasce di Contribuzione - Frequenza, Cluster-0\", \"xaxis\": {\"title\": \"Regioni\"}, \"yaxis\": {\"title\": \"Percentuale\"}}, {\"showLink\": true, \"linkText\": \"Export to plot.ly\"})});</script>"
      ],
      "text/vnd.plotly.v1+html": [
       "<div id=\"d3ca187c-1eea-4ff9-b376-eceff084d106\" style=\"height: 525px; width: 100%;\" class=\"plotly-graph-div\"></div><script type=\"text/javascript\">require([\"plotly\"], function(Plotly) { window.PLOTLYENV=window.PLOTLYENV || {};window.PLOTLYENV.BASE_URL=\"https://plot.ly\";Plotly.newPlot(\"d3ca187c-1eea-4ff9-b376-eceff084d106\", [{\"type\": \"bar\", \"x\": [\"ABRUZZO\", \"BASILICATA\", \"CALABRIA\", \"CAMPANIA\", \"MOLISE\", \"PUGLIA\", \"ITALIA\"], \"y\": [0.005913847286509922, 0.0050918773215870615, 0.006642334887894387, 0.007016530381995434, 0.006285742542149319, 0.00604674987194383, 0.005192152874339054], \"name\": \"0M\"}, {\"type\": \"bar\", \"x\": [\"ABRUZZO\", \"BASILICATA\", \"CALABRIA\", \"CAMPANIA\", \"MOLISE\", \"PUGLIA\", \"ITALIA\"], \"y\": [0.37746559140517955, 0.4351454587291674, 0.4845345592742633, 0.41572608300232733, 0.43831152029641657, 0.42224932051778075, 0.33964639266755997], \"name\": \"0-10M\"}, {\"type\": \"bar\", \"x\": [\"ABRUZZO\", \"BASILICATA\", \"CALABRIA\", \"CAMPANIA\", \"MOLISE\", \"PUGLIA\", \"ITALIA\"], \"y\": [0.16127068094592106, 0.16258505637553006, 0.15009365133977653, 0.148054697516898, 0.15439858231551298, 0.16724022648849865, 0.15363162269910377], \"name\": \"10-15M\"}, {\"type\": \"bar\", \"x\": [\"ABRUZZO\", \"BASILICATA\", \"CALABRIA\", \"CAMPANIA\", \"MOLISE\", \"PUGLIA\", \"ITALIA\"], \"y\": [0.28131540018951146, 0.2503757272936458, 0.21741616098816793, 0.2491364541409002, 0.24672401956330994, 0.24609105283075702, 0.29755310671803764], \"name\": \"15-26M\"}, {\"type\": \"bar\", \"x\": [\"ABRUZZO\", \"BASILICATA\", \"CALABRIA\", \"CAMPANIA\", \"MOLISE\", \"PUGLIA\", \"ITALIA\"], \"y\": [0.1489644359308215, 0.12866046481049276, 0.12330496885413342, 0.1535603416670549, 0.13407399144651427, 0.13624261605056573, 0.16963572283171477], \"name\": \"26-55M\"}, {\"type\": \"bar\", \"x\": [\"ABRUZZO\", \"BASILICATA\", \"CALABRIA\", \"CAMPANIA\", \"MOLISE\", \"PUGLIA\", \"ITALIA\"], \"y\": [0.012983032591875549, 0.00909634791755695, 0.009726209384723357, 0.012987237111021538, 0.010421038952974228, 0.010879290176805558, 0.016779390155291837], \"name\": \"55-75M\"}, {\"type\": \"bar\", \"x\": [\"ABRUZZO\", \"BASILICATA\", \"CALABRIA\", \"CAMPANIA\", \"MOLISE\", \"PUGLIA\", \"ITALIA\"], \"y\": [0.009172625823999782, 0.0070845797311068015, 0.006695458625946215, 0.010208204627534703, 0.007674907743561023, 0.008390765554065871, 0.012391442173139264], \"name\": \"75-120M\"}, {\"type\": \"bar\", \"x\": [\"ABRUZZO\", \"BASILICATA\", \"CALABRIA\", \"CAMPANIA\", \"MOLISE\", \"PUGLIA\", \"ITALIA\"], \"y\": [0.0029143858261812083, 0.001960487820913185, 0.001586656645094832, 0.003310451552267889, 0.002110197139561654, 0.0028599785095825953, 0.005170169880813685], \"name\": \">120M\"}], {\"title\": \"Distribuzione per Fasce di Contribuzione - Frequenza, Cluster-0\", \"xaxis\": {\"title\": \"Regioni\"}, \"yaxis\": {\"title\": \"Percentuale\"}}, {\"showLink\": true, \"linkText\": \"Export to plot.ly\"})});</script>"
      ]
     },
     "metadata": {},
     "output_type": "display_data"
    },
    {
     "data": {
      "application/vnd.plotly.v1+json": {
       "data": [
        {
         "name": "0M",
         "type": "bar",
         "x": [
          "EMILIA-ROMAGNA",
          "LIGURIA",
          "MARCHE",
          "PIEMONTE",
          "TOSCANA",
          "UMBRIA",
          "VENETO",
          "ITALIA"
         ],
         "y": [
          0.004095400624299427,
          0.004614708222722987,
          0.004845636575696662,
          0.004348983959066805,
          0.005528266290212732,
          0.004867883289116299,
          0.004087258606854699,
          0.005192152874339054
         ]
        },
        {
         "name": "0-10M",
         "type": "bar",
         "x": [
          "EMILIA-ROMAGNA",
          "LIGURIA",
          "MARCHE",
          "PIEMONTE",
          "TOSCANA",
          "UMBRIA",
          "VENETO",
          "ITALIA"
         ],
         "y": [
          0.2525680503564948,
          0.2825236210205351,
          0.3140329554995334,
          0.25743494678048323,
          0.28218947676059253,
          0.301914458871454,
          0.27520912345272414,
          0.33964639266755997
         ]
        },
        {
         "name": "10-15M",
         "type": "bar",
         "x": [
          "EMILIA-ROMAGNA",
          "LIGURIA",
          "MARCHE",
          "PIEMONTE",
          "TOSCANA",
          "UMBRIA",
          "VENETO",
          "ITALIA"
         ],
         "y": [
          0.15487153792312933,
          0.1443573678192432,
          0.17091004402550908,
          0.14898377146909253,
          0.15561501123732888,
          0.1685021961280155,
          0.15045634523166837,
          0.15363162269910377
         ]
        },
        {
         "name": "15-26M",
         "type": "bar",
         "x": [
          "EMILIA-ROMAGNA",
          "LIGURIA",
          "MARCHE",
          "PIEMONTE",
          "TOSCANA",
          "UMBRIA",
          "VENETO",
          "ITALIA"
         ],
         "y": [
          0.3465565975289178,
          0.3151212144514507,
          0.3230116809239361,
          0.3537333078096224,
          0.33169178368412167,
          0.32764762882458937,
          0.3504877660941024,
          0.29755310671803764
         ]
        },
        {
         "name": "26-55M",
         "type": "bar",
         "x": [
          "EMILIA-ROMAGNA",
          "LIGURIA",
          "MARCHE",
          "PIEMONTE",
          "TOSCANA",
          "UMBRIA",
          "VENETO",
          "ITALIA"
         ],
         "y": [
          0.1973770950082885,
          0.2084939551585099,
          0.15633658195959318,
          0.1947265032497786,
          0.18451259740167755,
          0.1656803776937915,
          0.18007096785876373,
          0.16963572283171477
         ]
        },
        {
         "name": "55-75M",
         "type": "bar",
         "x": [
          "EMILIA-ROMAGNA",
          "LIGURIA",
          "MARCHE",
          "PIEMONTE",
          "TOSCANA",
          "UMBRIA",
          "VENETO",
          "ITALIA"
         ],
         "y": [
          0.021655292145413334,
          0.022067808878695278,
          0.015391877847432766,
          0.019577462730001636,
          0.020061865884930797,
          0.015665331939316903,
          0.018856266460231176,
          0.016779390155291837
         ]
        },
        {
         "name": "75-120M",
         "type": "bar",
         "x": [
          "EMILIA-ROMAGNA",
          "LIGURIA",
          "MARCHE",
          "PIEMONTE",
          "TOSCANA",
          "UMBRIA",
          "VENETO",
          "ITALIA"
         ],
         "y": [
          0.015513472859319723,
          0.01573836167410013,
          0.011164733590284389,
          0.014668108771967399,
          0.014363520599781479,
          0.011617373251843055,
          0.014061437193925998,
          0.012391442173139264
         ]
        },
        {
         "name": ">120M",
         "type": "bar",
         "x": [
          "EMILIA-ROMAGNA",
          "LIGURIA",
          "MARCHE",
          "PIEMONTE",
          "TOSCANA",
          "UMBRIA",
          "VENETO",
          "ITALIA"
         ],
         "y": [
          0.007362553554137062,
          0.0070829627747427265,
          0.004306489578014393,
          0.006526915229987369,
          0.006037478141354377,
          0.004104750001873324,
          0.006770835101729463,
          0.005170169880813685
         ]
        }
       ],
       "layout": {
        "title": "Distribuzione per Fasce di Contribuzione - Frequenza, Cluster-1",
        "xaxis": {
         "title": "Regioni"
        },
        "yaxis": {
         "title": "Percentuale"
        }
       }
      },
      "text/html": [
       "<div id=\"70f21ce2-f3f4-4b83-8712-8443d86197cb\" style=\"height: 525px; width: 100%;\" class=\"plotly-graph-div\"></div><script type=\"text/javascript\">require([\"plotly\"], function(Plotly) { window.PLOTLYENV=window.PLOTLYENV || {};window.PLOTLYENV.BASE_URL=\"https://plot.ly\";Plotly.newPlot(\"70f21ce2-f3f4-4b83-8712-8443d86197cb\", [{\"type\": \"bar\", \"x\": [\"EMILIA-ROMAGNA\", \"LIGURIA\", \"MARCHE\", \"PIEMONTE\", \"TOSCANA\", \"UMBRIA\", \"VENETO\", \"ITALIA\"], \"y\": [0.004095400624299427, 0.004614708222722987, 0.004845636575696662, 0.004348983959066805, 0.005528266290212732, 0.004867883289116299, 0.004087258606854699, 0.005192152874339054], \"name\": \"0M\"}, {\"type\": \"bar\", \"x\": [\"EMILIA-ROMAGNA\", \"LIGURIA\", \"MARCHE\", \"PIEMONTE\", \"TOSCANA\", \"UMBRIA\", \"VENETO\", \"ITALIA\"], \"y\": [0.2525680503564948, 0.2825236210205351, 0.3140329554995334, 0.25743494678048323, 0.28218947676059253, 0.301914458871454, 0.27520912345272414, 0.33964639266755997], \"name\": \"0-10M\"}, {\"type\": \"bar\", \"x\": [\"EMILIA-ROMAGNA\", \"LIGURIA\", \"MARCHE\", \"PIEMONTE\", \"TOSCANA\", \"UMBRIA\", \"VENETO\", \"ITALIA\"], \"y\": [0.15487153792312933, 0.1443573678192432, 0.17091004402550908, 0.14898377146909253, 0.15561501123732888, 0.1685021961280155, 0.15045634523166837, 0.15363162269910377], \"name\": \"10-15M\"}, {\"type\": \"bar\", \"x\": [\"EMILIA-ROMAGNA\", \"LIGURIA\", \"MARCHE\", \"PIEMONTE\", \"TOSCANA\", \"UMBRIA\", \"VENETO\", \"ITALIA\"], \"y\": [0.3465565975289178, 0.3151212144514507, 0.3230116809239361, 0.3537333078096224, 0.33169178368412167, 0.32764762882458937, 0.3504877660941024, 0.29755310671803764], \"name\": \"15-26M\"}, {\"type\": \"bar\", \"x\": [\"EMILIA-ROMAGNA\", \"LIGURIA\", \"MARCHE\", \"PIEMONTE\", \"TOSCANA\", \"UMBRIA\", \"VENETO\", \"ITALIA\"], \"y\": [0.1973770950082885, 0.2084939551585099, 0.15633658195959318, 0.1947265032497786, 0.18451259740167755, 0.1656803776937915, 0.18007096785876373, 0.16963572283171477], \"name\": \"26-55M\"}, {\"type\": \"bar\", \"x\": [\"EMILIA-ROMAGNA\", \"LIGURIA\", \"MARCHE\", \"PIEMONTE\", \"TOSCANA\", \"UMBRIA\", \"VENETO\", \"ITALIA\"], \"y\": [0.021655292145413334, 0.022067808878695278, 0.015391877847432766, 0.019577462730001636, 0.020061865884930797, 0.015665331939316903, 0.018856266460231176, 0.016779390155291837], \"name\": \"55-75M\"}, {\"type\": \"bar\", \"x\": [\"EMILIA-ROMAGNA\", \"LIGURIA\", \"MARCHE\", \"PIEMONTE\", \"TOSCANA\", \"UMBRIA\", \"VENETO\", \"ITALIA\"], \"y\": [0.015513472859319723, 0.01573836167410013, 0.011164733590284389, 0.014668108771967399, 0.014363520599781479, 0.011617373251843055, 0.014061437193925998, 0.012391442173139264], \"name\": \"75-120M\"}, {\"type\": \"bar\", \"x\": [\"EMILIA-ROMAGNA\", \"LIGURIA\", \"MARCHE\", \"PIEMONTE\", \"TOSCANA\", \"UMBRIA\", \"VENETO\", \"ITALIA\"], \"y\": [0.007362553554137062, 0.0070829627747427265, 0.004306489578014393, 0.006526915229987369, 0.006037478141354377, 0.004104750001873324, 0.006770835101729463, 0.005170169880813685], \"name\": \">120M\"}], {\"title\": \"Distribuzione per Fasce di Contribuzione - Frequenza, Cluster-1\", \"xaxis\": {\"title\": \"Regioni\"}, \"yaxis\": {\"title\": \"Percentuale\"}}, {\"showLink\": true, \"linkText\": \"Export to plot.ly\"})});</script>"
      ],
      "text/vnd.plotly.v1+html": [
       "<div id=\"70f21ce2-f3f4-4b83-8712-8443d86197cb\" style=\"height: 525px; width: 100%;\" class=\"plotly-graph-div\"></div><script type=\"text/javascript\">require([\"plotly\"], function(Plotly) { window.PLOTLYENV=window.PLOTLYENV || {};window.PLOTLYENV.BASE_URL=\"https://plot.ly\";Plotly.newPlot(\"70f21ce2-f3f4-4b83-8712-8443d86197cb\", [{\"type\": \"bar\", \"x\": [\"EMILIA-ROMAGNA\", \"LIGURIA\", \"MARCHE\", \"PIEMONTE\", \"TOSCANA\", \"UMBRIA\", \"VENETO\", \"ITALIA\"], \"y\": [0.004095400624299427, 0.004614708222722987, 0.004845636575696662, 0.004348983959066805, 0.005528266290212732, 0.004867883289116299, 0.004087258606854699, 0.005192152874339054], \"name\": \"0M\"}, {\"type\": \"bar\", \"x\": [\"EMILIA-ROMAGNA\", \"LIGURIA\", \"MARCHE\", \"PIEMONTE\", \"TOSCANA\", \"UMBRIA\", \"VENETO\", \"ITALIA\"], \"y\": [0.2525680503564948, 0.2825236210205351, 0.3140329554995334, 0.25743494678048323, 0.28218947676059253, 0.301914458871454, 0.27520912345272414, 0.33964639266755997], \"name\": \"0-10M\"}, {\"type\": \"bar\", \"x\": [\"EMILIA-ROMAGNA\", \"LIGURIA\", \"MARCHE\", \"PIEMONTE\", \"TOSCANA\", \"UMBRIA\", \"VENETO\", \"ITALIA\"], \"y\": [0.15487153792312933, 0.1443573678192432, 0.17091004402550908, 0.14898377146909253, 0.15561501123732888, 0.1685021961280155, 0.15045634523166837, 0.15363162269910377], \"name\": \"10-15M\"}, {\"type\": \"bar\", \"x\": [\"EMILIA-ROMAGNA\", \"LIGURIA\", \"MARCHE\", \"PIEMONTE\", \"TOSCANA\", \"UMBRIA\", \"VENETO\", \"ITALIA\"], \"y\": [0.3465565975289178, 0.3151212144514507, 0.3230116809239361, 0.3537333078096224, 0.33169178368412167, 0.32764762882458937, 0.3504877660941024, 0.29755310671803764], \"name\": \"15-26M\"}, {\"type\": \"bar\", \"x\": [\"EMILIA-ROMAGNA\", \"LIGURIA\", \"MARCHE\", \"PIEMONTE\", \"TOSCANA\", \"UMBRIA\", \"VENETO\", \"ITALIA\"], \"y\": [0.1973770950082885, 0.2084939551585099, 0.15633658195959318, 0.1947265032497786, 0.18451259740167755, 0.1656803776937915, 0.18007096785876373, 0.16963572283171477], \"name\": \"26-55M\"}, {\"type\": \"bar\", \"x\": [\"EMILIA-ROMAGNA\", \"LIGURIA\", \"MARCHE\", \"PIEMONTE\", \"TOSCANA\", \"UMBRIA\", \"VENETO\", \"ITALIA\"], \"y\": [0.021655292145413334, 0.022067808878695278, 0.015391877847432766, 0.019577462730001636, 0.020061865884930797, 0.015665331939316903, 0.018856266460231176, 0.016779390155291837], \"name\": \"55-75M\"}, {\"type\": \"bar\", \"x\": [\"EMILIA-ROMAGNA\", \"LIGURIA\", \"MARCHE\", \"PIEMONTE\", \"TOSCANA\", \"UMBRIA\", \"VENETO\", \"ITALIA\"], \"y\": [0.015513472859319723, 0.01573836167410013, 0.011164733590284389, 0.014668108771967399, 0.014363520599781479, 0.011617373251843055, 0.014061437193925998, 0.012391442173139264], \"name\": \"75-120M\"}, {\"type\": \"bar\", \"x\": [\"EMILIA-ROMAGNA\", \"LIGURIA\", \"MARCHE\", \"PIEMONTE\", \"TOSCANA\", \"UMBRIA\", \"VENETO\", \"ITALIA\"], \"y\": [0.007362553554137062, 0.0070829627747427265, 0.004306489578014393, 0.006526915229987369, 0.006037478141354377, 0.004104750001873324, 0.006770835101729463, 0.005170169880813685], \"name\": \">120M\"}], {\"title\": \"Distribuzione per Fasce di Contribuzione - Frequenza, Cluster-1\", \"xaxis\": {\"title\": \"Regioni\"}, \"yaxis\": {\"title\": \"Percentuale\"}}, {\"showLink\": true, \"linkText\": \"Export to plot.ly\"})});</script>"
      ]
     },
     "metadata": {},
     "output_type": "display_data"
    },
    {
     "data": {
      "application/vnd.plotly.v1+json": {
       "data": [
        {
         "name": "0M",
         "type": "bar",
         "x": [
          "LAZIO",
          "LOMBARDIA",
          "ITALIA"
         ],
         "y": [
          0.004818167382555637,
          0.003678905872480583,
          0.005192152874339054
         ]
        },
        {
         "name": "0-10M",
         "type": "bar",
         "x": [
          "LAZIO",
          "LOMBARDIA",
          "ITALIA"
         ],
         "y": [
          0.3130497241289178,
          0.24234099991752944,
          0.33964639266755997
         ]
        },
        {
         "name": "10-15M",
         "type": "bar",
         "x": [
          "LAZIO",
          "LOMBARDIA",
          "ITALIA"
         ],
         "y": [
          0.13035766878663116,
          0.1367775028838014,
          0.15363162269910377
         ]
        },
        {
         "name": "15-26M",
         "type": "bar",
         "x": [
          "LAZIO",
          "LOMBARDIA",
          "ITALIA"
         ],
         "y": [
          0.27487677722982645,
          0.34911102921770587,
          0.29755310671803764
         ]
        },
        {
         "name": "26-55M",
         "type": "bar",
         "x": [
          "LAZIO",
          "LOMBARDIA",
          "ITALIA"
         ],
         "y": [
          0.22017966546605153,
          0.21235127991968406,
          0.16963572283171477
         ]
        },
        {
         "name": "55-75M",
         "type": "bar",
         "x": [
          "LAZIO",
          "LOMBARDIA",
          "ITALIA"
         ],
         "y": [
          0.02623035215481122,
          0.02609143815358723,
          0.016779390155291837
         ]
        },
        {
         "name": "75-120M",
         "type": "bar",
         "x": [
          "LAZIO",
          "LOMBARDIA",
          "ITALIA"
         ],
         "y": [
          0.020462614583987786,
          0.019055467965664635,
          0.012391442173139264
         ]
        },
        {
         "name": ">120M",
         "type": "bar",
         "x": [
          "LAZIO",
          "LOMBARDIA",
          "ITALIA"
         ],
         "y": [
          0.010025030267218382,
          0.010593376069546807,
          0.005170169880813685
         ]
        }
       ],
       "layout": {
        "title": "Distribuzione per Fasce di Contribuzione - Frequenza, Cluster--1",
        "xaxis": {
         "title": "Regioni"
        },
        "yaxis": {
         "title": "Percentuale"
        }
       }
      },
      "text/html": [
       "<div id=\"b700cc41-e467-4bb9-939d-34196f530ea2\" style=\"height: 525px; width: 100%;\" class=\"plotly-graph-div\"></div><script type=\"text/javascript\">require([\"plotly\"], function(Plotly) { window.PLOTLYENV=window.PLOTLYENV || {};window.PLOTLYENV.BASE_URL=\"https://plot.ly\";Plotly.newPlot(\"b700cc41-e467-4bb9-939d-34196f530ea2\", [{\"type\": \"bar\", \"x\": [\"LAZIO\", \"LOMBARDIA\", \"ITALIA\"], \"y\": [0.004818167382555637, 0.003678905872480583, 0.005192152874339054], \"name\": \"0M\"}, {\"type\": \"bar\", \"x\": [\"LAZIO\", \"LOMBARDIA\", \"ITALIA\"], \"y\": [0.3130497241289178, 0.24234099991752944, 0.33964639266755997], \"name\": \"0-10M\"}, {\"type\": \"bar\", \"x\": [\"LAZIO\", \"LOMBARDIA\", \"ITALIA\"], \"y\": [0.13035766878663116, 0.1367775028838014, 0.15363162269910377], \"name\": \"10-15M\"}, {\"type\": \"bar\", \"x\": [\"LAZIO\", \"LOMBARDIA\", \"ITALIA\"], \"y\": [0.27487677722982645, 0.34911102921770587, 0.29755310671803764], \"name\": \"15-26M\"}, {\"type\": \"bar\", \"x\": [\"LAZIO\", \"LOMBARDIA\", \"ITALIA\"], \"y\": [0.22017966546605153, 0.21235127991968406, 0.16963572283171477], \"name\": \"26-55M\"}, {\"type\": \"bar\", \"x\": [\"LAZIO\", \"LOMBARDIA\", \"ITALIA\"], \"y\": [0.02623035215481122, 0.02609143815358723, 0.016779390155291837], \"name\": \"55-75M\"}, {\"type\": \"bar\", \"x\": [\"LAZIO\", \"LOMBARDIA\", \"ITALIA\"], \"y\": [0.020462614583987786, 0.019055467965664635, 0.012391442173139264], \"name\": \"75-120M\"}, {\"type\": \"bar\", \"x\": [\"LAZIO\", \"LOMBARDIA\", \"ITALIA\"], \"y\": [0.010025030267218382, 0.010593376069546807, 0.005170169880813685], \"name\": \">120M\"}], {\"title\": \"Distribuzione per Fasce di Contribuzione - Frequenza, Cluster--1\", \"xaxis\": {\"title\": \"Regioni\"}, \"yaxis\": {\"title\": \"Percentuale\"}}, {\"showLink\": true, \"linkText\": \"Export to plot.ly\"})});</script>"
      ],
      "text/vnd.plotly.v1+html": [
       "<div id=\"b700cc41-e467-4bb9-939d-34196f530ea2\" style=\"height: 525px; width: 100%;\" class=\"plotly-graph-div\"></div><script type=\"text/javascript\">require([\"plotly\"], function(Plotly) { window.PLOTLYENV=window.PLOTLYENV || {};window.PLOTLYENV.BASE_URL=\"https://plot.ly\";Plotly.newPlot(\"b700cc41-e467-4bb9-939d-34196f530ea2\", [{\"type\": \"bar\", \"x\": [\"LAZIO\", \"LOMBARDIA\", \"ITALIA\"], \"y\": [0.004818167382555637, 0.003678905872480583, 0.005192152874339054], \"name\": \"0M\"}, {\"type\": \"bar\", \"x\": [\"LAZIO\", \"LOMBARDIA\", \"ITALIA\"], \"y\": [0.3130497241289178, 0.24234099991752944, 0.33964639266755997], \"name\": \"0-10M\"}, {\"type\": \"bar\", \"x\": [\"LAZIO\", \"LOMBARDIA\", \"ITALIA\"], \"y\": [0.13035766878663116, 0.1367775028838014, 0.15363162269910377], \"name\": \"10-15M\"}, {\"type\": \"bar\", \"x\": [\"LAZIO\", \"LOMBARDIA\", \"ITALIA\"], \"y\": [0.27487677722982645, 0.34911102921770587, 0.29755310671803764], \"name\": \"15-26M\"}, {\"type\": \"bar\", \"x\": [\"LAZIO\", \"LOMBARDIA\", \"ITALIA\"], \"y\": [0.22017966546605153, 0.21235127991968406, 0.16963572283171477], \"name\": \"26-55M\"}, {\"type\": \"bar\", \"x\": [\"LAZIO\", \"LOMBARDIA\", \"ITALIA\"], \"y\": [0.02623035215481122, 0.02609143815358723, 0.016779390155291837], \"name\": \"55-75M\"}, {\"type\": \"bar\", \"x\": [\"LAZIO\", \"LOMBARDIA\", \"ITALIA\"], \"y\": [0.020462614583987786, 0.019055467965664635, 0.012391442173139264], \"name\": \"75-120M\"}, {\"type\": \"bar\", \"x\": [\"LAZIO\", \"LOMBARDIA\", \"ITALIA\"], \"y\": [0.010025030267218382, 0.010593376069546807, 0.005170169880813685], \"name\": \">120M\"}], {\"title\": \"Distribuzione per Fasce di Contribuzione - Frequenza, Cluster--1\", \"xaxis\": {\"title\": \"Regioni\"}, \"yaxis\": {\"title\": \"Percentuale\"}}, {\"showLink\": true, \"linkText\": \"Export to plot.ly\"})});</script>"
      ]
     },
     "metadata": {},
     "output_type": "display_data"
    }
   ],
   "source": [
    "media = dict( [(x[1], df_regione_clusters[x[1]].mean()) for x in frequenza_reddito_scaglioni])\n",
    "\n",
    "for label in set(labels_hdbscan):\n",
    "    sub_df = df_regione_clusters[df_regione_clusters[\"Clusters\"] == label]\n",
    "    \n",
    "    data_frequenza = []\n",
    "    \n",
    "    for x,y,name in frequenza_reddito_scaglioni:\n",
    "    \n",
    "        val_it = media.get(y)\n",
    "\n",
    "        bar = go.Bar(\n",
    "            x = np.concatenate((sub_df.index.values, pd.Series(['ITALIA']))),\n",
    "            y = sub_df[y].append(pd.Series([val_it])),\n",
    "            name = name\n",
    "        )\n",
    "\n",
    "\n",
    "        data_frequenza.append(bar)    \n",
    "    \n",
    "    title = 'Distribuzione per Fasce di Contribuzione - Frequenza, Cluster-' + str(label)\n",
    "    layout = go.Layout(\n",
    "        title = title,\n",
    "        xaxis=dict(\n",
    "            title='Regioni',\n",
    "        ),\n",
    "        yaxis=dict(\n",
    "            title='Percentuale',\n",
    "        )\n",
    "    )\n",
    "\n",
    "    fig = go.Figure(layout=layout, data=data_frequenza)\n",
    "    py.iplot(fig)\n",
    "    "
   ]
  },
  {
   "cell_type": "markdown",
   "metadata": {},
   "source": [
    "#### Confronto contribuenti/popolazione residente\n",
    "\n",
    "I dati relativi alla popolazione residente sono stati estratti dagli open data del Ministero della Salute (estraibili di [qui](http://www.dati.salute.gov.it/dati/dettaglioDataset.jsp?menu=dati&idPag=3)). Obiettivo di questa sezione è confrontare il numero di contribuenti con il numero di residenti.\n",
    "\n",
    "Nota che il dataset della popolazione residente è relativo all'anno 2016, mentre il dataset Opencivitas contiene dati relativi agli anni 2010,2011,2012,2013. Si sta quindi assumendo che la popolazione rimane costante negli anni."
   ]
  },
  {
   "cell_type": "code",
   "execution_count": 95,
   "metadata": {},
   "outputs": [
    {
     "name": "stderr",
     "output_type": "stream",
     "text": [
      "/Users/fabiana/anaconda3/lib/python3.6/site-packages/ipykernel_launcher.py:5: SettingWithCopyWarning:\n",
      "\n",
      "\n",
      "A value is trying to be set on a copy of a slice from a DataFrame.\n",
      "Try using .loc[row_indexer,col_indexer] = value instead\n",
      "\n",
      "See the caveats in the documentation: http://pandas.pydata.org/pandas-docs/stable/indexing.html#indexing-view-versus-copy\n",
      "\n",
      "/Users/fabiana/anaconda3/lib/python3.6/site-packages/pandas/core/frame.py:3027: SettingWithCopyWarning:\n",
      "\n",
      "\n",
      "A value is trying to be set on a copy of a slice from a DataFrame\n",
      "\n",
      "See the caveats in the documentation: http://pandas.pydata.org/pandas-docs/stable/indexing.html#indexing-view-versus-copy\n",
      "\n"
     ]
    }
   ],
   "source": [
    "df_residenti = pd.read_csv('./data/dataset_popolazione.csv', encoding = \"iso-8859-1\", sep=\";\", decimal=\",\")\n",
    "df_residenti = df_residenti.astype(object)\n",
    "\n",
    "df_totale_popolazione = df_residenti[[\"DENOMINAZIONE REGIONE\", \"TOTALE\", \"MASCHI\", \"FEMMINE\"]]\n",
    "df_totale_popolazione[\"TOTALE\"] = df_totale_popolazione[\"TOTALE\"].apply(lambda x: int(str(x).replace('.', '')))\n",
    "df_totale_popolazione.rename(columns={'TOTALE': 'tot_residenti'}, inplace=True)\n",
    "#df_totale_popolazione[\"MASCHI\"] = df_totale_popolazione[\"MASCHI\"].apply(lambda x: int(str(x).replace('.', '')))\n",
    "#df_totale_popolazione[\"FEMMINE\"] = df_totale_popolazione[\"FEMMINE\"].apply(lambda x: int(str(x).replace('.', '')))\n",
    "df_totale_popolazione = df_totale_popolazione.groupby(\"DENOMINAZIONE REGIONE\").sum()\n",
    "\n",
    "df_totale_popolazione.index = df_totale_popolazione.index.to_series().apply(lambda x: x.replace(\"EMILIA ROMAGNA\", \"EMILIA-ROMAGNA\").strip())"
   ]
  },
  {
   "cell_type": "code",
   "execution_count": 96,
   "metadata": {},
   "outputs": [],
   "source": [
    "df_regione2 = df[[\"Regione\",tot_contribuenti]]\n",
    "df_regione2 = df_regione2.groupby(df_regione2.Regione).sum() / 4 \n",
    "df_regione_join = df_regione2.join(df_totale_popolazione)"
   ]
  },
  {
   "cell_type": "code",
   "execution_count": 100,
   "metadata": {},
   "outputs": [],
   "source": [
    "df_regione_join[\"contribuenti/residenti\"] = df_regione_join[tot_contribuenti] / df_regione_join[\"tot_residenti\"]\n",
    "df_regione_join = df_regione_join.sort_values(\"contribuenti/residenti\", ascending=False)"
   ]
  },
  {
   "cell_type": "code",
   "execution_count": 101,
   "metadata": {},
   "outputs": [
    {
     "data": {
      "application/vnd.plotly.v1+json": {
       "data": [
        {
         "name": "rapporto Contribuenti-Residenti per regione",
         "type": "bar",
         "x": [
          "LIGURIA",
          "EMILIA-ROMAGNA",
          "MARCHE",
          "PIEMONTE",
          "VENETO",
          "TOSCANA",
          "UMBRIA",
          "LOMBARDIA",
          "MOLISE",
          "ABRUZZO",
          "BASILICATA",
          "LAZIO",
          "PUGLIA",
          "CALABRIA",
          "CAMPANIA"
         ],
         "y": [
          0.7643177983615993,
          0.7453709853869805,
          0.7292842258566826,
          0.7281307498236778,
          0.7201742465505553,
          0.7167995079142281,
          0.7131218866294374,
          0.701330779428148,
          0.7002655830748368,
          0.6933887919579322,
          0.6667002708791738,
          0.6395648853771131,
          0.6253531716425256,
          0.6130565031896141,
          0.5284401200599272
         ]
        }
       ],
       "layout": {
        "title": "Rapporto Contribuenti-Residenti per Regione",
        "xaxis": {
         "title": "Regioni"
        },
        "yaxis": {
         "title": "Rapporto Contribuenti Residenti"
        }
       }
      },
      "text/html": [
       "<div id=\"a010a4a8-2cdd-4aac-84f9-2d96ac1ebf03\" style=\"height: 525px; width: 100%;\" class=\"plotly-graph-div\"></div><script type=\"text/javascript\">require([\"plotly\"], function(Plotly) { window.PLOTLYENV=window.PLOTLYENV || {};window.PLOTLYENV.BASE_URL=\"https://plot.ly\";Plotly.newPlot(\"a010a4a8-2cdd-4aac-84f9-2d96ac1ebf03\", [{\"type\": \"bar\", \"x\": [\"LIGURIA\", \"EMILIA-ROMAGNA\", \"MARCHE\", \"PIEMONTE\", \"VENETO\", \"TOSCANA\", \"UMBRIA\", \"LOMBARDIA\", \"MOLISE\", \"ABRUZZO\", \"BASILICATA\", \"LAZIO\", \"PUGLIA\", \"CALABRIA\", \"CAMPANIA\"], \"y\": [0.7643177983615993, 0.7453709853869805, 0.7292842258566826, 0.7281307498236778, 0.7201742465505553, 0.7167995079142281, 0.7131218866294374, 0.701330779428148, 0.7002655830748368, 0.6933887919579322, 0.6667002708791738, 0.6395648853771131, 0.6253531716425256, 0.6130565031896141, 0.5284401200599272], \"name\": \"rapporto Contribuenti-Residenti per regione\"}], {\"title\": \"Rapporto Contribuenti-Residenti per Regione\", \"xaxis\": {\"title\": \"Regioni\"}, \"yaxis\": {\"title\": \"Rapporto Contribuenti Residenti\"}}, {\"showLink\": true, \"linkText\": \"Export to plot.ly\"})});</script>"
      ],
      "text/vnd.plotly.v1+html": [
       "<div id=\"a010a4a8-2cdd-4aac-84f9-2d96ac1ebf03\" style=\"height: 525px; width: 100%;\" class=\"plotly-graph-div\"></div><script type=\"text/javascript\">require([\"plotly\"], function(Plotly) { window.PLOTLYENV=window.PLOTLYENV || {};window.PLOTLYENV.BASE_URL=\"https://plot.ly\";Plotly.newPlot(\"a010a4a8-2cdd-4aac-84f9-2d96ac1ebf03\", [{\"type\": \"bar\", \"x\": [\"LIGURIA\", \"EMILIA-ROMAGNA\", \"MARCHE\", \"PIEMONTE\", \"VENETO\", \"TOSCANA\", \"UMBRIA\", \"LOMBARDIA\", \"MOLISE\", \"ABRUZZO\", \"BASILICATA\", \"LAZIO\", \"PUGLIA\", \"CALABRIA\", \"CAMPANIA\"], \"y\": [0.7643177983615993, 0.7453709853869805, 0.7292842258566826, 0.7281307498236778, 0.7201742465505553, 0.7167995079142281, 0.7131218866294374, 0.701330779428148, 0.7002655830748368, 0.6933887919579322, 0.6667002708791738, 0.6395648853771131, 0.6253531716425256, 0.6130565031896141, 0.5284401200599272], \"name\": \"rapporto Contribuenti-Residenti per regione\"}], {\"title\": \"Rapporto Contribuenti-Residenti per Regione\", \"xaxis\": {\"title\": \"Regioni\"}, \"yaxis\": {\"title\": \"Rapporto Contribuenti Residenti\"}}, {\"showLink\": true, \"linkText\": \"Export to plot.ly\"})});</script>"
      ]
     },
     "metadata": {},
     "output_type": "display_data"
    }
   ],
   "source": [
    "data = [\n",
    "    go.Bar(x=df_regione_join.index, y=df_regione_join[\"contribuenti/residenti\"], name='rapporto Contribuenti-Residenti per regione')    \n",
    "]\n",
    "\n",
    "\n",
    "layout= go.Layout(\n",
    "    title='Rapporto Contribuenti-Residenti per Regione',\n",
    "    xaxis=dict(\n",
    "        title='Regioni',\n",
    "    ),\n",
    "    yaxis=dict(\n",
    "        title='Rapporto Contribuenti Residenti',\n",
    "    )\n",
    ")\n",
    "\n",
    "fig = go.Figure(layout=layout, data=data)\n",
    "py.iplot(fig)"
   ]
  },
  {
   "cell_type": "code",
   "execution_count": null,
   "metadata": {},
   "outputs": [],
   "source": []
  }
 ],
 "metadata": {
  "kernelspec": {
   "display_name": "Python 3",
   "language": "python",
   "name": "python3"
  },
  "language_info": {
   "codemirror_mode": {
    "name": "ipython",
    "version": 3
   },
   "file_extension": ".py",
   "mimetype": "text/x-python",
   "name": "python",
   "nbconvert_exporter": "python",
   "pygments_lexer": "ipython3",
   "version": "3.6.4"
  }
 },
 "nbformat": 4,
 "nbformat_minor": 2
}
